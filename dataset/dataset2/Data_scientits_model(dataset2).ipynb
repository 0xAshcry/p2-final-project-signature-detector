{
 "cells": [
  {
   "cell_type": "code",
   "execution_count": 10,
   "metadata": {},
   "outputs": [
    {
     "name": "stdout",
     "output_type": "stream",
     "text": [
      "Found 969 images belonging to 33 classes.\n",
      "Found 615 images belonging to 33 classes.\n",
      "Found 726 images belonging to 33 classes.\n",
      "Epoch 1/150\n"
     ]
    },
    {
     "name": "stderr",
     "output_type": "stream",
     "text": [
      "/Users/aqsal/miniforge3/lib/python3.12/site-packages/keras/src/trainers/data_adapters/py_dataset_adapter.py:121: UserWarning: Your `PyDataset` class should call `super().__init__(**kwargs)` in its constructor. `**kwargs` can include `workers`, `use_multiprocessing`, `max_queue_size`. Do not pass these arguments to `fit()`, as they will be ignored.\n",
      "  self._warn_if_super_not_called()\n"
     ]
    },
    {
     "name": "stdout",
     "output_type": "stream",
     "text": [
      "\u001b[1m61/61\u001b[0m \u001b[32m━━━━━━━━━━━━━━━━━━━━\u001b[0m\u001b[37m\u001b[0m \u001b[1m19s\u001b[0m 261ms/step - accuracy: 0.0354 - loss: 3.8802 - val_accuracy: 0.3252 - val_loss: 2.8957\n",
      "Epoch 2/150\n",
      "\u001b[1m61/61\u001b[0m \u001b[32m━━━━━━━━━━━━━━━━━━━━\u001b[0m\u001b[37m\u001b[0m \u001b[1m12s\u001b[0m 201ms/step - accuracy: 0.1629 - loss: 3.1003 - val_accuracy: 0.4878 - val_loss: 2.3336\n",
      "Epoch 3/150\n",
      "\u001b[1m61/61\u001b[0m \u001b[32m━━━━━━━━━━━━━━━━━━━━\u001b[0m\u001b[37m\u001b[0m \u001b[1m16s\u001b[0m 263ms/step - accuracy: 0.3221 - loss: 2.6336 - val_accuracy: 0.7951 - val_loss: 1.8017\n",
      "Epoch 4/150\n",
      "\u001b[1m61/61\u001b[0m \u001b[32m━━━━━━━━━━━━━━━━━━━━\u001b[0m\u001b[37m\u001b[0m \u001b[1m18s\u001b[0m 289ms/step - accuracy: 0.4667 - loss: 2.2230 - val_accuracy: 0.9073 - val_loss: 1.3442\n",
      "Epoch 5/150\n",
      "\u001b[1m61/61\u001b[0m \u001b[32m━━━━━━━━━━━━━━━━━━━━\u001b[0m\u001b[37m\u001b[0m \u001b[1m16s\u001b[0m 269ms/step - accuracy: 0.5507 - loss: 1.8689 - val_accuracy: 0.9398 - val_loss: 0.9887\n",
      "Epoch 6/150\n",
      "\u001b[1m61/61\u001b[0m \u001b[32m━━━━━━━━━━━━━━━━━━━━\u001b[0m\u001b[37m\u001b[0m \u001b[1m13s\u001b[0m 214ms/step - accuracy: 0.6289 - loss: 1.5195 - val_accuracy: 0.9675 - val_loss: 0.7284\n",
      "Epoch 7/150\n",
      "\u001b[1m61/61\u001b[0m \u001b[32m━━━━━━━━━━━━━━━━━━━━\u001b[0m\u001b[37m\u001b[0m \u001b[1m12s\u001b[0m 193ms/step - accuracy: 0.7448 - loss: 1.2800 - val_accuracy: 0.9772 - val_loss: 0.5471\n",
      "Epoch 8/150\n",
      "\u001b[1m61/61\u001b[0m \u001b[32m━━━━━━━━━━━━━━━━━━━━\u001b[0m\u001b[37m\u001b[0m \u001b[1m13s\u001b[0m 207ms/step - accuracy: 0.7869 - loss: 1.0812 - val_accuracy: 0.9789 - val_loss: 0.4102\n",
      "Epoch 9/150\n",
      "\u001b[1m61/61\u001b[0m \u001b[32m━━━━━━━━━━━━━━━━━━━━\u001b[0m\u001b[37m\u001b[0m \u001b[1m17s\u001b[0m 285ms/step - accuracy: 0.7970 - loss: 0.9825 - val_accuracy: 0.9821 - val_loss: 0.3189\n",
      "Epoch 10/150\n",
      "\u001b[1m61/61\u001b[0m \u001b[32m━━━━━━━━━━━━━━━━━━━━\u001b[0m\u001b[37m\u001b[0m \u001b[1m12s\u001b[0m 190ms/step - accuracy: 0.8173 - loss: 0.8302 - val_accuracy: 0.9805 - val_loss: 0.2583\n",
      "Epoch 11/150\n",
      "\u001b[1m61/61\u001b[0m \u001b[32m━━━━━━━━━━━━━━━━━━━━\u001b[0m\u001b[37m\u001b[0m \u001b[1m12s\u001b[0m 201ms/step - accuracy: 0.8593 - loss: 0.7214 - val_accuracy: 0.9854 - val_loss: 0.2135\n",
      "Epoch 12/150\n",
      "\u001b[1m61/61\u001b[0m \u001b[32m━━━━━━━━━━━━━━━━━━━━\u001b[0m\u001b[37m\u001b[0m \u001b[1m13s\u001b[0m 220ms/step - accuracy: 0.8610 - loss: 0.6655 - val_accuracy: 0.9854 - val_loss: 0.1809\n",
      "Epoch 13/150\n",
      "\u001b[1m61/61\u001b[0m \u001b[32m━━━━━━━━━━━━━━━━━━━━\u001b[0m\u001b[37m\u001b[0m \u001b[1m15s\u001b[0m 243ms/step - accuracy: 0.8823 - loss: 0.5853 - val_accuracy: 0.9870 - val_loss: 0.1486\n",
      "Epoch 14/150\n",
      "\u001b[1m61/61\u001b[0m \u001b[32m━━━━━━━━━━━━━━━━━━━━\u001b[0m\u001b[37m\u001b[0m \u001b[1m11s\u001b[0m 188ms/step - accuracy: 0.9216 - loss: 0.4724 - val_accuracy: 0.9870 - val_loss: 0.1250\n",
      "Epoch 15/150\n",
      "\u001b[1m61/61\u001b[0m \u001b[32m━━━━━━━━━━━━━━━━━━━━\u001b[0m\u001b[37m\u001b[0m \u001b[1m13s\u001b[0m 213ms/step - accuracy: 0.9073 - loss: 0.4559 - val_accuracy: 0.9870 - val_loss: 0.1099\n",
      "Epoch 16/150\n",
      "\u001b[1m61/61\u001b[0m \u001b[32m━━━━━━━━━━━━━━━━━━━━\u001b[0m\u001b[37m\u001b[0m \u001b[1m12s\u001b[0m 199ms/step - accuracy: 0.9392 - loss: 0.4113 - val_accuracy: 0.9870 - val_loss: 0.0940\n",
      "Epoch 17/150\n",
      "\u001b[1m61/61\u001b[0m \u001b[32m━━━━━━━━━━━━━━━━━━━━\u001b[0m\u001b[37m\u001b[0m \u001b[1m13s\u001b[0m 216ms/step - accuracy: 0.9484 - loss: 0.3605 - val_accuracy: 0.9870 - val_loss: 0.0864\n",
      "Epoch 18/150\n",
      "\u001b[1m61/61\u001b[0m \u001b[32m━━━━━━━━━━━━━━━━━━━━\u001b[0m\u001b[37m\u001b[0m \u001b[1m14s\u001b[0m 233ms/step - accuracy: 0.9376 - loss: 0.3606 - val_accuracy: 0.9870 - val_loss: 0.0773\n",
      "Epoch 19/150\n",
      "\u001b[1m61/61\u001b[0m \u001b[32m━━━━━━━━━━━━━━━━━━━━\u001b[0m\u001b[37m\u001b[0m \u001b[1m22s\u001b[0m 369ms/step - accuracy: 0.9377 - loss: 0.3398 - val_accuracy: 0.9870 - val_loss: 0.0688\n",
      "Epoch 20/150\n",
      "\u001b[1m61/61\u001b[0m \u001b[32m━━━━━━━━━━━━━━━━━━━━\u001b[0m\u001b[37m\u001b[0m \u001b[1m22s\u001b[0m 351ms/step - accuracy: 0.9460 - loss: 0.3208 - val_accuracy: 0.9870 - val_loss: 0.0635\n",
      "Epoch 21/150\n",
      "\u001b[1m61/61\u001b[0m \u001b[32m━━━━━━━━━━━━━━━━━━━━\u001b[0m\u001b[37m\u001b[0m \u001b[1m33s\u001b[0m 545ms/step - accuracy: 0.9648 - loss: 0.2433 - val_accuracy: 0.9870 - val_loss: 0.0594\n",
      "Epoch 22/150\n",
      "\u001b[1m61/61\u001b[0m \u001b[32m━━━━━━━━━━━━━━━━━━━━\u001b[0m\u001b[37m\u001b[0m \u001b[1m34s\u001b[0m 543ms/step - accuracy: 0.9469 - loss: 0.2673 - val_accuracy: 0.9870 - val_loss: 0.0556\n",
      "Epoch 23/150\n",
      "\u001b[1m61/61\u001b[0m \u001b[32m━━━━━━━━━━━━━━━━━━━━\u001b[0m\u001b[37m\u001b[0m \u001b[1m25s\u001b[0m 411ms/step - accuracy: 0.9485 - loss: 0.2493 - val_accuracy: 0.9870 - val_loss: 0.0513\n",
      "Epoch 24/150\n",
      "\u001b[1m61/61\u001b[0m \u001b[32m━━━━━━━━━━━━━━━━━━━━\u001b[0m\u001b[37m\u001b[0m \u001b[1m19s\u001b[0m 315ms/step - accuracy: 0.9728 - loss: 0.2168 - val_accuracy: 0.9870 - val_loss: 0.0470\n",
      "Epoch 25/150\n",
      "\u001b[1m61/61\u001b[0m \u001b[32m━━━━━━━━━━━━━━━━━━━━\u001b[0m\u001b[37m\u001b[0m \u001b[1m21s\u001b[0m 338ms/step - accuracy: 0.9817 - loss: 0.1759 - val_accuracy: 0.9870 - val_loss: 0.0445\n",
      "Epoch 26/150\n",
      "\u001b[1m61/61\u001b[0m \u001b[32m━━━━━━━━━━━━━━━━━━━━\u001b[0m\u001b[37m\u001b[0m \u001b[1m28s\u001b[0m 455ms/step - accuracy: 0.9620 - loss: 0.2167 - val_accuracy: 0.9870 - val_loss: 0.0432\n",
      "Epoch 27/150\n",
      "\u001b[1m61/61\u001b[0m \u001b[32m━━━━━━━━━━━━━━━━━━━━\u001b[0m\u001b[37m\u001b[0m \u001b[1m22s\u001b[0m 353ms/step - accuracy: 0.9761 - loss: 0.1865 - val_accuracy: 0.9870 - val_loss: 0.0411\n",
      "Epoch 28/150\n",
      "\u001b[1m61/61\u001b[0m \u001b[32m━━━━━━━━━━━━━━━━━━━━\u001b[0m\u001b[37m\u001b[0m \u001b[1m25s\u001b[0m 397ms/step - accuracy: 0.9772 - loss: 0.1686 - val_accuracy: 0.9870 - val_loss: 0.0396\n",
      "Epoch 29/150\n",
      "\u001b[1m61/61\u001b[0m \u001b[32m━━━━━━━━━━━━━━━━━━━━\u001b[0m\u001b[37m\u001b[0m \u001b[1m19s\u001b[0m 308ms/step - accuracy: 0.9676 - loss: 0.1494 - val_accuracy: 0.9870 - val_loss: 0.0372\n",
      "Epoch 30/150\n",
      "\u001b[1m61/61\u001b[0m \u001b[32m━━━━━━━━━━━━━━━━━━━━\u001b[0m\u001b[37m\u001b[0m \u001b[1m17s\u001b[0m 281ms/step - accuracy: 0.9811 - loss: 0.1283 - val_accuracy: 0.9870 - val_loss: 0.0361\n",
      "Epoch 31/150\n",
      "\u001b[1m61/61\u001b[0m \u001b[32m━━━━━━━━━━━━━━━━━━━━\u001b[0m\u001b[37m\u001b[0m \u001b[1m18s\u001b[0m 302ms/step - accuracy: 0.9785 - loss: 0.1444 - val_accuracy: 0.9870 - val_loss: 0.0352\n",
      "Epoch 32/150\n",
      "\u001b[1m61/61\u001b[0m \u001b[32m━━━━━━━━━━━━━━━━━━━━\u001b[0m\u001b[37m\u001b[0m \u001b[1m24s\u001b[0m 392ms/step - accuracy: 0.9673 - loss: 0.1638 - val_accuracy: 0.9870 - val_loss: 0.0340\n",
      "Epoch 33/150\n",
      "\u001b[1m61/61\u001b[0m \u001b[32m━━━━━━━━━━━━━━━━━━━━\u001b[0m\u001b[37m\u001b[0m \u001b[1m20s\u001b[0m 331ms/step - accuracy: 0.9723 - loss: 0.1594 - val_accuracy: 0.9870 - val_loss: 0.0335\n",
      "Epoch 34/150\n",
      "\u001b[1m61/61\u001b[0m \u001b[32m━━━━━━━━━━━━━━━━━━━━\u001b[0m\u001b[37m\u001b[0m \u001b[1m21s\u001b[0m 338ms/step - accuracy: 0.9729 - loss: 0.1359 - val_accuracy: 0.9870 - val_loss: 0.0325\n",
      "Epoch 35/150\n",
      "\u001b[1m61/61\u001b[0m \u001b[32m━━━━━━━━━━━━━━━━━━━━\u001b[0m\u001b[37m\u001b[0m \u001b[1m16s\u001b[0m 258ms/step - accuracy: 0.9752 - loss: 0.1442 - val_accuracy: 0.9870 - val_loss: 0.0314\n",
      "Epoch 36/150\n",
      "\u001b[1m61/61\u001b[0m \u001b[32m━━━━━━━━━━━━━━━━━━━━\u001b[0m\u001b[37m\u001b[0m \u001b[1m14s\u001b[0m 235ms/step - accuracy: 0.9779 - loss: 0.1290 - val_accuracy: 0.9870 - val_loss: 0.0311\n",
      "Epoch 37/150\n",
      "\u001b[1m61/61\u001b[0m \u001b[32m━━━━━━━━━━━━━━━━━━━━\u001b[0m\u001b[37m\u001b[0m \u001b[1m14s\u001b[0m 235ms/step - accuracy: 0.9719 - loss: 0.1284 - val_accuracy: 0.9870 - val_loss: 0.0303\n",
      "Epoch 38/150\n",
      "\u001b[1m61/61\u001b[0m \u001b[32m━━━━━━━━━━━━━━━━━━━━\u001b[0m\u001b[37m\u001b[0m \u001b[1m13s\u001b[0m 220ms/step - accuracy: 0.9810 - loss: 0.1131 - val_accuracy: 0.9870 - val_loss: 0.0298\n",
      "Epoch 39/150\n",
      "\u001b[1m61/61\u001b[0m \u001b[32m━━━━━━━━━━━━━━━━━━━━\u001b[0m\u001b[37m\u001b[0m \u001b[1m15s\u001b[0m 242ms/step - accuracy: 0.9737 - loss: 0.1139 - val_accuracy: 0.9870 - val_loss: 0.0294\n",
      "Epoch 40/150\n",
      "\u001b[1m61/61\u001b[0m \u001b[32m━━━━━━━━━━━━━━━━━━━━\u001b[0m\u001b[37m\u001b[0m \u001b[1m13s\u001b[0m 213ms/step - accuracy: 0.9744 - loss: 0.1185 - val_accuracy: 0.9870 - val_loss: 0.0293\n",
      "Epoch 41/150\n",
      "\u001b[1m61/61\u001b[0m \u001b[32m━━━━━━━━━━━━━━━━━━━━\u001b[0m\u001b[37m\u001b[0m \u001b[1m12s\u001b[0m 195ms/step - accuracy: 0.9782 - loss: 0.1182 - val_accuracy: 0.9870 - val_loss: 0.0290\n",
      "Epoch 42/150\n",
      "\u001b[1m61/61\u001b[0m \u001b[32m━━━━━━━━━━━━━━━━━━━━\u001b[0m\u001b[37m\u001b[0m \u001b[1m14s\u001b[0m 222ms/step - accuracy: 0.9893 - loss: 0.0826 - val_accuracy: 0.9870 - val_loss: 0.0281\n",
      "Epoch 43/150\n",
      "\u001b[1m61/61\u001b[0m \u001b[32m━━━━━━━━━━━━━━━━━━━━\u001b[0m\u001b[37m\u001b[0m \u001b[1m14s\u001b[0m 234ms/step - accuracy: 0.9828 - loss: 0.0836 - val_accuracy: 0.9870 - val_loss: 0.0276\n",
      "Epoch 44/150\n",
      "\u001b[1m61/61\u001b[0m \u001b[32m━━━━━━━━━━━━━━━━━━━━\u001b[0m\u001b[37m\u001b[0m \u001b[1m13s\u001b[0m 212ms/step - accuracy: 0.9830 - loss: 0.0915 - val_accuracy: 0.9870 - val_loss: 0.0272\n",
      "Epoch 45/150\n",
      "\u001b[1m61/61\u001b[0m \u001b[32m━━━━━━━━━━━━━━━━━━━━\u001b[0m\u001b[37m\u001b[0m \u001b[1m13s\u001b[0m 208ms/step - accuracy: 0.9820 - loss: 0.0908 - val_accuracy: 0.9870 - val_loss: 0.0271\n",
      "Epoch 46/150\n",
      "\u001b[1m61/61\u001b[0m \u001b[32m━━━━━━━━━━━━━━━━━━━━\u001b[0m\u001b[37m\u001b[0m \u001b[1m13s\u001b[0m 215ms/step - accuracy: 0.9885 - loss: 0.0766 - val_accuracy: 0.9870 - val_loss: 0.0278\n",
      "Epoch 47/150\n",
      "\u001b[1m61/61\u001b[0m \u001b[32m━━━━━━━━━━━━━━━━━━━━\u001b[0m\u001b[37m\u001b[0m \u001b[1m13s\u001b[0m 207ms/step - accuracy: 0.9739 - loss: 0.0995 - val_accuracy: 0.9870 - val_loss: 0.0277\n",
      "Epoch 48/150\n",
      "\u001b[1m61/61\u001b[0m \u001b[32m━━━━━━━━━━━━━━━━━━━━\u001b[0m\u001b[37m\u001b[0m \u001b[1m12s\u001b[0m 197ms/step - accuracy: 0.9809 - loss: 0.0803 - val_accuracy: 0.9870 - val_loss: 0.0266\n",
      "Epoch 49/150\n",
      "\u001b[1m61/61\u001b[0m \u001b[32m━━━━━━━━━━━━━━━━━━━━\u001b[0m\u001b[37m\u001b[0m \u001b[1m12s\u001b[0m 202ms/step - accuracy: 0.9851 - loss: 0.0810 - val_accuracy: 0.9870 - val_loss: 0.0262\n",
      "Epoch 50/150\n",
      "\u001b[1m61/61\u001b[0m \u001b[32m━━━━━━━━━━━━━━━━━━━━\u001b[0m\u001b[37m\u001b[0m \u001b[1m15s\u001b[0m 244ms/step - accuracy: 0.9825 - loss: 0.0699 - val_accuracy: 0.9870 - val_loss: 0.0260\n",
      "Epoch 51/150\n",
      "\u001b[1m61/61\u001b[0m \u001b[32m━━━━━━━━━━━━━━━━━━━━\u001b[0m\u001b[37m\u001b[0m \u001b[1m13s\u001b[0m 211ms/step - accuracy: 0.9812 - loss: 0.0755 - val_accuracy: 0.9870 - val_loss: 0.0257\n",
      "Epoch 52/150\n",
      "\u001b[1m61/61\u001b[0m \u001b[32m━━━━━━━━━━━━━━━━━━━━\u001b[0m\u001b[37m\u001b[0m \u001b[1m13s\u001b[0m 210ms/step - accuracy: 0.9842 - loss: 0.0725 - val_accuracy: 0.9870 - val_loss: 0.0255\n",
      "Epoch 53/150\n",
      "\u001b[1m61/61\u001b[0m \u001b[32m━━━━━━━━━━━━━━━━━━━━\u001b[0m\u001b[37m\u001b[0m \u001b[1m14s\u001b[0m 228ms/step - accuracy: 0.9869 - loss: 0.0655 - val_accuracy: 0.9870 - val_loss: 0.0260\n",
      "Epoch 54/150\n",
      "\u001b[1m61/61\u001b[0m \u001b[32m━━━━━━━━━━━━━━━━━━━━\u001b[0m\u001b[37m\u001b[0m \u001b[1m13s\u001b[0m 209ms/step - accuracy: 0.9832 - loss: 0.0766 - val_accuracy: 0.9870 - val_loss: 0.0250\n",
      "Epoch 55/150\n",
      "\u001b[1m61/61\u001b[0m \u001b[32m━━━━━━━━━━━━━━━━━━━━\u001b[0m\u001b[37m\u001b[0m \u001b[1m12s\u001b[0m 200ms/step - accuracy: 0.9853 - loss: 0.0679 - val_accuracy: 0.9870 - val_loss: 0.0249\n",
      "Epoch 56/150\n",
      "\u001b[1m61/61\u001b[0m \u001b[32m━━━━━━━━━━━━━━━━━━━━\u001b[0m\u001b[37m\u001b[0m \u001b[1m12s\u001b[0m 202ms/step - accuracy: 0.9839 - loss: 0.0704 - val_accuracy: 0.9870 - val_loss: 0.0247\n",
      "Epoch 57/150\n",
      "\u001b[1m61/61\u001b[0m \u001b[32m━━━━━━━━━━━━━━━━━━━━\u001b[0m\u001b[37m\u001b[0m \u001b[1m13s\u001b[0m 206ms/step - accuracy: 0.9871 - loss: 0.0604 - val_accuracy: 0.9870 - val_loss: 0.0247\n",
      "Epoch 58/150\n",
      "\u001b[1m61/61\u001b[0m \u001b[32m━━━━━━━━━━━━━━━━━━━━\u001b[0m\u001b[37m\u001b[0m \u001b[1m14s\u001b[0m 237ms/step - accuracy: 0.9886 - loss: 0.0632 - val_accuracy: 0.9870 - val_loss: 0.0250\n",
      "Epoch 59/150\n",
      "\u001b[1m61/61\u001b[0m \u001b[32m━━━━━━━━━━━━━━━━━━━━\u001b[0m\u001b[37m\u001b[0m \u001b[1m14s\u001b[0m 228ms/step - accuracy: 0.9875 - loss: 0.0566 - val_accuracy: 0.9870 - val_loss: 0.0245\n",
      "Epoch 60/150\n",
      "\u001b[1m61/61\u001b[0m \u001b[32m━━━━━━━━━━━━━━━━━━━━\u001b[0m\u001b[37m\u001b[0m \u001b[1m16s\u001b[0m 266ms/step - accuracy: 0.9873 - loss: 0.0662 - val_accuracy: 0.9870 - val_loss: 0.0245\n",
      "Epoch 61/150\n",
      "\u001b[1m61/61\u001b[0m \u001b[32m━━━━━━━━━━━━━━━━━━━━\u001b[0m\u001b[37m\u001b[0m \u001b[1m25s\u001b[0m 407ms/step - accuracy: 0.9777 - loss: 0.0758 - val_accuracy: 0.9870 - val_loss: 0.0245\n",
      "Epoch 62/150\n",
      "\u001b[1m61/61\u001b[0m \u001b[32m━━━━━━━━━━━━━━━━━━━━\u001b[0m\u001b[37m\u001b[0m \u001b[1m15s\u001b[0m 249ms/step - accuracy: 0.9732 - loss: 0.0743 - val_accuracy: 0.9870 - val_loss: 0.0243\n",
      "Epoch 63/150\n",
      "\u001b[1m61/61\u001b[0m \u001b[32m━━━━━━━━━━━━━━━━━━━━\u001b[0m\u001b[37m\u001b[0m \u001b[1m12s\u001b[0m 197ms/step - accuracy: 0.9828 - loss: 0.0664 - val_accuracy: 0.9870 - val_loss: 0.0246\n",
      "Epoch 64/150\n",
      "\u001b[1m61/61\u001b[0m \u001b[32m━━━━━━━━━━━━━━━━━━━━\u001b[0m\u001b[37m\u001b[0m \u001b[1m12s\u001b[0m 191ms/step - accuracy: 0.9813 - loss: 0.0648 - val_accuracy: 0.9870 - val_loss: 0.0239\n",
      "Epoch 65/150\n",
      "\u001b[1m61/61\u001b[0m \u001b[32m━━━━━━━━━━━━━━━━━━━━\u001b[0m\u001b[37m\u001b[0m \u001b[1m12s\u001b[0m 196ms/step - accuracy: 0.9843 - loss: 0.0595 - val_accuracy: 0.9870 - val_loss: 0.0237\n",
      "Epoch 66/150\n",
      "\u001b[1m61/61\u001b[0m \u001b[32m━━━━━━━━━━━━━━━━━━━━\u001b[0m\u001b[37m\u001b[0m \u001b[1m11s\u001b[0m 189ms/step - accuracy: 0.9817 - loss: 0.0573 - val_accuracy: 0.9870 - val_loss: 0.0241\n",
      "Epoch 67/150\n",
      "\u001b[1m61/61\u001b[0m \u001b[32m━━━━━━━━━━━━━━━━━━━━\u001b[0m\u001b[37m\u001b[0m \u001b[1m11s\u001b[0m 175ms/step - accuracy: 0.9870 - loss: 0.0504 - val_accuracy: 0.9870 - val_loss: 0.0241\n",
      "Epoch 68/150\n",
      "\u001b[1m61/61\u001b[0m \u001b[32m━━━━━━━━━━━━━━━━━━━━\u001b[0m\u001b[37m\u001b[0m \u001b[1m11s\u001b[0m 188ms/step - accuracy: 0.9818 - loss: 0.0650 - val_accuracy: 0.9870 - val_loss: 0.0238\n",
      "Epoch 69/150\n",
      "\u001b[1m61/61\u001b[0m \u001b[32m━━━━━━━━━━━━━━━━━━━━\u001b[0m\u001b[37m\u001b[0m \u001b[1m11s\u001b[0m 188ms/step - accuracy: 0.9901 - loss: 0.0437 - val_accuracy: 0.9870 - val_loss: 0.0234\n",
      "Epoch 70/150\n",
      "\u001b[1m61/61\u001b[0m \u001b[32m━━━━━━━━━━━━━━━━━━━━\u001b[0m\u001b[37m\u001b[0m \u001b[1m11s\u001b[0m 187ms/step - accuracy: 0.9757 - loss: 0.0640 - val_accuracy: 0.9870 - val_loss: 0.0234\n",
      "Epoch 71/150\n",
      "\u001b[1m61/61\u001b[0m \u001b[32m━━━━━━━━━━━━━━━━━━━━\u001b[0m\u001b[37m\u001b[0m \u001b[1m11s\u001b[0m 187ms/step - accuracy: 0.9904 - loss: 0.0459 - val_accuracy: 0.9870 - val_loss: 0.0233\n",
      "Epoch 72/150\n",
      "\u001b[1m61/61\u001b[0m \u001b[32m━━━━━━━━━━━━━━━━━━━━\u001b[0m\u001b[37m\u001b[0m \u001b[1m11s\u001b[0m 188ms/step - accuracy: 0.9822 - loss: 0.0507 - val_accuracy: 0.9870 - val_loss: 0.0232\n",
      "Epoch 73/150\n",
      "\u001b[1m61/61\u001b[0m \u001b[32m━━━━━━━━━━━━━━━━━━━━\u001b[0m\u001b[37m\u001b[0m \u001b[1m11s\u001b[0m 187ms/step - accuracy: 0.9779 - loss: 0.0559 - val_accuracy: 0.9870 - val_loss: 0.0234\n",
      "Epoch 74/150\n",
      "\u001b[1m61/61\u001b[0m \u001b[32m━━━━━━━━━━━━━━━━━━━━\u001b[0m\u001b[37m\u001b[0m \u001b[1m12s\u001b[0m 203ms/step - accuracy: 0.9860 - loss: 0.0553 - val_accuracy: 0.9870 - val_loss: 0.0230\n",
      "Epoch 75/150\n",
      "\u001b[1m61/61\u001b[0m \u001b[32m━━━━━━━━━━━━━━━━━━━━\u001b[0m\u001b[37m\u001b[0m \u001b[1m12s\u001b[0m 195ms/step - accuracy: 0.9831 - loss: 0.0510 - val_accuracy: 0.9870 - val_loss: 0.0232\n",
      "Epoch 76/150\n",
      "\u001b[1m61/61\u001b[0m \u001b[32m━━━━━━━━━━━━━━━━━━━━\u001b[0m\u001b[37m\u001b[0m \u001b[1m23s\u001b[0m 378ms/step - accuracy: 0.9825 - loss: 0.0520 - val_accuracy: 0.9870 - val_loss: 0.0229\n",
      "Epoch 77/150\n",
      "\u001b[1m61/61\u001b[0m \u001b[32m━━━━━━━━━━━━━━━━━━━━\u001b[0m\u001b[37m\u001b[0m \u001b[1m17s\u001b[0m 272ms/step - accuracy: 0.9842 - loss: 0.0483 - val_accuracy: 0.9870 - val_loss: 0.0230\n",
      "Epoch 78/150\n",
      "\u001b[1m61/61\u001b[0m \u001b[32m━━━━━━━━━━━━━━━━━━━━\u001b[0m\u001b[37m\u001b[0m \u001b[1m15s\u001b[0m 245ms/step - accuracy: 0.9848 - loss: 0.0507 - val_accuracy: 0.9870 - val_loss: 0.0233\n",
      "Epoch 79/150\n",
      "\u001b[1m61/61\u001b[0m \u001b[32m━━━━━━━━━━━━━━━━━━━━\u001b[0m\u001b[37m\u001b[0m \u001b[1m13s\u001b[0m 220ms/step - accuracy: 0.9926 - loss: 0.0322 - val_accuracy: 0.9870 - val_loss: 0.0229\n",
      "Epoch 80/150\n",
      "\u001b[1m61/61\u001b[0m \u001b[32m━━━━━━━━━━━━━━━━━━━━\u001b[0m\u001b[37m\u001b[0m \u001b[1m13s\u001b[0m 215ms/step - accuracy: 0.9820 - loss: 0.0536 - val_accuracy: 0.9870 - val_loss: 0.0229\n",
      "Epoch 81/150\n",
      "\u001b[1m61/61\u001b[0m \u001b[32m━━━━━━━━━━━━━━━━━━━━\u001b[0m\u001b[37m\u001b[0m \u001b[1m12s\u001b[0m 192ms/step - accuracy: 0.9731 - loss: 0.0599 - val_accuracy: 0.9870 - val_loss: 0.0228\n",
      "Epoch 82/150\n",
      "\u001b[1m61/61\u001b[0m \u001b[32m━━━━━━━━━━━━━━━━━━━━\u001b[0m\u001b[37m\u001b[0m \u001b[1m14s\u001b[0m 230ms/step - accuracy: 0.9752 - loss: 0.0575 - val_accuracy: 0.9870 - val_loss: 0.0228\n",
      "Epoch 83/150\n",
      "\u001b[1m61/61\u001b[0m \u001b[32m━━━━━━━━━━━━━━━━━━━━\u001b[0m\u001b[37m\u001b[0m \u001b[1m12s\u001b[0m 189ms/step - accuracy: 0.9841 - loss: 0.0449 - val_accuracy: 0.9870 - val_loss: 0.0228\n",
      "Epoch 84/150\n",
      "\u001b[1m61/61\u001b[0m \u001b[32m━━━━━━━━━━━━━━━━━━━━\u001b[0m\u001b[37m\u001b[0m \u001b[1m12s\u001b[0m 205ms/step - accuracy: 0.9900 - loss: 0.0351 - val_accuracy: 0.9870 - val_loss: 0.0227\n",
      "Epoch 85/150\n",
      "\u001b[1m61/61\u001b[0m \u001b[32m━━━━━━━━━━━━━━━━━━━━\u001b[0m\u001b[37m\u001b[0m \u001b[1m11s\u001b[0m 186ms/step - accuracy: 0.9892 - loss: 0.0404 - val_accuracy: 0.9870 - val_loss: 0.0228\n",
      "Epoch 86/150\n",
      "\u001b[1m61/61\u001b[0m \u001b[32m━━━━━━━━━━━━━━━━━━━━\u001b[0m\u001b[37m\u001b[0m \u001b[1m12s\u001b[0m 197ms/step - accuracy: 0.9851 - loss: 0.0393 - val_accuracy: 0.9870 - val_loss: 0.0226\n",
      "Epoch 87/150\n",
      "\u001b[1m61/61\u001b[0m \u001b[32m━━━━━━━━━━━━━━━━━━━━\u001b[0m\u001b[37m\u001b[0m \u001b[1m15s\u001b[0m 242ms/step - accuracy: 0.9820 - loss: 0.0476 - val_accuracy: 0.9870 - val_loss: 0.0226\n",
      "Epoch 88/150\n",
      "\u001b[1m61/61\u001b[0m \u001b[32m━━━━━━━━━━━━━━━━━━━━\u001b[0m\u001b[37m\u001b[0m \u001b[1m12s\u001b[0m 203ms/step - accuracy: 0.9787 - loss: 0.0540 - val_accuracy: 0.9870 - val_loss: 0.0227\n",
      "Epoch 89/150\n",
      "\u001b[1m61/61\u001b[0m \u001b[32m━━━━━━━━━━━━━━━━━━━━\u001b[0m\u001b[37m\u001b[0m \u001b[1m13s\u001b[0m 219ms/step - accuracy: 0.9871 - loss: 0.0433 - val_accuracy: 0.9870 - val_loss: 0.0226\n",
      "Epoch 90/150\n",
      "\u001b[1m61/61\u001b[0m \u001b[32m━━━━━━━━━━━━━━━━━━━━\u001b[0m\u001b[37m\u001b[0m \u001b[1m12s\u001b[0m 198ms/step - accuracy: 0.9890 - loss: 0.0451 - val_accuracy: 0.9870 - val_loss: 0.0224\n",
      "Epoch 91/150\n",
      "\u001b[1m61/61\u001b[0m \u001b[32m━━━━━━━━━━━━━━━━━━━━\u001b[0m\u001b[37m\u001b[0m \u001b[1m13s\u001b[0m 213ms/step - accuracy: 0.9844 - loss: 0.0417 - val_accuracy: 0.9870 - val_loss: 0.0224\n",
      "Epoch 92/150\n",
      "\u001b[1m61/61\u001b[0m \u001b[32m━━━━━━━━━━━━━━━━━━━━\u001b[0m\u001b[37m\u001b[0m \u001b[1m12s\u001b[0m 200ms/step - accuracy: 0.9839 - loss: 0.0374 - val_accuracy: 0.9870 - val_loss: 0.0225\n",
      "Epoch 93/150\n",
      "\u001b[1m61/61\u001b[0m \u001b[32m━━━━━━━━━━━━━━━━━━━━\u001b[0m\u001b[37m\u001b[0m \u001b[1m14s\u001b[0m 223ms/step - accuracy: 0.9944 - loss: 0.0250 - val_accuracy: 0.9870 - val_loss: 0.0223\n",
      "Epoch 94/150\n",
      "\u001b[1m61/61\u001b[0m \u001b[32m━━━━━━━━━━━━━━━━━━━━\u001b[0m\u001b[37m\u001b[0m \u001b[1m12s\u001b[0m 194ms/step - accuracy: 0.9877 - loss: 0.0325 - val_accuracy: 0.9870 - val_loss: 0.0225\n",
      "Epoch 95/150\n",
      "\u001b[1m61/61\u001b[0m \u001b[32m━━━━━━━━━━━━━━━━━━━━\u001b[0m\u001b[37m\u001b[0m \u001b[1m12s\u001b[0m 203ms/step - accuracy: 0.9857 - loss: 0.0376 - val_accuracy: 0.9870 - val_loss: 0.0225\n",
      "Epoch 96/150\n",
      "\u001b[1m61/61\u001b[0m \u001b[32m━━━━━━━━━━━━━━━━━━━━\u001b[0m\u001b[37m\u001b[0m \u001b[1m15s\u001b[0m 246ms/step - accuracy: 0.9853 - loss: 0.0354 - val_accuracy: 0.9870 - val_loss: 0.0222\n",
      "Epoch 97/150\n",
      "\u001b[1m61/61\u001b[0m \u001b[32m━━━━━━━━━━━━━━━━━━━━\u001b[0m\u001b[37m\u001b[0m \u001b[1m12s\u001b[0m 204ms/step - accuracy: 0.9855 - loss: 0.0412 - val_accuracy: 0.9870 - val_loss: 0.0225\n",
      "Epoch 98/150\n",
      "\u001b[1m61/61\u001b[0m \u001b[32m━━━━━━━━━━━━━━━━━━━━\u001b[0m\u001b[37m\u001b[0m \u001b[1m12s\u001b[0m 198ms/step - accuracy: 0.9811 - loss: 0.0396 - val_accuracy: 0.9870 - val_loss: 0.0223\n",
      "Epoch 99/150\n",
      "\u001b[1m61/61\u001b[0m \u001b[32m━━━━━━━━━━━━━━━━━━━━\u001b[0m\u001b[37m\u001b[0m \u001b[1m13s\u001b[0m 213ms/step - accuracy: 0.9890 - loss: 0.0414 - val_accuracy: 0.9870 - val_loss: 0.0224\n",
      "Epoch 100/150\n",
      "\u001b[1m61/61\u001b[0m \u001b[32m━━━━━━━━━━━━━━━━━━━━\u001b[0m\u001b[37m\u001b[0m \u001b[1m13s\u001b[0m 210ms/step - accuracy: 0.9935 - loss: 0.0344 - val_accuracy: 0.9870 - val_loss: 0.0224\n",
      "Epoch 101/150\n",
      "\u001b[1m61/61\u001b[0m \u001b[32m━━━━━━━━━━━━━━━━━━━━\u001b[0m\u001b[37m\u001b[0m \u001b[1m14s\u001b[0m 223ms/step - accuracy: 0.9820 - loss: 0.0414 - val_accuracy: 0.9870 - val_loss: 0.0224\n"
     ]
    }
   ],
   "source": [
    "#Import Library\n",
    "import tensorflow as tf\n",
    "from tensorflow.keras.applications import MobileNetV2\n",
    "from tensorflow.keras.models import Model, Sequential\n",
    "from tensorflow.keras.layers import Input, Lambda, Dense, Flatten, Dropout, BatchNormalization, GlobalAveragePooling2D\n",
    "from tensorflow.keras.preprocessing.image import ImageDataGenerator\n",
    "from tensorflow.keras.callbacks import EarlyStopping\n",
    "import tensorflow.keras.backend as K\n",
    "import numpy as np\n",
    "import os\n",
    "import matplotlib.pyplot as plt\n",
    "\n",
    "#Define Hyperparameters\n",
    "train_path = '/Users/aqsal/Downloads/FINALPROJECT/finpro-fraud/p2-final-project-signature-detector/dataset/dataset2/processed_train'\n",
    "test_path = '/Users/aqsal/Downloads/FINALPROJECT/finpro-fraud/p2-final-project-signature-detector/dataset/dataset2/processed_test'\n",
    "\n",
    "img_height = 224  # Ukuran gambar\n",
    "img_width = 224  # Ukuran gambar\n",
    "batch_size = 16  # Jumlah sampel per batch\n",
    "\n",
    "#Data Augmentation dan Data Generator\n",
    "train_datagen = ImageDataGenerator(rescale=1./255., validation_split=0.4)\n",
    "\n",
    "train_set = train_datagen.flow_from_directory(train_path,\n",
    "                                              target_size=(img_height, img_width),\n",
    "                                              class_mode='sparse',\n",
    "                                              subset='training',\n",
    "                                              batch_size=batch_size,\n",
    "                                              shuffle=True,\n",
    "                                              seed=10)\n",
    "\n",
    "val_set = train_datagen.flow_from_directory(train_path,\n",
    "                                            target_size=(img_height, img_width),\n",
    "                                            class_mode='sparse',\n",
    "                                            subset='validation',\n",
    "                                            batch_size=batch_size,\n",
    "                                            shuffle=True,\n",
    "                                            seed=10)\n",
    "\n",
    "test_datagen = ImageDataGenerator(rescale=1./255.)\n",
    "test_set = test_datagen.flow_from_directory(test_path,\n",
    "                                            target_size=(img_height, img_width),\n",
    "                                            class_mode='sparse',\n",
    "                                            batch_size=batch_size,\n",
    "                                            shuffle=False,\n",
    "                                            seed=10)\n",
    "\n",
    "#Load Pretrained MobileNetV2\n",
    "base_model = MobileNetV2(input_shape=(224, 224, 3), include_top=False, weights=\"imagenet\")\n",
    "\n",
    "# Freeze layer pretrained\n",
    "base_model.trainable = False\n",
    "\n",
    "#Tambahkan Fully Connected Layers\n",
    "modelmobile = Sequential([\n",
    "    base_model,\n",
    "    GlobalAveragePooling2D(),\n",
    "    Dense(256, activation='relu'),\n",
    "    Dropout(0.5),\n",
    "    Dense(len(train_set.class_indices), activation='softmax')\n",
    "])\n",
    "\n",
    "#Compile Model\n",
    "modelmobile.compile(optimizer=tf.keras.optimizers.Adam(learning_rate=0.0001), \n",
    "              loss='sparse_categorical_crossentropy', \n",
    "              metrics=['accuracy'])\n",
    "\n",
    "#Early Stopping Callback\n",
    "early_stopping = EarlyStopping(monitor='val_loss', patience=5, restore_best_weights=True)\n",
    "\n",
    "#Training Model\n",
    "historymobilenet = modelmobile.fit(\n",
    "    train_set,\n",
    "    validation_data=val_set,\n",
    "    epochs=150,  # Mulai dengan 150 epoch, bisa dihentikan lebih awal dengan EarlyStopping\n",
    "    batch_size=batch_size,\n",
    "    callbacks=[early_stopping]\n",
    ")"
   ]
  },
  {
   "cell_type": "code",
   "execution_count": 11,
   "metadata": {},
   "outputs": [
    {
     "name": "stdout",
     "output_type": "stream",
     "text": [
      "\u001b[1m46/46\u001b[0m \u001b[32m━━━━━━━━━━━━━━━━━━━━\u001b[0m\u001b[37m\u001b[0m \u001b[1m6s\u001b[0m 128ms/step - accuracy: 0.8737 - loss: 0.5627\n",
      "Test Loss: 0.8272\n",
      "Test Accuracy: 0.8306\n"
     ]
    },
    {
     "data": {
      "image/png": "[encoded data removed]",
      "text/plain": [
       "<Figure size 1200x400 with 2 Axes>"
      ]
     },
     "metadata": {},
     "output_type": "display_data"
    }
   ],
   "source": [
    "#Evaluasi Model\n",
    "test_loss, test_accuracy = modelmobile.evaluate(test_set)\n",
    "print(f\"Test Loss: {test_loss:.4f}\")\n",
    "print(f\"Test Accuracy: {test_accuracy:.4f}\")\n",
    "\n",
    "#Visualisasi Hasil Training\n",
    "plt.figure(figsize=(12, 4))\n",
    "plt.subplot(1, 2, 1)\n",
    "plt.plot(historymobilenet.history['loss'], label='Train Loss')\n",
    "plt.plot(historymobilenet.history['val_loss'], label='Validation Loss')\n",
    "plt.xlabel('Epoch')\n",
    "plt.ylabel('Loss')\n",
    "plt.legend()\n",
    "plt.title('Loss Curve')\n",
    "\n",
    "plt.subplot(1, 2, 2)\n",
    "plt.plot(historymobilenet.history['accuracy'], label='Train Accuracy')\n",
    "plt.plot(historymobilenet.history['val_accuracy'], label='Validation Accuracy')\n",
    "plt.xlabel('Epoch')\n",
    "plt.ylabel('Accuracy')\n",
    "plt.legend()\n",
    "plt.title('Accuracy Curve')\n",
    "plt.show()"
   ]
  },
  {
   "cell_type": "code",
   "execution_count": 12,
   "metadata": {},
   "outputs": [
    {
     "name": "stdout",
     "output_type": "stream",
     "text": [
      "\u001b[1m46/46\u001b[0m \u001b[32m━━━━━━━━━━━━━━━━━━━━\u001b[0m\u001b[37m\u001b[0m \u001b[1m8s\u001b[0m 150ms/step\n",
      "Classification Report:\n",
      "                           precision    recall  f1-score   support\n",
      "\n",
      "             Affan Haidar       1.00      1.00      1.00        22\n",
      "              Ainun Putri       0.76      1.00      0.86        22\n",
      "          Andi ahmad afiq       1.00      1.00      1.00        22\n",
      "    Andi. Dwi Yuniarti. H       0.62      0.82      0.71        22\n",
      "                 Bayu Adi       0.78      0.82      0.80        22\n",
      "       Dewi Titania Randa       0.92      1.00      0.96        11\n",
      "           Dinda unidayan       0.84      0.95      0.89        22\n",
      "              Dwi Octavia       0.95      0.95      0.95        22\n",
      "                    Fadli       0.80      0.36      0.50        22\n",
      "        Fildzah Khalishah       0.89      0.77      0.83        22\n",
      "           Fiqram Faathir       0.96      1.00      0.98        22\n",
      "                    Githa       0.85      0.50      0.63        22\n",
      "         Hashimatul Zaria       0.96      1.00      0.98        22\n",
      "                    Ikbal       0.88      0.64      0.74        22\n",
      "          Inka Sinulingga       0.63      1.00      0.77        22\n",
      "                Ishaq usn       1.00      0.59      0.74        22\n",
      "              Khairunnisa       0.78      0.95      0.86        22\n",
      "        Laode Sandi Yunus       1.00      0.64      0.78        22\n",
      "           Lia Kurniawati       1.00      1.00      1.00        22\n",
      "                 Lithania       1.00      1.00      1.00        22\n",
      "         Mariati unidayan       0.93      0.64      0.76        22\n",
      "                Mas Bilal       0.70      0.86      0.78        22\n",
      "         Mohammad Rachman       0.97      0.97      0.97        33\n",
      "               Muh Luthfi       0.91      0.95      0.93        22\n",
      "       Muh. Falah Mubaraq       1.00      0.95      0.98        22\n",
      "Muhammad Azriel Saktiawan       1.00      0.95      0.98        22\n",
      "                 Mursawal       0.88      1.00      0.94        22\n",
      "        Ni Luh Ica Ardini       0.81      0.59      0.68        22\n",
      "     Ni Made Sri Ulandari       0.85      1.00      0.92        22\n",
      "         Nur Ilmi Fadilah       0.36      0.82      0.50        22\n",
      "     Prety Maharani Utami       0.61      0.50      0.55        22\n",
      "      Putri Angraini Aziz       0.92      0.50      0.65        22\n",
      "                Putu Riva       0.83      0.68      0.75        22\n",
      "\n",
      "                 accuracy                           0.83       726\n",
      "                macro avg       0.86      0.83      0.83       726\n",
      "             weighted avg       0.86      0.83      0.83       726\n",
      "\n",
      "Confusion Matrix:\n",
      "[[22  0  0 ...  0  0  0]\n",
      " [ 0 22  0 ...  0  0  0]\n",
      " [ 0  0 22 ...  0  0  0]\n",
      " ...\n",
      " [ 0  0  0 ... 11  0  0]\n",
      " [ 0  0  0 ...  0 11  0]\n",
      " [ 0  0  0 ...  0  0 15]]\n"
     ]
    }
   ],
   "source": [
    "#Classification Report dan Confusion Matrix\n",
    "#import Machine Learning\n",
    "from sklearn.metrics import classification_report\n",
    "from sklearn.metrics import confusion_matrix\n",
    "\n",
    "\n",
    "y_true = test_set.classes\n",
    "y_pred = modelmobile.predict(test_set)\n",
    "y_pred_classes = np.argmax(y_pred, axis=1)\n",
    "\n",
    "print(\"Classification Report:\")\n",
    "print(classification_report(y_true, y_pred_classes, target_names=list(test_set.class_indices.keys())))\n",
    "\n",
    "print(\"Confusion Matrix:\")\n",
    "print(confusion_matrix(y_true, y_pred_classes))"
   ]
  },
  {
   "cell_type": "code",
   "execution_count": 13,
   "metadata": {},
   "outputs": [
    {
     "data": {
      "text/html": [
       "<pre style=\"white-space:pre;overflow-x:auto;line-height:normal;font-family:Menlo,'DejaVu Sans Mono',consolas,'Courier New',monospace\"><span style=\"font-weight: bold\">Model: \"sequential_1\"</span>\n",
       "</pre>\n"
      ],
      "text/plain": [
       "\u001b[1mModel: \"sequential_1\"\u001b[0m\n"
      ]
     },
     "metadata": {},
     "output_type": "display_data"
    },
    {
     "data": {
      "text/html": [
       "<pre style=\"white-space:pre;overflow-x:auto;line-height:normal;font-family:Menlo,'DejaVu Sans Mono',consolas,'Courier New',monospace\">┏━━━━━━━━━━━━━━━━━━━━━━━━━━━━━━━━━┳━━━━━━━━━━━━━━━━━━━━━━━━┳━━━━━━━━━━━━━━━┓\n",
       "┃<span style=\"font-weight: bold\"> Layer (type)                    </span>┃<span style=\"font-weight: bold\"> Output Shape           </span>┃<span style=\"font-weight: bold\">       Param # </span>┃\n",
       "┡━━━━━━━━━━━━━━━━━━━━━━━━━━━━━━━━━╇━━━━━━━━━━━━━━━━━━━━━━━━╇━━━━━━━━━━━━━━━┩\n",
       "│ mobilenetv2_1.00_224            │ (<span style=\"color: #00d7ff; text-decoration-color: #00d7ff\">None</span>, <span style=\"color: #00af00; text-decoration-color: #00af00\">7</span>, <span style=\"color: #00af00; text-decoration-color: #00af00\">7</span>, <span style=\"color: #00af00; text-decoration-color: #00af00\">1280</span>)     │     <span style=\"color: #00af00; text-decoration-color: #00af00\">2,257,984</span> │\n",
       "│ (<span style=\"color: #0087ff; text-decoration-color: #0087ff\">Functional</span>)                    │                        │               │\n",
       "├─────────────────────────────────┼────────────────────────┼───────────────┤\n",
       "│ global_average_pooling2d_1      │ (<span style=\"color: #00d7ff; text-decoration-color: #00d7ff\">None</span>, <span style=\"color: #00af00; text-decoration-color: #00af00\">1280</span>)           │             <span style=\"color: #00af00; text-decoration-color: #00af00\">0</span> │\n",
       "│ (<span style=\"color: #0087ff; text-decoration-color: #0087ff\">GlobalAveragePooling2D</span>)        │                        │               │\n",
       "├─────────────────────────────────┼────────────────────────┼───────────────┤\n",
       "│ dense_2 (<span style=\"color: #0087ff; text-decoration-color: #0087ff\">Dense</span>)                 │ (<span style=\"color: #00d7ff; text-decoration-color: #00d7ff\">None</span>, <span style=\"color: #00af00; text-decoration-color: #00af00\">256</span>)            │       <span style=\"color: #00af00; text-decoration-color: #00af00\">327,936</span> │\n",
       "├─────────────────────────────────┼────────────────────────┼───────────────┤\n",
       "│ dropout_1 (<span style=\"color: #0087ff; text-decoration-color: #0087ff\">Dropout</span>)             │ (<span style=\"color: #00d7ff; text-decoration-color: #00d7ff\">None</span>, <span style=\"color: #00af00; text-decoration-color: #00af00\">256</span>)            │             <span style=\"color: #00af00; text-decoration-color: #00af00\">0</span> │\n",
       "├─────────────────────────────────┼────────────────────────┼───────────────┤\n",
       "│ dense_3 (<span style=\"color: #0087ff; text-decoration-color: #0087ff\">Dense</span>)                 │ (<span style=\"color: #00d7ff; text-decoration-color: #00d7ff\">None</span>, <span style=\"color: #00af00; text-decoration-color: #00af00\">33</span>)             │         <span style=\"color: #00af00; text-decoration-color: #00af00\">8,481</span> │\n",
       "└─────────────────────────────────┴────────────────────────┴───────────────┘\n",
       "</pre>\n"
      ],
      "text/plain": [
       "┏━━━━━━━━━━━━━━━━━━━━━━━━━━━━━━━━━┳━━━━━━━━━━━━━━━━━━━━━━━━┳━━━━━━━━━━━━━━━┓\n",
       "┃\u001b[1m \u001b[0m\u001b[1mLayer (type)                   \u001b[0m\u001b[1m \u001b[0m┃\u001b[1m \u001b[0m\u001b[1mOutput Shape          \u001b[0m\u001b[1m \u001b[0m┃\u001b[1m \u001b[0m\u001b[1m      Param #\u001b[0m\u001b[1m \u001b[0m┃\n",
       "┡━━━━━━━━━━━━━━━━━━━━━━━━━━━━━━━━━╇━━━━━━━━━━━━━━━━━━━━━━━━╇━━━━━━━━━━━━━━━┩\n",
       "│ mobilenetv2_1.00_224            │ (\u001b[38;5;45mNone\u001b[0m, \u001b[38;5;34m7\u001b[0m, \u001b[38;5;34m7\u001b[0m, \u001b[38;5;34m1280\u001b[0m)     │     \u001b[38;5;34m2,257,984\u001b[0m │\n",
       "│ (\u001b[38;5;33mFunctional\u001b[0m)                    │                        │               │\n",
       "├─────────────────────────────────┼────────────────────────┼───────────────┤\n",
       "│ global_average_pooling2d_1      │ (\u001b[38;5;45mNone\u001b[0m, \u001b[38;5;34m1280\u001b[0m)           │             \u001b[38;5;34m0\u001b[0m │\n",
       "│ (\u001b[38;5;33mGlobalAveragePooling2D\u001b[0m)        │                        │               │\n",
       "├─────────────────────────────────┼────────────────────────┼───────────────┤\n",
       "│ dense_2 (\u001b[38;5;33mDense\u001b[0m)                 │ (\u001b[38;5;45mNone\u001b[0m, \u001b[38;5;34m256\u001b[0m)            │       \u001b[38;5;34m327,936\u001b[0m │\n",
       "├─────────────────────────────────┼────────────────────────┼───────────────┤\n",
       "│ dropout_1 (\u001b[38;5;33mDropout\u001b[0m)             │ (\u001b[38;5;45mNone\u001b[0m, \u001b[38;5;34m256\u001b[0m)            │             \u001b[38;5;34m0\u001b[0m │\n",
       "├─────────────────────────────────┼────────────────────────┼───────────────┤\n",
       "│ dense_3 (\u001b[38;5;33mDense\u001b[0m)                 │ (\u001b[38;5;45mNone\u001b[0m, \u001b[38;5;34m33\u001b[0m)             │         \u001b[38;5;34m8,481\u001b[0m │\n",
       "└─────────────────────────────────┴────────────────────────┴───────────────┘\n"
      ]
     },
     "metadata": {},
     "output_type": "display_data"
    },
    {
     "data": {
      "text/html": [
       "<pre style=\"white-space:pre;overflow-x:auto;line-height:normal;font-family:Menlo,'DejaVu Sans Mono',consolas,'Courier New',monospace\"><span style=\"font-weight: bold\"> Total params: </span><span style=\"color: #00af00; text-decoration-color: #00af00\">3,267,237</span> (12.46 MB)\n",
       "</pre>\n"
      ],
      "text/plain": [
       "\u001b[1m Total params: \u001b[0m\u001b[38;5;34m3,267,237\u001b[0m (12.46 MB)\n"
      ]
     },
     "metadata": {},
     "output_type": "display_data"
    },
    {
     "data": {
      "text/html": [
       "<pre style=\"white-space:pre;overflow-x:auto;line-height:normal;font-family:Menlo,'DejaVu Sans Mono',consolas,'Courier New',monospace\"><span style=\"font-weight: bold\"> Trainable params: </span><span style=\"color: #00af00; text-decoration-color: #00af00\">0</span> (0.00 B)\n",
       "</pre>\n"
      ],
      "text/plain": [
       "\u001b[1m Trainable params: \u001b[0m\u001b[38;5;34m0\u001b[0m (0.00 B)\n"
      ]
     },
     "metadata": {},
     "output_type": "display_data"
    },
    {
     "data": {
      "text/html": [
       "<pre style=\"white-space:pre;overflow-x:auto;line-height:normal;font-family:Menlo,'DejaVu Sans Mono',consolas,'Courier New',monospace\"><span style=\"font-weight: bold\"> Non-trainable params: </span><span style=\"color: #00af00; text-decoration-color: #00af00\">2,594,401</span> (9.90 MB)\n",
       "</pre>\n"
      ],
      "text/plain": [
       "\u001b[1m Non-trainable params: \u001b[0m\u001b[38;5;34m2,594,401\u001b[0m (9.90 MB)\n"
      ]
     },
     "metadata": {},
     "output_type": "display_data"
    },
    {
     "data": {
      "text/html": [
       "<pre style=\"white-space:pre;overflow-x:auto;line-height:normal;font-family:Menlo,'DejaVu Sans Mono',consolas,'Courier New',monospace\"><span style=\"font-weight: bold\"> Optimizer params: </span><span style=\"color: #00af00; text-decoration-color: #00af00\">672,836</span> (2.57 MB)\n",
       "</pre>\n"
      ],
      "text/plain": [
       "\u001b[1m Optimizer params: \u001b[0m\u001b[38;5;34m672,836\u001b[0m (2.57 MB)\n"
      ]
     },
     "metadata": {},
     "output_type": "display_data"
    }
   ],
   "source": [
    "# frezz parameter untuk tidak di edit lagi parameter model nya terhadap train.fit\n",
    "# freeze params\n",
    "\n",
    "modelmobile.trainable = False\n",
    "modelmobile.summary()"
   ]
  },
  {
   "cell_type": "code",
   "execution_count": 14,
   "metadata": {},
   "outputs": [
    {
     "name": "stderr",
     "output_type": "stream",
     "text": [
      "WARNING:absl:You are saving your model as an HDF5 file via `model.save()` or `keras.saving.save_model(model)`. This file format is considered legacy. We recommend using instead the native Keras format, e.g. `model.save('my_model.keras')` or `keras.saving.save_model(model, 'my_model.keras')`. \n"
     ]
    },
    {
     "name": "stdout",
     "output_type": "stream",
     "text": [
      "Model disimpan\n"
     ]
    }
   ],
   "source": [
    "#Simpan Model\n",
    "modelmobile.save(\"signature_model_mobilenetv2.h5\")\n",
    "print(\"Model disimpan\")\n",
    "\n",
    "#Prediksi Tanda Tangan Baru\n",
    "def predict_signature(image_path, model, class_indices):\n",
    "    \"\"\"\n",
    "    Melakukan prediksi terhadap gambar tanda tangan baru.\n",
    "    \"\"\"\n",
    "    img = tf.keras.preprocessing.image.load_img(image_path, target_size=(224, 224))\n",
    "    img_array = tf.keras.preprocessing.image.img_to_array(img) / 255.0\n",
    "    img_array = np.expand_dims(img_array, axis=0)\n",
    "    \n",
    "    prediction = model.predict(img_array)\n",
    "    predicted_class = np.argmax(prediction)\n",
    "    class_label = list(class_indices.keys())[predicted_class]\n",
    "    \n",
    "    print(f\"Prediksi: {class_label}\")\n",
    "    return class_label"
   ]
  },
  {
   "cell_type": "code",
   "execution_count": 15,
   "metadata": {},
   "outputs": [
    {
     "name": "stdout",
     "output_type": "stream",
     "text": [
      "\u001b[1m1/1\u001b[0m \u001b[32m━━━━━━━━━━━━━━━━━━━━\u001b[0m\u001b[37m\u001b[0m \u001b[1m0s\u001b[0m 451ms/step\n",
      "Predicted class: Affan Haidar, Confidence: 98.18%\n"
     ]
    }
   ],
   "source": [
    "from tensorflow.keras.preprocessing import image\n",
    "from PIL import Image\n",
    "\n",
    "\n",
    "def predict_image_path(image_url, modelmobile, train_set):\n",
    "    try:\n",
    "        # Load gambar & konversi ke RGB\n",
    "        img = Image.open(image_url).convert(\"RGB\")  # **Convert ke RGB**\n",
    "        img = img.resize((224, 224))  # Sesuaikan dengan input model\n",
    "        img_array = image.img_to_array(img)\n",
    "        img_array = np.expand_dims(img_array, axis=0)\n",
    "        img_array /= 255.0  # Normalisasi\n",
    "\n",
    "        # Prediksi dengan model\n",
    "        prediction = modelmobile.predict(img_array)\n",
    "        predicted_class = np.argmax(prediction[0])\n",
    "        confidence = prediction[0][predicted_class] * 100\n",
    "\n",
    "        # Ambil nama kelas dari dataset\n",
    "        class_labels = list(train_set.class_indices.keys())\n",
    "        predicted_label = class_labels[predicted_class]\n",
    "\n",
    "        return f\"Predicted class: {predicted_label}, Confidence: {confidence:.2f}%\"\n",
    "\n",
    "    except Exception as e:\n",
    "        return f\"Error during prediction: {e}\"\n",
    "\n",
    "# Contoh pemanggilan fungsi\n",
    "image_url = \"/Users/aqsal/Downloads/FINALPROJECT/finpro-fraud/p2-final-project-signature-detector/dataset/dataset2/test/Affan Haidar/20250217_145003.jpg\"  # Ganti dengan path gambar lokal\n",
    "result = predict_image_path(image_url, modelmobile, train_set)\n",
    "print(result)"
   ]
  },
  {
   "cell_type": "code",
   "execution_count": 16,
   "metadata": {},
   "outputs": [
    {
     "name": "stdout",
     "output_type": "stream",
     "text": [
      "{'Affan Haidar': 0, 'Ainun Putri': 1, 'Andi ahmad afiq': 2, 'Andi. Dwi Yuniarti. H': 3, 'Bayu Adi': 4, 'Dewi Titania Randa': 5, 'Dinda unidayan': 6, 'Dwi Octavia': 7, 'Fadli': 8, 'Fildzah Khalishah': 9, 'Fiqram Faathir': 10, 'Githa': 11, 'Hashimatul Zaria': 12, 'Ikbal': 13, 'Inka Sinulingga': 14, 'Ishaq usn': 15, 'Khairunnisa': 16, 'Laode Sandi Yunus': 17, 'Lia Kurniawati': 18, 'Lithania': 19, 'Mariati unidayan': 20, 'Mas Bilal': 21, 'Mohammad Rachman': 22, 'Muh Luthfi': 23, 'Muh. Falah Mubaraq': 24, 'Muhammad Azriel Saktiawan': 25, 'Mursawal': 26, 'Ni Luh Ica Ardini': 27, 'Ni Made Sri Ulandari': 28, 'Nur Ilmi Fadilah': 29, 'Prety Maharani Utami': 30, 'Putri Angraini Aziz': 31, 'Putu Riva': 32}\n",
      "{'Affan Haidar': 0, 'Ainun Putri': 1, 'Andi ahmad afiq': 2, 'Andi. Dwi Yuniarti. H': 3, 'Bayu Adi': 4, 'Dewi Titania Randa': 5, 'Dinda unidayan': 6, 'Dwi Octavia': 7, 'Fadli': 8, 'Fildzah Khalishah': 9, 'Fiqram Faathir': 10, 'Githa': 11, 'Hashimatul Zaria': 12, 'Ikbal': 13, 'Inka Sinulingga': 14, 'Ishaq usn': 15, 'Khairunnisa': 16, 'Laode Sandi Yunus': 17, 'Lia Kurniawati': 18, 'Lithania': 19, 'Mariati unidayan': 20, 'Mas Bilal': 21, 'Mohammad Rachman': 22, 'Muh Luthfi': 23, 'Muh. Falah Mubaraq': 24, 'Muhammad Azriel Saktiawan': 25, 'Mursawal': 26, 'Ni Luh Ica Ardini': 27, 'Ni Made Sri Ulandari': 28, 'Nur Ilmi Fadilah': 29, 'Prety Maharani Utami': 30, 'Putri Angraini Aziz': 31, 'Putu Riva': 32}\n"
     ]
    }
   ],
   "source": [
    "\n",
    "print(train_set.class_indices)\n",
    "print(test_set.class_indices)"
   ]
  },
  {
   "cell_type": "markdown",
   "metadata": {},
   "source": [
    "-------"
   ]
  }
 ],
 "metadata": {
  "kernelspec": {
   "display_name": "base",
   "language": "python",
   "name": "python3"
  },
  "language_info": {
   "codemirror_mode": {
    "name": "ipython",
    "version": 3
   },
   "file_extension": ".py",
   "mimetype": "text/x-python",
   "name": "python",
   "nbconvert_exporter": "python",
   "pygments_lexer": "ipython3",
   "version": "3.12.8"
  }
 },
 "nbformat": 4,
 "nbformat_minor": 2
}
