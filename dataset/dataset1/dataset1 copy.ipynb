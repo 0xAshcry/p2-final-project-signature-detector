{
 "cells": [
  {
   "cell_type": "code",
   "execution_count": 8,
   "metadata": {},
   "outputs": [],
   "source": [
    "import pandas as pd\n",
    "import numpy as np\n",
    "import pickle\n",
    "\n",
    "from scipy.stats import chi2_contingency, f_oneway, pointbiserialr\n",
    "\n",
    "import matplotlib.pyplot as plt\n",
    "import plotly.express as px\n",
    "\n",
    "from sklearn.model_selection import cross_val_score\n",
    "from sklearn.model_selection import train_test_split\n",
    "from sklearn.compose import ColumnTransformer\n",
    "from sklearn.pipeline import Pipeline\n",
    "from sklearn.preprocessing import OneHotEncoder, RobustScaler\n",
    "from sklearn.metrics import precision_score, classification_report, make_scorer\n",
    "from sklearn.model_selection import cross_val_score\n",
    "from sklearn.ensemble import RandomForestClassifier\n",
    "from sklearn.tree import DecisionTreeClassifier\n",
    "from sklearn.svm import SVC\n",
    "from sklearn.neighbors import KNeighborsClassifier\n",
    "from xgboost import XGBClassifier\n",
    "from sklearn.model_selection import GridSearchCV\n",
    "from sklearn.utils import resample"
   ]
  },
  {
   "cell_type": "code",
   "execution_count": 9,
   "metadata": {},
   "outputs": [],
   "source": [
    "df = pd.read_csv('balance.csv')"
   ]
  },
  {
   "cell_type": "code",
   "execution_count": 10,
   "metadata": {},
   "outputs": [
    {
     "name": "stdout",
     "output_type": "stream",
     "text": [
      "<class 'pandas.core.frame.DataFrame'>\n",
      "RangeIndex: 16426 entries, 0 to 16425\n",
      "Data columns (total 11 columns):\n",
      " #   Column          Non-Null Count  Dtype  \n",
      "---  ------          --------------  -----  \n",
      " 0   step            16426 non-null  int64  \n",
      " 1   type            16426 non-null  object \n",
      " 2   amount          16426 non-null  float64\n",
      " 3   nameOrig        16426 non-null  object \n",
      " 4   oldbalanceOrg   16426 non-null  float64\n",
      " 5   newbalanceOrig  16426 non-null  float64\n",
      " 6   nameDest        16426 non-null  object \n",
      " 7   oldbalanceDest  16426 non-null  float64\n",
      " 8   newbalanceDest  16426 non-null  float64\n",
      " 9   isFlaggedFraud  16426 non-null  int64  \n",
      " 10  isFraud         16426 non-null  int64  \n",
      "dtypes: float64(5), int64(3), object(3)\n",
      "memory usage: 1.4+ MB\n"
     ]
    }
   ],
   "source": [
    "df.info()"
   ]
  },
  {
   "cell_type": "code",
   "execution_count": 11,
   "metadata": {},
   "outputs": [
    {
     "data": {
      "text/html": [
       "<div>\n",
       "<style scoped>\n",
       "    .dataframe tbody tr th:only-of-type {\n",
       "        vertical-align: middle;\n",
       "    }\n",
       "\n",
       "    .dataframe tbody tr th {\n",
       "        vertical-align: top;\n",
       "    }\n",
       "\n",
       "    .dataframe thead th {\n",
       "        text-align: right;\n",
       "    }\n",
       "</style>\n",
       "<table border=\"1\" class=\"dataframe\">\n",
       "  <thead>\n",
       "    <tr style=\"text-align: right;\">\n",
       "      <th></th>\n",
       "      <th>step</th>\n",
       "      <th>type</th>\n",
       "      <th>amount</th>\n",
       "      <th>nameOrig</th>\n",
       "      <th>oldbalanceOrg</th>\n",
       "      <th>newbalanceOrig</th>\n",
       "      <th>nameDest</th>\n",
       "      <th>oldbalanceDest</th>\n",
       "      <th>newbalanceDest</th>\n",
       "      <th>isFlaggedFraud</th>\n",
       "      <th>isFraud</th>\n",
       "    </tr>\n",
       "  </thead>\n",
       "  <tbody>\n",
       "    <tr>\n",
       "      <th>0</th>\n",
       "      <td>163</td>\n",
       "      <td>CASH_OUT</td>\n",
       "      <td>66061.94</td>\n",
       "      <td>C1444177449</td>\n",
       "      <td>0.00</td>\n",
       "      <td>0.00</td>\n",
       "      <td>C1433830539</td>\n",
       "      <td>153788.33</td>\n",
       "      <td>219850.28</td>\n",
       "      <td>0</td>\n",
       "      <td>0</td>\n",
       "    </tr>\n",
       "    <tr>\n",
       "      <th>1</th>\n",
       "      <td>378</td>\n",
       "      <td>PAYMENT</td>\n",
       "      <td>14598.76</td>\n",
       "      <td>C638641690</td>\n",
       "      <td>10779.00</td>\n",
       "      <td>0.00</td>\n",
       "      <td>M786508240</td>\n",
       "      <td>0.00</td>\n",
       "      <td>0.00</td>\n",
       "      <td>0</td>\n",
       "      <td>0</td>\n",
       "    </tr>\n",
       "    <tr>\n",
       "      <th>2</th>\n",
       "      <td>333</td>\n",
       "      <td>PAYMENT</td>\n",
       "      <td>10767.10</td>\n",
       "      <td>C1473859208</td>\n",
       "      <td>0.00</td>\n",
       "      <td>0.00</td>\n",
       "      <td>M204648638</td>\n",
       "      <td>0.00</td>\n",
       "      <td>0.00</td>\n",
       "      <td>0</td>\n",
       "      <td>0</td>\n",
       "    </tr>\n",
       "    <tr>\n",
       "      <th>3</th>\n",
       "      <td>307</td>\n",
       "      <td>PAYMENT</td>\n",
       "      <td>9342.70</td>\n",
       "      <td>C1660884816</td>\n",
       "      <td>180485.84</td>\n",
       "      <td>171143.14</td>\n",
       "      <td>M182225889</td>\n",
       "      <td>0.00</td>\n",
       "      <td>0.00</td>\n",
       "      <td>0</td>\n",
       "      <td>0</td>\n",
       "    </tr>\n",
       "    <tr>\n",
       "      <th>4</th>\n",
       "      <td>334</td>\n",
       "      <td>PAYMENT</td>\n",
       "      <td>6553.42</td>\n",
       "      <td>C843452443</td>\n",
       "      <td>20099.00</td>\n",
       "      <td>13545.58</td>\n",
       "      <td>M1268307159</td>\n",
       "      <td>0.00</td>\n",
       "      <td>0.00</td>\n",
       "      <td>0</td>\n",
       "      <td>0</td>\n",
       "    </tr>\n",
       "  </tbody>\n",
       "</table>\n",
       "</div>"
      ],
      "text/plain": [
       "   step      type    amount     nameOrig  oldbalanceOrg  newbalanceOrig  \\\n",
       "0   163  CASH_OUT  66061.94  C1444177449           0.00            0.00   \n",
       "1   378   PAYMENT  14598.76   C638641690       10779.00            0.00   \n",
       "2   333   PAYMENT  10767.10  C1473859208           0.00            0.00   \n",
       "3   307   PAYMENT   9342.70  C1660884816      180485.84       171143.14   \n",
       "4   334   PAYMENT   6553.42   C843452443       20099.00        13545.58   \n",
       "\n",
       "      nameDest  oldbalanceDest  newbalanceDest  isFlaggedFraud  isFraud  \n",
       "0  C1433830539       153788.33       219850.28               0        0  \n",
       "1   M786508240            0.00            0.00               0        0  \n",
       "2   M204648638            0.00            0.00               0        0  \n",
       "3   M182225889            0.00            0.00               0        0  \n",
       "4  M1268307159            0.00            0.00               0        0  "
      ]
     },
     "execution_count": 11,
     "metadata": {},
     "output_type": "execute_result"
    }
   ],
   "source": [
    "df.head()"
   ]
  },
  {
   "cell_type": "code",
   "execution_count": 12,
   "metadata": {},
   "outputs": [
    {
     "data": {
      "text/plain": [
       "0    8213\n",
       "1    8213\n",
       "Name: isFraud, dtype: int64"
      ]
     },
     "execution_count": 12,
     "metadata": {},
     "output_type": "execute_result"
    }
   ],
   "source": [
    "df['isFraud'].value_counts()"
   ]
  },
  {
   "cell_type": "code",
   "execution_count": 13,
   "metadata": {},
   "outputs": [
    {
     "data": {
      "text/plain": [
       "1    8213\n",
       "0    8213\n",
       "Name: isFraud, dtype: int64"
      ]
     },
     "execution_count": 13,
     "metadata": {},
     "output_type": "execute_result"
    }
   ],
   "source": [
    "df_majority = df[df['isFraud'] == 0]  # Non-fraud transactions\n",
    "df_minority = df[df['isFraud'] == 1]  # Fraud transactions\n",
    "\n",
    "# Undersample the majority class\n",
    "df_majority_undersampled = resample(df_majority, \n",
    "                                    replace=False,  # No replacement (random selection)\n",
    "                                    n_samples=len(df_minority),  # Match minority class count\n",
    "                                    random_state=42)  # For reproducibility\n",
    "\n",
    "# Combine undersampled majority class with minority class\n",
    "df_undersampled = pd.concat([df_majority_undersampled, df_minority])\n",
    "\n",
    "# Shuffle dataset\n",
    "df_undersampled = df_undersampled.sample(frac=1, random_state=42).reset_index(drop=True)\n",
    "\n",
    "# Verify new class distribution\n",
    "df_undersampled['isFraud'].value_counts()\n"
   ]
  },
  {
   "cell_type": "markdown",
   "metadata": {},
   "source": [
    "# Split Data"
   ]
  },
  {
   "cell_type": "code",
   "execution_count": 14,
   "metadata": {},
   "outputs": [
    {
     "name": "stdout",
     "output_type": "stream",
     "text": [
      "Training set size: (13140, 10)\n",
      "Testing set size: (3286, 10)\n"
     ]
    }
   ],
   "source": [
    "X = df_undersampled.drop(columns=['isFraud'])\n",
    "y = df_undersampled['isFraud']\n",
    "\n",
    "X_train, X_test, y_train, y_test = train_test_split(X, y, test_size=0.2, random_state=26)\n",
    "\n",
    "print(f\"Training set size: {X_train.shape}\")\n",
    "print(f\"Testing set size: {X_test.shape}\")"
   ]
  },
  {
   "cell_type": "code",
   "execution_count": 15,
   "metadata": {},
   "outputs": [],
   "source": [
    "num_cols = ['amount', 'oldbalanceOrg', 'newbalanceOrig', 'oldbalanceDest', 'newbalanceDest']\n",
    "cat_cols = ['step','type','nameOrig','nameDest']"
   ]
  },
  {
   "cell_type": "code",
   "execution_count": 16,
   "metadata": {},
   "outputs": [
    {
     "data": {
      "text/html": [
       "<div>\n",
       "<style scoped>\n",
       "    .dataframe tbody tr th:only-of-type {\n",
       "        vertical-align: middle;\n",
       "    }\n",
       "\n",
       "    .dataframe tbody tr th {\n",
       "        vertical-align: top;\n",
       "    }\n",
       "\n",
       "    .dataframe thead th {\n",
       "        text-align: right;\n",
       "    }\n",
       "</style>\n",
       "<table border=\"1\" class=\"dataframe\">\n",
       "  <thead>\n",
       "    <tr style=\"text-align: right;\">\n",
       "      <th></th>\n",
       "      <th>Feature</th>\n",
       "      <th>P-Value</th>\n",
       "      <th>Interpretation</th>\n",
       "    </tr>\n",
       "  </thead>\n",
       "  <tbody>\n",
       "    <tr>\n",
       "      <th>0</th>\n",
       "      <td>step</td>\n",
       "      <td>0.000000</td>\n",
       "      <td>step is correlated with isFraud</td>\n",
       "    </tr>\n",
       "    <tr>\n",
       "      <th>1</th>\n",
       "      <td>type</td>\n",
       "      <td>0.000000</td>\n",
       "      <td>type is correlated with isFraud</td>\n",
       "    </tr>\n",
       "    <tr>\n",
       "      <th>2</th>\n",
       "      <td>nameOrig</td>\n",
       "      <td>0.495898</td>\n",
       "      <td>nameOrig is not correlated with isFraud</td>\n",
       "    </tr>\n",
       "    <tr>\n",
       "      <th>3</th>\n",
       "      <td>nameDest</td>\n",
       "      <td>0.428791</td>\n",
       "      <td>nameDest is not correlated with isFraud</td>\n",
       "    </tr>\n",
       "  </tbody>\n",
       "</table>\n",
       "</div>"
      ],
      "text/plain": [
       "    Feature   P-Value                           Interpretation\n",
       "0      step  0.000000          step is correlated with isFraud\n",
       "1      type  0.000000          type is correlated with isFraud\n",
       "2  nameOrig  0.495898  nameOrig is not correlated with isFraud\n",
       "3  nameDest  0.428791  nameDest is not correlated with isFraud"
      ]
     },
     "execution_count": 16,
     "metadata": {},
     "output_type": "execute_result"
    }
   ],
   "source": [
    "# get the categorical features\n",
    "p_values = []\n",
    "results = []\n",
    "\n",
    "for feature in cat_cols:\n",
    "    # Create a contingency table (cross-tabulation between target and feature)\n",
    "    contingency_table = pd.crosstab(X_train[feature], y_train)\n",
    "    \n",
    "    # Perform chi-squared test\n",
    "    chi2_stat, p_value, dof, expected = chi2_contingency(contingency_table)\n",
    "    \n",
    "    p_values.append(p_value)\n",
    "    \n",
    "    # Interpret the result based on p-value\n",
    "    if p_value < 0.05:\n",
    "        results.append(f'{feature} is correlated with isFraud')\n",
    "    else:\n",
    "        results.append(f'{feature} is not correlated with isFraud')\n",
    "\n",
    "# Display results\n",
    "correlation_results = pd.DataFrame({\n",
    "    'Feature': cat_cols,\n",
    "    'P-Value': p_values,\n",
    "    'Interpretation': results\n",
    "})\n",
    "\n",
    "correlation_results"
   ]
  },
  {
   "cell_type": "code",
   "execution_count": 17,
   "metadata": {},
   "outputs": [
    {
     "data": {
      "text/html": [
       "<div>\n",
       "<style scoped>\n",
       "    .dataframe tbody tr th:only-of-type {\n",
       "        vertical-align: middle;\n",
       "    }\n",
       "\n",
       "    .dataframe tbody tr th {\n",
       "        vertical-align: top;\n",
       "    }\n",
       "\n",
       "    .dataframe thead th {\n",
       "        text-align: right;\n",
       "    }\n",
       "</style>\n",
       "<table border=\"1\" class=\"dataframe\">\n",
       "  <thead>\n",
       "    <tr style=\"text-align: right;\">\n",
       "      <th></th>\n",
       "      <th>Feature</th>\n",
       "      <th>P-Value</th>\n",
       "      <th>Interpretation</th>\n",
       "    </tr>\n",
       "  </thead>\n",
       "  <tbody>\n",
       "    <tr>\n",
       "      <th>0</th>\n",
       "      <td>amount</td>\n",
       "      <td>0.000000e+00</td>\n",
       "      <td>amount is correlated with isFraud</td>\n",
       "    </tr>\n",
       "    <tr>\n",
       "      <th>1</th>\n",
       "      <td>oldbalanceOrg</td>\n",
       "      <td>7.191393e-48</td>\n",
       "      <td>oldbalanceOrg is correlated with isFraud</td>\n",
       "    </tr>\n",
       "    <tr>\n",
       "      <th>2</th>\n",
       "      <td>newbalanceOrig</td>\n",
       "      <td>8.026305e-51</td>\n",
       "      <td>newbalanceOrig is correlated with isFraud</td>\n",
       "    </tr>\n",
       "    <tr>\n",
       "      <th>3</th>\n",
       "      <td>oldbalanceDest</td>\n",
       "      <td>3.229188e-24</td>\n",
       "      <td>oldbalanceDest is correlated with isFraud</td>\n",
       "    </tr>\n",
       "    <tr>\n",
       "      <th>4</th>\n",
       "      <td>newbalanceDest</td>\n",
       "      <td>7.386456e-01</td>\n",
       "      <td>newbalanceDest is not correlated with isFraud</td>\n",
       "    </tr>\n",
       "  </tbody>\n",
       "</table>\n",
       "</div>"
      ],
      "text/plain": [
       "          Feature       P-Value                                 Interpretation\n",
       "0          amount  0.000000e+00              amount is correlated with isFraud\n",
       "1   oldbalanceOrg  7.191393e-48       oldbalanceOrg is correlated with isFraud\n",
       "2  newbalanceOrig  8.026305e-51      newbalanceOrig is correlated with isFraud\n",
       "3  oldbalanceDest  3.229188e-24      oldbalanceDest is correlated with isFraud\n",
       "4  newbalanceDest  7.386456e-01  newbalanceDest is not correlated with isFraud"
      ]
     },
     "execution_count": 17,
     "metadata": {},
     "output_type": "execute_result"
    }
   ],
   "source": [
    "p_values = []\n",
    "results = []\n",
    "\n",
    "# Point Biserial Correlation (for binary categorical variables)\n",
    "for feature in num_cols:\n",
    "    corr, p_value = pointbiserialr(X_train[feature], y_train)  # Compute correlation\n",
    "\n",
    "    p_values.append(p_value)\n",
    "    \n",
    "    # Interpret result\n",
    "    if p_value < 0.05:\n",
    "        results.append(f'{feature} is correlated with isFraud')\n",
    "    else:\n",
    "        results.append(f'{feature} is not correlated with isFraud')\n",
    "\n",
    "# Display results\n",
    "correlation_results = pd.DataFrame({\n",
    "    'Feature': num_cols,\n",
    "    'P-Value': p_values,\n",
    "    'Interpretation': results\n",
    "})\n",
    "\n",
    "correlation_results"
   ]
  },
  {
   "cell_type": "markdown",
   "metadata": {},
   "source": [
    "### Features Selection"
   ]
  },
  {
   "cell_type": "code",
   "execution_count": 18,
   "metadata": {},
   "outputs": [],
   "source": [
    "select_num_cols = ['step','amount', 'oldbalanceOrg', 'newbalanceOrig', 'oldbalanceDest']\n",
    "select_cat_cols = ['type']"
   ]
  },
  {
   "cell_type": "markdown",
   "metadata": {},
   "source": [
    "# Pipeline Creation"
   ]
  },
  {
   "cell_type": "markdown",
   "metadata": {},
   "source": [
    "## Preprocessing"
   ]
  },
  {
   "cell_type": "code",
   "execution_count": 19,
   "metadata": {},
   "outputs": [],
   "source": [
    "onehot_encoder = OneHotEncoder()\n",
    "robust_scaler = RobustScaler()\n",
    "# create a preprocessing pipeline, using column transformer\n",
    "preprocessing = ColumnTransformer(\n",
    "    transformers=[\n",
    "        # encode the low cardinality features using onehot encoder\n",
    "        ('onehot', onehot_encoder, select_cat_cols),\n",
    "        # scale the numerical column using standard scaler\n",
    "        ('num', robust_scaler, select_num_cols)\n",
    "    ],\n",
    "    # as for the features we are not selected, we will drop it\n",
    "    remainder='drop'\n",
    ")"
   ]
  },
  {
   "cell_type": "code",
   "execution_count": 20,
   "metadata": {},
   "outputs": [],
   "source": [
    "# checking the preprocessing if it's working\n",
    "X_train_preprocess = preprocessing.fit_transform(X_train)\n",
    "X_test_preprocess = preprocessing.transform(X_test)"
   ]
  },
  {
   "cell_type": "markdown",
   "metadata": {},
   "source": [
    "## Model Random Forest"
   ]
  },
  {
   "cell_type": "code",
   "execution_count": 21,
   "metadata": {},
   "outputs": [],
   "source": [
    "rf_model = RandomForestClassifier(\n",
    "    n_estimators=100,\n",
    "    class_weight=\"balanced\",  # Automatically adjusts weights for fraud cases\n",
    "    random_state=26\n",
    ")"
   ]
  },
  {
   "cell_type": "code",
   "execution_count": 22,
   "metadata": {},
   "outputs": [],
   "source": [
    "# creating pipeline with preprocessing and Random Forest classifier\n",
    "pipeline_RandFor = Pipeline(steps=[\n",
    "    ('preprocessor', preprocessing),\n",
    "    ('classifier', rf_model)\n",
    "])"
   ]
  },
  {
   "cell_type": "code",
   "execution_count": 23,
   "metadata": {},
   "outputs": [
    {
     "data": {
      "text/html": [
       "<style>#sk-container-id-1 {color: black;}#sk-container-id-1 pre{padding: 0;}#sk-container-id-1 div.sk-toggleable {background-color: white;}#sk-container-id-1 label.sk-toggleable__label {cursor: pointer;display: block;width: 100%;margin-bottom: 0;padding: 0.3em;box-sizing: border-box;text-align: center;}#sk-container-id-1 label.sk-toggleable__label-arrow:before {content: \"▸\";float: left;margin-right: 0.25em;color: #696969;}#sk-container-id-1 label.sk-toggleable__label-arrow:hover:before {color: black;}#sk-container-id-1 div.sk-estimator:hover label.sk-toggleable__label-arrow:before {color: black;}#sk-container-id-1 div.sk-toggleable__content {max-height: 0;max-width: 0;overflow: hidden;text-align: left;background-color: #f0f8ff;}#sk-container-id-1 div.sk-toggleable__content pre {margin: 0.2em;color: black;border-radius: 0.25em;background-color: #f0f8ff;}#sk-container-id-1 input.sk-toggleable__control:checked~div.sk-toggleable__content {max-height: 200px;max-width: 100%;overflow: auto;}#sk-container-id-1 input.sk-toggleable__control:checked~label.sk-toggleable__label-arrow:before {content: \"▾\";}#sk-container-id-1 div.sk-estimator input.sk-toggleable__control:checked~label.sk-toggleable__label {background-color: #d4ebff;}#sk-container-id-1 div.sk-label input.sk-toggleable__control:checked~label.sk-toggleable__label {background-color: #d4ebff;}#sk-container-id-1 input.sk-hidden--visually {border: 0;clip: rect(1px 1px 1px 1px);clip: rect(1px, 1px, 1px, 1px);height: 1px;margin: -1px;overflow: hidden;padding: 0;position: absolute;width: 1px;}#sk-container-id-1 div.sk-estimator {font-family: monospace;background-color: #f0f8ff;border: 1px dotted black;border-radius: 0.25em;box-sizing: border-box;margin-bottom: 0.5em;}#sk-container-id-1 div.sk-estimator:hover {background-color: #d4ebff;}#sk-container-id-1 div.sk-parallel-item::after {content: \"\";width: 100%;border-bottom: 1px solid gray;flex-grow: 1;}#sk-container-id-1 div.sk-label:hover label.sk-toggleable__label {background-color: #d4ebff;}#sk-container-id-1 div.sk-serial::before {content: \"\";position: absolute;border-left: 1px solid gray;box-sizing: border-box;top: 0;bottom: 0;left: 50%;z-index: 0;}#sk-container-id-1 div.sk-serial {display: flex;flex-direction: column;align-items: center;background-color: white;padding-right: 0.2em;padding-left: 0.2em;position: relative;}#sk-container-id-1 div.sk-item {position: relative;z-index: 1;}#sk-container-id-1 div.sk-parallel {display: flex;align-items: stretch;justify-content: center;background-color: white;position: relative;}#sk-container-id-1 div.sk-item::before, #sk-container-id-1 div.sk-parallel-item::before {content: \"\";position: absolute;border-left: 1px solid gray;box-sizing: border-box;top: 0;bottom: 0;left: 50%;z-index: -1;}#sk-container-id-1 div.sk-parallel-item {display: flex;flex-direction: column;z-index: 1;position: relative;background-color: white;}#sk-container-id-1 div.sk-parallel-item:first-child::after {align-self: flex-end;width: 50%;}#sk-container-id-1 div.sk-parallel-item:last-child::after {align-self: flex-start;width: 50%;}#sk-container-id-1 div.sk-parallel-item:only-child::after {width: 0;}#sk-container-id-1 div.sk-dashed-wrapped {border: 1px dashed gray;margin: 0 0.4em 0.5em 0.4em;box-sizing: border-box;padding-bottom: 0.4em;background-color: white;}#sk-container-id-1 div.sk-label label {font-family: monospace;font-weight: bold;display: inline-block;line-height: 1.2em;}#sk-container-id-1 div.sk-label-container {text-align: center;}#sk-container-id-1 div.sk-container {/* jupyter's `normalize.less` sets `[hidden] { display: none; }` but bootstrap.min.css set `[hidden] { display: none !important; }` so we also need the `!important` here to be able to override the default hidden behavior on the sphinx rendered scikit-learn.org. See: https://github.com/scikit-learn/scikit-learn/issues/21755 */display: inline-block !important;position: relative;}#sk-container-id-1 div.sk-text-repr-fallback {display: none;}</style><div id=\"sk-container-id-1\" class=\"sk-top-container\"><div class=\"sk-text-repr-fallback\"><pre>Pipeline(steps=[(&#x27;preprocessor&#x27;,\n",
       "                 ColumnTransformer(transformers=[(&#x27;onehot&#x27;, OneHotEncoder(),\n",
       "                                                  [&#x27;type&#x27;]),\n",
       "                                                 (&#x27;num&#x27;, RobustScaler(),\n",
       "                                                  [&#x27;step&#x27;, &#x27;amount&#x27;,\n",
       "                                                   &#x27;oldbalanceOrg&#x27;,\n",
       "                                                   &#x27;newbalanceOrig&#x27;,\n",
       "                                                   &#x27;oldbalanceDest&#x27;])])),\n",
       "                (&#x27;classifier&#x27;,\n",
       "                 RandomForestClassifier(class_weight=&#x27;balanced&#x27;,\n",
       "                                        random_state=26))])</pre><b>In a Jupyter environment, please rerun this cell to show the HTML representation or trust the notebook. <br />On GitHub, the HTML representation is unable to render, please try loading this page with nbviewer.org.</b></div><div class=\"sk-container\" hidden><div class=\"sk-item sk-dashed-wrapped\"><div class=\"sk-label-container\"><div class=\"sk-label sk-toggleable\"><input class=\"sk-toggleable__control sk-hidden--visually\" id=\"sk-estimator-id-1\" type=\"checkbox\" ><label for=\"sk-estimator-id-1\" class=\"sk-toggleable__label sk-toggleable__label-arrow\">Pipeline</label><div class=\"sk-toggleable__content\"><pre>Pipeline(steps=[(&#x27;preprocessor&#x27;,\n",
       "                 ColumnTransformer(transformers=[(&#x27;onehot&#x27;, OneHotEncoder(),\n",
       "                                                  [&#x27;type&#x27;]),\n",
       "                                                 (&#x27;num&#x27;, RobustScaler(),\n",
       "                                                  [&#x27;step&#x27;, &#x27;amount&#x27;,\n",
       "                                                   &#x27;oldbalanceOrg&#x27;,\n",
       "                                                   &#x27;newbalanceOrig&#x27;,\n",
       "                                                   &#x27;oldbalanceDest&#x27;])])),\n",
       "                (&#x27;classifier&#x27;,\n",
       "                 RandomForestClassifier(class_weight=&#x27;balanced&#x27;,\n",
       "                                        random_state=26))])</pre></div></div></div><div class=\"sk-serial\"><div class=\"sk-item sk-dashed-wrapped\"><div class=\"sk-label-container\"><div class=\"sk-label sk-toggleable\"><input class=\"sk-toggleable__control sk-hidden--visually\" id=\"sk-estimator-id-2\" type=\"checkbox\" ><label for=\"sk-estimator-id-2\" class=\"sk-toggleable__label sk-toggleable__label-arrow\">preprocessor: ColumnTransformer</label><div class=\"sk-toggleable__content\"><pre>ColumnTransformer(transformers=[(&#x27;onehot&#x27;, OneHotEncoder(), [&#x27;type&#x27;]),\n",
       "                                (&#x27;num&#x27;, RobustScaler(),\n",
       "                                 [&#x27;step&#x27;, &#x27;amount&#x27;, &#x27;oldbalanceOrg&#x27;,\n",
       "                                  &#x27;newbalanceOrig&#x27;, &#x27;oldbalanceDest&#x27;])])</pre></div></div></div><div class=\"sk-parallel\"><div class=\"sk-parallel-item\"><div class=\"sk-item\"><div class=\"sk-label-container\"><div class=\"sk-label sk-toggleable\"><input class=\"sk-toggleable__control sk-hidden--visually\" id=\"sk-estimator-id-3\" type=\"checkbox\" ><label for=\"sk-estimator-id-3\" class=\"sk-toggleable__label sk-toggleable__label-arrow\">onehot</label><div class=\"sk-toggleable__content\"><pre>[&#x27;type&#x27;]</pre></div></div></div><div class=\"sk-serial\"><div class=\"sk-item\"><div class=\"sk-estimator sk-toggleable\"><input class=\"sk-toggleable__control sk-hidden--visually\" id=\"sk-estimator-id-4\" type=\"checkbox\" ><label for=\"sk-estimator-id-4\" class=\"sk-toggleable__label sk-toggleable__label-arrow\">OneHotEncoder</label><div class=\"sk-toggleable__content\"><pre>OneHotEncoder()</pre></div></div></div></div></div></div><div class=\"sk-parallel-item\"><div class=\"sk-item\"><div class=\"sk-label-container\"><div class=\"sk-label sk-toggleable\"><input class=\"sk-toggleable__control sk-hidden--visually\" id=\"sk-estimator-id-5\" type=\"checkbox\" ><label for=\"sk-estimator-id-5\" class=\"sk-toggleable__label sk-toggleable__label-arrow\">num</label><div class=\"sk-toggleable__content\"><pre>[&#x27;step&#x27;, &#x27;amount&#x27;, &#x27;oldbalanceOrg&#x27;, &#x27;newbalanceOrig&#x27;, &#x27;oldbalanceDest&#x27;]</pre></div></div></div><div class=\"sk-serial\"><div class=\"sk-item\"><div class=\"sk-estimator sk-toggleable\"><input class=\"sk-toggleable__control sk-hidden--visually\" id=\"sk-estimator-id-6\" type=\"checkbox\" ><label for=\"sk-estimator-id-6\" class=\"sk-toggleable__label sk-toggleable__label-arrow\">RobustScaler</label><div class=\"sk-toggleable__content\"><pre>RobustScaler()</pre></div></div></div></div></div></div></div></div><div class=\"sk-item\"><div class=\"sk-estimator sk-toggleable\"><input class=\"sk-toggleable__control sk-hidden--visually\" id=\"sk-estimator-id-7\" type=\"checkbox\" ><label for=\"sk-estimator-id-7\" class=\"sk-toggleable__label sk-toggleable__label-arrow\">RandomForestClassifier</label><div class=\"sk-toggleable__content\"><pre>RandomForestClassifier(class_weight=&#x27;balanced&#x27;, random_state=26)</pre></div></div></div></div></div></div></div>"
      ],
      "text/plain": [
       "Pipeline(steps=[('preprocessor',\n",
       "                 ColumnTransformer(transformers=[('onehot', OneHotEncoder(),\n",
       "                                                  ['type']),\n",
       "                                                 ('num', RobustScaler(),\n",
       "                                                  ['step', 'amount',\n",
       "                                                   'oldbalanceOrg',\n",
       "                                                   'newbalanceOrig',\n",
       "                                                   'oldbalanceDest'])])),\n",
       "                ('classifier',\n",
       "                 RandomForestClassifier(class_weight='balanced',\n",
       "                                        random_state=26))])"
      ]
     },
     "execution_count": 23,
     "metadata": {},
     "output_type": "execute_result"
    }
   ],
   "source": [
    "# fit the pipeline\n",
    "pipeline_RandFor.fit(X_train, y_train)"
   ]
  },
  {
   "cell_type": "code",
   "execution_count": 24,
   "metadata": {},
   "outputs": [
    {
     "name": "stdout",
     "output_type": "stream",
     "text": [
      "Precision Score - All - Cross Validation  :  [0.99206094 0.99091187 0.99239135 0.98864381 0.98944234]\n",
      "Precision Score - Mean - Cross Validation :  0.990690059876545\n",
      "Precision Score - Std - Cross Validation  :  0.0014537418707562218\n",
      "Precision Score - Range of Test-Set       :  0.9892363180057888 - 0.9921438017473012\n"
     ]
    }
   ],
   "source": [
    "# Define a custom scorer for macro precision (for multiclass problems)\n",
    "custom_precision_scorer = make_scorer(precision_score, average='macro')\n",
    "\n",
    "cv_scores = cross_val_score(\n",
    "    estimator=pipeline_RandFor,  # Your Random Forest pipeline\n",
    "    X=X_train,                   # Training features\n",
    "    y=y_train,            # Encoded training target\n",
    "    cv=5,                         # Number of folds\n",
    "    scoring=custom_precision_scorer  # Macro precision metric\n",
    ")\n",
    "\n",
    "# Print cross-validation results\n",
    "print('Precision Score - All - Cross Validation  : ', cv_scores)\n",
    "print('Precision Score - Mean - Cross Validation : ', cv_scores.mean())\n",
    "print('Precision Score - Std - Cross Validation  : ', cv_scores.std())\n",
    "print('Precision Score - Range of Test-Set       : ',\n",
    "      (cv_scores.mean() - cv_scores.std()), '-', (cv_scores.mean() + cv_scores.std()))\n"
   ]
  },
  {
   "cell_type": "markdown",
   "metadata": {},
   "source": [
    "## Model XGBoost"
   ]
  },
  {
   "cell_type": "code",
   "execution_count": 4,
   "metadata": {},
   "outputs": [],
   "source": [
    "xgb_model = XGBClassifier(\n",
    "    n_estimators=100,         # Number of trees, same as RF\n",
    "    scale_pos_weight=10,      # Adjust based on class imbalance ratio (to be tuned)\n",
    "    random_state=26,\n",
    "    use_label_encoder=False,  # Avoids unnecessary warnings\n",
    "    eval_metric=\"logloss\"     # Standard evaluation metric for classification\n",
    ")\n"
   ]
  },
  {
   "cell_type": "code",
   "execution_count": 25,
   "metadata": {},
   "outputs": [],
   "source": [
    "# creating pipeline with preprocessing and Random Forest classifier\n",
    "pipeline_XG = Pipeline(steps=[\n",
    "    ('preprocessor', preprocessing),\n",
    "    ('classifier', xgb_model)\n",
    "])"
   ]
  },
  {
   "cell_type": "code",
   "execution_count": 26,
   "metadata": {},
   "outputs": [
    {
     "name": "stderr",
     "output_type": "stream",
     "text": [
      "c:\\Users\\Affan\\miniconda3\\lib\\site-packages\\xgboost\\core.py:158: UserWarning: [12:51:58] WARNING: C:\\buildkite-agent\\builds\\buildkite-windows-cpu-autoscaling-group-i-0c55ff5f71b100e98-1\\xgboost\\xgboost-ci-windows\\src\\learner.cc:740: \n",
      "Parameters: { \"use_label_encoder\" } are not used.\n",
      "\n",
      "  warnings.warn(smsg, UserWarning)\n",
      "c:\\Users\\Affan\\miniconda3\\lib\\site-packages\\xgboost\\core.py:158: UserWarning: [12:51:58] WARNING: C:\\buildkite-agent\\builds\\buildkite-windows-cpu-autoscaling-group-i-0c55ff5f71b100e98-1\\xgboost\\xgboost-ci-windows\\src\\learner.cc:740: \n",
      "Parameters: { \"use_label_encoder\" } are not used.\n",
      "\n",
      "  warnings.warn(smsg, UserWarning)\n",
      "c:\\Users\\Affan\\miniconda3\\lib\\site-packages\\xgboost\\core.py:158: UserWarning: [12:51:59] WARNING: C:\\buildkite-agent\\builds\\buildkite-windows-cpu-autoscaling-group-i-0c55ff5f71b100e98-1\\xgboost\\xgboost-ci-windows\\src\\learner.cc:740: \n",
      "Parameters: { \"use_label_encoder\" } are not used.\n",
      "\n",
      "  warnings.warn(smsg, UserWarning)\n",
      "c:\\Users\\Affan\\miniconda3\\lib\\site-packages\\xgboost\\core.py:158: UserWarning: [12:51:59] WARNING: C:\\buildkite-agent\\builds\\buildkite-windows-cpu-autoscaling-group-i-0c55ff5f71b100e98-1\\xgboost\\xgboost-ci-windows\\src\\learner.cc:740: \n",
      "Parameters: { \"use_label_encoder\" } are not used.\n",
      "\n",
      "  warnings.warn(smsg, UserWarning)\n"
     ]
    },
    {
     "name": "stdout",
     "output_type": "stream",
     "text": [
      "Precision Score - All - Cross Validation  :  [0.99397175 0.99055516 0.99201765 0.99131631 0.99170599]\n",
      "Precision Score - Mean - Cross Validation :  0.9919133738765067\n",
      "Precision Score - Std - Cross Validation  :  0.0011394739529610675\n",
      "Precision Score - Range of Test-Set       :  0.9907738999235456 - 0.9930528478294678\n"
     ]
    },
    {
     "name": "stderr",
     "output_type": "stream",
     "text": [
      "c:\\Users\\Affan\\miniconda3\\lib\\site-packages\\xgboost\\core.py:158: UserWarning: [12:51:59] WARNING: C:\\buildkite-agent\\builds\\buildkite-windows-cpu-autoscaling-group-i-0c55ff5f71b100e98-1\\xgboost\\xgboost-ci-windows\\src\\learner.cc:740: \n",
      "Parameters: { \"use_label_encoder\" } are not used.\n",
      "\n",
      "  warnings.warn(smsg, UserWarning)\n"
     ]
    }
   ],
   "source": [
    "# Define a custom scorer for macro precision (for multiclass problems)\n",
    "custom_precision_scorer = make_scorer(precision_score, average='macro')\n",
    "\n",
    "cv_scores = cross_val_score(\n",
    "    estimator=pipeline_XG,  # Your Random Forest pipeline\n",
    "    X=X_train,                   # Training features\n",
    "    y=y_train,            # Encoded training target\n",
    "    cv=5,                         # Number of folds\n",
    "    scoring=custom_precision_scorer  # Macro precision metric\n",
    ")\n",
    "\n",
    "# Print cross-validation results\n",
    "print('Precision Score - All - Cross Validation  : ', cv_scores)\n",
    "print('Precision Score - Mean - Cross Validation : ', cv_scores.mean())\n",
    "print('Precision Score - Std - Cross Validation  : ', cv_scores.std())\n",
    "print('Precision Score - Range of Test-Set       : ',\n",
    "      (cv_scores.mean() - cv_scores.std()), '-', (cv_scores.mean() + cv_scores.std()))"
   ]
  },
  {
   "cell_type": "markdown",
   "metadata": {},
   "source": [
    "## Hyperparameter Tuning"
   ]
  },
  {
   "cell_type": "code",
   "execution_count": 28,
   "metadata": {},
   "outputs": [
    {
     "name": "stdout",
     "output_type": "stream",
     "text": [
      "Fitting 5 folds for each of 972 candidates, totalling 4860 fits\n"
     ]
    },
    {
     "name": "stderr",
     "output_type": "stream",
     "text": [
      "c:\\Users\\Affan\\miniconda3\\lib\\site-packages\\xgboost\\core.py:158: UserWarning: [13:01:35] WARNING: C:\\buildkite-agent\\builds\\buildkite-windows-cpu-autoscaling-group-i-0c55ff5f71b100e98-1\\xgboost\\xgboost-ci-windows\\src\\learner.cc:740: \n",
      "Parameters: { \"use_label_encoder\" } are not used.\n",
      "\n",
      "  warnings.warn(smsg, UserWarning)\n"
     ]
    },
    {
     "data": {
      "text/html": [
       "<style>#sk-container-id-3 {color: black;}#sk-container-id-3 pre{padding: 0;}#sk-container-id-3 div.sk-toggleable {background-color: white;}#sk-container-id-3 label.sk-toggleable__label {cursor: pointer;display: block;width: 100%;margin-bottom: 0;padding: 0.3em;box-sizing: border-box;text-align: center;}#sk-container-id-3 label.sk-toggleable__label-arrow:before {content: \"▸\";float: left;margin-right: 0.25em;color: #696969;}#sk-container-id-3 label.sk-toggleable__label-arrow:hover:before {color: black;}#sk-container-id-3 div.sk-estimator:hover label.sk-toggleable__label-arrow:before {color: black;}#sk-container-id-3 div.sk-toggleable__content {max-height: 0;max-width: 0;overflow: hidden;text-align: left;background-color: #f0f8ff;}#sk-container-id-3 div.sk-toggleable__content pre {margin: 0.2em;color: black;border-radius: 0.25em;background-color: #f0f8ff;}#sk-container-id-3 input.sk-toggleable__control:checked~div.sk-toggleable__content {max-height: 200px;max-width: 100%;overflow: auto;}#sk-container-id-3 input.sk-toggleable__control:checked~label.sk-toggleable__label-arrow:before {content: \"▾\";}#sk-container-id-3 div.sk-estimator input.sk-toggleable__control:checked~label.sk-toggleable__label {background-color: #d4ebff;}#sk-container-id-3 div.sk-label input.sk-toggleable__control:checked~label.sk-toggleable__label {background-color: #d4ebff;}#sk-container-id-3 input.sk-hidden--visually {border: 0;clip: rect(1px 1px 1px 1px);clip: rect(1px, 1px, 1px, 1px);height: 1px;margin: -1px;overflow: hidden;padding: 0;position: absolute;width: 1px;}#sk-container-id-3 div.sk-estimator {font-family: monospace;background-color: #f0f8ff;border: 1px dotted black;border-radius: 0.25em;box-sizing: border-box;margin-bottom: 0.5em;}#sk-container-id-3 div.sk-estimator:hover {background-color: #d4ebff;}#sk-container-id-3 div.sk-parallel-item::after {content: \"\";width: 100%;border-bottom: 1px solid gray;flex-grow: 1;}#sk-container-id-3 div.sk-label:hover label.sk-toggleable__label {background-color: #d4ebff;}#sk-container-id-3 div.sk-serial::before {content: \"\";position: absolute;border-left: 1px solid gray;box-sizing: border-box;top: 0;bottom: 0;left: 50%;z-index: 0;}#sk-container-id-3 div.sk-serial {display: flex;flex-direction: column;align-items: center;background-color: white;padding-right: 0.2em;padding-left: 0.2em;position: relative;}#sk-container-id-3 div.sk-item {position: relative;z-index: 1;}#sk-container-id-3 div.sk-parallel {display: flex;align-items: stretch;justify-content: center;background-color: white;position: relative;}#sk-container-id-3 div.sk-item::before, #sk-container-id-3 div.sk-parallel-item::before {content: \"\";position: absolute;border-left: 1px solid gray;box-sizing: border-box;top: 0;bottom: 0;left: 50%;z-index: -1;}#sk-container-id-3 div.sk-parallel-item {display: flex;flex-direction: column;z-index: 1;position: relative;background-color: white;}#sk-container-id-3 div.sk-parallel-item:first-child::after {align-self: flex-end;width: 50%;}#sk-container-id-3 div.sk-parallel-item:last-child::after {align-self: flex-start;width: 50%;}#sk-container-id-3 div.sk-parallel-item:only-child::after {width: 0;}#sk-container-id-3 div.sk-dashed-wrapped {border: 1px dashed gray;margin: 0 0.4em 0.5em 0.4em;box-sizing: border-box;padding-bottom: 0.4em;background-color: white;}#sk-container-id-3 div.sk-label label {font-family: monospace;font-weight: bold;display: inline-block;line-height: 1.2em;}#sk-container-id-3 div.sk-label-container {text-align: center;}#sk-container-id-3 div.sk-container {/* jupyter's `normalize.less` sets `[hidden] { display: none; }` but bootstrap.min.css set `[hidden] { display: none !important; }` so we also need the `!important` here to be able to override the default hidden behavior on the sphinx rendered scikit-learn.org. See: https://github.com/scikit-learn/scikit-learn/issues/21755 */display: inline-block !important;position: relative;}#sk-container-id-3 div.sk-text-repr-fallback {display: none;}</style><div id=\"sk-container-id-3\" class=\"sk-top-container\"><div class=\"sk-text-repr-fallback\"><pre>GridSearchCV(cv=5,\n",
       "             estimator=Pipeline(steps=[(&#x27;preprocessor&#x27;,\n",
       "                                        ColumnTransformer(transformers=[(&#x27;onehot&#x27;,\n",
       "                                                                         OneHotEncoder(),\n",
       "                                                                         [&#x27;type&#x27;]),\n",
       "                                                                        (&#x27;num&#x27;,\n",
       "                                                                         RobustScaler(),\n",
       "                                                                         [&#x27;step&#x27;,\n",
       "                                                                          &#x27;amount&#x27;,\n",
       "                                                                          &#x27;oldbalanceOrg&#x27;,\n",
       "                                                                          &#x27;newbalanceOrig&#x27;,\n",
       "                                                                          &#x27;oldbalanceDest&#x27;])])),\n",
       "                                       (&#x27;classifier&#x27;,\n",
       "                                        XGBClassifier(base_score=None,\n",
       "                                                      booster=None,\n",
       "                                                      callbacks=None,\n",
       "                                                      colsample_bylevel=None,\n",
       "                                                      colsample_bynode=None,\n",
       "                                                      colsample_b...\n",
       "                                                      random_state=26, ...))]),\n",
       "             n_jobs=-1,\n",
       "             param_grid={&#x27;classifier__colsample_bytree&#x27;: [0.8, 1.0],\n",
       "                         &#x27;classifier__gamma&#x27;: [0, 0.1, 0.3],\n",
       "                         &#x27;classifier__learning_rate&#x27;: [0.01, 0.1, 0.2],\n",
       "                         &#x27;classifier__max_depth&#x27;: [3, 6, 9],\n",
       "                         &#x27;classifier__min_child_weight&#x27;: [1, 3, 5],\n",
       "                         &#x27;classifier__n_estimators&#x27;: [100, 300, 500],\n",
       "                         &#x27;classifier__subsample&#x27;: [0.8, 1.0]},\n",
       "             scoring=make_scorer(precision_score, average=macro), verbose=2)</pre><b>In a Jupyter environment, please rerun this cell to show the HTML representation or trust the notebook. <br />On GitHub, the HTML representation is unable to render, please try loading this page with nbviewer.org.</b></div><div class=\"sk-container\" hidden><div class=\"sk-item sk-dashed-wrapped\"><div class=\"sk-label-container\"><div class=\"sk-label sk-toggleable\"><input class=\"sk-toggleable__control sk-hidden--visually\" id=\"sk-estimator-id-16\" type=\"checkbox\" ><label for=\"sk-estimator-id-16\" class=\"sk-toggleable__label sk-toggleable__label-arrow\">GridSearchCV</label><div class=\"sk-toggleable__content\"><pre>GridSearchCV(cv=5,\n",
       "             estimator=Pipeline(steps=[(&#x27;preprocessor&#x27;,\n",
       "                                        ColumnTransformer(transformers=[(&#x27;onehot&#x27;,\n",
       "                                                                         OneHotEncoder(),\n",
       "                                                                         [&#x27;type&#x27;]),\n",
       "                                                                        (&#x27;num&#x27;,\n",
       "                                                                         RobustScaler(),\n",
       "                                                                         [&#x27;step&#x27;,\n",
       "                                                                          &#x27;amount&#x27;,\n",
       "                                                                          &#x27;oldbalanceOrg&#x27;,\n",
       "                                                                          &#x27;newbalanceOrig&#x27;,\n",
       "                                                                          &#x27;oldbalanceDest&#x27;])])),\n",
       "                                       (&#x27;classifier&#x27;,\n",
       "                                        XGBClassifier(base_score=None,\n",
       "                                                      booster=None,\n",
       "                                                      callbacks=None,\n",
       "                                                      colsample_bylevel=None,\n",
       "                                                      colsample_bynode=None,\n",
       "                                                      colsample_b...\n",
       "                                                      random_state=26, ...))]),\n",
       "             n_jobs=-1,\n",
       "             param_grid={&#x27;classifier__colsample_bytree&#x27;: [0.8, 1.0],\n",
       "                         &#x27;classifier__gamma&#x27;: [0, 0.1, 0.3],\n",
       "                         &#x27;classifier__learning_rate&#x27;: [0.01, 0.1, 0.2],\n",
       "                         &#x27;classifier__max_depth&#x27;: [3, 6, 9],\n",
       "                         &#x27;classifier__min_child_weight&#x27;: [1, 3, 5],\n",
       "                         &#x27;classifier__n_estimators&#x27;: [100, 300, 500],\n",
       "                         &#x27;classifier__subsample&#x27;: [0.8, 1.0]},\n",
       "             scoring=make_scorer(precision_score, average=macro), verbose=2)</pre></div></div></div><div class=\"sk-parallel\"><div class=\"sk-parallel-item\"><div class=\"sk-item\"><div class=\"sk-label-container\"><div class=\"sk-label sk-toggleable\"><input class=\"sk-toggleable__control sk-hidden--visually\" id=\"sk-estimator-id-17\" type=\"checkbox\" ><label for=\"sk-estimator-id-17\" class=\"sk-toggleable__label sk-toggleable__label-arrow\">estimator: Pipeline</label><div class=\"sk-toggleable__content\"><pre>Pipeline(steps=[(&#x27;preprocessor&#x27;,\n",
       "                 ColumnTransformer(transformers=[(&#x27;onehot&#x27;, OneHotEncoder(),\n",
       "                                                  [&#x27;type&#x27;]),\n",
       "                                                 (&#x27;num&#x27;, RobustScaler(),\n",
       "                                                  [&#x27;step&#x27;, &#x27;amount&#x27;,\n",
       "                                                   &#x27;oldbalanceOrg&#x27;,\n",
       "                                                   &#x27;newbalanceOrig&#x27;,\n",
       "                                                   &#x27;oldbalanceDest&#x27;])])),\n",
       "                (&#x27;classifier&#x27;,\n",
       "                 XGBClassifier(base_score=None, booster=None, callbacks=None,\n",
       "                               colsample_bylevel=None, colsample_bynode=None,\n",
       "                               colsample_bytree=None, device=None,\n",
       "                               early...\n",
       "                               feature_types=None, gamma=None, grow_policy=None,\n",
       "                               importance_type=None,\n",
       "                               interaction_constraints=None, learning_rate=None,\n",
       "                               max_bin=None, max_cat_threshold=None,\n",
       "                               max_cat_to_onehot=None, max_delta_step=None,\n",
       "                               max_depth=None, max_leaves=None,\n",
       "                               min_child_weight=None, missing=nan,\n",
       "                               monotone_constraints=None, multi_strategy=None,\n",
       "                               n_estimators=100, n_jobs=None,\n",
       "                               num_parallel_tree=None, random_state=26, ...))])</pre></div></div></div><div class=\"sk-serial\"><div class=\"sk-item\"><div class=\"sk-serial\"><div class=\"sk-item sk-dashed-wrapped\"><div class=\"sk-label-container\"><div class=\"sk-label sk-toggleable\"><input class=\"sk-toggleable__control sk-hidden--visually\" id=\"sk-estimator-id-18\" type=\"checkbox\" ><label for=\"sk-estimator-id-18\" class=\"sk-toggleable__label sk-toggleable__label-arrow\">preprocessor: ColumnTransformer</label><div class=\"sk-toggleable__content\"><pre>ColumnTransformer(transformers=[(&#x27;onehot&#x27;, OneHotEncoder(), [&#x27;type&#x27;]),\n",
       "                                (&#x27;num&#x27;, RobustScaler(),\n",
       "                                 [&#x27;step&#x27;, &#x27;amount&#x27;, &#x27;oldbalanceOrg&#x27;,\n",
       "                                  &#x27;newbalanceOrig&#x27;, &#x27;oldbalanceDest&#x27;])])</pre></div></div></div><div class=\"sk-parallel\"><div class=\"sk-parallel-item\"><div class=\"sk-item\"><div class=\"sk-label-container\"><div class=\"sk-label sk-toggleable\"><input class=\"sk-toggleable__control sk-hidden--visually\" id=\"sk-estimator-id-19\" type=\"checkbox\" ><label for=\"sk-estimator-id-19\" class=\"sk-toggleable__label sk-toggleable__label-arrow\">onehot</label><div class=\"sk-toggleable__content\"><pre>[&#x27;type&#x27;]</pre></div></div></div><div class=\"sk-serial\"><div class=\"sk-item\"><div class=\"sk-estimator sk-toggleable\"><input class=\"sk-toggleable__control sk-hidden--visually\" id=\"sk-estimator-id-20\" type=\"checkbox\" ><label for=\"sk-estimator-id-20\" class=\"sk-toggleable__label sk-toggleable__label-arrow\">OneHotEncoder</label><div class=\"sk-toggleable__content\"><pre>OneHotEncoder()</pre></div></div></div></div></div></div><div class=\"sk-parallel-item\"><div class=\"sk-item\"><div class=\"sk-label-container\"><div class=\"sk-label sk-toggleable\"><input class=\"sk-toggleable__control sk-hidden--visually\" id=\"sk-estimator-id-21\" type=\"checkbox\" ><label for=\"sk-estimator-id-21\" class=\"sk-toggleable__label sk-toggleable__label-arrow\">num</label><div class=\"sk-toggleable__content\"><pre>[&#x27;step&#x27;, &#x27;amount&#x27;, &#x27;oldbalanceOrg&#x27;, &#x27;newbalanceOrig&#x27;, &#x27;oldbalanceDest&#x27;]</pre></div></div></div><div class=\"sk-serial\"><div class=\"sk-item\"><div class=\"sk-estimator sk-toggleable\"><input class=\"sk-toggleable__control sk-hidden--visually\" id=\"sk-estimator-id-22\" type=\"checkbox\" ><label for=\"sk-estimator-id-22\" class=\"sk-toggleable__label sk-toggleable__label-arrow\">RobustScaler</label><div class=\"sk-toggleable__content\"><pre>RobustScaler()</pre></div></div></div></div></div></div></div></div><div class=\"sk-item\"><div class=\"sk-estimator sk-toggleable\"><input class=\"sk-toggleable__control sk-hidden--visually\" id=\"sk-estimator-id-23\" type=\"checkbox\" ><label for=\"sk-estimator-id-23\" class=\"sk-toggleable__label sk-toggleable__label-arrow\">XGBClassifier</label><div class=\"sk-toggleable__content\"><pre>XGBClassifier(base_score=None, booster=None, callbacks=None,\n",
       "              colsample_bylevel=None, colsample_bynode=None,\n",
       "              colsample_bytree=None, device=None, early_stopping_rounds=None,\n",
       "              enable_categorical=False, eval_metric=&#x27;logloss&#x27;,\n",
       "              feature_types=None, gamma=None, grow_policy=None,\n",
       "              importance_type=None, interaction_constraints=None,\n",
       "              learning_rate=None, max_bin=None, max_cat_threshold=None,\n",
       "              max_cat_to_onehot=None, max_delta_step=None, max_depth=None,\n",
       "              max_leaves=None, min_child_weight=None, missing=nan,\n",
       "              monotone_constraints=None, multi_strategy=None, n_estimators=100,\n",
       "              n_jobs=None, num_parallel_tree=None, random_state=26, ...)</pre></div></div></div></div></div></div></div></div></div></div></div></div>"
      ],
      "text/plain": [
       "GridSearchCV(cv=5,\n",
       "             estimator=Pipeline(steps=[('preprocessor',\n",
       "                                        ColumnTransformer(transformers=[('onehot',\n",
       "                                                                         OneHotEncoder(),\n",
       "                                                                         ['type']),\n",
       "                                                                        ('num',\n",
       "                                                                         RobustScaler(),\n",
       "                                                                         ['step',\n",
       "                                                                          'amount',\n",
       "                                                                          'oldbalanceOrg',\n",
       "                                                                          'newbalanceOrig',\n",
       "                                                                          'oldbalanceDest'])])),\n",
       "                                       ('classifier',\n",
       "                                        XGBClassifier(base_score=None,\n",
       "                                                      booster=None,\n",
       "                                                      callbacks=None,\n",
       "                                                      colsample_bylevel=None,\n",
       "                                                      colsample_bynode=None,\n",
       "                                                      colsample_b...\n",
       "                                                      random_state=26, ...))]),\n",
       "             n_jobs=-1,\n",
       "             param_grid={'classifier__colsample_bytree': [0.8, 1.0],\n",
       "                         'classifier__gamma': [0, 0.1, 0.3],\n",
       "                         'classifier__learning_rate': [0.01, 0.1, 0.2],\n",
       "                         'classifier__max_depth': [3, 6, 9],\n",
       "                         'classifier__min_child_weight': [1, 3, 5],\n",
       "                         'classifier__n_estimators': [100, 300, 500],\n",
       "                         'classifier__subsample': [0.8, 1.0]},\n",
       "             scoring=make_scorer(precision_score, average=macro), verbose=2)"
      ]
     },
     "execution_count": 28,
     "metadata": {},
     "output_type": "execute_result"
    }
   ],
   "source": [
    "# Define the hyperparameter grid for XGBoost\n",
    "parameters = {\n",
    "    'classifier__max_depth': [3, 6, 9],  # Depth of each tree\n",
    "    'classifier__learning_rate': [0.01, 0.1, 0.2],  # Learning rate\n",
    "    'classifier__n_estimators': [100, 300, 500],  # Number of trees\n",
    "    'classifier__min_child_weight': [1, 3, 5],  # Minimum sum of instance weight (hessian)\n",
    "    'classifier__gamma': [0, 0.1, 0.3],  # Minimum loss reduction\n",
    "    'classifier__subsample': [0.8, 1.0],  # Fraction of samples used per tree\n",
    "    'classifier__colsample_bytree': [0.8, 1.0]  # Fraction of features used per tree\n",
    "}\n",
    "\n",
    "# Using GridSearchCV\n",
    "grid_search = GridSearchCV(\n",
    "    estimator=pipeline_XG,  # Assuming you have an XGBoost pipeline\n",
    "    param_grid=parameters,\n",
    "    cv=5,  # 5-fold cross-validation is typically sufficient\n",
    "    n_jobs=-1,  # Use all available cores\n",
    "    scoring=custom_precision_scorer,  # Ensure this scorer is defined properly\n",
    "    verbose=2\n",
    ")\n",
    "\n",
    "# Fit the GridSearchCV\n",
    "grid_search.fit(X_train, y_train)"
   ]
  },
  {
   "cell_type": "code",
   "execution_count": 29,
   "metadata": {},
   "outputs": [
    {
     "name": "stdout",
     "output_type": "stream",
     "text": [
      "Best Parameters: {'classifier__colsample_bytree': 0.8, 'classifier__gamma': 0, 'classifier__learning_rate': 0.1, 'classifier__max_depth': 9, 'classifier__min_child_weight': 1, 'classifier__n_estimators': 300, 'classifier__subsample': 1.0}\n",
      "Best Recall: 0.9922147366102909\n"
     ]
    }
   ],
   "source": [
    "# check the parameter and check the recall score\n",
    "print(\"Best Parameters:\", grid_search.best_params_)\n",
    "print(\"Best Recall:\", grid_search.best_score_)"
   ]
  },
  {
   "cell_type": "code",
   "execution_count": 30,
   "metadata": {},
   "outputs": [
    {
     "name": "stdout",
     "output_type": "stream",
     "text": [
      "              precision    recall  f1-score   support\n",
      "\n",
      "           0       1.00      0.99      0.99      1648\n",
      "           1       0.99      1.00      0.99      1638\n",
      "\n",
      "    accuracy                           0.99      3286\n",
      "   macro avg       0.99      0.99      0.99      3286\n",
      "weighted avg       0.99      0.99      0.99      3286\n",
      "\n"
     ]
    }
   ],
   "source": [
    "# Get the best model\n",
    "best_model = grid_search.best_estimator_\n",
    "\n",
    "# Predict on the test set\n",
    "y_pred = best_model.predict(X_test)\n",
    "\n",
    "# Evaluate performance\n",
    "print(classification_report(y_test, y_pred, target_names=['0','1']))"
   ]
  },
  {
   "cell_type": "code",
   "execution_count": 31,
   "metadata": {},
   "outputs": [],
   "source": [
    "# Export the model using pickle\n",
    "with open('model_xgb.pkl','wb') as file:\n",
    "    pickle.dump(best_model, file)"
   ]
  },
  {
   "cell_type": "code",
   "execution_count": 32,
   "metadata": {},
   "outputs": [],
   "source": [
    "num_samples = 10  # Define how many new data points you want\n",
    "sampled_data = df.sample(n=num_samples, random_state=42)  # Ensuring reproducibility\n",
    "\n",
    "# Create the new_data dictionary with randomly sampled values\n",
    "new_data = {\n",
    "    'step': sampled_data['step'].tolist(),\n",
    "    'type': sampled_data['type'].tolist(),\n",
    "    'amount': sampled_data['amount'].tolist(),\n",
    "    'nameOrig': sampled_data['nameOrig'].tolist(),\n",
    "    'oldbalanceOrg': sampled_data['oldbalanceOrg'].tolist(),\n",
    "    'newbalanceOrig': sampled_data['newbalanceOrig'].tolist(),\n",
    "    'nameDest': sampled_data['nameDest'].tolist(),\n",
    "    'oldbalanceDest': sampled_data['oldbalanceDest'].tolist(),\n",
    "    'newbalanceDest': sampled_data['newbalanceDest'].tolist(),\n",
    "}\n"
   ]
  },
  {
   "cell_type": "code",
   "execution_count": 33,
   "metadata": {},
   "outputs": [
    {
     "data": {
      "text/html": [
       "<div>\n",
       "<style scoped>\n",
       "    .dataframe tbody tr th:only-of-type {\n",
       "        vertical-align: middle;\n",
       "    }\n",
       "\n",
       "    .dataframe tbody tr th {\n",
       "        vertical-align: top;\n",
       "    }\n",
       "\n",
       "    .dataframe thead th {\n",
       "        text-align: right;\n",
       "    }\n",
       "</style>\n",
       "<table border=\"1\" class=\"dataframe\">\n",
       "  <thead>\n",
       "    <tr style=\"text-align: right;\">\n",
       "      <th></th>\n",
       "      <th>step</th>\n",
       "      <th>type</th>\n",
       "      <th>amount</th>\n",
       "      <th>nameOrig</th>\n",
       "      <th>oldbalanceOrg</th>\n",
       "      <th>newbalanceOrig</th>\n",
       "      <th>nameDest</th>\n",
       "      <th>oldbalanceDest</th>\n",
       "      <th>newbalanceDest</th>\n",
       "    </tr>\n",
       "  </thead>\n",
       "  <tbody>\n",
       "    <tr>\n",
       "      <th>0</th>\n",
       "      <td>496</td>\n",
       "      <td>TRANSFER</td>\n",
       "      <td>766151.45</td>\n",
       "      <td>C2014325113</td>\n",
       "      <td>766151.45</td>\n",
       "      <td>0.00</td>\n",
       "      <td>C432435900</td>\n",
       "      <td>0.00</td>\n",
       "      <td>0.00</td>\n",
       "    </tr>\n",
       "    <tr>\n",
       "      <th>1</th>\n",
       "      <td>365</td>\n",
       "      <td>TRANSFER</td>\n",
       "      <td>31315.51</td>\n",
       "      <td>C1174332140</td>\n",
       "      <td>31315.51</td>\n",
       "      <td>0.00</td>\n",
       "      <td>C1252332991</td>\n",
       "      <td>0.00</td>\n",
       "      <td>0.00</td>\n",
       "    </tr>\n",
       "    <tr>\n",
       "      <th>2</th>\n",
       "      <td>133</td>\n",
       "      <td>TRANSFER</td>\n",
       "      <td>31278.61</td>\n",
       "      <td>C1860933755</td>\n",
       "      <td>0.00</td>\n",
       "      <td>0.00</td>\n",
       "      <td>C1036237514</td>\n",
       "      <td>2891651.16</td>\n",
       "      <td>2922929.77</td>\n",
       "    </tr>\n",
       "    <tr>\n",
       "      <th>3</th>\n",
       "      <td>396</td>\n",
       "      <td>CASH_OUT</td>\n",
       "      <td>247496.02</td>\n",
       "      <td>C729076925</td>\n",
       "      <td>277153.61</td>\n",
       "      <td>29657.58</td>\n",
       "      <td>C1944739729</td>\n",
       "      <td>1071480.81</td>\n",
       "      <td>1318976.84</td>\n",
       "    </tr>\n",
       "    <tr>\n",
       "      <th>4</th>\n",
       "      <td>400</td>\n",
       "      <td>CASH_IN</td>\n",
       "      <td>392013.87</td>\n",
       "      <td>C1355524373</td>\n",
       "      <td>3376358.53</td>\n",
       "      <td>3768372.41</td>\n",
       "      <td>C496853610</td>\n",
       "      <td>2522431.71</td>\n",
       "      <td>2130417.84</td>\n",
       "    </tr>\n",
       "    <tr>\n",
       "      <th>5</th>\n",
       "      <td>186</td>\n",
       "      <td>PAYMENT</td>\n",
       "      <td>4122.96</td>\n",
       "      <td>C1323353801</td>\n",
       "      <td>0.00</td>\n",
       "      <td>0.00</td>\n",
       "      <td>M1214051062</td>\n",
       "      <td>0.00</td>\n",
       "      <td>0.00</td>\n",
       "    </tr>\n",
       "    <tr>\n",
       "      <th>6</th>\n",
       "      <td>106</td>\n",
       "      <td>CASH_OUT</td>\n",
       "      <td>1409248.64</td>\n",
       "      <td>C1173095546</td>\n",
       "      <td>1409248.64</td>\n",
       "      <td>0.00</td>\n",
       "      <td>C1935607545</td>\n",
       "      <td>914125.46</td>\n",
       "      <td>2323374.10</td>\n",
       "    </tr>\n",
       "    <tr>\n",
       "      <th>7</th>\n",
       "      <td>131</td>\n",
       "      <td>CASH_OUT</td>\n",
       "      <td>373278.27</td>\n",
       "      <td>C1942184645</td>\n",
       "      <td>3059.00</td>\n",
       "      <td>0.00</td>\n",
       "      <td>C844038853</td>\n",
       "      <td>0.00</td>\n",
       "      <td>373278.27</td>\n",
       "    </tr>\n",
       "    <tr>\n",
       "      <th>8</th>\n",
       "      <td>468</td>\n",
       "      <td>CASH_OUT</td>\n",
       "      <td>155926.42</td>\n",
       "      <td>C19001916</td>\n",
       "      <td>155926.42</td>\n",
       "      <td>0.00</td>\n",
       "      <td>C654239643</td>\n",
       "      <td>369481.23</td>\n",
       "      <td>525407.65</td>\n",
       "    </tr>\n",
       "    <tr>\n",
       "      <th>9</th>\n",
       "      <td>721</td>\n",
       "      <td>TRANSFER</td>\n",
       "      <td>23639.56</td>\n",
       "      <td>C594313973</td>\n",
       "      <td>23639.56</td>\n",
       "      <td>0.00</td>\n",
       "      <td>C1343815682</td>\n",
       "      <td>0.00</td>\n",
       "      <td>0.00</td>\n",
       "    </tr>\n",
       "  </tbody>\n",
       "</table>\n",
       "</div>"
      ],
      "text/plain": [
       "   step      type      amount     nameOrig  oldbalanceOrg  newbalanceOrig  \\\n",
       "0   496  TRANSFER   766151.45  C2014325113      766151.45            0.00   \n",
       "1   365  TRANSFER    31315.51  C1174332140       31315.51            0.00   \n",
       "2   133  TRANSFER    31278.61  C1860933755           0.00            0.00   \n",
       "3   396  CASH_OUT   247496.02   C729076925      277153.61        29657.58   \n",
       "4   400   CASH_IN   392013.87  C1355524373     3376358.53      3768372.41   \n",
       "5   186   PAYMENT     4122.96  C1323353801           0.00            0.00   \n",
       "6   106  CASH_OUT  1409248.64  C1173095546     1409248.64            0.00   \n",
       "7   131  CASH_OUT   373278.27  C1942184645        3059.00            0.00   \n",
       "8   468  CASH_OUT   155926.42    C19001916      155926.42            0.00   \n",
       "9   721  TRANSFER    23639.56   C594313973       23639.56            0.00   \n",
       "\n",
       "      nameDest  oldbalanceDest  newbalanceDest  \n",
       "0   C432435900            0.00            0.00  \n",
       "1  C1252332991            0.00            0.00  \n",
       "2  C1036237514      2891651.16      2922929.77  \n",
       "3  C1944739729      1071480.81      1318976.84  \n",
       "4   C496853610      2522431.71      2130417.84  \n",
       "5  M1214051062            0.00            0.00  \n",
       "6  C1935607545       914125.46      2323374.10  \n",
       "7   C844038853            0.00       373278.27  \n",
       "8   C654239643       369481.23       525407.65  \n",
       "9  C1343815682            0.00            0.00  "
      ]
     },
     "execution_count": 33,
     "metadata": {},
     "output_type": "execute_result"
    }
   ],
   "source": [
    "new_data_df = pd.DataFrame(new_data)\n",
    "new_data_df"
   ]
  },
  {
   "cell_type": "code",
   "execution_count": 34,
   "metadata": {},
   "outputs": [
    {
     "name": "stdout",
     "output_type": "stream",
     "text": [
      "This is A Fraud\n",
      "This is A Fraud\n",
      "This is not A Fraud\n",
      "This is not A Fraud\n",
      "This is not A Fraud\n",
      "This is not A Fraud\n",
      "This is A Fraud\n",
      "This is not A Fraud\n",
      "This is A Fraud\n",
      "This is A Fraud\n"
     ]
    }
   ],
   "source": [
    "# make a prediction with new_data_df\n",
    "prediction = best_model.predict(new_data_df)\n",
    "\n",
    "# for loop to predict each rows\n",
    "for i in prediction:\n",
    "    if i == 0:\n",
    "        print('This is not A Fraud')\n",
    "    elif i == 1:\n",
    "        print('This is A Fraud')"
   ]
  }
 ],
 "metadata": {
  "kernelspec": {
   "display_name": "base",
   "language": "python",
   "name": "python3"
  },
  "language_info": {
   "codemirror_mode": {
    "name": "ipython",
    "version": 3
   },
   "file_extension": ".py",
   "mimetype": "text/x-python",
   "name": "python",
   "nbconvert_exporter": "python",
   "pygments_lexer": "ipython3",
   "version": "3.9.20"
  }
 },
 "nbformat": 4,
 "nbformat_minor": 2
}
