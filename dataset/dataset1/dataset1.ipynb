{
 "cells": [
  {
   "cell_type": "markdown",
   "metadata": {},
   "source": [
    "# 1. Perkenalan\n",
    "\n",
    "Nama: Lia Kurniawati\n",
    "\n",
    "Batch: FTDS HCK-024\n",
    "\n",
    "Objective: Berdasarkan kebutuhan dari PT. SS Bank untuk melakukan prediksi Fraud terkait transaksi online yang dilakukan oleh nasabah, maka project kali ini akan berupaya untuk membuat model Machine Learning untuk memberikan prediksi apakah ada ciri-ciri tertentu ketika transaksi tersebut berpotensi fraud, dilihat dari type transaksi yang dilakukan, kapan waktu terjadinya, akun atau nasabah siapa yang melakukan fraud, dilihat dari jumlah saldonya baik saldo pengirim ataupun penerima. Tujuannya adalah pencegahan sedini mungkin terhadap Fraud. Project akan dibuat dengan 5 algoritma utama yaitu KNN, SVM, Decision Tree, Random Forest dan XGBoost dengan metric Recall, Cross Validation dan ROC-AUC Score dipertimbangkan."
   ]
  },
  {
   "cell_type": "markdown",
   "metadata": {},
   "source": [
    "## Identifikasi Masalah"
   ]
  },
  {
   "cell_type": "markdown",
   "metadata": {},
   "source": [
    "### Topik Permasalahan"
   ]
  },
  {
   "cell_type": "markdown",
   "metadata": {},
   "source": [
    "\"Analisis Prediksi Transaki Online Fraud untuk Meningkatkan Kemananan Transaksi dan Menjaga Likuiditas Bank\""
   ]
  },
  {
   "cell_type": "markdown",
   "metadata": {},
   "source": [
    "### Latar Belakang"
   ]
  },
  {
   "cell_type": "markdown",
   "metadata": {},
   "source": [
    "Transaksi keuangan merupakan aspek penting dalam aktivitas ekonomi sehari-hari. Dengan berkembangnya teknologi digital, perbankan telah mengalami transformasi besar dengan hadirnya layanan online banking maupun mobile banking. Kedua layanan ini memungkinkan pelanggan untuk mengelola keuangan mereka dengan mudah dan cepat kapan saja dan di mana saja. Transaksi seperti transfer dana, pengecekan informasi akun, pembayaran tagihan, hingga pengelolaan investasi, kini dapat dilakukan secara instan dan fleksibel tanpa harus mengunjungi kantor cabang. Keunggulan ini telah menjadikan transaksi online dan mobile banking sebagai rajah baru sekaligus tulang punggung layanan keuangan modern, dengan menawarkan layanan dengan efisiensi waktu, biaya, dan kemudahan akses. Namun, seiring dengan meningkatnya penggunaan layanan digital ini, ancaman terhadap keamanan data dan aktivitas transaksi juga meningkat. Salah satu ancaman utama adalah  fraud atau transaksi mencurigakan atau tidak sah serta pencucian uang yang kian marak terjadi. Dalam dunia perbankan, keamanan transaksi menjadi hal yang sangat penting atau urgent yang harus diutamakan, terutama dengan tingginya jumlah nasabah yang menjadi member dalam suatu bank maka tingkat kepercayaan dan keamanan nasabah adalah hal utama, selain itu bank juga harus patuh pada ketentuan BI terkait menjaga likuidas dan mencegah money laundry.Oleh karena itu, identifikasi pola transaksi yang tidak biasa dan analisis deteksi awal potensi kecurangan dalam transaksi keuangan merupakan kebutuhan yang mendesak untuk melindungi nasabah dan lembaga keuangan itu sendiri."
   ]
  },
  {
   "cell_type": "markdown",
   "metadata": {},
   "source": [
    "### Tujuan Analisis"
   ]
  },
  {
   "cell_type": "markdown",
   "metadata": {},
   "source": [
    "Tujuan melakukan analisis atau model machine learning transaksi fraud:\n",
    "1. Mendeteksi fraud sedini mungkin, mengidentikasi pola transaksi mencurigakan sehingga dapat meningkatkan keamanan transaksi nasabah serta menjaga kepercayaan nasabah\n",
    "2. Menjaga kestabilan likuiditas bank.\n",
    "3. Efisiensi bank terhadap deteksi fraud yang merugikan seperti pencucian uang.\n"
   ]
  },
  {
   "cell_type": "markdown",
   "metadata": {},
   "source": [
    "### Justifikasi"
   ]
  },
  {
   "cell_type": "markdown",
   "metadata": {},
   "source": [
    "Justifikasi :\n",
    "1. https:// www.bni.co.id/id-id/beranda/kabar-bni/berita/articleid/21456 (Tangkis Serangan Siber, BNI Perkuat Literasi dan Perlindungan Nasabah)\n",
    "2. https://digital.bri.co.id/article/perangi-atm-skimming-dengan-machine-learning-4bcd (Perangi ATM Skimming Dengan Machine Learning)\n",
    "3. https://btn.co.id/id-ID/About/Gallery/Announcement/Listing/2024/08/08/117--BTN-PFAD-VIII-2024  (Pengadaan Aplikasi Fraud Detection System (FDS))\n",
    "4. https://www.antaranews.com/berita/4283023/bi-kembangkan-bi-payment-info-deteksi-anomali-transaksi-dan-fraud (BI kembangkan BI-Payment Info deteksi anomali transaksi dan fraud)\n",
    "\n",
    "User/pengguna : Lembaga Keuangan Bank maupun Non Bank dengan kebutuhan untuk  menganalisis pola transaksi mencurigakan atau transaction fraud detection.\n"
   ]
  },
  {
   "cell_type": "markdown",
   "metadata": {},
   "source": [
    "### Penjabaran Masalah"
   ]
  },
  {
   "cell_type": "markdown",
   "metadata": {},
   "source": [
    "1. Bagaimna distribusi dataset setelah dilakukan Resample?\n",
    "2. Jenis transaksi apa yang paling sering terjadi fraud?\n",
    "3. Bagaimana hubungan saldo awal dan saldo akhir pengirim ketika transaksi fraud terjadi?\n",
    "4. Bagaimana hubungan saldo Awal dan saldo akhir penerima ketika transaksi fraud terjadi?\n",
    "5. Kapan step atau waktu paling sering terjadi fraud?\n",
    "6. Siapakah id pengirim yang sering melakukan fraud?\n",
    "7. Siapakah id penerima yang sering melakukan fraud?\n",
    "8. Bagaimana hubungan prediksi flagged fraud dan fraud yang terjadi?"
   ]
  },
  {
   "cell_type": "markdown",
   "metadata": {},
   "source": [
    "### Dataset Overview"
   ]
  },
  {
   "cell_type": "markdown",
   "metadata": {},
   "source": [
    "Berikut adalah penjelasan untuk setiap kolom dalam dataset balance.csv:\n",
    "1. step: Waktu transaksi dalam dataset ini menggunakan jam.\n",
    "2. type: Jenis transaksi yang dilakukan dalam data set ini, CASH_OUT (penarikan uang), PAYMENT (pembayaran), TRANSFER(pemindahan dana), DEBIT (uang keluar melalui ATM), CASH_IN (uang masuk)\n",
    "3. amount: Jumlah uang yang terlibat dalam transaksi.\n",
    "4. nameOrig: ID unik dari akun asal yang melakukan transaksi.\n",
    "5. oldbalanceOrg: Saldo akun asal sebelum transaksi dilakukan.\n",
    "6. newbalanceOrig: Saldo akun asal setelah transaksi dilakukan.\n",
    "7. nameDest: ID unik dari akun tujuan yang menerima transaksi.\n",
    "8. oldbalanceDest: Saldo akun tujuan sebelum transaksi dilakukan.\n",
    "9. newbalanceDest: Saldo akun tujuan setelah transaksi dilakukan.\n",
    "10. isFraud: Indikator apakah transaksi tersebut adalah fraud (0) atau bukan (1).\n",
    "11. isFlaggedFraud: Indikator apakah transaksi tersebut ditandai sebagai fraud oleh sistem (1) atau tidak (0) (potensi fraud)."
   ]
  },
  {
   "cell_type": "markdown",
   "metadata": {},
   "source": [
    "## Conseptual Problems"
   ]
  },
  {
   "cell_type": "markdown",
   "metadata": {},
   "source": [
    "### Latar belakang adanya bagging dan cara kerja bagging "
   ]
  },
  {
   "cell_type": "markdown",
   "metadata": {},
   "source": [
    "Bagging atau Bootstrap Aggregating adalah teknik dalam machine learning yang digunakan untuk meningkatkan akurasi dan stabilitas model prediksi. Latar belakang dari adanya bagging adalah untuk mengatasi masalah overfitting dan meningkatkan performa model. Bagging bekerja dengan cara membuat beberapa model prediksi dari data yang sama, tetapi dengan variasi yang sedikit. Cara kerja Bagging sangat sederhana yaitu mengambil sampel, kemudian melatih model dan terakhir penggabungan prediksi dan diambil model yang paling sering muncul ketika prediksi."
   ]
  },
  {
   "cell_type": "markdown",
   "metadata": {},
   "source": [
    "### Perbedaan cara kerja algoritma Random Forest dengan algoritma boosting"
   ]
  },
  {
   "cell_type": "markdown",
   "metadata": {},
   "source": [
    "Cara kerja Random Forest yaitu menggunakan banyak pohon keputusan yang dilatih secara independen pada subset data yang berbeda, dan hasil prediksi digabungkan dengan voting mayoritas atau rata-rata. Sedangkan algoritma boosting yaitu menggunakan banyak model yang dilatih secara berurutan, dengan setiap model baru mencoba memperbaiki kesalahan yang dibuat oleh model sebelumnya, dan hasil prediksi digabungkan dengan memberikan bobot lebih pada model yang lebih akurat."
   ]
  },
  {
   "cell_type": "markdown",
   "metadata": {},
   "source": [
    "### Cross Validation"
   ]
  },
  {
   "cell_type": "markdown",
   "metadata": {},
   "source": [
    "Cross-validation adalah teknik yang digunakan dalam machine learning untuk mengevaluasi seberapa baik model prediksi bekerja yaitu memastikan bahwa model tersebut tidak overfitting atau underfitting. Cara kerja cross validation yaitu pertama membagi data menjadi beberapa bagian, kemudian melatih dan menguji model dan terakhir rata-rata dari semua hasil tersebut dihitung untuk memberikan gambaran tentang kinerja model."
   ]
  },
  {
   "cell_type": "markdown",
   "metadata": {},
   "source": [
    "\n",
    "# 2. Import Libraries\n"
   ]
  },
  {
   "cell_type": "code",
   "execution_count": 258,
   "metadata": {},
   "outputs": [],
   "source": [
    "import pandas as pd\n",
    "import numpy as np\n",
    "import matplotlib.pyplot as plt\n",
    "import seaborn as sns\n",
    "import sklearn\n",
    "\n",
    "from feature_engine.outliers import Winsorizer\n",
    "from sklearn.preprocessing import StandardScaler, MinMaxScaler, RobustScaler\n",
    "from sklearn.preprocessing import OneHotEncoder, LabelEncoder\n",
    "from sklearn.compose import ColumnTransformer, make_column_selector as selector\n",
    "from sklearn.pipeline import Pipeline\n",
    "from sklearn.tree import DecisionTreeClassifier\n",
    "from sklearn.ensemble import RandomForestClassifier\n",
    "from sklearn.neighbors import KNeighborsClassifier\n",
    "from sklearn.svm import SVC\n",
    "from xgboost import XGBClassifier\n",
    "from imblearn.over_sampling import SMOTENC\n",
    "from imblearn.pipeline import Pipeline as ImbPipeline\n",
    "from sklearn.model_selection import GridSearchCV\n",
    "from sklearn.metrics import classification_report, accuracy_score, confusion_matrix, roc_auc_score, f1_score\n",
    "from sklearn.model_selection import GridSearchCV, cross_val_score, StratifiedKFold, learning_curve\n",
    "from sklearn.utils import shuffle"
   ]
  },
  {
   "cell_type": "markdown",
   "metadata": {},
   "source": [
    "Mengimpor library yang akan digunakan untuk analisis seperti pandas, numpy, matplotlib, seaborn, sklearn, dan pickle yang akan membantu atau sebagai tools dalam analisis ini."
   ]
  },
  {
   "cell_type": "markdown",
   "metadata": {},
   "source": [
    "# 3. Data Loading"
   ]
  },
  {
   "cell_type": "code",
   "execution_count": 259,
   "metadata": {},
   "outputs": [],
   "source": [
    "# meloading dan membaca data\n",
    "data = pd.read_csv ('balance.csv')"
   ]
  },
  {
   "cell_type": "markdown",
   "metadata": {},
   "source": [
    "Melakukan loading data yang akan digunakan yaitu dataset dengan nama balance.csv yang akan digunakan pada analisis kali ini yang telah diresample agar balancing pada tahap sebelumnya."
   ]
  },
  {
   "cell_type": "code",
   "execution_count": 260,
   "metadata": {},
   "outputs": [
    {
     "name": "stdout",
     "output_type": "stream",
     "text": [
      "<class 'pandas.core.frame.DataFrame'>\n",
      "RangeIndex: 16426 entries, 0 to 16425\n",
      "Data columns (total 11 columns):\n",
      " #   Column          Non-Null Count  Dtype  \n",
      "---  ------          --------------  -----  \n",
      " 0   step            16426 non-null  int64  \n",
      " 1   type            16426 non-null  object \n",
      " 2   amount          16426 non-null  float64\n",
      " 3   nameOrig        16426 non-null  object \n",
      " 4   oldbalanceOrg   16426 non-null  float64\n",
      " 5   newbalanceOrig  16426 non-null  float64\n",
      " 6   nameDest        16426 non-null  object \n",
      " 7   oldbalanceDest  16426 non-null  float64\n",
      " 8   newbalanceDest  16426 non-null  float64\n",
      " 9   isFlaggedFraud  16426 non-null  int64  \n",
      " 10  isFraud         16426 non-null  int64  \n",
      "dtypes: float64(5), int64(3), object(3)\n",
      "memory usage: 1.4+ MB\n"
     ]
    }
   ],
   "source": [
    "data.info()"
   ]
  },
  {
   "cell_type": "markdown",
   "metadata": {},
   "source": [
    "Membaca data secara keseluruhan melalui data.info() pada dataset balance.csv, berdasarkan visualisasi terdapat 16426 baris dan 11 kolom, data lengkap tanpa ada yang hilang. 3 kolom int64, 3 kolom object dan 5 kolom float."
   ]
  },
  {
   "cell_type": "code",
   "execution_count": 261,
   "metadata": {},
   "outputs": [
    {
     "data": {
      "text/html": [
       "<div>\n",
       "<style scoped>\n",
       "    .dataframe tbody tr th:only-of-type {\n",
       "        vertical-align: middle;\n",
       "    }\n",
       "\n",
       "    .dataframe tbody tr th {\n",
       "        vertical-align: top;\n",
       "    }\n",
       "\n",
       "    .dataframe thead th {\n",
       "        text-align: right;\n",
       "    }\n",
       "</style>\n",
       "<table border=\"1\" class=\"dataframe\">\n",
       "  <thead>\n",
       "    <tr style=\"text-align: right;\">\n",
       "      <th></th>\n",
       "      <th>step</th>\n",
       "      <th>type</th>\n",
       "      <th>amount</th>\n",
       "      <th>nameOrig</th>\n",
       "      <th>oldbalanceOrg</th>\n",
       "      <th>newbalanceOrig</th>\n",
       "      <th>nameDest</th>\n",
       "      <th>oldbalanceDest</th>\n",
       "      <th>newbalanceDest</th>\n",
       "      <th>isFlaggedFraud</th>\n",
       "      <th>isFraud</th>\n",
       "    </tr>\n",
       "  </thead>\n",
       "  <tbody>\n",
       "    <tr>\n",
       "      <th>0</th>\n",
       "      <td>163</td>\n",
       "      <td>CASH_OUT</td>\n",
       "      <td>66061.94</td>\n",
       "      <td>C1444177449</td>\n",
       "      <td>0.00</td>\n",
       "      <td>0.00</td>\n",
       "      <td>C1433830539</td>\n",
       "      <td>153788.33</td>\n",
       "      <td>219850.28</td>\n",
       "      <td>0</td>\n",
       "      <td>0</td>\n",
       "    </tr>\n",
       "    <tr>\n",
       "      <th>1</th>\n",
       "      <td>378</td>\n",
       "      <td>PAYMENT</td>\n",
       "      <td>14598.76</td>\n",
       "      <td>C638641690</td>\n",
       "      <td>10779.00</td>\n",
       "      <td>0.00</td>\n",
       "      <td>M786508240</td>\n",
       "      <td>0.00</td>\n",
       "      <td>0.00</td>\n",
       "      <td>0</td>\n",
       "      <td>0</td>\n",
       "    </tr>\n",
       "    <tr>\n",
       "      <th>2</th>\n",
       "      <td>333</td>\n",
       "      <td>PAYMENT</td>\n",
       "      <td>10767.10</td>\n",
       "      <td>C1473859208</td>\n",
       "      <td>0.00</td>\n",
       "      <td>0.00</td>\n",
       "      <td>M204648638</td>\n",
       "      <td>0.00</td>\n",
       "      <td>0.00</td>\n",
       "      <td>0</td>\n",
       "      <td>0</td>\n",
       "    </tr>\n",
       "    <tr>\n",
       "      <th>3</th>\n",
       "      <td>307</td>\n",
       "      <td>PAYMENT</td>\n",
       "      <td>9342.70</td>\n",
       "      <td>C1660884816</td>\n",
       "      <td>180485.84</td>\n",
       "      <td>171143.14</td>\n",
       "      <td>M182225889</td>\n",
       "      <td>0.00</td>\n",
       "      <td>0.00</td>\n",
       "      <td>0</td>\n",
       "      <td>0</td>\n",
       "    </tr>\n",
       "    <tr>\n",
       "      <th>4</th>\n",
       "      <td>334</td>\n",
       "      <td>PAYMENT</td>\n",
       "      <td>6553.42</td>\n",
       "      <td>C843452443</td>\n",
       "      <td>20099.00</td>\n",
       "      <td>13545.58</td>\n",
       "      <td>M1268307159</td>\n",
       "      <td>0.00</td>\n",
       "      <td>0.00</td>\n",
       "      <td>0</td>\n",
       "      <td>0</td>\n",
       "    </tr>\n",
       "    <tr>\n",
       "      <th>5</th>\n",
       "      <td>163</td>\n",
       "      <td>CASH_OUT</td>\n",
       "      <td>101952.61</td>\n",
       "      <td>C1597425666</td>\n",
       "      <td>0.00</td>\n",
       "      <td>0.00</td>\n",
       "      <td>C998074550</td>\n",
       "      <td>453553.18</td>\n",
       "      <td>580728.12</td>\n",
       "      <td>0</td>\n",
       "      <td>0</td>\n",
       "    </tr>\n",
       "    <tr>\n",
       "      <th>6</th>\n",
       "      <td>185</td>\n",
       "      <td>PAYMENT</td>\n",
       "      <td>2121.14</td>\n",
       "      <td>C398705862</td>\n",
       "      <td>0.00</td>\n",
       "      <td>0.00</td>\n",
       "      <td>M1341333396</td>\n",
       "      <td>0.00</td>\n",
       "      <td>0.00</td>\n",
       "      <td>0</td>\n",
       "      <td>0</td>\n",
       "    </tr>\n",
       "    <tr>\n",
       "      <th>7</th>\n",
       "      <td>276</td>\n",
       "      <td>CASH_OUT</td>\n",
       "      <td>43535.69</td>\n",
       "      <td>C970635234</td>\n",
       "      <td>0.00</td>\n",
       "      <td>0.00</td>\n",
       "      <td>C1521571660</td>\n",
       "      <td>5058963.82</td>\n",
       "      <td>5102499.51</td>\n",
       "      <td>0</td>\n",
       "      <td>0</td>\n",
       "    </tr>\n",
       "    <tr>\n",
       "      <th>8</th>\n",
       "      <td>298</td>\n",
       "      <td>CASH_OUT</td>\n",
       "      <td>369057.41</td>\n",
       "      <td>C635396366</td>\n",
       "      <td>322030.95</td>\n",
       "      <td>0.00</td>\n",
       "      <td>C1827160321</td>\n",
       "      <td>664793.62</td>\n",
       "      <td>1033851.03</td>\n",
       "      <td>0</td>\n",
       "      <td>0</td>\n",
       "    </tr>\n",
       "    <tr>\n",
       "      <th>9</th>\n",
       "      <td>12</td>\n",
       "      <td>PAYMENT</td>\n",
       "      <td>21188.46</td>\n",
       "      <td>C266215176</td>\n",
       "      <td>143116.00</td>\n",
       "      <td>121927.54</td>\n",
       "      <td>M1138059665</td>\n",
       "      <td>0.00</td>\n",
       "      <td>0.00</td>\n",
       "      <td>0</td>\n",
       "      <td>0</td>\n",
       "    </tr>\n",
       "  </tbody>\n",
       "</table>\n",
       "</div>"
      ],
      "text/plain": [
       "   step      type     amount     nameOrig  oldbalanceOrg  newbalanceOrig  \\\n",
       "0   163  CASH_OUT   66061.94  C1444177449           0.00            0.00   \n",
       "1   378   PAYMENT   14598.76   C638641690       10779.00            0.00   \n",
       "2   333   PAYMENT   10767.10  C1473859208           0.00            0.00   \n",
       "3   307   PAYMENT    9342.70  C1660884816      180485.84       171143.14   \n",
       "4   334   PAYMENT    6553.42   C843452443       20099.00        13545.58   \n",
       "5   163  CASH_OUT  101952.61  C1597425666           0.00            0.00   \n",
       "6   185   PAYMENT    2121.14   C398705862           0.00            0.00   \n",
       "7   276  CASH_OUT   43535.69   C970635234           0.00            0.00   \n",
       "8   298  CASH_OUT  369057.41   C635396366      322030.95            0.00   \n",
       "9    12   PAYMENT   21188.46   C266215176      143116.00       121927.54   \n",
       "\n",
       "      nameDest  oldbalanceDest  newbalanceDest  isFlaggedFraud  isFraud  \n",
       "0  C1433830539       153788.33       219850.28               0        0  \n",
       "1   M786508240            0.00            0.00               0        0  \n",
       "2   M204648638            0.00            0.00               0        0  \n",
       "3   M182225889            0.00            0.00               0        0  \n",
       "4  M1268307159            0.00            0.00               0        0  \n",
       "5   C998074550       453553.18       580728.12               0        0  \n",
       "6  M1341333396            0.00            0.00               0        0  \n",
       "7  C1521571660      5058963.82      5102499.51               0        0  \n",
       "8  C1827160321       664793.62      1033851.03               0        0  \n",
       "9  M1138059665            0.00            0.00               0        0  "
      ]
     },
     "execution_count": 261,
     "metadata": {},
     "output_type": "execute_result"
    }
   ],
   "source": [
    "# melihat 10 data teratas\n",
    "data.head(10)"
   ]
  },
  {
   "cell_type": "markdown",
   "metadata": {},
   "source": [
    "Membaca dataset secara keseluruhan dan mulai memahami untuk tiap baris dan kolomnya, melihat fitur-fitur yang ada dan mulai membaca target yang akan dituju, agar lebih jelas melihat dari 10 baris pertama."
   ]
  },
  {
   "cell_type": "code",
   "execution_count": 262,
   "metadata": {},
   "outputs": [
    {
     "data": {
      "text/html": [
       "<div>\n",
       "<style scoped>\n",
       "    .dataframe tbody tr th:only-of-type {\n",
       "        vertical-align: middle;\n",
       "    }\n",
       "\n",
       "    .dataframe tbody tr th {\n",
       "        vertical-align: top;\n",
       "    }\n",
       "\n",
       "    .dataframe thead th {\n",
       "        text-align: right;\n",
       "    }\n",
       "</style>\n",
       "<table border=\"1\" class=\"dataframe\">\n",
       "  <thead>\n",
       "    <tr style=\"text-align: right;\">\n",
       "      <th></th>\n",
       "      <th>step</th>\n",
       "      <th>type</th>\n",
       "      <th>amount</th>\n",
       "      <th>nameOrig</th>\n",
       "      <th>oldbalanceOrg</th>\n",
       "      <th>newbalanceOrig</th>\n",
       "      <th>nameDest</th>\n",
       "      <th>oldbalanceDest</th>\n",
       "      <th>newbalanceDest</th>\n",
       "      <th>isFlaggedFraud</th>\n",
       "      <th>isFraud</th>\n",
       "    </tr>\n",
       "  </thead>\n",
       "  <tbody>\n",
       "    <tr>\n",
       "      <th>16416</th>\n",
       "      <td>742</td>\n",
       "      <td>TRANSFER</td>\n",
       "      <td>63416.99</td>\n",
       "      <td>C778071008</td>\n",
       "      <td>63416.99</td>\n",
       "      <td>0.0</td>\n",
       "      <td>C1812552860</td>\n",
       "      <td>0.00</td>\n",
       "      <td>0.00</td>\n",
       "      <td>0</td>\n",
       "      <td>1</td>\n",
       "    </tr>\n",
       "    <tr>\n",
       "      <th>16417</th>\n",
       "      <td>742</td>\n",
       "      <td>CASH_OUT</td>\n",
       "      <td>63416.99</td>\n",
       "      <td>C994950684</td>\n",
       "      <td>63416.99</td>\n",
       "      <td>0.0</td>\n",
       "      <td>C1662241365</td>\n",
       "      <td>276433.18</td>\n",
       "      <td>339850.17</td>\n",
       "      <td>0</td>\n",
       "      <td>1</td>\n",
       "    </tr>\n",
       "    <tr>\n",
       "      <th>16418</th>\n",
       "      <td>743</td>\n",
       "      <td>TRANSFER</td>\n",
       "      <td>1258818.82</td>\n",
       "      <td>C1531301470</td>\n",
       "      <td>1258818.82</td>\n",
       "      <td>0.0</td>\n",
       "      <td>C1470998563</td>\n",
       "      <td>0.00</td>\n",
       "      <td>0.00</td>\n",
       "      <td>0</td>\n",
       "      <td>1</td>\n",
       "    </tr>\n",
       "    <tr>\n",
       "      <th>16419</th>\n",
       "      <td>743</td>\n",
       "      <td>CASH_OUT</td>\n",
       "      <td>1258818.82</td>\n",
       "      <td>C1436118706</td>\n",
       "      <td>1258818.82</td>\n",
       "      <td>0.0</td>\n",
       "      <td>C1240760502</td>\n",
       "      <td>503464.50</td>\n",
       "      <td>1762283.33</td>\n",
       "      <td>0</td>\n",
       "      <td>1</td>\n",
       "    </tr>\n",
       "    <tr>\n",
       "      <th>16420</th>\n",
       "      <td>743</td>\n",
       "      <td>TRANSFER</td>\n",
       "      <td>339682.13</td>\n",
       "      <td>C2013999242</td>\n",
       "      <td>339682.13</td>\n",
       "      <td>0.0</td>\n",
       "      <td>C1850423904</td>\n",
       "      <td>0.00</td>\n",
       "      <td>0.00</td>\n",
       "      <td>0</td>\n",
       "      <td>1</td>\n",
       "    </tr>\n",
       "    <tr>\n",
       "      <th>16421</th>\n",
       "      <td>743</td>\n",
       "      <td>CASH_OUT</td>\n",
       "      <td>339682.13</td>\n",
       "      <td>C786484425</td>\n",
       "      <td>339682.13</td>\n",
       "      <td>0.0</td>\n",
       "      <td>C776919290</td>\n",
       "      <td>0.00</td>\n",
       "      <td>339682.13</td>\n",
       "      <td>0</td>\n",
       "      <td>1</td>\n",
       "    </tr>\n",
       "    <tr>\n",
       "      <th>16422</th>\n",
       "      <td>743</td>\n",
       "      <td>TRANSFER</td>\n",
       "      <td>6311409.28</td>\n",
       "      <td>C1529008245</td>\n",
       "      <td>6311409.28</td>\n",
       "      <td>0.0</td>\n",
       "      <td>C1881841831</td>\n",
       "      <td>0.00</td>\n",
       "      <td>0.00</td>\n",
       "      <td>0</td>\n",
       "      <td>1</td>\n",
       "    </tr>\n",
       "    <tr>\n",
       "      <th>16423</th>\n",
       "      <td>743</td>\n",
       "      <td>CASH_OUT</td>\n",
       "      <td>6311409.28</td>\n",
       "      <td>C1162922333</td>\n",
       "      <td>6311409.28</td>\n",
       "      <td>0.0</td>\n",
       "      <td>C1365125890</td>\n",
       "      <td>68488.84</td>\n",
       "      <td>6379898.11</td>\n",
       "      <td>0</td>\n",
       "      <td>1</td>\n",
       "    </tr>\n",
       "    <tr>\n",
       "      <th>16424</th>\n",
       "      <td>743</td>\n",
       "      <td>TRANSFER</td>\n",
       "      <td>850002.52</td>\n",
       "      <td>C1685995037</td>\n",
       "      <td>850002.52</td>\n",
       "      <td>0.0</td>\n",
       "      <td>C2080388513</td>\n",
       "      <td>0.00</td>\n",
       "      <td>0.00</td>\n",
       "      <td>0</td>\n",
       "      <td>1</td>\n",
       "    </tr>\n",
       "    <tr>\n",
       "      <th>16425</th>\n",
       "      <td>743</td>\n",
       "      <td>CASH_OUT</td>\n",
       "      <td>850002.52</td>\n",
       "      <td>C1280323807</td>\n",
       "      <td>850002.52</td>\n",
       "      <td>0.0</td>\n",
       "      <td>C873221189</td>\n",
       "      <td>6510099.11</td>\n",
       "      <td>7360101.63</td>\n",
       "      <td>0</td>\n",
       "      <td>1</td>\n",
       "    </tr>\n",
       "  </tbody>\n",
       "</table>\n",
       "</div>"
      ],
      "text/plain": [
       "       step      type      amount     nameOrig  oldbalanceOrg  newbalanceOrig  \\\n",
       "16416   742  TRANSFER    63416.99   C778071008       63416.99             0.0   \n",
       "16417   742  CASH_OUT    63416.99   C994950684       63416.99             0.0   \n",
       "16418   743  TRANSFER  1258818.82  C1531301470     1258818.82             0.0   \n",
       "16419   743  CASH_OUT  1258818.82  C1436118706     1258818.82             0.0   \n",
       "16420   743  TRANSFER   339682.13  C2013999242      339682.13             0.0   \n",
       "16421   743  CASH_OUT   339682.13   C786484425      339682.13             0.0   \n",
       "16422   743  TRANSFER  6311409.28  C1529008245     6311409.28             0.0   \n",
       "16423   743  CASH_OUT  6311409.28  C1162922333     6311409.28             0.0   \n",
       "16424   743  TRANSFER   850002.52  C1685995037      850002.52             0.0   \n",
       "16425   743  CASH_OUT   850002.52  C1280323807      850002.52             0.0   \n",
       "\n",
       "          nameDest  oldbalanceDest  newbalanceDest  isFlaggedFraud  isFraud  \n",
       "16416  C1812552860            0.00            0.00               0        1  \n",
       "16417  C1662241365       276433.18       339850.17               0        1  \n",
       "16418  C1470998563            0.00            0.00               0        1  \n",
       "16419  C1240760502       503464.50      1762283.33               0        1  \n",
       "16420  C1850423904            0.00            0.00               0        1  \n",
       "16421   C776919290            0.00       339682.13               0        1  \n",
       "16422  C1881841831            0.00            0.00               0        1  \n",
       "16423  C1365125890        68488.84      6379898.11               0        1  \n",
       "16424  C2080388513            0.00            0.00               0        1  \n",
       "16425   C873221189      6510099.11      7360101.63               0        1  "
      ]
     },
     "execution_count": 262,
     "metadata": {},
     "output_type": "execute_result"
    }
   ],
   "source": [
    "# melihat 10 data terbawah\n",
    "data.tail(10)"
   ]
  },
  {
   "cell_type": "markdown",
   "metadata": {},
   "source": [
    "Kemudian membaca dataset secara keseluruhan dan mulai memahami untuk tiap baris dan kolomnya, melihat fitur-fitur yang ada dan mulai lebih spesifik pada 10 baris terakhir."
   ]
  },
  {
   "cell_type": "code",
   "execution_count": 263,
   "metadata": {},
   "outputs": [],
   "source": [
    "# duplicate dataset\n",
    "\n",
    "data_duplicate = data.copy()"
   ]
  },
  {
   "cell_type": "markdown",
   "metadata": {},
   "source": [
    "Selanjutnya yang dilakukan adalah melakukan duplicate dataset tersebut agar data asli tetap terjaga atau terlindungi, sebelum melakukan perubahan atau pemodelan."
   ]
  },
  {
   "cell_type": "code",
   "execution_count": 264,
   "metadata": {},
   "outputs": [
    {
     "data": {
      "text/plain": [
       "step              0\n",
       "type              0\n",
       "amount            0\n",
       "nameOrig          0\n",
       "oldbalanceOrg     0\n",
       "newbalanceOrig    0\n",
       "nameDest          0\n",
       "oldbalanceDest    0\n",
       "newbalanceDest    0\n",
       "isFlaggedFraud    0\n",
       "isFraud           0\n",
       "dtype: int64"
      ]
     },
     "execution_count": 264,
     "metadata": {},
     "output_type": "execute_result"
    }
   ],
   "source": [
    "# mengecek data yang hilang\n",
    "data.isna().sum()"
   ]
  },
  {
   "cell_type": "markdown",
   "metadata": {},
   "source": [
    "Tidak terlihat missing value pada dataset, maka dataset lengkap tidak ada nilai yang hilang dan siap digunakan untuk analisis selanjutnya."
   ]
  },
  {
   "cell_type": "code",
   "execution_count": 265,
   "metadata": {},
   "outputs": [
    {
     "data": {
      "text/plain": [
       "0"
      ]
     },
     "execution_count": 265,
     "metadata": {},
     "output_type": "execute_result"
    }
   ],
   "source": [
    "# mengecek data duplikat\n",
    "data.duplicated().sum()"
   ]
  },
  {
   "cell_type": "markdown",
   "metadata": {},
   "source": [
    "Tidak terdapat data duplikat dalam dataset, maka dataset siap untuk dianalisis lebih lanjut."
   ]
  },
  {
   "cell_type": "markdown",
   "metadata": {},
   "source": [
    "# 4. Exploratory Data Analysis (EDA)"
   ]
  },
  {
   "cell_type": "markdown",
   "metadata": {},
   "source": [
    "## 1. Bagaimna distribusi dataset setelah dilakukan resample?"
   ]
  },
  {
   "cell_type": "code",
   "execution_count": 266,
   "metadata": {},
   "outputs": [
    {
     "data": {
      "image/png": "[encoded data removed]",
      "text/plain": [
       "<Figure size 600x600 with 1 Axes>"
      ]
     },
     "metadata": {},
     "output_type": "display_data"
    }
   ],
   "source": [
    "# melihat istribusi target dengan pie chart\n",
    "fraud_counts = data['isFraud'].value_counts()\n",
    "labels = ['Non-Fraud', 'Fraud']\n",
    "plt.figure(figsize=(6, 6))\n",
    "plt.pie(fraud_counts, labels=labels, autopct='%1.1f%%', startangle=90, colors=['skyblue', 'orange'])\n",
    "plt.title('Distribusi Target (isFraud)')\n",
    "plt.show()"
   ]
  },
  {
   "cell_type": "markdown",
   "metadata": {},
   "source": [
    "Berdasarkan visualisasi diatas setelah dilakukan resample dataset, kita dapat melihat bahwa antara fitur dan target sudah seimbang. Hal ini membuat analisis kita lebih baik lagi karena tidak ada lagi data yang imbalance yang dapat menyebabkan analisis menjadi bias sehingga model tidak maksimal kinerjanya."
   ]
  },
  {
   "cell_type": "markdown",
   "metadata": {},
   "source": [
    "## 2. Jenis transaksi apa yang paling sering terjadi fraud?"
   ]
  },
  {
   "cell_type": "code",
   "execution_count": 267,
   "metadata": {},
   "outputs": [
    {
     "data": {
      "image/png": "[encoded data removed]",
      "text/plain": [
       "<Figure size 800x600 with 1 Axes>"
      ]
     },
     "metadata": {},
     "output_type": "display_data"
    },
    {
     "name": "stdout",
     "output_type": "stream",
     "text": [
      "Fraud Transaction:\n",
      "type\n",
      "CASH_OUT    4116\n",
      "TRANSFER    4097\n",
      "Name: count, dtype: int64\n"
     ]
    }
   ],
   "source": [
    "# visualisasi dengan bar chart\n",
    "type_fraud_counts = data.groupby(['type', 'isFraud']).size().unstack()\n",
    "type_fraud_counts.plot(kind='bar', stacked=True, color=['skyblue', 'orange'], figsize=(8, 6))\n",
    "plt.title('Transaction Type dan Fraud')\n",
    "plt.xlabel('Type')\n",
    "plt.ylabel('Transaction Sum')\n",
    "plt.legend(['Non-Fraud', 'Fraud'])\n",
    "plt.xticks(rotation=0)\n",
    "plt.show()\n",
    "\n",
    "# menampilkan jumlah isFraud berdasarkan jenis transaksinya\n",
    "fraud_by_type = data[data['isFraud'] == 1]\n",
    "fraud_counts_by_type = fraud_by_type['type'].value_counts()\n",
    "print(\"Fraud Transaction:\")\n",
    "print(fraud_counts_by_type)\n",
    "\n"
   ]
  },
  {
   "cell_type": "markdown",
   "metadata": {},
   "source": [
    "Berdasarkan visualisasi diatas jenis transaksi yang sering terjadi fraud adalah transaksi cash_out dan transfer, hal ini berarti kita harus meningkatkan sistem deteksi fraud terutama ketika jumlah transfer atau cash_outnya besar. Kita perlu warning langsung dengan cara blokir atau menghubungi nasabah yang bersangkutan untuk dikonfirmasi lebih lanjut agar fraud bisa dicegah atau tidak terjadi."
   ]
  },
  {
   "cell_type": "code",
   "execution_count": 268,
   "metadata": {},
   "outputs": [],
   "source": [
    "# # Mendefinisikan rentang saldo\n",
    "# bins = [0, 5000, 10000, 20000, 50000, 100000, float('inf')]\n",
    "# labels = ['0-5000', '5000-10000', '10000-20000', '20000-50000', '50000-100000', '100000+']\n",
    "\n",
    "# # Membuat kolom baru untuk rentang saldo\n",
    "# data['balance_range'] = pd.cut(data['oldbalanceOrg'], bins=bins, labels=labels)\n",
    "\n",
    "# # Mengelompokkan berdasarkan rentang saldo dan isFraud dan menghitung jumlah kejadian\n",
    "# fraud_counts = data.groupby(['balance_range', 'isFraud']).size().unstack(fill_value=0)\n",
    "# print(fraud_counts)\n",
    "\n",
    "# # Membuat plot\n",
    "# fraud_counts.plot(kind='bar', stacked=True, figsize=(10, 6), color=['blue', 'red'])\n",
    "# plt.title('oldbalanceOrg vs Fraud')\n",
    "# plt.xlabel('oldbalanceOrg')\n",
    "# plt.ylabel('Transaction Sum')\n",
    "# plt.legend(['Fraud', 'No Fraud'])\n",
    "# plt.grid(True)\n",
    "\n",
    "# plt.show()"
   ]
  },
  {
   "cell_type": "markdown",
   "metadata": {},
   "source": [
    "## 3. Bagaimana hubungan saldo awal dan saldo akhir pengirim ketika transaksi fraud terjadi?"
   ]
  },
  {
   "cell_type": "code",
   "execution_count": 269,
   "metadata": {},
   "outputs": [
    {
     "data": {
      "image/png": "[encoded data removed]",
      "text/plain": [
       "<Figure size 640x480 with 1 Axes>"
      ]
     },
     "metadata": {},
     "output_type": "display_data"
    },
    {
     "name": "stdout",
     "output_type": "stream",
     "text": [
      "oldbalanceOrg     1.649668e+06\n",
      "newbalanceOrig    1.923926e+05\n",
      "dtype: float64\n"
     ]
    }
   ],
   "source": [
    "# visualisasi dengan bar chart\n",
    "fraud_data = data[data['isFraud'] == 1]\n",
    "fraud_means = fraud_data[['oldbalanceOrg', 'newbalanceOrig']].mean()\n",
    "fraud_means.plot(kind='bar', color=['skyblue', 'orange'])\n",
    "plt.title('Mean of oldbalanceOrg dan newbalanceOrg Fraud Transactions')\n",
    "plt.ylabel('Balance')\n",
    "plt.xticks(rotation=0)\n",
    "plt.show()\n",
    "print (fraud_means)\n"
   ]
  },
  {
   "cell_type": "markdown",
   "metadata": {},
   "source": [
    "Berdasarkan visualisasi diatas terlihat jelas bahwa ketika terjadi Fraud, saldo awal pengirim itu rata-rata jumlahnya banyak atau tinggi. Lalu setelah mereka melakukan transfer atau cash_out saldonya langsung menurun drastis atau biasanya langsung saldo minimum. Hal ini terjadi karena para tujuan pelaku fraud hanya ingin mengalirkan dananya saja atau lebih kita kenal dengan money laundry."
   ]
  },
  {
   "cell_type": "markdown",
   "metadata": {},
   "source": [
    "## 4. Bagaimana hubungan saldo awal dan saldo akhir penerima ketika transaksi fraud terjadi?"
   ]
  },
  {
   "cell_type": "code",
   "execution_count": 270,
   "metadata": {},
   "outputs": [
    {
     "data": {
      "image/png": "[encoded data removed]",
      "text/plain": [
       "<Figure size 640x480 with 1 Axes>"
      ]
     },
     "metadata": {},
     "output_type": "display_data"
    },
    {
     "name": "stdout",
     "output_type": "stream",
     "text": [
      "oldbalanceDest    5.442496e+05\n",
      "newbalanceDest    1.279708e+06\n",
      "dtype: float64\n"
     ]
    }
   ],
   "source": [
    "# visualisasi dengan bar chart\n",
    "fraud_data = data[data['isFraud'] == 1]\n",
    "fraud_dest_means = fraud_data[['oldbalanceDest', 'newbalanceDest']].mean()\n",
    "fraud_dest_means.plot(kind='bar', color=['skyblue', 'orange'])\n",
    "plt.title('Mean of oldbalanceDest dan newbalanceDest Fraud Transactions')\n",
    "plt.ylabel('Balance')\n",
    "plt.xticks(rotation=0)\n",
    "plt.show()\n",
    "print(fraud_dest_means)\n"
   ]
  },
  {
   "cell_type": "markdown",
   "metadata": {},
   "source": [
    "Berdasarkan visualisasi diatas terlihat jelas bahwa ketika terjadi Fraud, saldo awal penerima itu rata-rata jumlahnya sedikit atau tidak banyak. Lalu setelah mereka melakukan menerima transfer atau uang masuk saldonya langsung meningkat drastis atau sangat tinggi diatas rata-rata saldo mereka pada umumnya. Hal ini terjadi karena tujuan pelaku fraud yaitu mengalirkan dana ke rekening-rekening baru atau rekening orang-orang yang mereka bayar biasanya terjadi praktik jual beli rekening. Biasanya uang tidak akan tinggal lama, akan ditransfer kembali atau dicashout."
   ]
  },
  {
   "cell_type": "markdown",
   "metadata": {},
   "source": [
    "## 5. Kapan step atau waktu paling sering terjadi fraud?"
   ]
  },
  {
   "cell_type": "code",
   "execution_count": 271,
   "metadata": {},
   "outputs": [
    {
     "name": "stdout",
     "output_type": "stream",
     "text": [
      "Fraud Transaction Step:\n",
      "step\n",
      "212    40\n",
      "523    30\n",
      "387    28\n",
      "425    28\n",
      "249    28\n",
      "       ..\n",
      "202     2\n",
      "589     2\n",
      "112     2\n",
      "548     2\n",
      "662     2\n",
      "Name: count, Length: 741, dtype: int64\n"
     ]
    },
    {
     "data": {
      "image/png": "[encoded data removed]",
      "text/plain": [
       "<Figure size 1200x600 with 1 Axes>"
      ]
     },
     "metadata": {},
     "output_type": "display_data"
    }
   ],
   "source": [
    "# menampilkan step 50 terbanyak fraud\n",
    "fraud_data = data[data['isFraud'] == 1]\n",
    "step_fraud = fraud_data['step'].value_counts()\n",
    "top_50 = step_fraud.head(50)\n",
    "print(\"Fraud Transaction Step:\")\n",
    "print(step_fraud)\n",
    "\n",
    "\n",
    "# visualisasi dengan bar chart\n",
    "plt.figure(figsize=(12, 6))\n",
    "top_50.plot(kind='bar', color='orange')\n",
    "plt.title('Analysis of the step or time does fraud most frequently fraud (Top 50)')\n",
    "plt.xlabel('Step')\n",
    "plt.ylabel('Fraud Transaction Sum')\n",
    "plt.xticks(rotation=45)\n",
    "plt.show()\n"
   ]
  },
  {
   "cell_type": "markdown",
   "metadata": {},
   "source": [
    "Berdasarkan visualisasi diatas kita mencoba mengambil data 50 teratas urutan waktu atau step yang paling sering terjadi fraud, dapat kita analisis waktu terjadi fraud ini random atau bisa terjadi kapan saja dan tidak ada pola tertentu yang bisa dipelajari. Variasinya menyebar dari step awal. tengah sampai akhir dimulai dari 6, 15, 22, 212 523, 620, 730 dan masih banyak variasi lagi. Yang perlu kita lakukan adalah mitigasi dan awas resiko transaksi setiap saat. Tidak boleh ada titik lemah, sehingga fraud bisa terdeteksi sedini mungkin."
   ]
  },
  {
   "cell_type": "markdown",
   "metadata": {},
   "source": [
    "## 6. Siapakah id pengirim yang sering melakukan fraud?"
   ]
  },
  {
   "cell_type": "code",
   "execution_count": 272,
   "metadata": {},
   "outputs": [
    {
     "data": {
      "image/png": "[encoded data removed]",
      "text/plain": [
       "<Figure size 1200x600 with 1 Axes>"
      ]
     },
     "metadata": {},
     "output_type": "display_data"
    },
    {
     "name": "stdout",
     "output_type": "stream",
     "text": [
      "nameOrig\n",
      "C1305486145    1\n",
      "C755286039     1\n",
      "C973279667     1\n",
      "C258213312     1\n",
      "C1640703547    1\n",
      "C1127265876    1\n",
      "C317779855     1\n",
      "C1064034527    1\n",
      "C1141104763    1\n",
      "C1966863341    1\n",
      "C1579869749    1\n",
      "C1133500128    1\n",
      "C2111179588    1\n",
      "C1400717591    1\n",
      "C937734682     1\n",
      "C738609409     1\n",
      "C1911667833    1\n",
      "C194800493     1\n",
      "C1069177491    1\n",
      "C489467109     1\n",
      "C946427395     1\n",
      "C44130095      1\n",
      "C12585107      1\n",
      "C1274959638    1\n",
      "C1898490203    1\n",
      "C994518144     1\n",
      "C816802649     1\n",
      "C1192213620    1\n",
      "C542986012     1\n",
      "C463684846     1\n",
      "C923004972     1\n",
      "C151517061     1\n",
      "C1267328802    1\n",
      "C755656980     1\n",
      "C1439806480    1\n",
      "C673357794     1\n",
      "C1062431728    1\n",
      "C1534934111    1\n",
      "C2114580288    1\n",
      "C1936176559    1\n",
      "C146839469     1\n",
      "C2014325113    1\n",
      "C1679215077    1\n",
      "C698568387     1\n",
      "C853913532     1\n",
      "C900480774     1\n",
      "C1122268687    1\n",
      "C136928681     1\n",
      "C1143038776    1\n",
      "C964891508     1\n",
      "Name: count, dtype: int64\n"
     ]
    }
   ],
   "source": [
    "# Visualisasi dengan bar chart\n",
    "fraud_data = data[data['isFraud'] == 1]\n",
    "name_fraud_counts = fraud_data['nameOrig'].value_counts().head(50)\n",
    "plt.figure(figsize=(12, 6))\n",
    "name_fraud_counts.plot(kind='bar', color='orange')\n",
    "plt.title('Analysis of the sender IDs that frequently commit fraud (Top 50)')\n",
    "plt.xlabel('nameOrig')\n",
    "plt.ylabel('Fraud Transaction Sum')\n",
    "plt.xticks(rotation=45)\n",
    "plt.show()\n",
    "print(name_fraud_counts)\n"
   ]
  },
  {
   "cell_type": "markdown",
   "metadata": {},
   "source": [
    "Berdasarkan visualisasi diatas kita dapat menganalisis bahwa akun atau ID pengirim sangat variatif disetiap transaksi fraud, pelaku fraud menggunakan akun yang berbeda-beda setiap transaksi. Satu akun yang sama, hanya dilakukan untuk maksimal 2x transaksi, setelah itu tidak menggunakan akun/ID yang sama. Kemungkinan akun tersebut sudah terdeteksi fraud sehingga akunnya kemungkinan besar sudah terblokir. Namun ada perhatian khusus untuk bank, dimana sebaiknya transaksi fraud ini harus dihentikan maksimal ketika sudah 1 kali bertransaksi, atau bahkan sebelum transaksi itu terjadi sudah bisa terdeteksi sehingga fraud dapat dicegah sedini mungkin."
   ]
  },
  {
   "cell_type": "markdown",
   "metadata": {},
   "source": [
    "## 7. Siapakah id penerima yang sering melakukan fraud?"
   ]
  },
  {
   "cell_type": "code",
   "execution_count": 273,
   "metadata": {},
   "outputs": [
    {
     "data": {
      "image/png": "[encoded data removed]",
      "text/plain": [
       "<Figure size 1200x600 with 1 Axes>"
      ]
     },
     "metadata": {},
     "output_type": "display_data"
    },
    {
     "name": "stdout",
     "output_type": "stream",
     "text": [
      "nameDest\n",
      "C1193568854    2\n",
      "C104038589     2\n",
      "C200064275     2\n",
      "C1497532505    2\n",
      "C1601170327    2\n",
      "C1655359478    2\n",
      "C2020337583    2\n",
      "C1653587362    2\n",
      "C1013511446    2\n",
      "C2129197098    2\n",
      "C1366192319    2\n",
      "C1185292292    2\n",
      "C668046170     2\n",
      "C1837027614    2\n",
      "C1148781766    2\n",
      "C904300960     2\n",
      "C1325541393    2\n",
      "C14138104      2\n",
      "C1827219533    2\n",
      "C1669818195    2\n",
      "C644163395     2\n",
      "C935310781     2\n",
      "C505532836     2\n",
      "C1399829166    2\n",
      "C52390890      2\n",
      "C1980653895    2\n",
      "C1460854172    2\n",
      "C964377943     2\n",
      "C686334805     2\n",
      "C1656842502    2\n",
      "C967226405     2\n",
      "C1780714769    2\n",
      "C385133759     2\n",
      "C1650668671    2\n",
      "C185805228     2\n",
      "C475338087     2\n",
      "C1981613973    2\n",
      "C803116137     2\n",
      "C643624257     2\n",
      "C1259079602    2\n",
      "C410033330     2\n",
      "C105660024     2\n",
      "C1827800010    2\n",
      "C650699445     2\n",
      "C1209725124    1\n",
      "C1937398960    1\n",
      "C1777553960    1\n",
      "C1088161711    1\n",
      "C661987351     1\n",
      "C1291615113    1\n",
      "Name: count, dtype: int64\n"
     ]
    }
   ],
   "source": [
    "# Visualisasi dengan bar chart\n",
    "fraud_data = data[data['isFraud'] == 1]\n",
    "name_fraud_counts = fraud_data['nameDest'].value_counts().head(50)\n",
    "plt.figure(figsize=(12, 6))\n",
    "name_fraud_counts.plot(kind='bar', color='orange')\n",
    "plt.title('Analysis of the receiver IDs that frequently commit fraud (Top 50)')\n",
    "plt.xlabel('nameDest')\n",
    "plt.ylabel('Fraud Transaction Sum')\n",
    "plt.xticks(rotation=45)\n",
    "plt.show()\n",
    "print(name_fraud_counts)"
   ]
  },
  {
   "cell_type": "code",
   "execution_count": 274,
   "metadata": {},
   "outputs": [
    {
     "data": {
      "image/png": "[encoded data removed]",
      "text/plain": [
       "<Figure size 1200x600 with 1 Axes>"
      ]
     },
     "metadata": {},
     "output_type": "display_data"
    }
   ],
   "source": [
    "# Filter data untuk transaksi fraud\n",
    "fraud_data = data[data['isFraud'] == 1]\n",
    "\n",
    "# Hitung jumlah transaksi fraud per nameOrig\n",
    "name_fraud_counts = fraud_data['nameDest'].value_counts().head(50)  # Ambil 10 pengirim teratas\n",
    "\n",
    "# Visualisasi dengan bar chart\n",
    "plt.figure(figsize=(12, 6))\n",
    "name_fraud_counts.plot(kind='bar', color='orange')\n",
    "plt.title('50 Penerima Teratas yang Terlibat dalam Transaksi Fraud')\n",
    "plt.xlabel('Nama Pengirim (nameDest)')\n",
    "plt.ylabel('Jumlah Transaksi Fraud')\n",
    "plt.xticks(rotation=45)\n",
    "plt.show()"
   ]
  },
  {
   "cell_type": "markdown",
   "metadata": {},
   "source": [
    "Berdasarkan visualisasi diatas kita dapat menganalisis bahwa akun atau ID penerima sangat variatif disetiap transaksi fraud, pelaku fraud menggunakan akun yang berbeda-beda setiap kali hendak mengalirkan dana transaksinya. Satu akun yang sama, hanya dilakukan untuk maksimal 2x untuk menerima transaksi, setelah itu tidak menggunakan akun/ID yang sama. Kemungkinan akun tersebut sudah terdeteksi fraud sehingga akunnya kemungkinan besar sudah terblokir. Namun ada perhatian khusus juga untuk bank, dimana sebaiknya transaksi fraud ini harus dihentikan maksimal ketika sudah 1 kali bertransaksi atau akun teresebut menjadi penerima, atau bahkan sebelum transaksi itu terjadi sudah bisa terdeteksi sehingga fraud dapat dicegah sedini mungkin."
   ]
  },
  {
   "cell_type": "markdown",
   "metadata": {},
   "source": [
    "## 8. Bagaimana hubungan prediksi flagged fraud dan fraud yang terjadi?"
   ]
  },
  {
   "cell_type": "code",
   "execution_count": 275,
   "metadata": {},
   "outputs": [
    {
     "name": "stdout",
     "output_type": "stream",
     "text": [
      "True Positives (TP): 16\n",
      "False Positives (FP): 0\n",
      "False Negatives (FN): 8197\n"
     ]
    },
    {
     "data": {
      "image/png": "[encoded data removed]",
      "text/plain": [
       "<Figure size 800x600 with 1 Axes>"
      ]
     },
     "metadata": {},
     "output_type": "display_data"
    }
   ],
   "source": [
    "# menghitung TP, FP dan FN\n",
    "flagged_fraud = data[data['isFlaggedFraud'] == 1]\n",
    "true_fraud = data[data['isFraud'] == 1]\n",
    "TP = len(flagged_fraud[flagged_fraud['isFraud'] == 1])\n",
    "FP = len(flagged_fraud[flagged_fraud['isFraud'] == 0])\n",
    "FN = len(true_fraud[true_fraud['isFlaggedFraud'] == 0])\n",
    "print(f\"True Positives (TP): {TP}\")\n",
    "print(f\"False Positives (FP): {FP}\")\n",
    "print(f\"False Negatives (FN): {FN}\")\n",
    "\n",
    "\n",
    "# visualisasi dengan bar chart\n",
    "metrics = ['True Positive', 'False Positive', 'False Negative']\n",
    "values = [TP, FP, FN]\n",
    "plt.figure(figsize=(8, 6))\n",
    "plt.bar(metrics, values, color=['green', 'orange', 'red'])\n",
    "plt.title('Efektivitas isFlaggedFraud dalam Mendeteksi Fraud')\n",
    "plt.xlabel('Kategori')\n",
    "plt.ylabel('Jumlah Transaksi')\n",
    "plt.show()\n"
   ]
  },
  {
   "cell_type": "markdown",
   "metadata": {},
   "source": [
    "Berdasarkan hasil perhitungan dan visualisasi diatas adalah false negative 8197, karena kita ambil positifnya adalah fraud artinya sistem potensi atau is flaggedfraud sukses memprediksi fraud dilihat dari false negative yang sangat dominan, transaksi fraud dideteksi dengan baik  dengan gagal prediksi hanya 16 transaksi. Hal ini berarti sistem flagged sudah bekerja dengan baik, namun masih ada catatan untuk 16 transaksi yang gagal dideteksi tersebut"
   ]
  },
  {
   "cell_type": "markdown",
   "metadata": {},
   "source": [
    "# 5. Feature Engineering Data"
   ]
  },
  {
   "cell_type": "markdown",
   "metadata": {},
   "source": [
    "## Handling Cardinality"
   ]
  },
  {
   "cell_type": "code",
   "execution_count": 276,
   "metadata": {},
   "outputs": [
    {
     "data": {
      "text/html": [
       "<div>\n",
       "<style scoped>\n",
       "    .dataframe tbody tr th:only-of-type {\n",
       "        vertical-align: middle;\n",
       "    }\n",
       "\n",
       "    .dataframe tbody tr th {\n",
       "        vertical-align: top;\n",
       "    }\n",
       "\n",
       "    .dataframe thead th {\n",
       "        text-align: right;\n",
       "    }\n",
       "</style>\n",
       "<table border=\"1\" class=\"dataframe\">\n",
       "  <thead>\n",
       "    <tr style=\"text-align: right;\">\n",
       "      <th></th>\n",
       "      <th>nama kolom</th>\n",
       "      <th>jumlah nilai unique</th>\n",
       "      <th>nilai unique</th>\n",
       "    </tr>\n",
       "  </thead>\n",
       "  <tbody>\n",
       "    <tr>\n",
       "      <th>0</th>\n",
       "      <td>type</td>\n",
       "      <td>5</td>\n",
       "      <td>[CASH_OUT, PAYMENT, CASH_IN, TRANSFER, DEBIT]</td>\n",
       "    </tr>\n",
       "    <tr>\n",
       "      <th>1</th>\n",
       "      <td>nameOrig</td>\n",
       "      <td>16426</td>\n",
       "      <td>[C1444177449, C638641690, C1473859208, C1660884816, C843452443, C1597425666, C398705862, C970635234, C635396366, C266215176, C1871719998, C1887147018, C1718851451, C369427857, C1159146232, C620339061, C118544412, C458332696, C738528731, C990272031, C638685753, C688790358, C45886972, C2017975568, C960244931, C1131584923, C1961907035, C262153297, C92988350, C42497163, C1353713806, C56218098, C494985507, C478632329, C1370508535, C1143233477, C450502086, C1724800875, C225838953, C1993941806, C975113787, C417391538, C1093655394, C2097645980, C1343371501, C617309327, C1827699030, C346104143, C1239540954, C725638901, C530701682, C1319332124, C1500712673, C236600215, C1624225407, C1376384613, C1918882438, C941057237, C1363588449, C1888394358, C1868659564, C81350487, C1426000636, C1879975030, C1547399144, C1802205312, C871357568, C875932479, C1583498445, C537376156, C595528023, C1672395983, C1850814655, C303810585, C561569125, C1475961018, C615950606, C496891592, C759882944, C548759090, C482275080, C1475821775, C1357042722, C565794525, C1211709144, C2021941432, C617279799, C1160886646, C872562572, C524900159, C743552959, C888066941, C357211416, C791544198, C1114712578, C2083865648, C1466767016, C1840867601, C477704195, C521014609, ...]</td>\n",
       "    </tr>\n",
       "    <tr>\n",
       "      <th>2</th>\n",
       "      <td>nameDest</td>\n",
       "      <td>16267</td>\n",
       "      <td>[C1433830539, M786508240, M204648638, M182225889, M1268307159, C998074550, M1341333396, C1521571660, C1827160321, M1138059665, C352393935, C493408021, M1607529187, C1410371802, C700399914, C1469454215, C167486945, C2078550942, C926950414, C2089912875, M1758179185, M378214080, M258294270, C1293578981, M1817281934, C1456032402, M248030682, M1575863530, C1145359319, C936622226, M2032768136, C994905324, C708057655, C979387846, C559840370, M670558833, C1818148143, M983765120, C1176874766, C903459177, C503968659, C1099095006, M549495356, C2097896863, C293841430, M662815541, M398733077, C215505878, C252489504, C105509119, M241208618, C1638813012, C256763146, M1941284768, M563821784, C1899884926, M2076180119, C1152456534, C543988964, M98070553, M78613178, M1436174205, C820473497, M993944473, M1544241494, M1041228560, C316784297, C2096858968, M1962840742, C211412356, M657494736, M1868255428, C219410592, C1822337350, C1844465462, C1923304636, C2062998593, C719983571, C843067070, C521516095, C871611504, C728172793, M234294163, C1486590896, C1427825258, M1235330192, M951097754, C1913338240, C2056465250, M512200364, C1809457826, C876446344, C1850508675, M1805185591, C1509833533, C649699940, C983564418, C1909010482, C940223181, C1403150795, ...]</td>\n",
       "    </tr>\n",
       "  </tbody>\n",
       "</table>\n",
       "</div>"
      ],
      "text/plain": [
       "  nama kolom  jumlah nilai unique  \\\n",
       "0       type                    5   \n",
       "1   nameOrig                16426   \n",
       "2   nameDest                16267   \n",
       "\n",
       "                                                                                                                                                                                                                                                                                                                                                                                                                                                                                                                                                                                                                                                                                                                                                                                                                                                                                                                                                                                                                                                                                                                                                                                                                                                                                          nilai unique  \n",
       "0                                                                                                                                                                                                                                                                                                                                                                                                                                                                                                                                                                                                                                                                                                                                                                                                                                                                                                                                                                                                                                                                                                                                                                                                                                                        [CASH_OUT, PAYMENT, CASH_IN, TRANSFER, DEBIT]  \n",
       "1       [C1444177449, C638641690, C1473859208, C1660884816, C843452443, C1597425666, C398705862, C970635234, C635396366, C266215176, C1871719998, C1887147018, C1718851451, C369427857, C1159146232, C620339061, C118544412, C458332696, C738528731, C990272031, C638685753, C688790358, C45886972, C2017975568, C960244931, C1131584923, C1961907035, C262153297, C92988350, C42497163, C1353713806, C56218098, C494985507, C478632329, C1370508535, C1143233477, C450502086, C1724800875, C225838953, C1993941806, C975113787, C417391538, C1093655394, C2097645980, C1343371501, C617309327, C1827699030, C346104143, C1239540954, C725638901, C530701682, C1319332124, C1500712673, C236600215, C1624225407, C1376384613, C1918882438, C941057237, C1363588449, C1888394358, C1868659564, C81350487, C1426000636, C1879975030, C1547399144, C1802205312, C871357568, C875932479, C1583498445, C537376156, C595528023, C1672395983, C1850814655, C303810585, C561569125, C1475961018, C615950606, C496891592, C759882944, C548759090, C482275080, C1475821775, C1357042722, C565794525, C1211709144, C2021941432, C617279799, C1160886646, C872562572, C524900159, C743552959, C888066941, C357211416, C791544198, C1114712578, C2083865648, C1466767016, C1840867601, C477704195, C521014609, ...]  \n",
       "2  [C1433830539, M786508240, M204648638, M182225889, M1268307159, C998074550, M1341333396, C1521571660, C1827160321, M1138059665, C352393935, C493408021, M1607529187, C1410371802, C700399914, C1469454215, C167486945, C2078550942, C926950414, C2089912875, M1758179185, M378214080, M258294270, C1293578981, M1817281934, C1456032402, M248030682, M1575863530, C1145359319, C936622226, M2032768136, C994905324, C708057655, C979387846, C559840370, M670558833, C1818148143, M983765120, C1176874766, C903459177, C503968659, C1099095006, M549495356, C2097896863, C293841430, M662815541, M398733077, C215505878, C252489504, C105509119, M241208618, C1638813012, C256763146, M1941284768, M563821784, C1899884926, M2076180119, C1152456534, C543988964, M98070553, M78613178, M1436174205, C820473497, M993944473, M1544241494, M1041228560, C316784297, C2096858968, M1962840742, C211412356, M657494736, M1868255428, C219410592, C1822337350, C1844465462, C1923304636, C2062998593, C719983571, C843067070, C521516095, C871611504, C728172793, M234294163, C1486590896, C1427825258, M1235330192, M951097754, C1913338240, C2056465250, M512200364, C1809457826, C876446344, C1850508675, M1805185591, C1509833533, C649699940, C983564418, C1909010482, C940223181, C1403150795, ...]  "
      ]
     },
     "execution_count": 276,
     "metadata": {},
     "output_type": "execute_result"
    }
   ],
   "source": [
    "# melihat cardinality atau nilai unik\n",
    "pd.set_option('display.max_colwidth', None)\n",
    "\n",
    "cat_cols = list(data.select_dtypes(include='object').columns)\n",
    "\n",
    "listItem = []\n",
    "for col in cat_cols:\n",
    "  listItem.append([col, data[col].nunique(), data[col].unique()])\n",
    "\n",
    "pd.DataFrame(columns=['nama kolom', 'jumlah nilai unique', 'nilai unique'], data=listItem)"
   ]
  },
  {
   "cell_type": "markdown",
   "metadata": {},
   "source": [
    "Berdasarkan visualisasi diatas kita dapat melihat nilai unik pada namaOrig dan nameDest yang tinggi, dikarenakan kedua kolom ini berkaitan dengan ID transaksi yang pasti data uniknya banyak sesuai dengan jumlah transaksi. Berdasarkan hasil EDA yang telah saya lakukan analisis bahwa tidak ada hubungan atau keterkaitan antara namaOrig dan nameDest dengan is Fraud (pada EDA no 7 dan 8) artinya cardinality bisa kita selection nantinya untuk tidak digunakan untuk membuat model sehingga tidak mengganggu analisis selanjutnya."
   ]
  },
  {
   "cell_type": "markdown",
   "metadata": {},
   "source": [
    "## Split Data"
   ]
  },
  {
   "cell_type": "markdown",
   "metadata": {},
   "source": [
    "### Split between X (Features) and y (target)"
   ]
  },
  {
   "cell_type": "code",
   "execution_count": 277,
   "metadata": {},
   "outputs": [
    {
     "data": {
      "text/html": [
       "<div>\n",
       "<style scoped>\n",
       "    .dataframe tbody tr th:only-of-type {\n",
       "        vertical-align: middle;\n",
       "    }\n",
       "\n",
       "    .dataframe tbody tr th {\n",
       "        vertical-align: top;\n",
       "    }\n",
       "\n",
       "    .dataframe thead th {\n",
       "        text-align: right;\n",
       "    }\n",
       "</style>\n",
       "<table border=\"1\" class=\"dataframe\">\n",
       "  <thead>\n",
       "    <tr style=\"text-align: right;\">\n",
       "      <th></th>\n",
       "      <th>step</th>\n",
       "      <th>type</th>\n",
       "      <th>amount</th>\n",
       "      <th>nameOrig</th>\n",
       "      <th>oldbalanceOrg</th>\n",
       "      <th>newbalanceOrig</th>\n",
       "      <th>nameDest</th>\n",
       "      <th>oldbalanceDest</th>\n",
       "      <th>newbalanceDest</th>\n",
       "      <th>isFlaggedFraud</th>\n",
       "    </tr>\n",
       "  </thead>\n",
       "  <tbody>\n",
       "    <tr>\n",
       "      <th>0</th>\n",
       "      <td>163</td>\n",
       "      <td>CASH_OUT</td>\n",
       "      <td>66061.94</td>\n",
       "      <td>C1444177449</td>\n",
       "      <td>0.00</td>\n",
       "      <td>0.00</td>\n",
       "      <td>C1433830539</td>\n",
       "      <td>153788.33</td>\n",
       "      <td>219850.28</td>\n",
       "      <td>0</td>\n",
       "    </tr>\n",
       "    <tr>\n",
       "      <th>1</th>\n",
       "      <td>378</td>\n",
       "      <td>PAYMENT</td>\n",
       "      <td>14598.76</td>\n",
       "      <td>C638641690</td>\n",
       "      <td>10779.00</td>\n",
       "      <td>0.00</td>\n",
       "      <td>M786508240</td>\n",
       "      <td>0.00</td>\n",
       "      <td>0.00</td>\n",
       "      <td>0</td>\n",
       "    </tr>\n",
       "    <tr>\n",
       "      <th>2</th>\n",
       "      <td>333</td>\n",
       "      <td>PAYMENT</td>\n",
       "      <td>10767.10</td>\n",
       "      <td>C1473859208</td>\n",
       "      <td>0.00</td>\n",
       "      <td>0.00</td>\n",
       "      <td>M204648638</td>\n",
       "      <td>0.00</td>\n",
       "      <td>0.00</td>\n",
       "      <td>0</td>\n",
       "    </tr>\n",
       "    <tr>\n",
       "      <th>3</th>\n",
       "      <td>307</td>\n",
       "      <td>PAYMENT</td>\n",
       "      <td>9342.70</td>\n",
       "      <td>C1660884816</td>\n",
       "      <td>180485.84</td>\n",
       "      <td>171143.14</td>\n",
       "      <td>M182225889</td>\n",
       "      <td>0.00</td>\n",
       "      <td>0.00</td>\n",
       "      <td>0</td>\n",
       "    </tr>\n",
       "    <tr>\n",
       "      <th>4</th>\n",
       "      <td>334</td>\n",
       "      <td>PAYMENT</td>\n",
       "      <td>6553.42</td>\n",
       "      <td>C843452443</td>\n",
       "      <td>20099.00</td>\n",
       "      <td>13545.58</td>\n",
       "      <td>M1268307159</td>\n",
       "      <td>0.00</td>\n",
       "      <td>0.00</td>\n",
       "      <td>0</td>\n",
       "    </tr>\n",
       "    <tr>\n",
       "      <th>...</th>\n",
       "      <td>...</td>\n",
       "      <td>...</td>\n",
       "      <td>...</td>\n",
       "      <td>...</td>\n",
       "      <td>...</td>\n",
       "      <td>...</td>\n",
       "      <td>...</td>\n",
       "      <td>...</td>\n",
       "      <td>...</td>\n",
       "      <td>...</td>\n",
       "    </tr>\n",
       "    <tr>\n",
       "      <th>16421</th>\n",
       "      <td>743</td>\n",
       "      <td>CASH_OUT</td>\n",
       "      <td>339682.13</td>\n",
       "      <td>C786484425</td>\n",
       "      <td>339682.13</td>\n",
       "      <td>0.00</td>\n",
       "      <td>C776919290</td>\n",
       "      <td>0.00</td>\n",
       "      <td>339682.13</td>\n",
       "      <td>0</td>\n",
       "    </tr>\n",
       "    <tr>\n",
       "      <th>16422</th>\n",
       "      <td>743</td>\n",
       "      <td>TRANSFER</td>\n",
       "      <td>6311409.28</td>\n",
       "      <td>C1529008245</td>\n",
       "      <td>6311409.28</td>\n",
       "      <td>0.00</td>\n",
       "      <td>C1881841831</td>\n",
       "      <td>0.00</td>\n",
       "      <td>0.00</td>\n",
       "      <td>0</td>\n",
       "    </tr>\n",
       "    <tr>\n",
       "      <th>16423</th>\n",
       "      <td>743</td>\n",
       "      <td>CASH_OUT</td>\n",
       "      <td>6311409.28</td>\n",
       "      <td>C1162922333</td>\n",
       "      <td>6311409.28</td>\n",
       "      <td>0.00</td>\n",
       "      <td>C1365125890</td>\n",
       "      <td>68488.84</td>\n",
       "      <td>6379898.11</td>\n",
       "      <td>0</td>\n",
       "    </tr>\n",
       "    <tr>\n",
       "      <th>16424</th>\n",
       "      <td>743</td>\n",
       "      <td>TRANSFER</td>\n",
       "      <td>850002.52</td>\n",
       "      <td>C1685995037</td>\n",
       "      <td>850002.52</td>\n",
       "      <td>0.00</td>\n",
       "      <td>C2080388513</td>\n",
       "      <td>0.00</td>\n",
       "      <td>0.00</td>\n",
       "      <td>0</td>\n",
       "    </tr>\n",
       "    <tr>\n",
       "      <th>16425</th>\n",
       "      <td>743</td>\n",
       "      <td>CASH_OUT</td>\n",
       "      <td>850002.52</td>\n",
       "      <td>C1280323807</td>\n",
       "      <td>850002.52</td>\n",
       "      <td>0.00</td>\n",
       "      <td>C873221189</td>\n",
       "      <td>6510099.11</td>\n",
       "      <td>7360101.63</td>\n",
       "      <td>0</td>\n",
       "    </tr>\n",
       "  </tbody>\n",
       "</table>\n",
       "<p>16426 rows × 10 columns</p>\n",
       "</div>"
      ],
      "text/plain": [
       "       step      type      amount     nameOrig  oldbalanceOrg  newbalanceOrig  \\\n",
       "0       163  CASH_OUT    66061.94  C1444177449           0.00            0.00   \n",
       "1       378   PAYMENT    14598.76   C638641690       10779.00            0.00   \n",
       "2       333   PAYMENT    10767.10  C1473859208           0.00            0.00   \n",
       "3       307   PAYMENT     9342.70  C1660884816      180485.84       171143.14   \n",
       "4       334   PAYMENT     6553.42   C843452443       20099.00        13545.58   \n",
       "...     ...       ...         ...          ...            ...             ...   \n",
       "16421   743  CASH_OUT   339682.13   C786484425      339682.13            0.00   \n",
       "16422   743  TRANSFER  6311409.28  C1529008245     6311409.28            0.00   \n",
       "16423   743  CASH_OUT  6311409.28  C1162922333     6311409.28            0.00   \n",
       "16424   743  TRANSFER   850002.52  C1685995037      850002.52            0.00   \n",
       "16425   743  CASH_OUT   850002.52  C1280323807      850002.52            0.00   \n",
       "\n",
       "          nameDest  oldbalanceDest  newbalanceDest  isFlaggedFraud  \n",
       "0      C1433830539       153788.33       219850.28               0  \n",
       "1       M786508240            0.00            0.00               0  \n",
       "2       M204648638            0.00            0.00               0  \n",
       "3       M182225889            0.00            0.00               0  \n",
       "4      M1268307159            0.00            0.00               0  \n",
       "...            ...             ...             ...             ...  \n",
       "16421   C776919290            0.00       339682.13               0  \n",
       "16422  C1881841831            0.00            0.00               0  \n",
       "16423  C1365125890        68488.84      6379898.11               0  \n",
       "16424  C2080388513            0.00            0.00               0  \n",
       "16425   C873221189      6510099.11      7360101.63               0  \n",
       "\n",
       "[16426 rows x 10 columns]"
      ]
     },
     "execution_count": 277,
     "metadata": {},
     "output_type": "execute_result"
    }
   ],
   "source": [
    "# split data X tanpa y atau target\n",
    "X = data.drop(['isFraud'], axis = 1)\n",
    "y = data['isFraud']\n",
    "X"
   ]
  },
  {
   "cell_type": "markdown",
   "metadata": {},
   "source": [
    "Menyiapkan dataset untuk pemodelan, membagi data menjadi dua bagian yaitu:\n",
    "- X: Fitur-fitur (semua kolom kecuali 'isFraud') yang akan digunakan untuk membuat prediksi.\n",
    "- y: Variabel target yang ingin diprediksi (dalam hal ini, 'isFraud')."
   ]
  },
  {
   "cell_type": "markdown",
   "metadata": {},
   "source": [
    "### Splitting between Train-Set and Test-set"
   ]
  },
  {
   "cell_type": "code",
   "execution_count": 278,
   "metadata": {},
   "outputs": [
    {
     "name": "stdout",
     "output_type": "stream",
     "text": [
      "Train Size:  (13140, 10)\n",
      "Test Size:  (3286, 10)\n"
     ]
    }
   ],
   "source": [
    "#Splitting between train and test\n",
    "\n",
    "from sklearn.model_selection import train_test_split\n",
    "\n",
    "X_train, X_test, y_train, y_test = train_test_split(X, y, test_size = 0.2, random_state = 40)\n",
    "print('Train Size: ', X_train.shape)\n",
    "print('Test Size: ', X_test.shape)"
   ]
  },
  {
   "cell_type": "markdown",
   "metadata": {},
   "source": [
    "Membagi dataset menjadi data latih dan data uji dengan perbandingan 80:20. Data latih akan digunakan untuk melatih model machine learning, sedangkan data uji akan digunakan untuk menguji akurasi model tersebut.\n",
    "- Train Size: (13140, 11) artinya data latih memiliki 13140 sampel (baris) dan 11 fitur (kolom).\n",
    "- Test Size: (3286, 11) artinya data uji memiliki 3286 sampel dan 11 fitur."
   ]
  },
  {
   "cell_type": "markdown",
   "metadata": {},
   "source": [
    "## Handling Outlier"
   ]
  },
  {
   "cell_type": "markdown",
   "metadata": {},
   "source": [
    "### Handling Outliers in Train Set"
   ]
  },
  {
   "cell_type": "code",
   "execution_count": 279,
   "metadata": {},
   "outputs": [
    {
     "data": {
      "text/html": [
       "<div>\n",
       "<style scoped>\n",
       "    .dataframe tbody tr th:only-of-type {\n",
       "        vertical-align: middle;\n",
       "    }\n",
       "\n",
       "    .dataframe tbody tr th {\n",
       "        vertical-align: top;\n",
       "    }\n",
       "\n",
       "    .dataframe thead th {\n",
       "        text-align: right;\n",
       "    }\n",
       "</style>\n",
       "<table border=\"1\" class=\"dataframe\">\n",
       "  <thead>\n",
       "    <tr style=\"text-align: right;\">\n",
       "      <th></th>\n",
       "      <th>nama kolom</th>\n",
       "      <th>nilai skewness</th>\n",
       "      <th>distribution</th>\n",
       "    </tr>\n",
       "  </thead>\n",
       "  <tbody>\n",
       "    <tr>\n",
       "      <th>0</th>\n",
       "      <td>step</td>\n",
       "      <td>0.4</td>\n",
       "      <td>normal</td>\n",
       "    </tr>\n",
       "    <tr>\n",
       "      <th>1</th>\n",
       "      <td>amount</td>\n",
       "      <td>4.8</td>\n",
       "      <td>skewed</td>\n",
       "    </tr>\n",
       "    <tr>\n",
       "      <th>2</th>\n",
       "      <td>oldbalanceOrg</td>\n",
       "      <td>6.1</td>\n",
       "      <td>skewed</td>\n",
       "    </tr>\n",
       "    <tr>\n",
       "      <th>3</th>\n",
       "      <td>newbalanceOrig</td>\n",
       "      <td>8.0</td>\n",
       "      <td>skewed</td>\n",
       "    </tr>\n",
       "    <tr>\n",
       "      <th>4</th>\n",
       "      <td>oldbalanceDest</td>\n",
       "      <td>29.0</td>\n",
       "      <td>skewed</td>\n",
       "    </tr>\n",
       "    <tr>\n",
       "      <th>5</th>\n",
       "      <td>newbalanceDest</td>\n",
       "      <td>24.0</td>\n",
       "      <td>skewed</td>\n",
       "    </tr>\n",
       "    <tr>\n",
       "      <th>6</th>\n",
       "      <td>isFlaggedFraud</td>\n",
       "      <td>30.6</td>\n",
       "      <td>skewed</td>\n",
       "    </tr>\n",
       "  </tbody>\n",
       "</table>\n",
       "</div>"
      ],
      "text/plain": [
       "       nama kolom  nilai skewness distribution\n",
       "0            step             0.4       normal\n",
       "1          amount             4.8       skewed\n",
       "2   oldbalanceOrg             6.1       skewed\n",
       "3  newbalanceOrig             8.0       skewed\n",
       "4  oldbalanceDest            29.0       skewed\n",
       "5  newbalanceDest            24.0       skewed\n",
       "6  isFlaggedFraud            30.6       skewed"
      ]
     },
     "execution_count": 279,
     "metadata": {},
     "output_type": "execute_result"
    }
   ],
   "source": [
    "# check distribution form skewness\n",
    "num_cols = X_train.select_dtypes(include=['number']).columns\n",
    "\n",
    "listItem = []\n",
    "\n",
    "for col in num_cols:\n",
    "    skew_value = round(X_train[col].skew(), 1)  # Hitung skewness\n",
    "    distribution = 'normal' if -0.5 <= skew_value <= 0.5 else 'skewed'\n",
    "    listItem.append([col, skew_value, distribution])\n",
    "\n",
    "# membuat DataFrame untuk hasil\n",
    "skewness = pd.DataFrame(listItem, columns=['nama kolom', 'nilai skewness', 'distribution'])\n",
    "skewness\n"
   ]
  },
  {
   "cell_type": "code",
   "execution_count": 280,
   "metadata": {},
   "outputs": [
    {
     "name": "stdout",
     "output_type": "stream",
     "text": [
      "Column step - Lower bound: -274.213, Upper bound: 884.937, Outliers = 0.00%\n",
      "Column amount - Lower bound: -702227.734, Upper bound: 1273889.916, Outliers = 14.82%\n",
      "Column oldbalanceOrg - Lower bound: -1116295.62, Upper bound: 1887352.7, Outliers = 15.37%\n",
      "Column newbalanceOrig - Lower bound: 0.0, Upper bound: 0.0, Outliers = 22.38%\n",
      "Column oldbalanceDest - Lower bound: -797754.821, Upper bound: 1329591.369, Outliers = 15.08%\n",
      "Column newbalanceDest - Lower bound: -1665130.432, Upper bound: 2775217.388, Outliers = 12.82%\n",
      "Column isFlaggedFraud - Lower bound: 0.0, Upper bound: 0.0, Outliers = 0.11%\n"
     ]
    }
   ],
   "source": [
    "# Mendapatkan kolom numerik dari X_train\n",
    "num_train = X_train._get_numeric_data()\n",
    "\n",
    "for k, v in num_train.items():\n",
    "    # Cek skewness untuk menentukan metode yang digunakan\n",
    "    if -0.5 <= round(v.skew(), 1) <= 0.5:\n",
    "        # Distribusi normal -> hitung Z-score manual\n",
    "        mean = v.mean()\n",
    "        std = v.std()\n",
    "        threshold = 3  # Threshold untuk outlier Z-score ±3\n",
    "\n",
    "        # Identifikasi outlier berdasarkan Z-score\n",
    "        v_outliers = v[(v < mean - threshold * std) | (v > mean + threshold * std)]\n",
    "\n",
    "        # Batas bawah dan atas berdasarkan Z-score\n",
    "        lower_bound = mean - threshold * std\n",
    "        upper_bound = mean + threshold * std\n",
    "    else:\n",
    "        # Distribusi tidak normal -> gunakan IQR\n",
    "        q1 = v.quantile(0.25)\n",
    "        q3 = v.quantile(0.75)\n",
    "        iqr = q3 - q1\n",
    "        v_outliers = v[(v < q1 - 1.5 * iqr) | (v > q3 + 1.5 * iqr)]\n",
    "\n",
    "        # Batas bawah dan atas berdasarkan IQR\n",
    "        lower_bound = q1 - 1.5 * iqr\n",
    "        upper_bound = q3 + 1.5 * iqr\n",
    "\n",
    "    # Hitung persentase outlier\n",
    "    perc = (len(v_outliers) / len(v)) * 100\n",
    "\n",
    "    # Tampilkan hasil\n",
    "    print(f\"Column {k} - Lower bound: {round(lower_bound,3)}, Upper bound: {round(upper_bound,3)}, Outliers = {perc:.2f}%\")"
   ]
  },
  {
   "cell_type": "markdown",
   "metadata": {},
   "source": [
    "Terlihat dari presentase outlier hanya kolom step dan isFlaggedFraud yang memiliki presentase kurang dari 5%. Sedangkan kolom lainnya seperti amount, oldbalanceOrg, newbalanceOrig, oldbalanceDest, dan newbalanceDest semuanya outlier diatas 5%. Pada newbalanceOrig yaitu saldo akun pengirim setelah transaksi outliernya sangat besar karena saldo yang sebelumnya tinggi setelah transaksi fraud menjadi rendah atau bahkan 0, dengan variasi rendah atau kebanyakan nilai 0 sehingga tidak bisa dicapping maka dibiarkan saja karena tidak menggangu model atau analisis. Kolom lain akan di handle outliers nya. Trimming bukan menjadi pilihan karena presentase outlier cukup besar sehingga capping(winsorizing) akan dilakukan."
   ]
  },
  {
   "cell_type": "code",
   "execution_count": 281,
   "metadata": {},
   "outputs": [],
   "source": [
    "from feature_engine.outliers import Winsorizer\n",
    "\n",
    "windsoriser = Winsorizer(capping_method='iqr', # choose iqr for IQR rule boundaries or gaussian for mean and std\n",
    "                          tail='both', # cap left, right or both tails\n",
    "                          fold=1.5,\n",
    "                          variables=['amount', 'oldbalanceOrg', 'oldbalanceDest', 'newbalanceDest'])\n",
    "\n",
    "windsoriser.fit(X_train)\n",
    "\n",
    "X_train = windsoriser.transform(X_train)"
   ]
  },
  {
   "cell_type": "markdown",
   "metadata": {},
   "source": [
    "Selanjutnya kita memutuskan untuk melakukan Capping, mengingat amount, oldbalanceOrg, oldbalanceDest, dan newbalanceDest tidak mungkin ditriming atau dihapus karena merupakan fitur yang penting untuk prediksi fraud. Tidak mungkin juga kita melakukan Retaining karena ketika melihat perbandingan antara upper boundary, lower boundary, nilai minimum, dan nilai maksimum value pada kolom tersebut tidak memungkinkan dan jauh dari mean valuenya, rangenya diluar 0 - 100. Sehingga capping adalah metode yang paling tepat."
   ]
  },
  {
   "cell_type": "markdown",
   "metadata": {},
   "source": [
    "## Handling Missing Values"
   ]
  },
  {
   "cell_type": "code",
   "execution_count": 282,
   "metadata": {},
   "outputs": [
    {
     "data": {
      "text/plain": [
       "step              0\n",
       "type              0\n",
       "amount            0\n",
       "nameOrig          0\n",
       "oldbalanceOrg     0\n",
       "newbalanceOrig    0\n",
       "nameDest          0\n",
       "oldbalanceDest    0\n",
       "newbalanceDest    0\n",
       "isFlaggedFraud    0\n",
       "dtype: int64"
      ]
     },
     "execution_count": 282,
     "metadata": {},
     "output_type": "execute_result"
    }
   ],
   "source": [
    "# cek missing value pada X_train\n",
    "X_train.isnull().sum()"
   ]
  },
  {
   "cell_type": "markdown",
   "metadata": {},
   "source": [
    "Tidak terlihat massing value pada X_train maka kita dapat melanjutkan analisis selanjutnya."
   ]
  },
  {
   "cell_type": "code",
   "execution_count": 283,
   "metadata": {},
   "outputs": [
    {
     "data": {
      "text/plain": [
       "step              0\n",
       "type              0\n",
       "amount            0\n",
       "nameOrig          0\n",
       "oldbalanceOrg     0\n",
       "newbalanceOrig    0\n",
       "nameDest          0\n",
       "oldbalanceDest    0\n",
       "newbalanceDest    0\n",
       "isFlaggedFraud    0\n",
       "dtype: int64"
      ]
     },
     "execution_count": 283,
     "metadata": {},
     "output_type": "execute_result"
    }
   ],
   "source": [
    "# cek missing value pada X_test\n",
    "X_test.isnull().sum()"
   ]
  },
  {
   "cell_type": "markdown",
   "metadata": {},
   "source": [
    "Tidak terlihat massing value pada X_test maka kita dapat melanjutkan analisis selanjutnya."
   ]
  },
  {
   "cell_type": "code",
   "execution_count": 284,
   "metadata": {},
   "outputs": [
    {
     "data": {
      "text/plain": [
       "0"
      ]
     },
     "execution_count": 284,
     "metadata": {},
     "output_type": "execute_result"
    }
   ],
   "source": [
    "# cek missing value pada y_train\n",
    "y_train.isnull().sum()"
   ]
  },
  {
   "cell_type": "markdown",
   "metadata": {},
   "source": [
    "Tidak terlihat massing value pada y_train maka kita dapat melanjutkan analisis selanjutnya."
   ]
  },
  {
   "cell_type": "code",
   "execution_count": 285,
   "metadata": {},
   "outputs": [
    {
     "data": {
      "text/plain": [
       "0"
      ]
     },
     "execution_count": 285,
     "metadata": {},
     "output_type": "execute_result"
    }
   ],
   "source": [
    "# cek missing value pada y_train\n",
    "y_test.isnull().sum()"
   ]
  },
  {
   "cell_type": "markdown",
   "metadata": {},
   "source": [
    "Tidak terlihat massing value pada y_test maka kita dapat melanjutkan analisis selanjutnya."
   ]
  },
  {
   "cell_type": "markdown",
   "metadata": {},
   "source": [
    "\n",
    "Secara keseluruhan tidak memiliki missing value, sehingga proses feature engineering bisa dilanjutkan ke tahapan analisis selanjutnya."
   ]
  },
  {
   "cell_type": "markdown",
   "metadata": {},
   "source": [
    "## Feature Selection Using Fitur Importance"
   ]
  },
  {
   "cell_type": "code",
   "execution_count": 286,
   "metadata": {},
   "outputs": [
    {
     "data": {
      "text/html": [
       "<div>\n",
       "<style scoped>\n",
       "    .dataframe tbody tr th:only-of-type {\n",
       "        vertical-align: middle;\n",
       "    }\n",
       "\n",
       "    .dataframe tbody tr th {\n",
       "        vertical-align: top;\n",
       "    }\n",
       "\n",
       "    .dataframe thead th {\n",
       "        text-align: right;\n",
       "    }\n",
       "</style>\n",
       "<table border=\"1\" class=\"dataframe\">\n",
       "  <thead>\n",
       "    <tr style=\"text-align: right;\">\n",
       "      <th></th>\n",
       "      <th>step</th>\n",
       "      <th>type</th>\n",
       "      <th>amount</th>\n",
       "      <th>oldbalanceOrg</th>\n",
       "      <th>newbalanceOrig</th>\n",
       "      <th>oldbalanceDest</th>\n",
       "      <th>newbalanceDest</th>\n",
       "      <th>isFlaggedFraud</th>\n",
       "    </tr>\n",
       "  </thead>\n",
       "  <tbody>\n",
       "    <tr>\n",
       "      <th>4262</th>\n",
       "      <td>326</td>\n",
       "      <td>CASH_OUT</td>\n",
       "      <td>5.048626e+04</td>\n",
       "      <td>33359.00</td>\n",
       "      <td>0.0</td>\n",
       "      <td>44560.40</td>\n",
       "      <td>9.504667e+04</td>\n",
       "      <td>0</td>\n",
       "    </tr>\n",
       "    <tr>\n",
       "      <th>14850</th>\n",
       "      <td>603</td>\n",
       "      <td>TRANSFER</td>\n",
       "      <td>1.273890e+06</td>\n",
       "      <td>1887352.70</td>\n",
       "      <td>0.0</td>\n",
       "      <td>0.00</td>\n",
       "      <td>0.000000e+00</td>\n",
       "      <td>0</td>\n",
       "    </tr>\n",
       "    <tr>\n",
       "      <th>6442</th>\n",
       "      <td>275</td>\n",
       "      <td>PAYMENT</td>\n",
       "      <td>4.053300e+02</td>\n",
       "      <td>0.00</td>\n",
       "      <td>0.0</td>\n",
       "      <td>0.00</td>\n",
       "      <td>0.000000e+00</td>\n",
       "      <td>0</td>\n",
       "    </tr>\n",
       "    <tr>\n",
       "      <th>3337</th>\n",
       "      <td>34</td>\n",
       "      <td>CASH_OUT</td>\n",
       "      <td>2.014685e+05</td>\n",
       "      <td>0.00</td>\n",
       "      <td>0.0</td>\n",
       "      <td>415294.69</td>\n",
       "      <td>6.167632e+05</td>\n",
       "      <td>0</td>\n",
       "    </tr>\n",
       "    <tr>\n",
       "      <th>8351</th>\n",
       "      <td>12</td>\n",
       "      <td>CASH_OUT</td>\n",
       "      <td>2.220487e+05</td>\n",
       "      <td>0.00</td>\n",
       "      <td>0.0</td>\n",
       "      <td>2979.00</td>\n",
       "      <td>2.250277e+05</td>\n",
       "      <td>0</td>\n",
       "    </tr>\n",
       "    <tr>\n",
       "      <th>...</th>\n",
       "      <td>...</td>\n",
       "      <td>...</td>\n",
       "      <td>...</td>\n",
       "      <td>...</td>\n",
       "      <td>...</td>\n",
       "      <td>...</td>\n",
       "      <td>...</td>\n",
       "      <td>...</td>\n",
       "    </tr>\n",
       "    <tr>\n",
       "      <th>11532</th>\n",
       "      <td>293</td>\n",
       "      <td>TRANSFER</td>\n",
       "      <td>5.301250e+05</td>\n",
       "      <td>530124.99</td>\n",
       "      <td>0.0</td>\n",
       "      <td>0.00</td>\n",
       "      <td>0.000000e+00</td>\n",
       "      <td>0</td>\n",
       "    </tr>\n",
       "    <tr>\n",
       "      <th>16065</th>\n",
       "      <td>713</td>\n",
       "      <td>CASH_OUT</td>\n",
       "      <td>1.273890e+06</td>\n",
       "      <td>1887352.70</td>\n",
       "      <td>0.0</td>\n",
       "      <td>857797.35</td>\n",
       "      <td>2.775217e+06</td>\n",
       "      <td>0</td>\n",
       "    </tr>\n",
       "    <tr>\n",
       "      <th>14501</th>\n",
       "      <td>569</td>\n",
       "      <td>CASH_OUT</td>\n",
       "      <td>5.773017e+05</td>\n",
       "      <td>577301.73</td>\n",
       "      <td>0.0</td>\n",
       "      <td>0.00</td>\n",
       "      <td>5.773017e+05</td>\n",
       "      <td>0</td>\n",
       "    </tr>\n",
       "    <tr>\n",
       "      <th>14555</th>\n",
       "      <td>573</td>\n",
       "      <td>CASH_OUT</td>\n",
       "      <td>4.577891e+05</td>\n",
       "      <td>457789.14</td>\n",
       "      <td>0.0</td>\n",
       "      <td>0.00</td>\n",
       "      <td>4.577891e+05</td>\n",
       "      <td>0</td>\n",
       "    </tr>\n",
       "    <tr>\n",
       "      <th>11590</th>\n",
       "      <td>297</td>\n",
       "      <td>TRANSFER</td>\n",
       "      <td>1.273890e+06</td>\n",
       "      <td>1887352.70</td>\n",
       "      <td>0.0</td>\n",
       "      <td>0.00</td>\n",
       "      <td>0.000000e+00</td>\n",
       "      <td>0</td>\n",
       "    </tr>\n",
       "  </tbody>\n",
       "</table>\n",
       "<p>13140 rows × 8 columns</p>\n",
       "</div>"
      ],
      "text/plain": [
       "       step      type        amount  oldbalanceOrg  newbalanceOrig  \\\n",
       "4262    326  CASH_OUT  5.048626e+04       33359.00             0.0   \n",
       "14850   603  TRANSFER  1.273890e+06     1887352.70             0.0   \n",
       "6442    275   PAYMENT  4.053300e+02           0.00             0.0   \n",
       "3337     34  CASH_OUT  2.014685e+05           0.00             0.0   \n",
       "8351     12  CASH_OUT  2.220487e+05           0.00             0.0   \n",
       "...     ...       ...           ...            ...             ...   \n",
       "11532   293  TRANSFER  5.301250e+05      530124.99             0.0   \n",
       "16065   713  CASH_OUT  1.273890e+06     1887352.70             0.0   \n",
       "14501   569  CASH_OUT  5.773017e+05      577301.73             0.0   \n",
       "14555   573  CASH_OUT  4.577891e+05      457789.14             0.0   \n",
       "11590   297  TRANSFER  1.273890e+06     1887352.70             0.0   \n",
       "\n",
       "       oldbalanceDest  newbalanceDest  isFlaggedFraud  \n",
       "4262         44560.40    9.504667e+04               0  \n",
       "14850            0.00    0.000000e+00               0  \n",
       "6442             0.00    0.000000e+00               0  \n",
       "3337        415294.69    6.167632e+05               0  \n",
       "8351          2979.00    2.250277e+05               0  \n",
       "...               ...             ...             ...  \n",
       "11532            0.00    0.000000e+00               0  \n",
       "16065       857797.35    2.775217e+06               0  \n",
       "14501            0.00    5.773017e+05               0  \n",
       "14555            0.00    4.577891e+05               0  \n",
       "11590            0.00    0.000000e+00               0  \n",
       "\n",
       "[13140 rows x 8 columns]"
      ]
     },
     "execution_count": 286,
     "metadata": {},
     "output_type": "execute_result"
    }
   ],
   "source": [
    "# menghapus kolom yang tidak importance pada X_train berdasarkan EDA\n",
    "X_train.drop(['nameOrig', 'nameDest'], axis=1, inplace=True)\n",
    "X_train"
   ]
  },
  {
   "cell_type": "code",
   "execution_count": 287,
   "metadata": {},
   "outputs": [
    {
     "data": {
      "text/html": [
       "<div>\n",
       "<style scoped>\n",
       "    .dataframe tbody tr th:only-of-type {\n",
       "        vertical-align: middle;\n",
       "    }\n",
       "\n",
       "    .dataframe tbody tr th {\n",
       "        vertical-align: top;\n",
       "    }\n",
       "\n",
       "    .dataframe thead th {\n",
       "        text-align: right;\n",
       "    }\n",
       "</style>\n",
       "<table border=\"1\" class=\"dataframe\">\n",
       "  <thead>\n",
       "    <tr style=\"text-align: right;\">\n",
       "      <th></th>\n",
       "      <th>step</th>\n",
       "      <th>type</th>\n",
       "      <th>amount</th>\n",
       "      <th>oldbalanceOrg</th>\n",
       "      <th>newbalanceOrig</th>\n",
       "      <th>oldbalanceDest</th>\n",
       "      <th>newbalanceDest</th>\n",
       "      <th>isFlaggedFraud</th>\n",
       "    </tr>\n",
       "  </thead>\n",
       "  <tbody>\n",
       "    <tr>\n",
       "      <th>12602</th>\n",
       "      <td>394</td>\n",
       "      <td>TRANSFER</td>\n",
       "      <td>1303543.60</td>\n",
       "      <td>1303543.60</td>\n",
       "      <td>0.0</td>\n",
       "      <td>0.00</td>\n",
       "      <td>0.00</td>\n",
       "      <td>0</td>\n",
       "    </tr>\n",
       "    <tr>\n",
       "      <th>7717</th>\n",
       "      <td>167</td>\n",
       "      <td>PAYMENT</td>\n",
       "      <td>1986.59</td>\n",
       "      <td>0.00</td>\n",
       "      <td>0.0</td>\n",
       "      <td>0.00</td>\n",
       "      <td>0.00</td>\n",
       "      <td>0</td>\n",
       "    </tr>\n",
       "    <tr>\n",
       "      <th>48</th>\n",
       "      <td>254</td>\n",
       "      <td>CASH_OUT</td>\n",
       "      <td>191768.82</td>\n",
       "      <td>0.00</td>\n",
       "      <td>0.0</td>\n",
       "      <td>290700.84</td>\n",
       "      <td>482469.66</td>\n",
       "      <td>0</td>\n",
       "    </tr>\n",
       "    <tr>\n",
       "      <th>11923</th>\n",
       "      <td>329</td>\n",
       "      <td>CASH_OUT</td>\n",
       "      <td>84312.29</td>\n",
       "      <td>84312.29</td>\n",
       "      <td>0.0</td>\n",
       "      <td>121545.95</td>\n",
       "      <td>205858.24</td>\n",
       "      <td>0</td>\n",
       "    </tr>\n",
       "    <tr>\n",
       "      <th>5628</th>\n",
       "      <td>256</td>\n",
       "      <td>PAYMENT</td>\n",
       "      <td>12010.44</td>\n",
       "      <td>6003.00</td>\n",
       "      <td>0.0</td>\n",
       "      <td>0.00</td>\n",
       "      <td>0.00</td>\n",
       "      <td>0</td>\n",
       "    </tr>\n",
       "    <tr>\n",
       "      <th>...</th>\n",
       "      <td>...</td>\n",
       "      <td>...</td>\n",
       "      <td>...</td>\n",
       "      <td>...</td>\n",
       "      <td>...</td>\n",
       "      <td>...</td>\n",
       "      <td>...</td>\n",
       "      <td>...</td>\n",
       "    </tr>\n",
       "    <tr>\n",
       "      <th>2263</th>\n",
       "      <td>19</td>\n",
       "      <td>PAYMENT</td>\n",
       "      <td>9988.47</td>\n",
       "      <td>202527.97</td>\n",
       "      <td>192539.5</td>\n",
       "      <td>0.00</td>\n",
       "      <td>0.00</td>\n",
       "      <td>0</td>\n",
       "    </tr>\n",
       "    <tr>\n",
       "      <th>10336</th>\n",
       "      <td>187</td>\n",
       "      <td>CASH_OUT</td>\n",
       "      <td>2044841.02</td>\n",
       "      <td>2044841.02</td>\n",
       "      <td>0.0</td>\n",
       "      <td>397169.10</td>\n",
       "      <td>2442010.12</td>\n",
       "      <td>0</td>\n",
       "    </tr>\n",
       "    <tr>\n",
       "      <th>3924</th>\n",
       "      <td>136</td>\n",
       "      <td>PAYMENT</td>\n",
       "      <td>34730.95</td>\n",
       "      <td>0.00</td>\n",
       "      <td>0.0</td>\n",
       "      <td>0.00</td>\n",
       "      <td>0.00</td>\n",
       "      <td>0</td>\n",
       "    </tr>\n",
       "    <tr>\n",
       "      <th>11618</th>\n",
       "      <td>302</td>\n",
       "      <td>TRANSFER</td>\n",
       "      <td>43235.71</td>\n",
       "      <td>43235.71</td>\n",
       "      <td>0.0</td>\n",
       "      <td>0.00</td>\n",
       "      <td>0.00</td>\n",
       "      <td>0</td>\n",
       "    </tr>\n",
       "    <tr>\n",
       "      <th>14793</th>\n",
       "      <td>597</td>\n",
       "      <td>CASH_OUT</td>\n",
       "      <td>1015051.70</td>\n",
       "      <td>1015051.70</td>\n",
       "      <td>0.0</td>\n",
       "      <td>267402.30</td>\n",
       "      <td>1282454.00</td>\n",
       "      <td>0</td>\n",
       "    </tr>\n",
       "  </tbody>\n",
       "</table>\n",
       "<p>3286 rows × 8 columns</p>\n",
       "</div>"
      ],
      "text/plain": [
       "       step      type      amount  oldbalanceOrg  newbalanceOrig  \\\n",
       "12602   394  TRANSFER  1303543.60     1303543.60             0.0   \n",
       "7717    167   PAYMENT     1986.59           0.00             0.0   \n",
       "48      254  CASH_OUT   191768.82           0.00             0.0   \n",
       "11923   329  CASH_OUT    84312.29       84312.29             0.0   \n",
       "5628    256   PAYMENT    12010.44        6003.00             0.0   \n",
       "...     ...       ...         ...            ...             ...   \n",
       "2263     19   PAYMENT     9988.47      202527.97        192539.5   \n",
       "10336   187  CASH_OUT  2044841.02     2044841.02             0.0   \n",
       "3924    136   PAYMENT    34730.95           0.00             0.0   \n",
       "11618   302  TRANSFER    43235.71       43235.71             0.0   \n",
       "14793   597  CASH_OUT  1015051.70     1015051.70             0.0   \n",
       "\n",
       "       oldbalanceDest  newbalanceDest  isFlaggedFraud  \n",
       "12602            0.00            0.00               0  \n",
       "7717             0.00            0.00               0  \n",
       "48          290700.84       482469.66               0  \n",
       "11923       121545.95       205858.24               0  \n",
       "5628             0.00            0.00               0  \n",
       "...               ...             ...             ...  \n",
       "2263             0.00            0.00               0  \n",
       "10336       397169.10      2442010.12               0  \n",
       "3924             0.00            0.00               0  \n",
       "11618            0.00            0.00               0  \n",
       "14793       267402.30      1282454.00               0  \n",
       "\n",
       "[3286 rows x 8 columns]"
      ]
     },
     "execution_count": 287,
     "metadata": {},
     "output_type": "execute_result"
    }
   ],
   "source": [
    "# menghapus kolom yang tidak importance pada X_test berdasarkan EDA\n",
    "X_test.drop(['nameOrig', 'nameDest'], axis=1, inplace=True)\n",
    "X_test"
   ]
  },
  {
   "cell_type": "markdown",
   "metadata": {},
   "source": [
    "Berdasarkan hasil analisis kita sebelumnya pada EDA (khususnya nomor 7 dan 8) bahwa tidak ada hubungan yang kuat antara nameOrig dan nameDest terhadap transaksi Fraud, selain itu juga tingkat unik atau cardinality yang tinggi pada dua kolom tersebut maka diambil langkah tepat yaitu mendrop 2 kolom tersebut agar tidak menghambat analisis atau membuat performa model menjadi kurang maksimal. Dan fitur yang dianggap penting atau mempunyai hubungan yang kuat terhadap Fraud seperti step, type, amount, oldbalanceOrg, newbalanceOrig, oldbalanceDest, newbalanceDest\tdan isFlaggedFraud akan digunakan untuk analisis selanjutnya."
   ]
  },
  {
   "cell_type": "markdown",
   "metadata": {},
   "source": [
    "## Column Transformer"
   ]
  },
  {
   "cell_type": "code",
   "execution_count": 288,
   "metadata": {},
   "outputs": [],
   "source": [
    "#Making column transformer for preprocessing\n",
    "transformer = ColumnTransformer([\n",
    "('scaler', MinMaxScaler(), selector(dtype_exclude='object')),\n",
    "('encoding', OneHotEncoder(), selector(dtype_include='object'))\n",
    "])"
   ]
  },
  {
   "cell_type": "markdown",
   "metadata": {},
   "source": [
    "Selanjutnya kita akan melakukan transformer data pada clumn transformer kita menggunakan minmaxscaler agar skala data direntang nilai yang sama teruatama dataset kebanyakan fitur numerik dan datanya banyak yang skew atau tidak normal maka kita ambil rentang 0 sampai 1 maka minmax yang paling tepat. Lalu kita menggunakan onehotencoder agar data kategorik bisa dibaca machine learning berupa angka sehingga bisa memaksimal kinetja model."
   ]
  },
  {
   "cell_type": "markdown",
   "metadata": {},
   "source": [
    "## Modelling KNN, SVM, Decision Tree, Random Forest dan Boosting"
   ]
  },
  {
   "cell_type": "code",
   "execution_count": 289,
   "metadata": {},
   "outputs": [],
   "source": [
    "# Membuat pipeline untuk KNN\n",
    "pipe_knn = ImbPipeline([\n",
    "    ('transformer', transformer),\n",
    "    ('classifier', KNeighborsClassifier())\n",
    "])"
   ]
  },
  {
   "cell_type": "markdown",
   "metadata": {},
   "source": [
    "Membuat pipeline untuk model algoritma KNN dengan menggunakan ImbPipeline kita dapat menggabungkan teknik oversampling atau undersampling dengan algoritma klasifikasi dalam satu pipeline sehinggan lebih mudah untuk pemodelan yang akan kita analisis."
   ]
  },
  {
   "cell_type": "code",
   "execution_count": 290,
   "metadata": {},
   "outputs": [],
   "source": [
    "# Buat pipeline untuk SVM \n",
    "pipe_svm = ImbPipeline([\n",
    "    ('transformer', transformer),\n",
    "    ('classifier', SVC(probability=True))\n",
    "])"
   ]
  },
  {
   "cell_type": "markdown",
   "metadata": {},
   "source": [
    "Membuat pipeline untuk model algoritma SVM dengan menggunakan ImbPipeline kita dapat menggabungkan teknik oversampling atau undersampling dengan algoritma klasifikasi dalam satu pipeline sehinggan lebih mudah untuk pemodelan yang akan kita analisis."
   ]
  },
  {
   "cell_type": "code",
   "execution_count": 291,
   "metadata": {},
   "outputs": [],
   "source": [
    "# Membuat pipeline untuk Decision Tree\n",
    "pipe_dt = ImbPipeline([\n",
    "    ('transformer', transformer),\n",
    "    ('classifier', DecisionTreeClassifier())\n",
    "])"
   ]
  },
  {
   "cell_type": "markdown",
   "metadata": {},
   "source": [
    "Membuat pipeline untuk model algoritma Decision Tree dengan menggunakan ImbPipeline kita dapat menggabungkan teknik oversampling atau undersampling dengan algoritma klasifikasi dalam satu pipeline sehinggan lebih mudah untuk pemodelan yang akan kita analisis."
   ]
  },
  {
   "cell_type": "code",
   "execution_count": 292,
   "metadata": {},
   "outputs": [],
   "source": [
    "# Membuat pipeline untuk Random Forest\n",
    "pipe_rf = ImbPipeline([\n",
    "    ('transformer', transformer),\n",
    "    ('classifier', RandomForestClassifier())\n",
    "])"
   ]
  },
  {
   "cell_type": "markdown",
   "metadata": {},
   "source": [
    "Membuat pipeline untuk model algoritma Random Forest dengan menggunakan ImbPipeline kita dapat menggabungkan teknik oversampling atau undersampling dengan algoritma klasifikasi dalam satu pipeline sehinggan lebih mudah untuk pemodelan yang akan kita analisis."
   ]
  },
  {
   "cell_type": "code",
   "execution_count": 293,
   "metadata": {},
   "outputs": [],
   "source": [
    "# Membuat pipeline untuk XGBoost\n",
    "pipe_xgb = ImbPipeline([\n",
    "    ('transformer', transformer),\n",
    "    ('classifier', XGBClassifier())\n",
    "])"
   ]
  },
  {
   "cell_type": "markdown",
   "metadata": {},
   "source": [
    "Membuat pipeline untuk model algoritma XGBoost dengan menggunakan ImbPipeline kita dapat menggabungkan teknik oversampling atau undersampling dengan algoritma klasifikasi dalam satu pipeline sehinggan lebih mudah untuk pemodelan yang akan kita analisis."
   ]
  },
  {
   "cell_type": "markdown",
   "metadata": {},
   "source": [
    "# 7. Model Training"
   ]
  },
  {
   "cell_type": "markdown",
   "metadata": {},
   "source": [
    "## Training Model KNN, SVM, Decision Tree, Random Forest dan Boosting"
   ]
  },
  {
   "cell_type": "code",
   "execution_count": 294,
   "metadata": {},
   "outputs": [
    {
     "name": "stdout",
     "output_type": "stream",
     "text": [
      "Training Score KNN:  0.9699\n",
      "Testing Score KNN:  0.951\n"
     ]
    }
   ],
   "source": [
    "# training KNN model\n",
    "pipe_knn.fit(X_train, y_train)\n",
    "print('Training Score KNN: ',round(pipe_knn.score(X_train, y_train),4))\n",
    "print('Testing Score KNN: ', round(pipe_knn.score(X_test, y_test),4))"
   ]
  },
  {
   "cell_type": "markdown",
   "metadata": {},
   "source": [
    "Melakukan Training pada model algoritma KNN, lalu kita mendapat hasil sebesar 0,9699 artinya model berhasil belajar pada saat train menggunakan data train menguasai data atau belajarnya saat train yaitu kemapuan memeprediksi fraudnya sebesar 96.99%. Lalu ketika dites menggunakan data uji yaitu proporsi 20% dari keseluruhan data, model berhasil memprediksi fraud sebesar 95.1% saat diuji data test. Secara keseluruhan melihat dari training score dan testing score model memberikan hasil yang konsisten (tidak jauh nilai train dan tesnya) dan cukup optimal atau bagus karena diatas 95% kinerjanya."
   ]
  },
  {
   "cell_type": "code",
   "execution_count": 295,
   "metadata": {},
   "outputs": [
    {
     "name": "stdout",
     "output_type": "stream",
     "text": [
      "Training Score SVM:  0.9463\n",
      "Testing Score SVM:  0.8472\n"
     ]
    }
   ],
   "source": [
    "# training SVM model\n",
    "pipe_svm.fit(X_train, y_train)\n",
    "print('Training Score SVM: ',round(pipe_svm.score(X_train, y_train),4))\n",
    "print('Testing Score SVM: ', round(pipe_svm.score(X_test, y_test),4))"
   ]
  },
  {
   "cell_type": "markdown",
   "metadata": {},
   "source": [
    "Melakukan Training pada model algoritma SVM, lalu kita mendapat hasil sebesar 0.9463 artinya model berhasil belajar pada saat train menggunakan data train menguasai data atau belajarnya saat train yaitu kemapuan memeprediksi fraudnya sebesar 94.63%. Lalu ketika dites menggunakan data uji yaitu proporsi 20% dari keseluruhan data, model berhasil memprediksi fraud sebesar 84.72% saat diuji data test. Secara keseluruhan melihat dari training score dan testing score model memberikan hasil yang konsisten (tidak jauh nilai train dan tesnya) dan cukup optimal diatas 80% ketika test, masih lebih optimal model dengan KNN."
   ]
  },
  {
   "cell_type": "code",
   "execution_count": 296,
   "metadata": {},
   "outputs": [
    {
     "name": "stdout",
     "output_type": "stream",
     "text": [
      "Training Score DT:  1.0\n",
      "Testing Score DT:  0.9887\n"
     ]
    }
   ],
   "source": [
    "# training Decision Tree model\n",
    "pipe_dt.fit(X_train, y_train)\n",
    "print('Training Score DT: ',round(pipe_dt.score(X_train, y_train),4))\n",
    "print('Testing Score DT: ', round(pipe_dt.score(X_test, y_test),4))"
   ]
  },
  {
   "cell_type": "markdown",
   "metadata": {},
   "source": [
    "Melakukan Training pada model algoritma Decision Tree, lalu kita mendapat hasil sebesar 1.0 artinya model berhasil belajar dengan sangat sempurna pada saat train  yaitu kemapuan memprediksi fraudnya sebesar 100% tanpa kesalahan. Lalu ketika dites menggunakan data uji yaitu proporsi 20% dari keseluruhan data, model berhasil memprediksi fraud sebesar 98.81% saat diuji data test. Secara keseluruhan melihat dari training score dan testing score model memberikan hasil yang konsisten (tidak jauh nilai train dan tesnya) dan cukup optimal bahkan sangat bagus diatas 98% ketika test, masih lebih optimal model dengan KNN dan SVM."
   ]
  },
  {
   "cell_type": "code",
   "execution_count": 297,
   "metadata": {},
   "outputs": [
    {
     "name": "stdout",
     "output_type": "stream",
     "text": [
      "Training Score RF:  1.0\n",
      "Testing Score RF:  0.9906\n"
     ]
    }
   ],
   "source": [
    "# training Random Forest model\n",
    "pipe_rf.fit(X_train, y_train)\n",
    "print('Training Score RF: ',round(pipe_rf.score(X_train, y_train),4))\n",
    "print('Testing Score RF: ', round(pipe_rf.score(X_test, y_test),4))"
   ]
  },
  {
   "cell_type": "markdown",
   "metadata": {},
   "source": [
    "Melakukan Training pada model algoritma Random Forest, lalu kita mendapat hasil sebesar 1.0 artinya model berhasil belajar dengan sangat sempurna pada saat train  yaitu kemapuan memprediksi fraudnya sebesar 100% tanpa kesalahan. Lalu ketika dites menggunakan data uji yaitu proporsi 20% dari keseluruhan data, model berhasil memprediksi fraud sebesar 99.03% saat diuji data test. Secara keseluruhan melihat dari training score dan testing score model memberikan hasil yang konsisten (tidak jauh nilai train dan tesnya) dan cukup optimal bahkan sangat bagus diatas 99% ketika test, masih lebih optimal model dengan KNN, SVM dan Decision Tree."
   ]
  },
  {
   "cell_type": "code",
   "execution_count": 298,
   "metadata": {},
   "outputs": [
    {
     "name": "stdout",
     "output_type": "stream",
     "text": [
      "Training Score XGB:  0.9998\n",
      "Testing Score XGB:  0.993\n"
     ]
    }
   ],
   "source": [
    "# training XGBoost model\n",
    "pipe_xgb.fit(X_train, y_train)\n",
    "print('Training Score XGB: ',round(pipe_xgb.score(X_train, y_train),4))\n",
    "print('Testing Score XGB: ', round(pipe_xgb.score(X_test, y_test),4))"
   ]
  },
  {
   "cell_type": "markdown",
   "metadata": {},
   "source": [
    "Melakukan Training pada model algoritma XGBoost, lalu kita mendapat hasil sebesar 0.9998 artinya model berhasil belajar dengan akurasi 99.98% pada saat train  yaitu kemapuan memprediksi fraudnya sebesar 99.98% hampir mendekati sempurna. Lalu ketika dites menggunakan data uji yaitu proporsi 20% dari keseluruhan data, model berhasil memprediksi fraud sebesar 99.30% saat diuji data test. Secara keseluruhan melihat dari training score dan testing score model memberikan hasil yang konsisten (tidak jauh nilai train dan tesnya) dan cukup optimal bahkan sangat bagus diatas 99% ketika test, masih lebih optimal model dengan KNN, SVM dan Decision Tree dan RandomForest. Berdasarkan score training dan test XGBoost adalah algoritma terbaik untuk analisis saat ini."
   ]
  },
  {
   "cell_type": "markdown",
   "metadata": {},
   "source": [
    "# 8. Model Evaluation"
   ]
  },
  {
   "cell_type": "markdown",
   "metadata": {},
   "source": [
    "## Evalution KNN Model"
   ]
  },
  {
   "cell_type": "code",
   "execution_count": 299,
   "metadata": {},
   "outputs": [
    {
     "data": {
      "text/plain": [
       "array([1, 0, 0, ..., 0, 1, 1])"
      ]
     },
     "execution_count": 299,
     "metadata": {},
     "output_type": "execute_result"
    }
   ],
   "source": [
    "# membuat prediksi model SVM\n",
    "y_knn_pred = pipe_knn.predict(X_test)\n",
    "y_knn_pred"
   ]
  },
  {
   "cell_type": "markdown",
   "metadata": {},
   "source": [
    "Membuat prediksi menggunakan model pipe_knn terhadap dataset uji atau X_test yang telah kita lakukan sebelumnya"
   ]
  },
  {
   "cell_type": "markdown",
   "metadata": {},
   "source": [
    "### Recall"
   ]
  },
  {
   "cell_type": "code",
   "execution_count": 300,
   "metadata": {},
   "outputs": [
    {
     "name": "stdout",
     "output_type": "stream",
     "text": [
      "              precision    recall  f1-score   support\n",
      "\n",
      "    No Fraud       0.96      0.94      0.95      1606\n",
      "     isFraud       0.95      0.96      0.95      1680\n",
      "\n",
      "    accuracy                           0.95      3286\n",
      "   macro avg       0.95      0.95      0.95      3286\n",
      "weighted avg       0.95      0.95      0.95      3286\n",
      "\n"
     ]
    }
   ],
   "source": [
    "target = ['No Fraud', 'isFraud']\n",
    "print(classification_report(y_test, y_knn_pred, target_names = target))"
   ]
  },
  {
   "cell_type": "markdown",
   "metadata": {},
   "source": [
    "Berdsarkan visualisasi diatas kita akan fokus terhadap recall, mengapa kita memilih recall? pada analisis prediksi kali ini kita bertujuan untuk mendeteksi fraud, maka kita mengambil positif adalah fraud. Dengan menggunakan Recall yang cenderung kearah False Negatif, maka ketika positifnya Fraud maka aslinya adalah tidak fraud namun hasil prediksinya adalah fraud sehingga hasil prediksi ini dianggap lebih baik daripada ketika sebenernya terjadi fraud lalu diprediksi menjadi tidak fraud (False Positif). Nilai Recall 0.96 artinya model berhasil memprediksi transaksi fraud dengan akurasi 96% pada model ini artinya performa algoritma KNN bagus diatas 95%."
   ]
  },
  {
   "cell_type": "markdown",
   "metadata": {},
   "source": [
    "### Cross Validation"
   ]
  },
  {
   "cell_type": "code",
   "execution_count": 301,
   "metadata": {},
   "outputs": [
    {
     "name": "stdout",
     "output_type": "stream",
     "text": [
      "Recall - All - Cross Validation  :  [0.95222784 0.95867769 0.94719927]\n",
      "Recall - Mean - Cross Validation :  0.9527015959345687\n",
      "Recall - Std - Cross Validation  :  0.004698004591507188\n",
      "Recall - Range of Test-Set       :  0.9480035913430616 - 0.9573996005260759\n"
     ]
    }
   ],
   "source": [
    "f1_train_cross_val = cross_val_score(pipe_knn,\n",
    "                                     X_train,\n",
    "                                     y_train,\n",
    "                                     cv=3,\n",
    "                                     scoring=\"recall\")\n",
    "\n",
    "print('Recall - All - Cross Validation  : ', f1_train_cross_val)\n",
    "print('Recall - Mean - Cross Validation : ', f1_train_cross_val.mean())\n",
    "print('Recall - Std - Cross Validation  : ', f1_train_cross_val.std())\n",
    "print('Recall - Range of Test-Set       : ', (f1_train_cross_val.mean()-f1_train_cross_val.std()) , '-', (f1_train_cross_val.mean()+f1_train_cross_val.std())) \n"
   ]
  },
  {
   "cell_type": "code",
   "execution_count": 302,
   "metadata": {},
   "outputs": [
    {
     "name": "stdout",
     "output_type": "stream",
     "text": [
      "F1 Score - All - Cross Validation  :  [0.95398067 0.95190335 0.94763436]\n",
      "F1 Score - Mean - Cross Validation :  0.9511727939671072\n",
      "F1 Score - Std - Cross Validation  :  0.002641868796667188\n",
      "F1 Score - Range of Test-Set       :  0.94853092517044 - 0.9538146627637744\n"
     ]
    }
   ],
   "source": [
    "#Cross Validation\n",
    "\n",
    "f1_train_cross_val = cross_val_score(pipe_knn,\n",
    "                                     X_train,\n",
    "                                     y_train,\n",
    "                                     cv=3,\n",
    "                                     scoring=\"f1\")\n",
    "\n",
    "print('F1 Score - All - Cross Validation  : ', f1_train_cross_val)\n",
    "print('F1 Score - Mean - Cross Validation : ', f1_train_cross_val.mean())\n",
    "print('F1 Score - Std - Cross Validation  : ', f1_train_cross_val.std())\n",
    "print('F1 Score - Range of Test-Set       : ', (f1_train_cross_val.mean()-f1_train_cross_val.std()) , '-', (f1_train_cross_val.mean()+f1_train_cross_val.std()))"
   ]
  },
  {
   "cell_type": "markdown",
   "metadata": {},
   "source": [
    "Berdasarkan visualisasi diatas nilai F1 score secara keseluruhan untuk tiga fold adalah 0.95398067, 0.95190335, dan 0.94763436. Dilihat dari nilai Mean, Std, dan Range semuanya menunjukkan hasil bahwa secara keseluruhan menunjukkan bahwa model KNN memiliki kinerja yang konsisten dan baik dalam memprediksi kelas pada data pelatihan ketika memprediksi transaksi fraud maka masuk kategori goodfit model."
   ]
  },
  {
   "cell_type": "markdown",
   "metadata": {},
   "source": [
    "### ROC-AUC Score"
   ]
  },
  {
   "cell_type": "code",
   "execution_count": 303,
   "metadata": {},
   "outputs": [
    {
     "name": "stdout",
     "output_type": "stream",
     "text": [
      "AUC Score :  0.9830876030362332\n"
     ]
    }
   ],
   "source": [
    "# Get FPR, TPR, and AUC Score C=1\n",
    "\n",
    "from sklearn.metrics import roc_curve, roc_auc_score\n",
    "\n",
    "y_pred_proba_knn_1 = pipe_knn.predict_proba(X_test)[:, 1]\n",
    "fpr_knn_1, tpr_knn_1, _ = roc_curve(y_test, y_pred_proba_knn_1)\n",
    "auc_knn_1 = roc_auc_score(y_test, y_pred_proba_knn_1)\n",
    "\n",
    "print('AUC Score : ', auc_knn_1)"
   ]
  },
  {
   "cell_type": "code",
   "execution_count": 304,
   "metadata": {},
   "outputs": [
    {
     "data": {
      "text/html": [
       "<div>\n",
       "<style scoped>\n",
       "    .dataframe tbody tr th:only-of-type {\n",
       "        vertical-align: middle;\n",
       "    }\n",
       "\n",
       "    .dataframe tbody tr th {\n",
       "        vertical-align: top;\n",
       "    }\n",
       "\n",
       "    .dataframe thead th {\n",
       "        text-align: right;\n",
       "    }\n",
       "</style>\n",
       "<table border=\"1\" class=\"dataframe\">\n",
       "  <thead>\n",
       "    <tr style=\"text-align: right;\">\n",
       "      <th></th>\n",
       "      <th>FPR</th>\n",
       "      <th>TPR</th>\n",
       "    </tr>\n",
       "  </thead>\n",
       "  <tbody>\n",
       "    <tr>\n",
       "      <th>0</th>\n",
       "      <td>0.000000</td>\n",
       "      <td>0.000000</td>\n",
       "    </tr>\n",
       "    <tr>\n",
       "      <th>1</th>\n",
       "      <td>0.015567</td>\n",
       "      <td>0.880952</td>\n",
       "    </tr>\n",
       "    <tr>\n",
       "      <th>2</th>\n",
       "      <td>0.033001</td>\n",
       "      <td>0.932738</td>\n",
       "    </tr>\n",
       "    <tr>\n",
       "      <th>3</th>\n",
       "      <td>0.057285</td>\n",
       "      <td>0.958929</td>\n",
       "    </tr>\n",
       "    <tr>\n",
       "      <th>4</th>\n",
       "      <td>0.085928</td>\n",
       "      <td>0.977381</td>\n",
       "    </tr>\n",
       "    <tr>\n",
       "      <th>5</th>\n",
       "      <td>0.133873</td>\n",
       "      <td>0.991667</td>\n",
       "    </tr>\n",
       "    <tr>\n",
       "      <th>6</th>\n",
       "      <td>1.000000</td>\n",
       "      <td>1.000000</td>\n",
       "    </tr>\n",
       "  </tbody>\n",
       "</table>\n",
       "</div>"
      ],
      "text/plain": [
       "        FPR       TPR\n",
       "0  0.000000  0.000000\n",
       "1  0.015567  0.880952\n",
       "2  0.033001  0.932738\n",
       "3  0.057285  0.958929\n",
       "4  0.085928  0.977381\n",
       "5  0.133873  0.991667\n",
       "6  1.000000  1.000000"
      ]
     },
     "execution_count": 304,
     "metadata": {},
     "output_type": "execute_result"
    }
   ],
   "source": [
    "# Check FPR and TPR \n",
    "\n",
    "pd.DataFrame({'FPR': fpr_knn_1, 'TPR': tpr_knn_1})"
   ]
  },
  {
   "cell_type": "code",
   "execution_count": 305,
   "metadata": {},
   "outputs": [
    {
     "name": "stdout",
     "output_type": "stream",
     "text": [
      "AUC Score :  0.9830876030362332\n"
     ]
    }
   ],
   "source": [
    "# Get FPR, TPR, and AUC Score C=0.005\n",
    "\n",
    "from sklearn.metrics import roc_curve, roc_auc_score\n",
    "\n",
    "y_pred_proba_knn_5 = pipe_knn.predict_proba(X_test)[:, 1]\n",
    "fpr_knn_5, tpr_knn_5, _ = roc_curve(y_test, y_pred_proba_knn_5)\n",
    "auc_knn_5 = roc_auc_score(y_test, y_pred_proba_knn_5)\n",
    "\n",
    "print('AUC Score : ', auc_knn_5)"
   ]
  },
  {
   "cell_type": "code",
   "execution_count": 306,
   "metadata": {},
   "outputs": [
    {
     "data": {
      "text/plain": [
       "<matplotlib.legend.Legend at 0x1395e3a10>"
      ]
     },
     "execution_count": 306,
     "metadata": {},
     "output_type": "execute_result"
    },
    {
     "data": {
      "image/png": "[encoded data removed]",
      "text/plain": [
       "<Figure size 640x480 with 1 Axes>"
      ]
     },
     "metadata": {},
     "output_type": "display_data"
    }
   ],
   "source": [
    "# Plot ROC-AUC Curve\n",
    "\n",
    "plt.figure(0).clf()\n",
    "plt.plot(fpr_knn_1, tpr_knn_1, label='KNN(1), AUC = ' + str(auc_knn_1))\n",
    "plt.plot(fpr_knn_5, tpr_knn_5, label='KNN(0.005), AUC = ' + str(auc_knn_5))\n",
    "plt.plot([0, 1], [0, 1], linestyle='--')\n",
    "plt.legend(loc=0)"
   ]
  },
  {
   "cell_type": "markdown",
   "metadata": {},
   "source": [
    "ROC AUC score mengukur kemampuan model untuk membedakan antara kelas positif (fraud) dan kelas negatif (non-fraud),nilai AUC Score sebesar 0.9830876030362332 menunjukkan bahwa model KNN memiliki kinerja yang sangat baik dalam membedakan antara kelas positif dan negatif. AUC adalah metrik yang digunakan untuk mengevaluasi kinerja model klasifikasi, di mana nilai AUC berkisar antara 0 dan 1. Semakin mendekati nilai 1, semakin baik kinerja model dalam memprediksi transaksi fraud dengan tepat."
   ]
  },
  {
   "cell_type": "markdown",
   "metadata": {},
   "source": [
    "## Evalution SVM Model"
   ]
  },
  {
   "cell_type": "code",
   "execution_count": 307,
   "metadata": {},
   "outputs": [
    {
     "data": {
      "text/plain": [
       "array([1, 0, 0, ..., 0, 1, 1])"
      ]
     },
     "execution_count": 307,
     "metadata": {},
     "output_type": "execute_result"
    }
   ],
   "source": [
    "# membuat prediksi model SVM\n",
    "y_svm_pred = pipe_svm.predict(X_test)\n",
    "y_svm_pred"
   ]
  },
  {
   "cell_type": "markdown",
   "metadata": {},
   "source": [
    "Membuat prediksi menggunakan model pipe_SVM terhadap dataset uji atau X_test yang telah kita lakukan sebelumnya"
   ]
  },
  {
   "cell_type": "markdown",
   "metadata": {},
   "source": [
    "### Recall"
   ]
  },
  {
   "cell_type": "code",
   "execution_count": 308,
   "metadata": {},
   "outputs": [
    {
     "name": "stdout",
     "output_type": "stream",
     "text": [
      "              precision    recall  f1-score   support\n",
      "\n",
      "    No Fraud       0.78      0.95      0.86      1606\n",
      "     isFraud       0.94      0.75      0.83      1680\n",
      "\n",
      "    accuracy                           0.85      3286\n",
      "   macro avg       0.86      0.85      0.85      3286\n",
      "weighted avg       0.86      0.85      0.85      3286\n",
      "\n"
     ]
    }
   ],
   "source": [
    "target = ['No Fraud', 'isFraud']\n",
    "print(classification_report(y_test, y_svm_pred, target_names = target))"
   ]
  },
  {
   "cell_type": "markdown",
   "metadata": {},
   "source": [
    "Berdasarkan visualisasi diatas kita akan fokus terhadap recall, mengapa kita memilih recall? pada analisis prediksi kali ini kita bertujuan untuk mendeteksi fraud, maka kita mengambil positif adalah fraud. Dengan menggunakan Recall yang cenderung kearah False Negatif, maka ketika positifnya Fraud maka aslinya adalah tidak fraud namun hasil prediksinya adalah fraud sehingga hasil prediksi ini dianggap lebih baik daripada ketika sebenernya terjadi fraud lalu diprediksi menjadi tidak fraud (False Positif). Nilai Recall 0.75 artinya model berhasil memprediksi transaksi fraud dengan akurasi 75% pada model ini artinya performa algoritma SVM kurang bagus dibawah 80%."
   ]
  },
  {
   "cell_type": "markdown",
   "metadata": {},
   "source": [
    "### Cross Validation"
   ]
  },
  {
   "cell_type": "code",
   "execution_count": 309,
   "metadata": {},
   "outputs": [
    {
     "name": "stdout",
     "output_type": "stream",
     "text": [
      "F1 Score - All - Cross Validation  :  [0.9427907  0.93292825 0.93835776]\n",
      "F1 Score - Mean - Cross Validation :  0.938025569852495\n",
      "F1 Score - Std - Cross Validation  :  0.0040331715423150265\n",
      "F1 Score - Range of Test-Set       :  0.93399239831018 - 0.9420587413948099\n"
     ]
    }
   ],
   "source": [
    "#Cross Validation\n",
    "\n",
    "f1_train_cross_val = cross_val_score(pipe_svm,\n",
    "                                     X_train,\n",
    "                                     y_train,\n",
    "                                     cv=3,\n",
    "                                     scoring=\"f1\")\n",
    "\n",
    "print('F1 Score - All - Cross Validation  : ', f1_train_cross_val)\n",
    "print('F1 Score - Mean - Cross Validation : ', f1_train_cross_val.mean())\n",
    "print('F1 Score - Std - Cross Validation  : ', f1_train_cross_val.std())\n",
    "print('F1 Score - Range of Test-Set       : ', (f1_train_cross_val.mean()-f1_train_cross_val.std()) , '-', (f1_train_cross_val.mean()+f1_train_cross_val.std()))"
   ]
  },
  {
   "cell_type": "markdown",
   "metadata": {},
   "source": [
    "Berdasarkan visualisasi diatas nilai F1 score secara keseluruhan untuk tiga fold adalah 0.9427907  0.93292825 0.93835776 Dilihat dari nilai Mean, Std, dan Range semuanya menunjukkan hasil bahwa secara keseluruhan menunjukkan bahwa model SVM memiliki kinerja yang konsisten dan baik dalam memprediksi kelas pada data pelatihan ketika memprediksi transaksi fraud maka masuk kategori goodfit model."
   ]
  },
  {
   "cell_type": "markdown",
   "metadata": {},
   "source": [
    "### ROC-AUC Score"
   ]
  },
  {
   "cell_type": "code",
   "execution_count": 310,
   "metadata": {},
   "outputs": [
    {
     "name": "stdout",
     "output_type": "stream",
     "text": [
      "AUC Score :  0.9593479437229436\n"
     ]
    }
   ],
   "source": [
    "# Get FPR, TPR, and AUC Score C=1\n",
    "\n",
    "from sklearn.metrics import roc_curve, roc_auc_score\n",
    "\n",
    "y_pred_proba_svm_1 = pipe_svm.predict_proba(X_test)[:, 1]\n",
    "fpr_svm_1, tpr_svm_1, _ = roc_curve(y_test, y_pred_proba_svm_1)\n",
    "auc_svm_1 = roc_auc_score(y_test, y_pred_proba_svm_1)\n",
    "\n",
    "print('AUC Score : ', auc_svm_1)"
   ]
  },
  {
   "cell_type": "code",
   "execution_count": 311,
   "metadata": {},
   "outputs": [
    {
     "data": {
      "text/html": [
       "<div>\n",
       "<style scoped>\n",
       "    .dataframe tbody tr th:only-of-type {\n",
       "        vertical-align: middle;\n",
       "    }\n",
       "\n",
       "    .dataframe tbody tr th {\n",
       "        vertical-align: top;\n",
       "    }\n",
       "\n",
       "    .dataframe thead th {\n",
       "        text-align: right;\n",
       "    }\n",
       "</style>\n",
       "<table border=\"1\" class=\"dataframe\">\n",
       "  <thead>\n",
       "    <tr style=\"text-align: right;\">\n",
       "      <th></th>\n",
       "      <th>FPR</th>\n",
       "      <th>TPR</th>\n",
       "    </tr>\n",
       "  </thead>\n",
       "  <tbody>\n",
       "    <tr>\n",
       "      <th>0</th>\n",
       "      <td>0.000000</td>\n",
       "      <td>0.000000</td>\n",
       "    </tr>\n",
       "    <tr>\n",
       "      <th>1</th>\n",
       "      <td>0.000623</td>\n",
       "      <td>0.000000</td>\n",
       "    </tr>\n",
       "    <tr>\n",
       "      <th>2</th>\n",
       "      <td>0.002491</td>\n",
       "      <td>0.000000</td>\n",
       "    </tr>\n",
       "    <tr>\n",
       "      <th>3</th>\n",
       "      <td>0.002491</td>\n",
       "      <td>0.000595</td>\n",
       "    </tr>\n",
       "    <tr>\n",
       "      <th>4</th>\n",
       "      <td>0.003113</td>\n",
       "      <td>0.000595</td>\n",
       "    </tr>\n",
       "    <tr>\n",
       "      <th>...</th>\n",
       "      <td>...</td>\n",
       "      <td>...</td>\n",
       "    </tr>\n",
       "    <tr>\n",
       "      <th>359</th>\n",
       "      <td>0.689913</td>\n",
       "      <td>0.998810</td>\n",
       "    </tr>\n",
       "    <tr>\n",
       "      <th>360</th>\n",
       "      <td>0.689913</td>\n",
       "      <td>0.999405</td>\n",
       "    </tr>\n",
       "    <tr>\n",
       "      <th>361</th>\n",
       "      <td>0.757783</td>\n",
       "      <td>0.999405</td>\n",
       "    </tr>\n",
       "    <tr>\n",
       "      <th>362</th>\n",
       "      <td>0.757783</td>\n",
       "      <td>1.000000</td>\n",
       "    </tr>\n",
       "    <tr>\n",
       "      <th>363</th>\n",
       "      <td>1.000000</td>\n",
       "      <td>1.000000</td>\n",
       "    </tr>\n",
       "  </tbody>\n",
       "</table>\n",
       "<p>364 rows × 2 columns</p>\n",
       "</div>"
      ],
      "text/plain": [
       "          FPR       TPR\n",
       "0    0.000000  0.000000\n",
       "1    0.000623  0.000000\n",
       "2    0.002491  0.000000\n",
       "3    0.002491  0.000595\n",
       "4    0.003113  0.000595\n",
       "..        ...       ...\n",
       "359  0.689913  0.998810\n",
       "360  0.689913  0.999405\n",
       "361  0.757783  0.999405\n",
       "362  0.757783  1.000000\n",
       "363  1.000000  1.000000\n",
       "\n",
       "[364 rows x 2 columns]"
      ]
     },
     "execution_count": 311,
     "metadata": {},
     "output_type": "execute_result"
    }
   ],
   "source": [
    "# Check FPR and TPR \n",
    "\n",
    "pd.DataFrame({'FPR': fpr_svm_1, 'TPR': tpr_svm_1})"
   ]
  },
  {
   "cell_type": "code",
   "execution_count": 312,
   "metadata": {},
   "outputs": [
    {
     "name": "stdout",
     "output_type": "stream",
     "text": [
      "AUC Score :  0.9593479437229436\n"
     ]
    }
   ],
   "source": [
    "# Get FPR, TPR, and AUC Score C=0.005\n",
    "\n",
    "from sklearn.metrics import roc_curve, roc_auc_score\n",
    "\n",
    "y_pred_proba_svm_5 = pipe_svm.predict_proba(X_test)[:, 1]\n",
    "fpr_svm_5, tpr_svm_5, _ = roc_curve(y_test, y_pred_proba_svm_5)\n",
    "auc_svm_5 = roc_auc_score(y_test, y_pred_proba_svm_5)\n",
    "\n",
    "print('AUC Score : ', auc_svm_5)"
   ]
  },
  {
   "cell_type": "code",
   "execution_count": 313,
   "metadata": {},
   "outputs": [
    {
     "data": {
      "text/plain": [
       "<matplotlib.legend.Legend at 0x142a55010>"
      ]
     },
     "execution_count": 313,
     "metadata": {},
     "output_type": "execute_result"
    },
    {
     "data": {
      "image/png": "[encoded data removed]",
      "text/plain": [
       "<Figure size 640x480 with 1 Axes>"
      ]
     },
     "metadata": {},
     "output_type": "display_data"
    }
   ],
   "source": [
    "# Plot ROC-AUC Curve\n",
    "\n",
    "plt.figure(0).clf()\n",
    "plt.plot(fpr_svm_1, tpr_svm_1, label='SVM(1), AUC = ' + str(auc_svm_1))\n",
    "plt.plot(fpr_svm_5, tpr_svm_5, label='SVM(0.005), AUC = ' + str(auc_svm_5))\n",
    "plt.plot([0, 1], [0, 1], linestyle='--')\n",
    "plt.legend(loc=0)"
   ]
  },
  {
   "cell_type": "markdown",
   "metadata": {},
   "source": [
    "ROC AUC score mengukur kemampuan model untuk membedakan antara kelas positif (fraud) dan kelas negatif (non-fraud),nilai AUC Score sebesar 0.9593568389373184 menunjukkan bahwa model SVM memiliki kinerja yang sangat baik dalam membedakan antara kelas positif dan negatif. AUC adalah metrik yang digunakan untuk mengevaluasi kinerja model klasifikasi, di mana nilai AUC berkisar antara 0 dan 1. Semakin mendekati nilai 1, semakin baik kinerja model dalam memprediksi transaksi fraud dengan tepat."
   ]
  },
  {
   "cell_type": "markdown",
   "metadata": {},
   "source": [
    "## Evalution Decision Tree Model"
   ]
  },
  {
   "cell_type": "code",
   "execution_count": 314,
   "metadata": {},
   "outputs": [
    {
     "data": {
      "text/plain": [
       "array([1, 0, 0, ..., 0, 1, 1])"
      ]
     },
     "execution_count": 314,
     "metadata": {},
     "output_type": "execute_result"
    }
   ],
   "source": [
    "# Membuat prediksi model Decision Tree\n",
    "y_dt_pred = pipe_dt.predict(X_test)\n",
    "y_dt_pred"
   ]
  },
  {
   "cell_type": "markdown",
   "metadata": {},
   "source": [
    "Membuat prediksi menggunakan model pipe_dt terhadap dataset uji atau X_test yang telah kita lakukan sebelumnya"
   ]
  },
  {
   "cell_type": "markdown",
   "metadata": {},
   "source": [
    "### Recall"
   ]
  },
  {
   "cell_type": "code",
   "execution_count": 315,
   "metadata": {},
   "outputs": [
    {
     "name": "stdout",
     "output_type": "stream",
     "text": [
      "              precision    recall  f1-score   support\n",
      "\n",
      "    No Fraud       0.99      0.98      0.99      1606\n",
      "     isFraud       0.99      0.99      0.99      1680\n",
      "\n",
      "    accuracy                           0.99      3286\n",
      "   macro avg       0.99      0.99      0.99      3286\n",
      "weighted avg       0.99      0.99      0.99      3286\n",
      "\n"
     ]
    }
   ],
   "source": [
    "target = ['No Fraud', 'isFraud']\n",
    "print(classification_report(y_test, y_dt_pred, target_names = target))"
   ]
  },
  {
   "cell_type": "markdown",
   "metadata": {},
   "source": [
    "Berdasarkan visualisasi diatas kita akan fokus terhadap recall, mengapa kita memilih recall? pada analisis prediksi kali ini kita bertujuan untuk mendeteksi fraud, maka kita mengambil positif adalah fraud. Dengan menggunakan Recall yang cenderung kearah False Negatif, maka ketika positifnya Fraud maka aslinya adalah tidak fraud namun hasil prediksinya adalah fraud sehingga hasil prediksi ini dianggap lebih baik daripada ketika sebenernya terjadi fraud lalu diprediksi menjadi tidak fraud (False Positif). Nilai Recall 0.99 artinya model berhasil memprediksi transaksi fraud dengan akurasi 99% pada model ini artinya performa algoritma Decision Tree sangat bagus diatas 95%."
   ]
  },
  {
   "cell_type": "markdown",
   "metadata": {},
   "source": [
    "### Cross Validation"
   ]
  },
  {
   "cell_type": "code",
   "execution_count": 316,
   "metadata": {},
   "outputs": [
    {
     "name": "stdout",
     "output_type": "stream",
     "text": [
      "F1 Score - All - Cross Validation  :  [0.98876404 0.98947368 0.98649577]\n",
      "F1 Score - Mean - Cross Validation :  0.9882444982585902\n",
      "F1 Score - Std - Cross Validation  :  0.0012700252883128282\n",
      "F1 Score - Range of Test-Set       :  0.9869744729702773 - 0.9895145235469031\n"
     ]
    }
   ],
   "source": [
    "#Cross Validation\n",
    "\n",
    "f1_train_cross_val = cross_val_score(pipe_dt,\n",
    "                                     X_train,\n",
    "                                     y_train,\n",
    "                                     cv=3,\n",
    "                                     scoring=\"f1\")\n",
    "\n",
    "print('F1 Score - All - Cross Validation  : ', f1_train_cross_val)\n",
    "print('F1 Score - Mean - Cross Validation : ', f1_train_cross_val.mean())\n",
    "print('F1 Score - Std - Cross Validation  : ', f1_train_cross_val.std())\n",
    "print('F1 Score - Range of Test-Set       : ', (f1_train_cross_val.mean()-f1_train_cross_val.std()) , '-', (f1_train_cross_val.mean()+f1_train_cross_val.std()))"
   ]
  },
  {
   "cell_type": "markdown",
   "metadata": {},
   "source": [
    "Berdasarkan visualisasi diatas nilai F1 score secara keseluruhan untuk tiga fold adalah 0.98784682 0.99038462 0.98717949. Dilihat dari nilai Mean, Std, dan Range semuanya menunjukkan hasil bahwa secara keseluruhan menunjukkan bahwa model Decision Tree memiliki kinerja yang konsisten dan baik dalam memprediksi kelas pada data pelatihan ketika memprediksi transaksi fraud maka masuk kategori goodfit model."
   ]
  },
  {
   "cell_type": "markdown",
   "metadata": {},
   "source": [
    "### ROC-AUC Score"
   ]
  },
  {
   "cell_type": "code",
   "execution_count": 317,
   "metadata": {},
   "outputs": [
    {
     "name": "stdout",
     "output_type": "stream",
     "text": [
      "AUC Score :  0.9886452588507384\n"
     ]
    }
   ],
   "source": [
    "# Get FPR, TPR, and AUC Score C=1\n",
    "\n",
    "from sklearn.metrics import roc_curve, roc_auc_score\n",
    "\n",
    "y_pred_proba_dt_1 = pipe_dt.predict_proba(X_test)[:, 1]\n",
    "fpr_dt_1, tpr_dt_1, _ = roc_curve(y_test, y_pred_proba_dt_1)\n",
    "auc_dt_1 = roc_auc_score(y_test, y_pred_proba_dt_1)\n",
    "\n",
    "print('AUC Score : ', auc_dt_1)"
   ]
  },
  {
   "cell_type": "code",
   "execution_count": 318,
   "metadata": {},
   "outputs": [
    {
     "data": {
      "text/html": [
       "<div>\n",
       "<style scoped>\n",
       "    .dataframe tbody tr th:only-of-type {\n",
       "        vertical-align: middle;\n",
       "    }\n",
       "\n",
       "    .dataframe tbody tr th {\n",
       "        vertical-align: top;\n",
       "    }\n",
       "\n",
       "    .dataframe thead th {\n",
       "        text-align: right;\n",
       "    }\n",
       "</style>\n",
       "<table border=\"1\" class=\"dataframe\">\n",
       "  <thead>\n",
       "    <tr style=\"text-align: right;\">\n",
       "      <th></th>\n",
       "      <th>FPR</th>\n",
       "      <th>TPR</th>\n",
       "    </tr>\n",
       "  </thead>\n",
       "  <tbody>\n",
       "    <tr>\n",
       "      <th>0</th>\n",
       "      <td>0.000000</td>\n",
       "      <td>0.000000</td>\n",
       "    </tr>\n",
       "    <tr>\n",
       "      <th>1</th>\n",
       "      <td>0.015567</td>\n",
       "      <td>0.992857</td>\n",
       "    </tr>\n",
       "    <tr>\n",
       "      <th>2</th>\n",
       "      <td>1.000000</td>\n",
       "      <td>1.000000</td>\n",
       "    </tr>\n",
       "  </tbody>\n",
       "</table>\n",
       "</div>"
      ],
      "text/plain": [
       "        FPR       TPR\n",
       "0  0.000000  0.000000\n",
       "1  0.015567  0.992857\n",
       "2  1.000000  1.000000"
      ]
     },
     "execution_count": 318,
     "metadata": {},
     "output_type": "execute_result"
    }
   ],
   "source": [
    "# Check FPR and TPR \n",
    "\n",
    "pd.DataFrame({'FPR': fpr_dt_1, 'TPR': tpr_dt_1})"
   ]
  },
  {
   "cell_type": "code",
   "execution_count": 319,
   "metadata": {},
   "outputs": [
    {
     "name": "stdout",
     "output_type": "stream",
     "text": [
      "AUC Score :  0.9886452588507384\n"
     ]
    }
   ],
   "source": [
    "# Get FPR, TPR, and AUC Score C=0.005\n",
    "\n",
    "from sklearn.metrics import roc_curve, roc_auc_score\n",
    "\n",
    "y_pred_proba_dt_5 = pipe_dt.predict_proba(X_test)[:, 1]\n",
    "fpr_dt_5, tpr_dt_5, _ = roc_curve(y_test, y_pred_proba_dt_5)\n",
    "auc_dt_5 = roc_auc_score(y_test, y_pred_proba_dt_5)\n",
    "\n",
    "print('AUC Score : ', auc_dt_5)"
   ]
  },
  {
   "cell_type": "code",
   "execution_count": 320,
   "metadata": {},
   "outputs": [
    {
     "data": {
      "text/plain": [
       "<matplotlib.legend.Legend at 0x140c41af0>"
      ]
     },
     "execution_count": 320,
     "metadata": {},
     "output_type": "execute_result"
    },
    {
     "data": {
      "image/png": "[encoded data removed]",
      "text/plain": [
       "<Figure size 640x480 with 1 Axes>"
      ]
     },
     "metadata": {},
     "output_type": "display_data"
    }
   ],
   "source": [
    "# Plot ROC-AUC Curve\n",
    "\n",
    "plt.figure(0).clf()\n",
    "plt.plot(fpr_dt_1, tpr_dt_1, label='DT(1), AUC = ' + str(auc_dt_1))\n",
    "plt.plot(fpr_dt_5, tpr_dt_5, label='DT(0.005), AUC = ' + str(auc_dt_5))\n",
    "plt.plot([0, 1], [0, 1], linestyle='--')\n",
    "plt.legend(loc=0)"
   ]
  },
  {
   "cell_type": "markdown",
   "metadata": {},
   "source": [
    "ROC AUC score mengukur kemampuan model untuk membedakan antara kelas positif (fraud) dan kelas negatif (non-fraud),nilai AUC Score sebesar 0.9880225938445116 menunjukkan bahwa model Decision Tree memiliki kinerja yang sangat baik dalam membedakan antara kelas positif dan negatif. AUC adalah metrik yang digunakan untuk mengevaluasi kinerja model klasifikasi, di mana nilai AUC berkisar antara 0 dan 1. Semakin mendekati nilai 1, semakin baik kinerja model dalam memprediksi transaksi fraud dengan tepat."
   ]
  },
  {
   "cell_type": "markdown",
   "metadata": {},
   "source": [
    "## Evalution Random Forest Model"
   ]
  },
  {
   "cell_type": "code",
   "execution_count": 321,
   "metadata": {},
   "outputs": [
    {
     "data": {
      "text/plain": [
       "array([1, 0, 0, ..., 0, 1, 1])"
      ]
     },
     "execution_count": 321,
     "metadata": {},
     "output_type": "execute_result"
    }
   ],
   "source": [
    "# membuat prediksi model Random Forest\n",
    "y_rf_pred = pipe_rf.predict(X_test)\n",
    "y_rf_pred"
   ]
  },
  {
   "cell_type": "markdown",
   "metadata": {},
   "source": [
    "Membuat prediksi menggunakan model pipe_rf terhadap dataset uji atau X_test yang telah kita lakukan sebelumnya"
   ]
  },
  {
   "cell_type": "code",
   "execution_count": 322,
   "metadata": {},
   "outputs": [
    {
     "name": "stdout",
     "output_type": "stream",
     "text": [
      "              precision    recall  f1-score   support\n",
      "\n",
      "    No Fraud       0.99      0.99      0.99      1606\n",
      "     isFraud       0.99      1.00      0.99      1680\n",
      "\n",
      "    accuracy                           0.99      3286\n",
      "   macro avg       0.99      0.99      0.99      3286\n",
      "weighted avg       0.99      0.99      0.99      3286\n",
      "\n"
     ]
    }
   ],
   "source": [
    "target = ['No Fraud', 'isFraud']\n",
    "print(classification_report(y_test, y_rf_pred, target_names = target))"
   ]
  },
  {
   "cell_type": "markdown",
   "metadata": {},
   "source": [
    "Berdasarkan visualisasi diatas kita akan fokus terhadap recall, mengapa kita memilih recall? pada analisis prediksi kali ini kita bertujuan untuk mendeteksi fraud, maka kita mengambil positif adalah fraud. Dengan menggunakan Recall yang cenderung kearah False Negatif, maka ketika positifnya Fraud maka aslinya adalah tidak fraud namun hasil prediksinya adalah fraud sehingga hasil prediksi ini dianggap lebih baik daripada ketika sebenernya terjadi fraud lalu diprediksi menjadi tidak fraud (False Positif). Nilai Recall 1 artinya model berhasil memprediksi transaksi fraud dengan sangat sempurna pada model ini artinya performa algoritma Random Forest perfect."
   ]
  },
  {
   "cell_type": "code",
   "execution_count": 323,
   "metadata": {},
   "outputs": [
    {
     "name": "stdout",
     "output_type": "stream",
     "text": [
      "F1 Score - All - Cross Validation  :  [0.99062429 0.99063285 0.99064141]\n",
      "F1 Score - Mean - Cross Validation :  0.9906328483373136\n",
      "F1 Score - Std - Cross Validation  :  6.989490974902166e-06\n",
      "F1 Score - Range of Test-Set       :  0.9906258588463387 - 0.9906398378282885\n"
     ]
    }
   ],
   "source": [
    "#Cross Validation\n",
    "\n",
    "f1_train_cross_val = cross_val_score(pipe_rf,\n",
    "                                     X_train,\n",
    "                                     y_train,\n",
    "                                     cv=3,\n",
    "                                     scoring=\"f1\")\n",
    "\n",
    "print('F1 Score - All - Cross Validation  : ', f1_train_cross_val)\n",
    "print('F1 Score - Mean - Cross Validation : ', f1_train_cross_val.mean())\n",
    "print('F1 Score - Std - Cross Validation  : ', f1_train_cross_val.std())\n",
    "print('F1 Score - Range of Test-Set       : ', (f1_train_cross_val.mean()-f1_train_cross_val.std()) , '-', (f1_train_cross_val.mean()+f1_train_cross_val.std()))"
   ]
  },
  {
   "cell_type": "markdown",
   "metadata": {},
   "source": [
    "Berdasarkan visualisasi diatas nilai F1 score secara keseluruhan untuk tiga fold adalah 0.98970487 0.99086758 0.99064568. Dilihat dari nilai Mean, Std, dan Range semuanya menunjukkan hasil bahwa secara keseluruhan menunjukkan bahwa model Random Forest memiliki kinerja yang konsisten dan baik dalam memprediksi kelas pada data pelatihan ketika memprediksi transaksi fraud maka masuk kategori goodfit model."
   ]
  },
  {
   "cell_type": "markdown",
   "metadata": {},
   "source": [
    "### ROC-AUC Score"
   ]
  },
  {
   "cell_type": "code",
   "execution_count": 324,
   "metadata": {},
   "outputs": [
    {
     "name": "stdout",
     "output_type": "stream",
     "text": [
      "AUC Score :  0.9991440209334044\n"
     ]
    }
   ],
   "source": [
    "# Get FPR, TPR, and AUC Score =1\n",
    "\n",
    "from sklearn.metrics import roc_curve, roc_auc_score\n",
    "\n",
    "y_pred_proba_rf_1 = pipe_rf.predict_proba(X_test)[:, 1]\n",
    "fpr_rf_1, tpr_rf_1, _ = roc_curve(y_test, y_pred_proba_rf_1)\n",
    "auc_rf_1 = roc_auc_score(y_test, y_pred_proba_rf_1)\n",
    "\n",
    "print('AUC Score : ', auc_rf_1)"
   ]
  },
  {
   "cell_type": "code",
   "execution_count": 325,
   "metadata": {},
   "outputs": [
    {
     "data": {
      "text/html": [
       "<div>\n",
       "<style scoped>\n",
       "    .dataframe tbody tr th:only-of-type {\n",
       "        vertical-align: middle;\n",
       "    }\n",
       "\n",
       "    .dataframe tbody tr th {\n",
       "        vertical-align: top;\n",
       "    }\n",
       "\n",
       "    .dataframe thead th {\n",
       "        text-align: right;\n",
       "    }\n",
       "</style>\n",
       "<table border=\"1\" class=\"dataframe\">\n",
       "  <thead>\n",
       "    <tr style=\"text-align: right;\">\n",
       "      <th></th>\n",
       "      <th>FPR</th>\n",
       "      <th>TPR</th>\n",
       "    </tr>\n",
       "  </thead>\n",
       "  <tbody>\n",
       "    <tr>\n",
       "      <th>0</th>\n",
       "      <td>0.000000</td>\n",
       "      <td>0.000000</td>\n",
       "    </tr>\n",
       "    <tr>\n",
       "      <th>1</th>\n",
       "      <td>0.000000</td>\n",
       "      <td>0.739881</td>\n",
       "    </tr>\n",
       "    <tr>\n",
       "      <th>2</th>\n",
       "      <td>0.000000</td>\n",
       "      <td>0.804762</td>\n",
       "    </tr>\n",
       "    <tr>\n",
       "      <th>3</th>\n",
       "      <td>0.000000</td>\n",
       "      <td>0.837500</td>\n",
       "    </tr>\n",
       "    <tr>\n",
       "      <th>4</th>\n",
       "      <td>0.000000</td>\n",
       "      <td>0.860119</td>\n",
       "    </tr>\n",
       "    <tr>\n",
       "      <th>...</th>\n",
       "      <td>...</td>\n",
       "      <td>...</td>\n",
       "    </tr>\n",
       "    <tr>\n",
       "      <th>69</th>\n",
       "      <td>0.115193</td>\n",
       "      <td>0.998810</td>\n",
       "    </tr>\n",
       "    <tr>\n",
       "      <th>70</th>\n",
       "      <td>0.141345</td>\n",
       "      <td>0.998810</td>\n",
       "    </tr>\n",
       "    <tr>\n",
       "      <th>71</th>\n",
       "      <td>0.183064</td>\n",
       "      <td>0.999405</td>\n",
       "    </tr>\n",
       "    <tr>\n",
       "      <th>72</th>\n",
       "      <td>0.273350</td>\n",
       "      <td>0.999405</td>\n",
       "    </tr>\n",
       "    <tr>\n",
       "      <th>73</th>\n",
       "      <td>1.000000</td>\n",
       "      <td>1.000000</td>\n",
       "    </tr>\n",
       "  </tbody>\n",
       "</table>\n",
       "<p>74 rows × 2 columns</p>\n",
       "</div>"
      ],
      "text/plain": [
       "         FPR       TPR\n",
       "0   0.000000  0.000000\n",
       "1   0.000000  0.739881\n",
       "2   0.000000  0.804762\n",
       "3   0.000000  0.837500\n",
       "4   0.000000  0.860119\n",
       "..       ...       ...\n",
       "69  0.115193  0.998810\n",
       "70  0.141345  0.998810\n",
       "71  0.183064  0.999405\n",
       "72  0.273350  0.999405\n",
       "73  1.000000  1.000000\n",
       "\n",
       "[74 rows x 2 columns]"
      ]
     },
     "execution_count": 325,
     "metadata": {},
     "output_type": "execute_result"
    }
   ],
   "source": [
    "# Check FPR and TPR \n",
    "\n",
    "pd.DataFrame({'FPR': fpr_rf_1, 'TPR': tpr_rf_1})"
   ]
  },
  {
   "cell_type": "code",
   "execution_count": 326,
   "metadata": {},
   "outputs": [
    {
     "name": "stdout",
     "output_type": "stream",
     "text": [
      "AUC Score :  0.9991440209334044\n"
     ]
    }
   ],
   "source": [
    "# Get FPR, TPR, and AUC Score =0.005\n",
    "\n",
    "from sklearn.metrics import roc_curve, roc_auc_score\n",
    "\n",
    "y_pred_proba_rf_5 = pipe_rf.predict_proba(X_test)[:, 1]\n",
    "fpr_rf_5, tpr_rf_5, _ = roc_curve(y_test, y_pred_proba_rf_5)\n",
    "auc_rf_5 = roc_auc_score(y_test, y_pred_proba_rf_5)\n",
    "\n",
    "print('AUC Score : ', auc_rf_5)"
   ]
  },
  {
   "cell_type": "code",
   "execution_count": 327,
   "metadata": {},
   "outputs": [
    {
     "data": {
      "text/plain": [
       "<matplotlib.legend.Legend at 0x141a372f0>"
      ]
     },
     "execution_count": 327,
     "metadata": {},
     "output_type": "execute_result"
    },
    {
     "data": {
      "image/png": "[encoded data removed]",
      "text/plain": [
       "<Figure size 640x480 with 1 Axes>"
      ]
     },
     "metadata": {},
     "output_type": "display_data"
    }
   ],
   "source": [
    "# Plot ROC-AUC Curve\n",
    "\n",
    "plt.figure(0).clf()\n",
    "plt.plot(fpr_rf_1, tpr_rf_1, label='RF, AUC = ' + str(auc_rf_1))\n",
    "plt.plot(fpr_rf_5, tpr_rf_5, label='RF, AUC = ' + str(auc_rf_5))\n",
    "plt.plot([0, 1], [0, 1], linestyle='--')\n",
    "plt.legend(loc=0)"
   ]
  },
  {
   "cell_type": "markdown",
   "metadata": {},
   "source": [
    "ROC AUC score mengukur kemampuan model untuk membedakan antara kelas positif (fraud) dan kelas negatif (non-fraud),nilai AUC Score sebesar 0.999439601494396 menunjukkan bahwa model Random Forest memiliki kinerja yang sangat baik dalam membedakan antara kelas positif dan negatif. AUC adalah metrik yang digunakan untuk mengevaluasi kinerja model klasifikasi, di mana nilai AUC berkisar antara 0 dan 1. Semakin mendekati nilai 1, semakin baik kinerja model dalam memprediksi transaksi fraud dengan tepat."
   ]
  },
  {
   "cell_type": "markdown",
   "metadata": {},
   "source": [
    "## Evalution XGBoost Model"
   ]
  },
  {
   "cell_type": "code",
   "execution_count": 328,
   "metadata": {},
   "outputs": [
    {
     "data": {
      "text/plain": [
       "array([1, 0, 0, ..., 0, 1, 1])"
      ]
     },
     "execution_count": 328,
     "metadata": {},
     "output_type": "execute_result"
    }
   ],
   "source": [
    "# membuat predict model XGBoost\n",
    "y_xgb_pred = pipe_xgb.predict(X_test)\n",
    "y_xgb_pred"
   ]
  },
  {
   "cell_type": "markdown",
   "metadata": {},
   "source": [
    "Membuat prediksi menggunakan model pipe_xgb terhadap dataset uji atau X_test yang telah kita lakukan sebelumnya"
   ]
  },
  {
   "cell_type": "code",
   "execution_count": 329,
   "metadata": {},
   "outputs": [
    {
     "name": "stdout",
     "output_type": "stream",
     "text": [
      "              precision    recall  f1-score   support\n",
      "\n",
      "    No Fraud       1.00      0.99      0.99      1606\n",
      "     isFraud       0.99      1.00      0.99      1680\n",
      "\n",
      "    accuracy                           0.99      3286\n",
      "   macro avg       0.99      0.99      0.99      3286\n",
      "weighted avg       0.99      0.99      0.99      3286\n",
      "\n"
     ]
    }
   ],
   "source": [
    "target = ['No Fraud', 'isFraud']\n",
    "print(classification_report(y_test, y_xgb_pred, target_names = target))"
   ]
  },
  {
   "cell_type": "markdown",
   "metadata": {},
   "source": [
    "Berdasarkan visualisasi diatas kita akan fokus terhadap recall, mengapa kita memilih recall? pada analisis prediksi kali ini kita bertujuan untuk mendeteksi fraud, maka kita mengambil positif adalah fraud. Dengan menggunakan Recall yang cenderung kearah False Negatif, maka ketika positifnya Fraud maka aslinya adalah tidak fraud namun hasil prediksinya adalah fraud sehingga hasil prediksi ini dianggap lebih baik daripada ketika sebenernya terjadi fraud lalu diprediksi menjadi tidak fraud (False Positif). Nilai Recall 1 artinya model berhasil memprediksi transaksi fraud dengan sangat sempurna pada model ini artinya performa algoritma XGBoost perfect."
   ]
  },
  {
   "cell_type": "code",
   "execution_count": 330,
   "metadata": {},
   "outputs": [
    {
     "name": "stdout",
     "output_type": "stream",
     "text": [
      "F1 Score - All - Cross Validation  :  [0.99312872 0.99359561 0.99154286]\n",
      "F1 Score - Mean - Cross Validation :  0.9927557291674463\n",
      "F1 Score - Std - Cross Validation  :  0.0008785555023782497\n",
      "F1 Score - Range of Test-Set       :  0.991877173665068 - 0.9936342846698245\n"
     ]
    }
   ],
   "source": [
    "#Cross Validation\n",
    "\n",
    "f1_train_cross_val = cross_val_score(pipe_xgb,\n",
    "                                     X_train,\n",
    "                                     y_train,\n",
    "                                     cv=3,\n",
    "                                     scoring=\"f1\")\n",
    "\n",
    "print('F1 Score - All - Cross Validation  : ', f1_train_cross_val)\n",
    "print('F1 Score - Mean - Cross Validation : ', f1_train_cross_val.mean())\n",
    "print('F1 Score - Std - Cross Validation  : ', f1_train_cross_val.std())\n",
    "print('F1 Score - Range of Test-Set       : ', (f1_train_cross_val.mean()-f1_train_cross_val.std()) , '-', (f1_train_cross_val.mean()+f1_train_cross_val.std()))"
   ]
  },
  {
   "cell_type": "markdown",
   "metadata": {},
   "source": [
    "Berdasarkan visualisasi diatas nilai F1 score secara keseluruhan untuk tiga fold adalah 0.99312872 0.99359561 0.99154286. Dilihat dari nilai Mean, Std, dan Range semuanya menunjukkan hasil bahwa secara keseluruhan menunjukkan bahwa model XGBoost memiliki kinerja yang konsisten dan baik dalam memprediksi kelas pada data pelatihan ketika memprediksi transaksi fraud maka masuk kategori goodfit model."
   ]
  },
  {
   "cell_type": "markdown",
   "metadata": {},
   "source": [
    "### ROC-AUC Score"
   ]
  },
  {
   "cell_type": "code",
   "execution_count": 331,
   "metadata": {},
   "outputs": [
    {
     "name": "stdout",
     "output_type": "stream",
     "text": [
      "AUC Score :  0.9993992023957777\n"
     ]
    }
   ],
   "source": [
    "# Get FPR, TPR, and AUC Score 1\n",
    "\n",
    "from sklearn.metrics import roc_curve, roc_auc_score\n",
    "\n",
    "y_pred_proba_xgb_1 = pipe_xgb.predict_proba(X_test)[:, 1]\n",
    "fpr_xgb_1, tpr_xgb_1, _ = roc_curve(y_test, y_pred_proba_xgb_1)\n",
    "auc_xgb_1 = roc_auc_score(y_test, y_pred_proba_xgb_1)\n",
    "\n",
    "print('AUC Score : ', auc_xgb_1)"
   ]
  },
  {
   "cell_type": "code",
   "execution_count": 332,
   "metadata": {},
   "outputs": [
    {
     "data": {
      "text/html": [
       "<div>\n",
       "<style scoped>\n",
       "    .dataframe tbody tr th:only-of-type {\n",
       "        vertical-align: middle;\n",
       "    }\n",
       "\n",
       "    .dataframe tbody tr th {\n",
       "        vertical-align: top;\n",
       "    }\n",
       "\n",
       "    .dataframe thead th {\n",
       "        text-align: right;\n",
       "    }\n",
       "</style>\n",
       "<table border=\"1\" class=\"dataframe\">\n",
       "  <thead>\n",
       "    <tr style=\"text-align: right;\">\n",
       "      <th></th>\n",
       "      <th>FPR</th>\n",
       "      <th>TPR</th>\n",
       "    </tr>\n",
       "  </thead>\n",
       "  <tbody>\n",
       "    <tr>\n",
       "      <th>0</th>\n",
       "      <td>0.000000</td>\n",
       "      <td>0.000000</td>\n",
       "    </tr>\n",
       "    <tr>\n",
       "      <th>1</th>\n",
       "      <td>0.000000</td>\n",
       "      <td>0.008929</td>\n",
       "    </tr>\n",
       "    <tr>\n",
       "      <th>2</th>\n",
       "      <td>0.000000</td>\n",
       "      <td>0.010714</td>\n",
       "    </tr>\n",
       "    <tr>\n",
       "      <th>3</th>\n",
       "      <td>0.000000</td>\n",
       "      <td>0.036905</td>\n",
       "    </tr>\n",
       "    <tr>\n",
       "      <th>4</th>\n",
       "      <td>0.000000</td>\n",
       "      <td>0.038690</td>\n",
       "    </tr>\n",
       "    <tr>\n",
       "      <th>...</th>\n",
       "      <td>...</td>\n",
       "      <td>...</td>\n",
       "    </tr>\n",
       "    <tr>\n",
       "      <th>497</th>\n",
       "      <td>0.958281</td>\n",
       "      <td>1.000000</td>\n",
       "    </tr>\n",
       "    <tr>\n",
       "      <th>498</th>\n",
       "      <td>0.959527</td>\n",
       "      <td>1.000000</td>\n",
       "    </tr>\n",
       "    <tr>\n",
       "      <th>499</th>\n",
       "      <td>0.966999</td>\n",
       "      <td>1.000000</td>\n",
       "    </tr>\n",
       "    <tr>\n",
       "      <th>500</th>\n",
       "      <td>0.968244</td>\n",
       "      <td>1.000000</td>\n",
       "    </tr>\n",
       "    <tr>\n",
       "      <th>501</th>\n",
       "      <td>1.000000</td>\n",
       "      <td>1.000000</td>\n",
       "    </tr>\n",
       "  </tbody>\n",
       "</table>\n",
       "<p>502 rows × 2 columns</p>\n",
       "</div>"
      ],
      "text/plain": [
       "          FPR       TPR\n",
       "0    0.000000  0.000000\n",
       "1    0.000000  0.008929\n",
       "2    0.000000  0.010714\n",
       "3    0.000000  0.036905\n",
       "4    0.000000  0.038690\n",
       "..        ...       ...\n",
       "497  0.958281  1.000000\n",
       "498  0.959527  1.000000\n",
       "499  0.966999  1.000000\n",
       "500  0.968244  1.000000\n",
       "501  1.000000  1.000000\n",
       "\n",
       "[502 rows x 2 columns]"
      ]
     },
     "execution_count": 332,
     "metadata": {},
     "output_type": "execute_result"
    }
   ],
   "source": [
    "# Check FPR and TPR \n",
    "\n",
    "pd.DataFrame({'FPR': fpr_xgb_1, 'TPR': tpr_xgb_1})"
   ]
  },
  {
   "cell_type": "code",
   "execution_count": 333,
   "metadata": {},
   "outputs": [
    {
     "name": "stdout",
     "output_type": "stream",
     "text": [
      "AUC Score :  0.9993992023957777\n"
     ]
    }
   ],
   "source": [
    "# Get FPR, TPR, and AUC Score 0.005\n",
    "\n",
    "from sklearn.metrics import roc_curve, roc_auc_score\n",
    "\n",
    "y_pred_proba_xgb_5 = pipe_xgb.predict_proba(X_test)[:, 1]\n",
    "fpr_xgb_5, tpr_xgb_5, _ = roc_curve(y_test, y_pred_proba_xgb_5)\n",
    "auc_xgb_5 = roc_auc_score(y_test, y_pred_proba_xgb_5)\n",
    "\n",
    "print('AUC Score : ', auc_xgb_5)"
   ]
  },
  {
   "cell_type": "code",
   "execution_count": 334,
   "metadata": {},
   "outputs": [
    {
     "data": {
      "text/plain": [
       "<matplotlib.legend.Legend at 0x1428b9400>"
      ]
     },
     "execution_count": 334,
     "metadata": {},
     "output_type": "execute_result"
    },
    {
     "data": {
      "image/png": "[encoded data removed]",
      "text/plain": [
       "<Figure size 640x480 with 1 Axes>"
      ]
     },
     "metadata": {},
     "output_type": "display_data"
    }
   ],
   "source": [
    "# Plot ROC-AUC Curve\n",
    "\n",
    "plt.figure(0).clf()\n",
    "plt.plot(fpr_xgb_1, tpr_xgb_1, label='XGB(1), AUC = ' + str(auc_xgb_1))\n",
    "plt.plot(fpr_xgb_5, tpr_xgb_5, label='XGB(0.005), AUC = ' + str(auc_xgb_5))\n",
    "plt.plot([0, 1], [0, 1], linestyle='--')\n",
    "plt.legend(loc=0)"
   ]
  },
  {
   "cell_type": "markdown",
   "metadata": {},
   "source": [
    "ROC AUC score mengukur kemampuan model untuk membedakan antara kelas positif (fraud) dan kelas negatif (non-fraud),nilai AUC Score sebesar 0.9993992023957777 menunjukkan bahwa model XGBoost memiliki kinerja yang sangat baik dalam membedakan antara kelas positif dan negatif. AUC adalah metrik yang digunakan untuk mengevaluasi kinerja model klasifikasi, di mana nilai AUC berkisar antara 0 dan 1. Semakin mendekati nilai 1, semakin baik kinerja model dalam memprediksi transaksi fraud dengan tepat."
   ]
  },
  {
   "cell_type": "markdown",
   "metadata": {},
   "source": [
    "## Base Model Comparasion"
   ]
  },
  {
   "cell_type": "code",
   "execution_count": 335,
   "metadata": {},
   "outputs": [],
   "source": [
    "models = {\n",
    "    'KNN' : pipe_knn,\n",
    "    'SVM' : pipe_svm,\n",
    "    'Decision Tree' : pipe_dt,\n",
    "    'Random Forest' : pipe_rf,\n",
    "    'XGBoost' : pipe_xgb\n",
    "}"
   ]
  },
  {
   "cell_type": "code",
   "execution_count": 336,
   "metadata": {},
   "outputs": [],
   "source": [
    "import pandas as pd\n",
    "from sklearn.metrics import accuracy_score, f1_score, precision_score, roc_auc_score, recall_score\n",
    "\n",
    "metrics = {\n",
    "\n",
    "    'Recall': recall_score,\n",
    "    'AUC-ROC': roc_auc_score\n",
    "}\n",
    "\n",
    "\n",
    "df_model = pd.DataFrame(columns = models.keys(), index=['Recall', 'AUC-ROC'])\n",
    "\n",
    "for metric in metrics.keys():\n",
    "  for model in models.keys():\n",
    "    df_model.loc[metric, model] = metrics[metric](y_test, models[model].predict(X_test))"
   ]
  },
  {
   "cell_type": "code",
   "execution_count": 337,
   "metadata": {},
   "outputs": [
    {
     "data": {
      "text/html": [
       "<div>\n",
       "<style scoped>\n",
       "    .dataframe tbody tr th:only-of-type {\n",
       "        vertical-align: middle;\n",
       "    }\n",
       "\n",
       "    .dataframe tbody tr th {\n",
       "        vertical-align: top;\n",
       "    }\n",
       "\n",
       "    .dataframe thead th {\n",
       "        text-align: right;\n",
       "    }\n",
       "</style>\n",
       "<table border=\"1\" class=\"dataframe\">\n",
       "  <thead>\n",
       "    <tr style=\"text-align: right;\">\n",
       "      <th></th>\n",
       "      <th>KNN</th>\n",
       "      <th>SVM</th>\n",
       "      <th>Decision Tree</th>\n",
       "      <th>Random Forest</th>\n",
       "      <th>XGBoost</th>\n",
       "    </tr>\n",
       "  </thead>\n",
       "  <tbody>\n",
       "    <tr>\n",
       "      <th>Recall</th>\n",
       "      <td>0.958929</td>\n",
       "      <td>0.750595</td>\n",
       "      <td>0.992857</td>\n",
       "      <td>0.995238</td>\n",
       "      <td>0.995833</td>\n",
       "    </tr>\n",
       "    <tr>\n",
       "      <th>AUC-ROC</th>\n",
       "      <td>0.950822</td>\n",
       "      <td>0.849457</td>\n",
       "      <td>0.988645</td>\n",
       "      <td>0.990458</td>\n",
       "      <td>0.992935</td>\n",
       "    </tr>\n",
       "  </tbody>\n",
       "</table>\n",
       "</div>"
      ],
      "text/plain": [
       "              KNN       SVM Decision Tree Random Forest   XGBoost\n",
       "Recall   0.958929  0.750595      0.992857      0.995238  0.995833\n",
       "AUC-ROC  0.950822  0.849457      0.988645      0.990458  0.992935"
      ]
     },
     "execution_count": 337,
     "metadata": {},
     "output_type": "execute_result"
    }
   ],
   "source": [
    "df_model"
   ]
  },
  {
   "cell_type": "markdown",
   "metadata": {},
   "source": [
    "Setelah kita melakukan modelling, mentraining model dan melakukan evaluasi model maka sekarang kita dapat membandingkan model mana yang paling terbaik untuk kita pilih sebagai final model melihat dari skor Recall dan ROC-AUC nya agar model benar-benar optimal dan sesuai dengan dataset yang kita analisis yaitu Deteksi Fraud maka kita pilih XGBoost sebagai model terbaik dengan niai Recall 0.995833 dan ROC-AUCnya 0.992935."
   ]
  },
  {
   "cell_type": "code",
   "execution_count": 338,
   "metadata": {},
   "outputs": [],
   "source": [
    "metrics = {\n",
    "    'Mean' : cross_val_score(models[model], X_train, y_train, cv = 3, scoring='f1').mean(),\n",
    "    'Std' : cross_val_score(models[model], X_train, y_train, cv = 3, scoring='f1').std()\n",
    "}\n",
    "\n",
    "df_cross_val = pd.DataFrame(columns = models.keys(), index = ['Mean', 'Std'])\n",
    "\n",
    "for i in metrics.keys():\n",
    "  for j in models.keys():\n",
    "    df_cross_val.loc[i, j] = metrics[i]"
   ]
  },
  {
   "cell_type": "code",
   "execution_count": 339,
   "metadata": {},
   "outputs": [
    {
     "data": {
      "text/html": [
       "<div>\n",
       "<style scoped>\n",
       "    .dataframe tbody tr th:only-of-type {\n",
       "        vertical-align: middle;\n",
       "    }\n",
       "\n",
       "    .dataframe tbody tr th {\n",
       "        vertical-align: top;\n",
       "    }\n",
       "\n",
       "    .dataframe thead th {\n",
       "        text-align: right;\n",
       "    }\n",
       "</style>\n",
       "<table border=\"1\" class=\"dataframe\">\n",
       "  <thead>\n",
       "    <tr style=\"text-align: right;\">\n",
       "      <th></th>\n",
       "      <th>KNN</th>\n",
       "      <th>SVM</th>\n",
       "      <th>Decision Tree</th>\n",
       "      <th>Random Forest</th>\n",
       "      <th>XGBoost</th>\n",
       "    </tr>\n",
       "  </thead>\n",
       "  <tbody>\n",
       "    <tr>\n",
       "      <th>Mean</th>\n",
       "      <td>0.992756</td>\n",
       "      <td>0.992756</td>\n",
       "      <td>0.992756</td>\n",
       "      <td>0.992756</td>\n",
       "      <td>0.992756</td>\n",
       "    </tr>\n",
       "    <tr>\n",
       "      <th>Std</th>\n",
       "      <td>0.000879</td>\n",
       "      <td>0.000879</td>\n",
       "      <td>0.000879</td>\n",
       "      <td>0.000879</td>\n",
       "      <td>0.000879</td>\n",
       "    </tr>\n",
       "  </tbody>\n",
       "</table>\n",
       "</div>"
      ],
      "text/plain": [
       "           KNN       SVM Decision Tree Random Forest   XGBoost\n",
       "Mean  0.992756  0.992756      0.992756      0.992756  0.992756\n",
       "Std   0.000879  0.000879      0.000879      0.000879  0.000879"
      ]
     },
     "execution_count": 339,
     "metadata": {},
     "output_type": "execute_result"
    }
   ],
   "source": [
    "df_cross_val"
   ]
  },
  {
   "cell_type": "markdown",
   "metadata": {},
   "source": [
    " Berdasarkan hasil uji mean dan standar deviasi diatas kita dapat mengetahui bahwa nilai rata-rata (Mean) dari semua model adalah 0.992756 yang menunjukkan bahwa semua model memiliki akurasi yang sangat tinggi. Selain itu, standar deviasi (Std) dari semua model adalah 0.000879 yang menunjukkan bahwa variasi dalam performa model sangat kecil karena dataet yang kita gunakan menggunakan sample dengan variasi yang terbatas."
   ]
  },
  {
   "cell_type": "markdown",
   "metadata": {},
   "source": [
    "Berdasarkan settingan default, XGBoost memiliki skor tertinggi tetapi model ini memiliki performa terbaik. Kita akan melihat apakah XGBoost masih menjadi model terbaik dengan skor tertinggi setelah dilakukan hyperparameter tuning."
   ]
  },
  {
   "cell_type": "markdown",
   "metadata": {},
   "source": [
    "## Model Optimization"
   ]
  },
  {
   "cell_type": "code",
   "execution_count": 340,
   "metadata": {},
   "outputs": [],
   "source": [
    "##Parameter Tuning\n",
    "\n",
    "param_xgb = {\n",
    "    'transformer__scaler': [StandardScaler(), MinMaxScaler()],\n",
    "    'classifier__n_estimators': [50, 100, 200],\n",
    "    'classifier__max_depth': np.arange(3, 10, 2),\n",
    "    'classifier__learning_rate': [0.01, 0.1, 0.2],\n",
    "    'classifier__subsample': [0.6, 0.8, 1.0],\n",
    "    'classifier__colsample_bytree': [0.6, 0.8, 1.0]\n",
    "}\n"
   ]
  },
  {
   "cell_type": "markdown",
   "metadata": {},
   "source": [
    "Pemilihan parameter berdasarkan pada: classifier__n_estimators karena parameter ini menentukan jumlah pohon yang akan dibangun oleh model 50,100, 200 untuk mencegah overfitting, classifier__max_depth karena parameter ini mengontrol kedalaman maksimum setiap pohon untuk mengatasi data kompleks, classifier__learning_rate karena parameter ini menentukan ukuran langkah yang diambil dalam setiap iterasi pembelajaran dengan nilai yang diuji adalah 0.01, 0.1, dan 0.2 membuat model belajar lebih lambat tetapi lebih stabil, classifier__subsample karena parameter ini menentukan proporsi sampel yang digunakan untuk membangun setiap pohon tujuannya untuk mengurangi overfitting,classifier__colsample_bytree  karena parameter ini menentukan proporsi fitur yang digunakan untuk membangun setiap pohon untuk meningkatkan performa model."
   ]
  },
  {
   "cell_type": "markdown",
   "metadata": {},
   "source": [
    "## Model Optimization Evaluation"
   ]
  },
  {
   "cell_type": "code",
   "execution_count": 341,
   "metadata": {},
   "outputs": [],
   "source": [
    "from sklearn.model_selection import RandomizedSearchCV\n",
    "grid_xgb = RandomizedSearchCV(pipe_xgb, param_xgb, cv=5).fit(X_train, y_train)"
   ]
  },
  {
   "cell_type": "markdown",
   "metadata": {},
   "source": [
    "RandomizedSearchCV digunakan untuk melakukan pencarian hyperparameter secara acak hyperparameter tuning yang sudah ditentukan. RandomizedSearchCV lebih efisien dalam hal waktu dibandingkan dengan GridSearchCV pada penelitian kali ini karena parameter yang cukup banyak dan daya kamputasi komputer yang terbatas tapi tetap dengan kinerja yang maksimal."
   ]
  },
  {
   "cell_type": "code",
   "execution_count": 342,
   "metadata": {},
   "outputs": [
    {
     "name": "stdout",
     "output_type": "stream",
     "text": [
      "Train Set Score :  0.9966514459665144\n",
      "Test Set Score :  0.9923919659160073\n"
     ]
    }
   ],
   "source": [
    "print('Train Set Score : ', grid_xgb.score(X_train, y_train))\n",
    "print('Test Set Score : ', grid_xgb.score(X_test, y_test))"
   ]
  },
  {
   "cell_type": "markdown",
   "metadata": {},
   "source": [
    "Berdasarkan hasil uji diatas setelah parameter tuning, train Set Score menunjukkan akurasi model pada data pelatihan dengan nilai 0.9971080669710807 berarti model memiliki akurasi sekitar 99.71% pada data pelatihan, yang menunjukkan bahwa model sangat baik dalam memprediksi data yang telah dilatih dalam hal ini mendeteksi fraud. Test Set Score menunjukkan akurasi model pada data pengujian dengan nilai 0.992696287279367 berarti model memiliki akurasi sekitar 99.27% pada data uji, yang menunjukkan bahwa model juga sangat baik dalam memprediksi data baru atau transaksi baru yang belum pernah dilihat sebelumnya."
   ]
  },
  {
   "cell_type": "code",
   "execution_count": 343,
   "metadata": {},
   "outputs": [
    {
     "name": "stdout",
     "output_type": "stream",
     "text": [
      "{'transformer__scaler': StandardScaler(), 'classifier__subsample': 1.0, 'classifier__n_estimators': 100, 'classifier__max_depth': 7, 'classifier__learning_rate': 0.1, 'classifier__colsample_bytree': 1.0}\n",
      "\n",
      "\n",
      "Pipeline(steps=[('transformer',\n",
      "                 ColumnTransformer(transformers=[('scaler', StandardScaler(),\n",
      "                                                  <sklearn.compose._column_transformer.make_column_selector object at 0x142fa6f60>),\n",
      "                                                 ('encoding', OneHotEncoder(),\n",
      "                                                  <sklearn.compose._column_transformer.make_column_selector object at 0x14309b290>)])),\n",
      "                ('classifier',\n",
      "                 XGBClassifier(base_score=None, booster=None, callbacks=None...\n",
      "                               feature_types=None, gamma=None, grow_policy=None,\n",
      "                               importance_type=None,\n",
      "                               interaction_constraints=None, learning_rate=0.1,\n",
      "                               max_bin=None, max_cat_threshold=None,\n",
      "                               max_cat_to_onehot=None, max_delta_step=None,\n",
      "                               max_depth=7, max_leaves=None,\n",
      "                               min_child_weight=None, missing=nan,\n",
      "                               monotone_constraints=None, multi_strategy=None,\n",
      "                               n_estimators=100, n_jobs=None,\n",
      "                               num_parallel_tree=None, random_state=None, ...))])\n",
      "\n",
      "\n",
      "Index(['mean_fit_time', 'std_fit_time', 'mean_score_time', 'std_score_time',\n",
      "       'param_transformer__scaler', 'param_classifier__subsample',\n",
      "       'param_classifier__n_estimators', 'param_classifier__max_depth',\n",
      "       'param_classifier__learning_rate', 'param_classifier__colsample_bytree',\n",
      "       'params', 'split0_test_score', 'split1_test_score', 'split2_test_score',\n",
      "       'split3_test_score', 'split4_test_score', 'mean_test_score',\n",
      "       'std_test_score', 'rank_test_score'],\n",
      "      dtype='object')\n"
     ]
    }
   ],
   "source": [
    "best_param_xgb = grid_xgb.best_params_\n",
    "print(best_param_xgb)\n",
    "print('\\n')\n",
    "best_pipe_xgb = grid_xgb.best_estimator_\n",
    "print(best_pipe_xgb)\n",
    "print('\\n')\n",
    "result_df_xgb = pd.DataFrame.from_dict(grid_xgb.cv_results_, orient='columns')\n",
    "print(result_df_xgb.columns)"
   ]
  },
  {
   "cell_type": "code",
   "execution_count": 344,
   "metadata": {},
   "outputs": [
    {
     "name": "stdout",
     "output_type": "stream",
     "text": [
      "              precision    recall  f1-score   support\n",
      "\n",
      "           0       1.00      0.99      0.99      1606\n",
      "           1       0.99      1.00      0.99      1680\n",
      "\n",
      "    accuracy                           0.99      3286\n",
      "   macro avg       0.99      0.99      0.99      3286\n",
      "weighted avg       0.99      0.99      0.99      3286\n",
      "\n"
     ]
    }
   ],
   "source": [
    "print(classification_report(y_test, best_pipe_xgb.predict(X_test)))"
   ]
  },
  {
   "cell_type": "markdown",
   "metadata": {},
   "source": [
    "Berdasarkan visualisasi diatas kita akan fokus terhadap recall. Nilai Recall 1 artinya model berhasil memprediksi transaksi fraud dengan sangat sempurna pada model ini artinya performa algoritma XGBoost semakin baik setelah diterapkan hyperparameter tuning model menjadi sempurna untuk mendeteksi fraud."
   ]
  },
  {
   "cell_type": "markdown",
   "metadata": {},
   "source": [
    "## Model After Tuning Comparison"
   ]
  },
  {
   "cell_type": "code",
   "execution_count": 345,
   "metadata": {},
   "outputs": [],
   "source": [
    "models = {\n",
    "    'XGBoost' : best_pipe_xgb\n",
    "}\n",
    "\n",
    "metrics = {\n",
    "    'Recall': recall_score,\n",
    "    'AUC-ROC': roc_auc_score\n",
    "}\n",
    "\n",
    "model_tuning = pd.DataFrame(columns = models.keys(), index=['Recall', 'AUC-ROC'])\n",
    "\n",
    "for metric in metrics.keys():\n",
    "  for model in models.keys():\n",
    "    model_tuning.loc[metric, model] = metrics[metric](y_test, models[model].predict(X_test))"
   ]
  },
  {
   "cell_type": "code",
   "execution_count": 346,
   "metadata": {},
   "outputs": [
    {
     "data": {
      "text/html": [
       "<div>\n",
       "<style scoped>\n",
       "    .dataframe tbody tr th:only-of-type {\n",
       "        vertical-align: middle;\n",
       "    }\n",
       "\n",
       "    .dataframe tbody tr th {\n",
       "        vertical-align: top;\n",
       "    }\n",
       "\n",
       "    .dataframe thead th {\n",
       "        text-align: right;\n",
       "    }\n",
       "</style>\n",
       "<table border=\"1\" class=\"dataframe\">\n",
       "  <thead>\n",
       "    <tr style=\"text-align: right;\">\n",
       "      <th></th>\n",
       "      <th>KNN</th>\n",
       "      <th>SVM</th>\n",
       "      <th>Decision Tree</th>\n",
       "      <th>Random Forest</th>\n",
       "      <th>XGBoost</th>\n",
       "    </tr>\n",
       "  </thead>\n",
       "  <tbody>\n",
       "    <tr>\n",
       "      <th>Recall</th>\n",
       "      <td>0.958929</td>\n",
       "      <td>0.750595</td>\n",
       "      <td>0.992857</td>\n",
       "      <td>0.995238</td>\n",
       "      <td>0.995833</td>\n",
       "    </tr>\n",
       "    <tr>\n",
       "      <th>AUC-ROC</th>\n",
       "      <td>0.950822</td>\n",
       "      <td>0.849457</td>\n",
       "      <td>0.988645</td>\n",
       "      <td>0.990458</td>\n",
       "      <td>0.992935</td>\n",
       "    </tr>\n",
       "  </tbody>\n",
       "</table>\n",
       "</div>"
      ],
      "text/plain": [
       "              KNN       SVM Decision Tree Random Forest   XGBoost\n",
       "Recall   0.958929  0.750595      0.992857      0.995238  0.995833\n",
       "AUC-ROC  0.950822  0.849457      0.988645      0.990458  0.992935"
      ]
     },
     "execution_count": 346,
     "metadata": {},
     "output_type": "execute_result"
    }
   ],
   "source": [
    "df_model"
   ]
  },
  {
   "cell_type": "code",
   "execution_count": 347,
   "metadata": {},
   "outputs": [
    {
     "data": {
      "text/html": [
       "<div>\n",
       "<style scoped>\n",
       "    .dataframe tbody tr th:only-of-type {\n",
       "        vertical-align: middle;\n",
       "    }\n",
       "\n",
       "    .dataframe tbody tr th {\n",
       "        vertical-align: top;\n",
       "    }\n",
       "\n",
       "    .dataframe thead th {\n",
       "        text-align: right;\n",
       "    }\n",
       "</style>\n",
       "<table border=\"1\" class=\"dataframe\">\n",
       "  <thead>\n",
       "    <tr style=\"text-align: right;\">\n",
       "      <th></th>\n",
       "      <th>XGBoost</th>\n",
       "    </tr>\n",
       "  </thead>\n",
       "  <tbody>\n",
       "    <tr>\n",
       "      <th>Recall</th>\n",
       "      <td>0.995833</td>\n",
       "    </tr>\n",
       "    <tr>\n",
       "      <th>AUC-ROC</th>\n",
       "      <td>0.992313</td>\n",
       "    </tr>\n",
       "  </tbody>\n",
       "</table>\n",
       "</div>"
      ],
      "text/plain": [
       "          XGBoost\n",
       "Recall   0.995833\n",
       "AUC-ROC  0.992313"
      ]
     },
     "execution_count": 347,
     "metadata": {},
     "output_type": "execute_result"
    }
   ],
   "source": [
    "model_tuning"
   ]
  },
  {
   "cell_type": "markdown",
   "metadata": {},
   "source": [
    "Berdasarkan hasil uji diatas kita dapat melihat perbandingan semua model, terutama kita fokus pada XGBoost yang sebelum di tuning dan sesudai dilakukan tuning. Model XGBoost mengalami peningkatan setelah dilakukan tuning daripada sebelumnya, sehinggan kita akan mengambil model XGBoost yang sudah dituning yaitu pipe_xgb."
   ]
  },
  {
   "cell_type": "markdown",
   "metadata": {},
   "source": [
    "## 9. Model Saving"
   ]
  },
  {
   "cell_type": "code",
   "execution_count": 348,
   "metadata": {},
   "outputs": [],
   "source": [
    "import pickle\n",
    "\n",
    "pickle.dump(pipe_xgb, open('model_xgb.pkl', 'wb'))"
   ]
  },
  {
   "cell_type": "code",
   "execution_count": 349,
   "metadata": {},
   "outputs": [],
   "source": [
    "with open('model_xgb.pkl', 'rb') as file_1:\n",
    "  model = pickle.load(file_1)"
   ]
  },
  {
   "cell_type": "markdown",
   "metadata": {},
   "source": [
    "Langkah terakhir setelah model kita sudah optimal performanya melalui hyperparameter tuning, maka kita dapat menyimpan model tersebut untuk selanjutnya bisa kita gunakan dengan cara diinference dan dideploy agar dapat digunakan oleh public atau umum."
   ]
  },
  {
   "cell_type": "markdown",
   "metadata": {},
   "source": [
    "## 10. Kesimpulan"
   ]
  },
  {
   "cell_type": "markdown",
   "metadata": {},
   "source": [
    "Berdasarkan dari hasil analisis prediction fraud yang telah kita baut menggunakan 5 algoritma model yaitu KNN, SVM, Decision Tree, Random Forest dan XGBoost dapat kita simpulkan bahwa XGBoost adalah model yang terbaik. Hal ini adalah wajar karena mengacu pada Conceptual Problems yang kita pelajari diawal analisis bahwa cara kerja algoritma boosting yaitu menggunakan banyak model yang dilatih secara berurutan, dengan setiap model baru mencoba memperbaiki kesalahan yang dibuat oleh model sebelumnya, dan hasil prediksi digabungkan dengan memberikan bobot lebih pada model yang lebih akurat. Dari cara kerja boosting tersebut kita dapat mengetahui bahwa ketika memprediksi transaksi fraud, dia mempelajari banyak transaksi yang dilatih secara berurutan, kemudian setiap ada transaksi baru boosting mencoba memperbaiki kesalahan jika sebelumnya model melakukan kesalahan prediksi misal transaksi fraud diprediksi tidak fraud maka dia akan memperbaiki kesalahan itu lalu hasil prediksi yang lebih akurat digabungkan dengan model baru hingga mendapat model yang paling tepat atau akurat. Kekurangan pada XGBoost mungkin pada data tertentu yang lebih komplex harus mengset parameter yang tepat dan bisa terjadi overfitting karena cara kerja xgboost yang selalu mengupdate model baru jika tidak diatur dengan tepat.\n"
   ]
  },
  {
   "cell_type": "markdown",
   "metadata": {},
   "source": [
    "## Rekomendasi Bisnis"
   ]
  },
  {
   "cell_type": "markdown",
   "metadata": {},
   "source": [
    "    1. Tingkat KYC (Know Your Customer) dan AML (Anti Money Laundering) untuk mencegah penggunaan ID palsu, penyalahgunaan ID yang dapat menyebabkan fraud.\n",
    "    2. Menganalisis Data dan Pola Transaksi Mencurigakan atau Transaksi Tidak Normal, misal transfer uang yang terlalu besar, penarikan dana yang terlalu tinggi, dan pembayaran online dalam jumlah besar.\n",
    "    3. Perlindungan Akun seperti mengambil alih akun atau ID bank yang terjerat fraud transaction."
   ]
  },
  {
   "cell_type": "markdown",
   "metadata": {},
   "source": [
    "## Referensi Tambahan"
   ]
  },
  {
   "cell_type": "markdown",
   "metadata": {},
   "source": [
    "1. https://stackoverflow.com/questions/54742055/name-randomundersampler-is-not-defined (Randomundersampler)\n",
    "2. https://xgboost.readthedocs.io/en/stable/parameter.html (Hyperparameter Tuning XGBoost)"
   ]
  }
 ],
 "metadata": {
  "kernelspec": {
   "display_name": "base",
   "language": "python",
   "name": "python3"
  },
  "language_info": {
   "codemirror_mode": {
    "name": "ipython",
    "version": 3
   },
   "file_extension": ".py",
   "mimetype": "text/x-python",
   "name": "python",
   "nbconvert_exporter": "python",
   "pygments_lexer": "ipython3",
   "version": "3.12.7"
  }
 },
 "nbformat": 4,
 "nbformat_minor": 2
}
