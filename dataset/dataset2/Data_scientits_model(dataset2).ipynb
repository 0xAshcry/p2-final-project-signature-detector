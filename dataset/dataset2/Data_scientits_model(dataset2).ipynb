{
 "cells": [
  {
   "cell_type": "code",
   "execution_count": null,
   "metadata": {},
   "outputs": [
    {
     "name": "stdout",
     "output_type": "stream",
     "text": [
      "Found 864 images belonging to 32 classes.\n",
      "Found 544 images belonging to 32 classes.\n",
      "Found 693 images belonging to 32 classes.\n",
      "Epoch 1/150\n"
     ]
    },
    {
     "name": "stderr",
     "output_type": "stream",
     "text": [
      "/Users/aqsal/miniforge3/lib/python3.12/site-packages/keras/src/trainers/data_adapters/py_dataset_adapter.py:121: UserWarning: Your `PyDataset` class should call `super().__init__(**kwargs)` in its constructor. `**kwargs` can include `workers`, `use_multiprocessing`, `max_queue_size`. Do not pass these arguments to `fit()`, as they will be ignored.\n",
      "  self._warn_if_super_not_called()\n"
     ]
    },
    {
     "name": "stdout",
     "output_type": "stream",
     "text": [
      "\u001b[1m54/54\u001b[0m \u001b[32m━━━━━━━━━━━━━━━━━━━━\u001b[0m\u001b[37m\u001b[0m \u001b[1m14s\u001b[0m 228ms/step - accuracy: 0.0546 - loss: 3.8296 - val_accuracy: 0.3180 - val_loss: 2.8780\n",
      "Epoch 2/150\n",
      "\u001b[1m54/54\u001b[0m \u001b[32m━━━━━━━━━━━━━━━━━━━━\u001b[0m\u001b[37m\u001b[0m \u001b[1m11s\u001b[0m 195ms/step - accuracy: 0.1581 - loss: 3.0492 - val_accuracy: 0.7004 - val_loss: 2.3412\n",
      "Epoch 3/150\n",
      "\u001b[1m54/54\u001b[0m \u001b[32m━━━━━━━━━━━━━━━━━━━━\u001b[0m\u001b[37m\u001b[0m \u001b[1m11s\u001b[0m 196ms/step - accuracy: 0.3262 - loss: 2.5754 - val_accuracy: 0.7960 - val_loss: 1.8570\n",
      "Epoch 4/150\n",
      "\u001b[1m54/54\u001b[0m \u001b[32m━━━━━━━━━━━━━━━━━━━━\u001b[0m\u001b[37m\u001b[0m \u001b[1m11s\u001b[0m 209ms/step - accuracy: 0.4298 - loss: 2.3173 - val_accuracy: 0.8971 - val_loss: 1.4420\n",
      "Epoch 5/150\n",
      "\u001b[1m54/54\u001b[0m \u001b[32m━━━━━━━━━━━━━━━━━━━━\u001b[0m\u001b[37m\u001b[0m \u001b[1m11s\u001b[0m 199ms/step - accuracy: 0.5299 - loss: 1.9644 - val_accuracy: 0.9669 - val_loss: 1.0841\n",
      "Epoch 6/150\n",
      "\u001b[1m54/54\u001b[0m \u001b[32m━━━━━━━━━━━━━━━━━━━━\u001b[0m\u001b[37m\u001b[0m \u001b[1m11s\u001b[0m 203ms/step - accuracy: 0.6425 - loss: 1.6271 - val_accuracy: 0.9779 - val_loss: 0.7995\n",
      "Epoch 7/150\n",
      "\u001b[1m54/54\u001b[0m \u001b[32m━━━━━━━━━━━━━━━━━━━━\u001b[0m\u001b[37m\u001b[0m \u001b[1m13s\u001b[0m 233ms/step - accuracy: 0.6961 - loss: 1.3667 - val_accuracy: 0.9816 - val_loss: 0.6028\n",
      "Epoch 8/150\n",
      "\u001b[1m54/54\u001b[0m \u001b[32m━━━━━━━━━━━━━━━━━━━━\u001b[0m\u001b[37m\u001b[0m \u001b[1m10s\u001b[0m 195ms/step - accuracy: 0.7450 - loss: 1.1728 - val_accuracy: 0.9835 - val_loss: 0.4603\n",
      "Epoch 9/150\n",
      "\u001b[1m54/54\u001b[0m \u001b[32m━━━━━━━━━━━━━━━━━━━━\u001b[0m\u001b[37m\u001b[0m \u001b[1m10s\u001b[0m 194ms/step - accuracy: 0.8049 - loss: 0.9708 - val_accuracy: 0.9835 - val_loss: 0.3663\n",
      "Epoch 10/150\n",
      "\u001b[1m54/54\u001b[0m \u001b[32m━━━━━━━━━━━━━━━━━━━━\u001b[0m\u001b[37m\u001b[0m \u001b[1m12s\u001b[0m 226ms/step - accuracy: 0.8134 - loss: 0.8898 - val_accuracy: 0.9835 - val_loss: 0.2868\n",
      "Epoch 11/150\n",
      "\u001b[1m54/54\u001b[0m \u001b[32m━━━━━━━━━━━━━━━━━━━━\u001b[0m\u001b[37m\u001b[0m \u001b[1m12s\u001b[0m 228ms/step - accuracy: 0.8619 - loss: 0.7361 - val_accuracy: 0.9835 - val_loss: 0.2361\n",
      "Epoch 12/150\n",
      "\u001b[1m54/54\u001b[0m \u001b[32m━━━━━━━━━━━━━━━━━━━━\u001b[0m\u001b[37m\u001b[0m \u001b[1m11s\u001b[0m 196ms/step - accuracy: 0.8502 - loss: 0.7123 - val_accuracy: 0.9853 - val_loss: 0.1929\n",
      "Epoch 13/150\n",
      "\u001b[1m54/54\u001b[0m \u001b[32m━━━━━━━━━━━━━━━━━━━━\u001b[0m\u001b[37m\u001b[0m \u001b[1m10s\u001b[0m 194ms/step - accuracy: 0.8823 - loss: 0.5989 - val_accuracy: 0.9835 - val_loss: 0.1650\n",
      "Epoch 14/150\n",
      "\u001b[1m54/54\u001b[0m \u001b[32m━━━━━━━━━━━━━━━━━━━━\u001b[0m\u001b[37m\u001b[0m \u001b[1m12s\u001b[0m 216ms/step - accuracy: 0.9253 - loss: 0.5309 - val_accuracy: 0.9853 - val_loss: 0.1369\n",
      "Epoch 15/150\n",
      "\u001b[1m54/54\u001b[0m \u001b[32m━━━━━━━━━━━━━━━━━━━━\u001b[0m\u001b[37m\u001b[0m \u001b[1m12s\u001b[0m 223ms/step - accuracy: 0.8817 - loss: 0.5391 - val_accuracy: 0.9853 - val_loss: 0.1240\n",
      "Epoch 16/150\n",
      "\u001b[1m54/54\u001b[0m \u001b[32m━━━━━━━━━━━━━━━━━━━━\u001b[0m\u001b[37m\u001b[0m \u001b[1m10s\u001b[0m 193ms/step - accuracy: 0.9394 - loss: 0.4242 - val_accuracy: 0.9853 - val_loss: 0.1055\n",
      "Epoch 17/150\n",
      "\u001b[1m54/54\u001b[0m \u001b[32m━━━━━━━━━━━━━━━━━━━━\u001b[0m\u001b[37m\u001b[0m \u001b[1m11s\u001b[0m 205ms/step - accuracy: 0.9141 - loss: 0.4313 - val_accuracy: 0.9853 - val_loss: 0.0959\n",
      "Epoch 18/150\n",
      "\u001b[1m54/54\u001b[0m \u001b[32m━━━━━━━━━━━━━━━━━━━━\u001b[0m\u001b[37m\u001b[0m \u001b[1m12s\u001b[0m 223ms/step - accuracy: 0.9455 - loss: 0.3646 - val_accuracy: 0.9853 - val_loss: 0.0876\n",
      "Epoch 19/150\n",
      "\u001b[1m54/54\u001b[0m \u001b[32m━━━━━━━━━━━━━━━━━━━━\u001b[0m\u001b[37m\u001b[0m \u001b[1m15s\u001b[0m 274ms/step - accuracy: 0.9506 - loss: 0.3193 - val_accuracy: 0.9853 - val_loss: 0.0812\n",
      "Epoch 20/150\n",
      "\u001b[1m54/54\u001b[0m \u001b[32m━━━━━━━━━━━━━━━━━━━━\u001b[0m\u001b[37m\u001b[0m \u001b[1m15s\u001b[0m 273ms/step - accuracy: 0.9503 - loss: 0.3531 - val_accuracy: 0.9853 - val_loss: 0.0748\n",
      "Epoch 21/150\n",
      "\u001b[1m54/54\u001b[0m \u001b[32m━━━━━━━━━━━━━━━━━━━━\u001b[0m\u001b[37m\u001b[0m \u001b[1m12s\u001b[0m 229ms/step - accuracy: 0.9462 - loss: 0.2973 - val_accuracy: 0.9853 - val_loss: 0.0685\n",
      "Epoch 22/150\n",
      "\u001b[1m54/54\u001b[0m \u001b[32m━━━━━━━━━━━━━━━━━━━━\u001b[0m\u001b[37m\u001b[0m \u001b[1m13s\u001b[0m 240ms/step - accuracy: 0.9611 - loss: 0.2636 - val_accuracy: 0.9853 - val_loss: 0.0630\n",
      "Epoch 23/150\n",
      "\u001b[1m54/54\u001b[0m \u001b[32m━━━━━━━━━━━━━━━━━━━━\u001b[0m\u001b[37m\u001b[0m \u001b[1m14s\u001b[0m 267ms/step - accuracy: 0.9390 - loss: 0.3002 - val_accuracy: 0.9853 - val_loss: 0.0585\n",
      "Epoch 24/150\n",
      "\u001b[1m54/54\u001b[0m \u001b[32m━━━━━━━━━━━━━━━━━━━━\u001b[0m\u001b[37m\u001b[0m \u001b[1m14s\u001b[0m 254ms/step - accuracy: 0.9604 - loss: 0.2670 - val_accuracy: 0.9853 - val_loss: 0.0549\n",
      "Epoch 25/150\n",
      "\u001b[1m54/54\u001b[0m \u001b[32m━━━━━━━━━━━━━━━━━━━━\u001b[0m\u001b[37m\u001b[0m \u001b[1m12s\u001b[0m 233ms/step - accuracy: 0.9641 - loss: 0.2369 - val_accuracy: 0.9853 - val_loss: 0.0519\n",
      "Epoch 26/150\n",
      "\u001b[1m54/54\u001b[0m \u001b[32m━━━━━━━━━━━━━━━━━━━━\u001b[0m\u001b[37m\u001b[0m \u001b[1m12s\u001b[0m 232ms/step - accuracy: 0.9820 - loss: 0.2128 - val_accuracy: 0.9853 - val_loss: 0.0506\n",
      "Epoch 27/150\n",
      "\u001b[1m54/54\u001b[0m \u001b[32m━━━━━━━━━━━━━━━━━━━━\u001b[0m\u001b[37m\u001b[0m \u001b[1m14s\u001b[0m 264ms/step - accuracy: 0.9402 - loss: 0.2528 - val_accuracy: 0.9853 - val_loss: 0.0486\n",
      "Epoch 28/150\n",
      "\u001b[1m54/54\u001b[0m \u001b[32m━━━━━━━━━━━━━━━━━━━━\u001b[0m\u001b[37m\u001b[0m \u001b[1m14s\u001b[0m 251ms/step - accuracy: 0.9711 - loss: 0.1846 - val_accuracy: 0.9853 - val_loss: 0.0477\n",
      "Epoch 29/150\n",
      "\u001b[1m54/54\u001b[0m \u001b[32m━━━━━━━━━━━━━━━━━━━━\u001b[0m\u001b[37m\u001b[0m \u001b[1m15s\u001b[0m 271ms/step - accuracy: 0.9769 - loss: 0.1864 - val_accuracy: 0.9853 - val_loss: 0.0458\n",
      "Epoch 30/150\n",
      "\u001b[1m54/54\u001b[0m \u001b[32m━━━━━━━━━━━━━━━━━━━━\u001b[0m\u001b[37m\u001b[0m \u001b[1m15s\u001b[0m 272ms/step - accuracy: 0.9723 - loss: 0.1841 - val_accuracy: 0.9853 - val_loss: 0.0425\n",
      "Epoch 31/150\n",
      "\u001b[1m54/54\u001b[0m \u001b[32m━━━━━━━━━━━━━━━━━━━━\u001b[0m\u001b[37m\u001b[0m \u001b[1m17s\u001b[0m 315ms/step - accuracy: 0.9729 - loss: 0.1683 - val_accuracy: 0.9853 - val_loss: 0.0416\n",
      "Epoch 32/150\n",
      "\u001b[1m54/54\u001b[0m \u001b[32m━━━━━━━━━━━━━━━━━━━━\u001b[0m\u001b[37m\u001b[0m \u001b[1m16s\u001b[0m 296ms/step - accuracy: 0.9542 - loss: 0.1999 - val_accuracy: 0.9853 - val_loss: 0.0411\n",
      "Epoch 33/150\n",
      "\u001b[1m54/54\u001b[0m \u001b[32m━━━━━━━━━━━━━━━━━━━━\u001b[0m\u001b[37m\u001b[0m \u001b[1m15s\u001b[0m 269ms/step - accuracy: 0.9695 - loss: 0.1612 - val_accuracy: 0.9853 - val_loss: 0.0389\n",
      "Epoch 34/150\n",
      "\u001b[1m54/54\u001b[0m \u001b[32m━━━━━━━━━━━━━━━━━━━━\u001b[0m\u001b[37m\u001b[0m \u001b[1m12s\u001b[0m 230ms/step - accuracy: 0.9695 - loss: 0.1577 - val_accuracy: 0.9853 - val_loss: 0.0377\n",
      "Epoch 35/150\n",
      "\u001b[1m54/54\u001b[0m \u001b[32m━━━━━━━━━━━━━━━━━━━━\u001b[0m\u001b[37m\u001b[0m \u001b[1m13s\u001b[0m 236ms/step - accuracy: 0.9641 - loss: 0.1438 - val_accuracy: 0.9853 - val_loss: 0.0364\n",
      "Epoch 36/150\n",
      "\u001b[1m54/54\u001b[0m \u001b[32m━━━━━━━━━━━━━━━━━━━━\u001b[0m\u001b[37m\u001b[0m \u001b[1m12s\u001b[0m 223ms/step - accuracy: 0.9781 - loss: 0.1330 - val_accuracy: 0.9853 - val_loss: 0.0356\n",
      "Epoch 37/150\n",
      "\u001b[1m54/54\u001b[0m \u001b[32m━━━━━━━━━━━━━━━━━━━━\u001b[0m\u001b[37m\u001b[0m \u001b[1m12s\u001b[0m 225ms/step - accuracy: 0.9766 - loss: 0.1456 - val_accuracy: 0.9853 - val_loss: 0.0356\n",
      "Epoch 38/150\n",
      "\u001b[1m54/54\u001b[0m \u001b[32m━━━━━━━━━━━━━━━━━━━━\u001b[0m\u001b[37m\u001b[0m \u001b[1m14s\u001b[0m 263ms/step - accuracy: 0.9860 - loss: 0.1145 - val_accuracy: 0.9853 - val_loss: 0.0349\n",
      "Epoch 39/150\n",
      "\u001b[1m54/54\u001b[0m \u001b[32m━━━━━━━━━━━━━━━━━━━━\u001b[0m\u001b[37m\u001b[0m \u001b[1m13s\u001b[0m 233ms/step - accuracy: 0.9729 - loss: 0.1304 - val_accuracy: 0.9853 - val_loss: 0.0343\n",
      "Epoch 40/150\n",
      "\u001b[1m54/54\u001b[0m \u001b[32m━━━━━━━━━━━━━━━━━━━━\u001b[0m\u001b[37m\u001b[0m \u001b[1m13s\u001b[0m 232ms/step - accuracy: 0.9892 - loss: 0.1069 - val_accuracy: 0.9853 - val_loss: 0.0335\n",
      "Epoch 41/150\n",
      "\u001b[1m54/54\u001b[0m \u001b[32m━━━━━━━━━━━━━━━━━━━━\u001b[0m\u001b[37m\u001b[0m \u001b[1m12s\u001b[0m 222ms/step - accuracy: 0.9713 - loss: 0.1187 - val_accuracy: 0.9853 - val_loss: 0.0331\n",
      "Epoch 42/150\n",
      "\u001b[1m54/54\u001b[0m \u001b[32m━━━━━━━━━━━━━━━━━━━━\u001b[0m\u001b[37m\u001b[0m \u001b[1m12s\u001b[0m 227ms/step - accuracy: 0.9821 - loss: 0.1034 - val_accuracy: 0.9853 - val_loss: 0.0331\n",
      "Epoch 43/150\n",
      "\u001b[1m54/54\u001b[0m \u001b[32m━━━━━━━━━━━━━━━━━━━━\u001b[0m\u001b[37m\u001b[0m \u001b[1m15s\u001b[0m 285ms/step - accuracy: 0.9807 - loss: 0.0991 - val_accuracy: 0.9853 - val_loss: 0.0323\n",
      "Epoch 44/150\n",
      "\u001b[1m54/54\u001b[0m \u001b[32m━━━━━━━━━━━━━━━━━━━━\u001b[0m\u001b[37m\u001b[0m \u001b[1m13s\u001b[0m 246ms/step - accuracy: 0.9741 - loss: 0.1042 - val_accuracy: 0.9853 - val_loss: 0.0322\n",
      "Epoch 45/150\n",
      "\u001b[1m54/54\u001b[0m \u001b[32m━━━━━━━━━━━━━━━━━━━━\u001b[0m\u001b[37m\u001b[0m \u001b[1m12s\u001b[0m 218ms/step - accuracy: 0.9864 - loss: 0.0839 - val_accuracy: 0.9853 - val_loss: 0.0315\n",
      "Epoch 46/150\n",
      "\u001b[1m54/54\u001b[0m \u001b[32m━━━━━━━━━━━━━━━━━━━━\u001b[0m\u001b[37m\u001b[0m \u001b[1m12s\u001b[0m 222ms/step - accuracy: 0.9816 - loss: 0.0937 - val_accuracy: 0.9853 - val_loss: 0.0309\n",
      "Epoch 47/150\n",
      "\u001b[1m54/54\u001b[0m \u001b[32m━━━━━━━━━━━━━━━━━━━━\u001b[0m\u001b[37m\u001b[0m \u001b[1m12s\u001b[0m 219ms/step - accuracy: 0.9696 - loss: 0.1181 - val_accuracy: 0.9853 - val_loss: 0.0314\n",
      "Epoch 48/150\n",
      "\u001b[1m54/54\u001b[0m \u001b[32m━━━━━━━━━━━━━━━━━━━━\u001b[0m\u001b[37m\u001b[0m \u001b[1m13s\u001b[0m 243ms/step - accuracy: 0.9788 - loss: 0.0911 - val_accuracy: 0.9853 - val_loss: 0.0309\n",
      "Epoch 49/150\n",
      "\u001b[1m54/54\u001b[0m \u001b[32m━━━━━━━━━━━━━━━━━━━━\u001b[0m\u001b[37m\u001b[0m \u001b[1m14s\u001b[0m 252ms/step - accuracy: 0.9811 - loss: 0.0965 - val_accuracy: 0.9853 - val_loss: 0.0301\n",
      "Epoch 50/150\n",
      "\u001b[1m54/54\u001b[0m \u001b[32m━━━━━━━━━━━━━━━━━━━━\u001b[0m\u001b[37m\u001b[0m \u001b[1m13s\u001b[0m 233ms/step - accuracy: 0.9781 - loss: 0.0951 - val_accuracy: 0.9853 - val_loss: 0.0300\n",
      "Epoch 51/150\n",
      "\u001b[1m54/54\u001b[0m \u001b[32m━━━━━━━━━━━━━━━━━━━━\u001b[0m\u001b[37m\u001b[0m \u001b[1m13s\u001b[0m 241ms/step - accuracy: 0.9874 - loss: 0.0814 - val_accuracy: 0.9853 - val_loss: 0.0293\n",
      "Epoch 52/150\n",
      "\u001b[1m54/54\u001b[0m \u001b[32m━━━━━━━━━━━━━━━━━━━━\u001b[0m\u001b[37m\u001b[0m \u001b[1m13s\u001b[0m 238ms/step - accuracy: 0.9885 - loss: 0.0616 - val_accuracy: 0.9853 - val_loss: 0.0295\n",
      "Epoch 53/150\n",
      "\u001b[1m54/54\u001b[0m \u001b[32m━━━━━━━━━━━━━━━━━━━━\u001b[0m\u001b[37m\u001b[0m \u001b[1m15s\u001b[0m 281ms/step - accuracy: 0.9802 - loss: 0.0836 - val_accuracy: 0.9853 - val_loss: 0.0296\n",
      "Epoch 54/150\n",
      "\u001b[1m54/54\u001b[0m \u001b[32m━━━━━━━━━━━━━━━━━━━━\u001b[0m\u001b[37m\u001b[0m \u001b[1m15s\u001b[0m 278ms/step - accuracy: 0.9801 - loss: 0.0746 - val_accuracy: 0.9853 - val_loss: 0.0299\n",
      "Epoch 55/150\n",
      "\u001b[1m54/54\u001b[0m \u001b[32m━━━━━━━━━━━━━━━━━━━━\u001b[0m\u001b[37m\u001b[0m \u001b[1m13s\u001b[0m 243ms/step - accuracy: 0.9725 - loss: 0.0902 - val_accuracy: 0.9853 - val_loss: 0.0290\n",
      "Epoch 56/150\n",
      "\u001b[1m54/54\u001b[0m \u001b[32m━━━━━━━━━━━━━━━━━━━━\u001b[0m\u001b[37m\u001b[0m \u001b[1m13s\u001b[0m 238ms/step - accuracy: 0.9712 - loss: 0.0988 - val_accuracy: 0.9853 - val_loss: 0.0288\n",
      "Epoch 57/150\n",
      "\u001b[1m54/54\u001b[0m \u001b[32m━━━━━━━━━━━━━━━━━━━━\u001b[0m\u001b[37m\u001b[0m \u001b[1m12s\u001b[0m 226ms/step - accuracy: 0.9793 - loss: 0.0821 - val_accuracy: 0.9853 - val_loss: 0.0289\n",
      "Epoch 58/150\n",
      "\u001b[1m54/54\u001b[0m \u001b[32m━━━━━━━━━━━━━━━━━━━━\u001b[0m\u001b[37m\u001b[0m \u001b[1m12s\u001b[0m 220ms/step - accuracy: 0.9738 - loss: 0.0939 - val_accuracy: 0.9853 - val_loss: 0.0284\n",
      "Epoch 59/150\n",
      "\u001b[1m54/54\u001b[0m \u001b[32m━━━━━━━━━━━━━━━━━━━━\u001b[0m\u001b[37m\u001b[0m \u001b[1m12s\u001b[0m 230ms/step - accuracy: 0.9878 - loss: 0.0603 - val_accuracy: 0.9853 - val_loss: 0.0283\n",
      "Epoch 60/150\n",
      "\u001b[1m54/54\u001b[0m \u001b[32m━━━━━━━━━━━━━━━━━━━━\u001b[0m\u001b[37m\u001b[0m \u001b[1m12s\u001b[0m 219ms/step - accuracy: 0.9884 - loss: 0.0643 - val_accuracy: 0.9853 - val_loss: 0.0281\n",
      "Epoch 61/150\n",
      "\u001b[1m54/54\u001b[0m \u001b[32m━━━━━━━━━━━━━━━━━━━━\u001b[0m\u001b[37m\u001b[0m \u001b[1m13s\u001b[0m 237ms/step - accuracy: 0.9861 - loss: 0.0615 - val_accuracy: 0.9853 - val_loss: 0.0288\n",
      "Epoch 62/150\n",
      "\u001b[1m54/54\u001b[0m \u001b[32m━━━━━━━━━━━━━━━━━━━━\u001b[0m\u001b[37m\u001b[0m \u001b[1m12s\u001b[0m 219ms/step - accuracy: 0.9839 - loss: 0.0649 - val_accuracy: 0.9853 - val_loss: 0.0278\n",
      "Epoch 63/150\n",
      "\u001b[1m54/54\u001b[0m \u001b[32m━━━━━━━━━━━━━━━━━━━━\u001b[0m\u001b[37m\u001b[0m \u001b[1m12s\u001b[0m 227ms/step - accuracy: 0.9891 - loss: 0.0601 - val_accuracy: 0.9853 - val_loss: 0.0274\n",
      "Epoch 64/150\n",
      "\u001b[1m54/54\u001b[0m \u001b[32m━━━━━━━━━━━━━━━━━━━━\u001b[0m\u001b[37m\u001b[0m \u001b[1m12s\u001b[0m 231ms/step - accuracy: 0.9805 - loss: 0.0591 - val_accuracy: 0.9853 - val_loss: 0.0275\n",
      "Epoch 65/150\n",
      "\u001b[1m54/54\u001b[0m \u001b[32m━━━━━━━━━━━━━━━━━━━━\u001b[0m\u001b[37m\u001b[0m \u001b[1m13s\u001b[0m 233ms/step - accuracy: 0.9794 - loss: 0.0715 - val_accuracy: 0.9853 - val_loss: 0.0277\n",
      "Epoch 66/150\n",
      "\u001b[1m54/54\u001b[0m \u001b[32m━━━━━━━━━━━━━━━━━━━━\u001b[0m\u001b[37m\u001b[0m \u001b[1m13s\u001b[0m 245ms/step - accuracy: 0.9838 - loss: 0.0638 - val_accuracy: 0.9853 - val_loss: 0.0275\n",
      "Epoch 67/150\n",
      "\u001b[1m54/54\u001b[0m \u001b[32m━━━━━━━━━━━━━━━━━━━━\u001b[0m\u001b[37m\u001b[0m \u001b[1m13s\u001b[0m 240ms/step - accuracy: 0.9855 - loss: 0.0548 - val_accuracy: 0.9853 - val_loss: 0.0274\n",
      "Epoch 68/150\n",
      "\u001b[1m54/54\u001b[0m \u001b[32m━━━━━━━━━━━━━━━━━━━━\u001b[0m\u001b[37m\u001b[0m \u001b[1m13s\u001b[0m 240ms/step - accuracy: 0.9848 - loss: 0.0560 - val_accuracy: 0.9853 - val_loss: 0.0274\n",
      "Epoch 69/150\n",
      "\u001b[1m54/54\u001b[0m \u001b[32m━━━━━━━━━━━━━━━━━━━━\u001b[0m\u001b[37m\u001b[0m \u001b[1m13s\u001b[0m 239ms/step - accuracy: 0.9842 - loss: 0.0525 - val_accuracy: 0.9853 - val_loss: 0.0276\n",
      "Epoch 70/150\n",
      "\u001b[1m54/54\u001b[0m \u001b[32m━━━━━━━━━━━━━━━━━━━━\u001b[0m\u001b[37m\u001b[0m \u001b[1m17s\u001b[0m 319ms/step - accuracy: 0.9846 - loss: 0.0610 - val_accuracy: 0.9853 - val_loss: 0.0269\n",
      "Epoch 71/150\n",
      "\u001b[1m54/54\u001b[0m \u001b[32m━━━━━━━━━━━━━━━━━━━━\u001b[0m\u001b[37m\u001b[0m \u001b[1m14s\u001b[0m 252ms/step - accuracy: 0.9860 - loss: 0.0574 - val_accuracy: 0.9853 - val_loss: 0.0271\n",
      "Epoch 72/150\n",
      "\u001b[1m54/54\u001b[0m \u001b[32m━━━━━━━━━━━━━━━━━━━━\u001b[0m\u001b[37m\u001b[0m \u001b[1m13s\u001b[0m 246ms/step - accuracy: 0.9929 - loss: 0.0415 - val_accuracy: 0.9853 - val_loss: 0.0270\n",
      "Epoch 73/150\n",
      "\u001b[1m54/54\u001b[0m \u001b[32m━━━━━━━━━━━━━━━━━━━━\u001b[0m\u001b[37m\u001b[0m \u001b[1m15s\u001b[0m 270ms/step - accuracy: 0.9789 - loss: 0.0682 - val_accuracy: 0.9853 - val_loss: 0.0269\n",
      "Epoch 74/150\n",
      "\u001b[1m54/54\u001b[0m \u001b[32m━━━━━━━━━━━━━━━━━━━━\u001b[0m\u001b[37m\u001b[0m \u001b[1m14s\u001b[0m 252ms/step - accuracy: 0.9914 - loss: 0.0521 - val_accuracy: 0.9853 - val_loss: 0.0266\n",
      "Epoch 75/150\n",
      "\u001b[1m54/54\u001b[0m \u001b[32m━━━━━━━━━━━━━━━━━━━━\u001b[0m\u001b[37m\u001b[0m \u001b[1m13s\u001b[0m 240ms/step - accuracy: 0.9784 - loss: 0.0694 - val_accuracy: 0.9853 - val_loss: 0.0269\n",
      "Epoch 76/150\n",
      "\u001b[1m54/54\u001b[0m \u001b[32m━━━━━━━━━━━━━━━━━━━━\u001b[0m\u001b[37m\u001b[0m \u001b[1m13s\u001b[0m 239ms/step - accuracy: 0.9848 - loss: 0.0493 - val_accuracy: 0.9853 - val_loss: 0.0265\n",
      "Epoch 77/150\n",
      "\u001b[1m54/54\u001b[0m \u001b[32m━━━━━━━━━━━━━━━━━━━━\u001b[0m\u001b[37m\u001b[0m \u001b[1m15s\u001b[0m 280ms/step - accuracy: 0.9819 - loss: 0.0535 - val_accuracy: 0.9853 - val_loss: 0.0263\n",
      "Epoch 78/150\n",
      "\u001b[1m54/54\u001b[0m \u001b[32m━━━━━━━━━━━━━━━━━━━━\u001b[0m\u001b[37m\u001b[0m \u001b[1m15s\u001b[0m 270ms/step - accuracy: 0.9809 - loss: 0.0492 - val_accuracy: 0.9853 - val_loss: 0.0265\n",
      "Epoch 79/150\n",
      "\u001b[1m54/54\u001b[0m \u001b[32m━━━━━━━━━━━━━━━━━━━━\u001b[0m\u001b[37m\u001b[0m \u001b[1m13s\u001b[0m 235ms/step - accuracy: 0.9781 - loss: 0.0548 - val_accuracy: 0.9853 - val_loss: 0.0261\n",
      "Epoch 80/150\n",
      "\u001b[1m54/54\u001b[0m \u001b[32m━━━━━━━━━━━━━━━━━━━━\u001b[0m\u001b[37m\u001b[0m \u001b[1m13s\u001b[0m 244ms/step - accuracy: 0.9901 - loss: 0.0462 - val_accuracy: 0.9853 - val_loss: 0.0264\n",
      "Epoch 81/150\n",
      "\u001b[1m54/54\u001b[0m \u001b[32m━━━━━━━━━━━━━━━━━━━━\u001b[0m\u001b[37m\u001b[0m \u001b[1m13s\u001b[0m 236ms/step - accuracy: 0.9871 - loss: 0.0469 - val_accuracy: 0.9853 - val_loss: 0.0268\n",
      "Epoch 82/150\n",
      "\u001b[1m54/54\u001b[0m \u001b[32m━━━━━━━━━━━━━━━━━━━━\u001b[0m\u001b[37m\u001b[0m \u001b[1m13s\u001b[0m 240ms/step - accuracy: 0.9714 - loss: 0.0604 - val_accuracy: 0.9853 - val_loss: 0.0266\n",
      "Epoch 83/150\n",
      "\u001b[1m54/54\u001b[0m \u001b[32m━━━━━━━━━━━━━━━━━━━━\u001b[0m\u001b[37m\u001b[0m \u001b[1m12s\u001b[0m 222ms/step - accuracy: 0.9835 - loss: 0.0495 - val_accuracy: 0.9853 - val_loss: 0.0259\n",
      "Epoch 84/150\n",
      "\u001b[1m54/54\u001b[0m \u001b[32m━━━━━━━━━━━━━━━━━━━━\u001b[0m\u001b[37m\u001b[0m \u001b[1m12s\u001b[0m 227ms/step - accuracy: 0.9818 - loss: 0.0542 - val_accuracy: 0.9853 - val_loss: 0.0262\n",
      "Epoch 85/150\n",
      "\u001b[1m54/54\u001b[0m \u001b[32m━━━━━━━━━━━━━━━━━━━━\u001b[0m\u001b[37m\u001b[0m \u001b[1m13s\u001b[0m 233ms/step - accuracy: 0.9888 - loss: 0.0446 - val_accuracy: 0.9853 - val_loss: 0.0259\n",
      "Epoch 86/150\n",
      "\u001b[1m54/54\u001b[0m \u001b[32m━━━━━━━━━━━━━━━━━━━━\u001b[0m\u001b[37m\u001b[0m \u001b[1m13s\u001b[0m 246ms/step - accuracy: 0.9895 - loss: 0.0411 - val_accuracy: 0.9853 - val_loss: 0.0259\n",
      "Epoch 87/150\n",
      "\u001b[1m54/54\u001b[0m \u001b[32m━━━━━━━━━━━━━━━━━━━━\u001b[0m\u001b[37m\u001b[0m \u001b[1m14s\u001b[0m 264ms/step - accuracy: 0.9801 - loss: 0.0499 - val_accuracy: 0.9853 - val_loss: 0.0261\n",
      "Epoch 88/150\n",
      "\u001b[1m54/54\u001b[0m \u001b[32m━━━━━━━━━━━━━━━━━━━━\u001b[0m\u001b[37m\u001b[0m \u001b[1m13s\u001b[0m 236ms/step - accuracy: 0.9863 - loss: 0.0401 - val_accuracy: 0.9853 - val_loss: 0.0258\n",
      "Epoch 89/150\n",
      "\u001b[1m54/54\u001b[0m \u001b[32m━━━━━━━━━━━━━━━━━━━━\u001b[0m\u001b[37m\u001b[0m \u001b[1m14s\u001b[0m 251ms/step - accuracy: 0.9918 - loss: 0.0320 - val_accuracy: 0.9853 - val_loss: 0.0257\n",
      "Epoch 90/150\n",
      "\u001b[1m54/54\u001b[0m \u001b[32m━━━━━━━━━━━━━━━━━━━━\u001b[0m\u001b[37m\u001b[0m \u001b[1m13s\u001b[0m 241ms/step - accuracy: 0.9877 - loss: 0.0390 - val_accuracy: 0.9853 - val_loss: 0.0255\n",
      "Epoch 91/150\n",
      "\u001b[1m54/54\u001b[0m \u001b[32m━━━━━━━━━━━━━━━━━━━━\u001b[0m\u001b[37m\u001b[0m \u001b[1m13s\u001b[0m 234ms/step - accuracy: 0.9816 - loss: 0.0483 - val_accuracy: 0.9853 - val_loss: 0.0256\n",
      "Epoch 92/150\n",
      "\u001b[1m54/54\u001b[0m \u001b[32m━━━━━━━━━━━━━━━━━━━━\u001b[0m\u001b[37m\u001b[0m \u001b[1m14s\u001b[0m 267ms/step - accuracy: 0.9893 - loss: 0.0458 - val_accuracy: 0.9853 - val_loss: 0.0260\n",
      "Epoch 93/150\n",
      "\u001b[1m54/54\u001b[0m \u001b[32m━━━━━━━━━━━━━━━━━━━━\u001b[0m\u001b[37m\u001b[0m \u001b[1m14s\u001b[0m 258ms/step - accuracy: 0.9907 - loss: 0.0339 - val_accuracy: 0.9853 - val_loss: 0.0256\n",
      "Epoch 94/150\n",
      "\u001b[1m54/54\u001b[0m \u001b[32m━━━━━━━━━━━━━━━━━━━━\u001b[0m\u001b[37m\u001b[0m \u001b[1m13s\u001b[0m 238ms/step - accuracy: 0.9875 - loss: 0.0466 - val_accuracy: 0.9853 - val_loss: 0.0256\n",
      "Epoch 95/150\n",
      "\u001b[1m54/54\u001b[0m \u001b[32m━━━━━━━━━━━━━━━━━━━━\u001b[0m\u001b[37m\u001b[0m \u001b[1m13s\u001b[0m 242ms/step - accuracy: 0.9876 - loss: 0.0447 - val_accuracy: 0.9853 - val_loss: 0.0256\n"
     ]
    }
   ],
   "source": [
    "#Import Library\n",
    "import tensorflow as tf\n",
    "from tensorflow.keras.applications import MobileNetV2\n",
    "from tensorflow.keras.models import Model, Sequential\n",
    "from tensorflow.keras.layers import Input, Lambda, Dense, Flatten, Dropout, BatchNormalization, GlobalAveragePooling2D\n",
    "from tensorflow.keras.preprocessing.image import ImageDataGenerator\n",
    "from tensorflow.keras.callbacks import EarlyStopping\n",
    "import tensorflow.keras.backend as K\n",
    "import numpy as np\n",
    "import os\n",
    "import matplotlib.pyplot as plt\n",
    "\n",
    "#Define Hyperparameters\n",
    "train_path = '/Users/aqsal/Downloads/FINALPROJECT/finpro-fraud/p2-final-project-signature-detector/dataset/dataset2/processed_train'\n",
    "test_path = '/Users/aqsal/Downloads/FINALPROJECT/finpro-fraud/p2-final-project-signature-detector/dataset/dataset2/processed_test'\n",
    "\n",
    "img_height = 224  # Ukuran gambar\n",
    "img_width = 224  # Ukuran gambar\n",
    "batch_size = 16  # Jumlah sampel per batch\n",
    "\n",
    "#Data Augmentation dan Data Generator\n",
    "train_datagen = ImageDataGenerator(rescale=1./255., validation_split=0.4)\n",
    "\n",
    "train_set = train_datagen.flow_from_directory(train_path,\n",
    "                                              target_size=(img_height, img_width),\n",
    "                                              class_mode='sparse',\n",
    "                                              subset='training',\n",
    "                                              batch_size=batch_size,\n",
    "                                              shuffle=True,\n",
    "                                              seed=10)\n",
    "\n",
    "val_set = train_datagen.flow_from_directory(train_path,\n",
    "                                            target_size=(img_height, img_width),\n",
    "                                            class_mode='sparse',\n",
    "                                            subset='validation',\n",
    "                                            batch_size=batch_size,\n",
    "                                            shuffle=True,\n",
    "                                            seed=10)\n",
    "\n",
    "test_datagen = ImageDataGenerator(rescale=1./255.)\n",
    "test_set = test_datagen.flow_from_directory(test_path,\n",
    "                                            target_size=(img_height, img_width),\n",
    "                                            class_mode='sparse',\n",
    "                                            batch_size=batch_size,\n",
    "                                            shuffle=False,\n",
    "                                            seed=10)\n",
    "\n",
    "#Load Pretrained MobileNetV2\n",
    "base_model = MobileNetV2(input_shape=(224, 224, 3), include_top=False, weights=\"imagenet\")\n",
    "\n",
    "# Freeze layer pretrained\n",
    "base_model.trainable = False\n",
    "\n",
    "#Tambahkan Fully Connected Layers\n",
    "modelmobile = Sequential([\n",
    "    base_model,\n",
    "    GlobalAveragePooling2D(),\n",
    "    Dense(256, activation='relu'),\n",
    "    Dropout(0.5),\n",
    "    Dense(len(train_set.class_indices), activation='softmax')\n",
    "])\n",
    "\n",
    "#Compile Model\n",
    "modelmobile.compile(optimizer=tf.keras.optimizers.Adam(learning_rate=0.0001), \n",
    "              loss='sparse_categorical_crossentropy', \n",
    "              metrics=['accuracy'])\n",
    "\n",
    "#Early Stopping Callback\n",
    "early_stopping = EarlyStopping(monitor='val_loss', patience=5, restore_best_weights=True)\n",
    "\n",
    "#Training Model\n",
    "historymobilenet = modelmobile.fit(\n",
    "    train_set,\n",
    "    validation_data=val_set,\n",
    "    epochs=150,  # Mulai dengan 150 epoch, bisa dihentikan lebih awal dengan EarlyStopping\n",
    "    batch_size=batch_size,\n",
    "    callbacks=[early_stopping]\n",
    ")"
   ]
  },
  {
   "cell_type": "code",
   "execution_count": null,
   "metadata": {},
   "outputs": [
    {
     "name": "stdout",
     "output_type": "stream",
     "text": [
      "\u001b[1m44/44\u001b[0m \u001b[32m━━━━━━━━━━━━━━━━━━━━\u001b[0m\u001b[37m\u001b[0m \u001b[1m8s\u001b[0m 180ms/step - accuracy: 0.8693 - loss: 0.5693\n",
      "Test Loss: 0.8232\n",
      "Test Accuracy: 0.8211\n"
     ]
    },
    {
     "data": {
      "image/png": "[encoded data removed]",
      "text/plain": [
       "<Figure size 1200x400 with 2 Axes>"
      ]
     },
     "metadata": {},
     "output_type": "display_data"
    }
   ],
   "source": [
    "#Evaluasi Model\n",
    "test_loss, test_accuracy = modelmobile.evaluate(test_set)\n",
    "print(f\"Test Loss: {test_loss:.4f}\")\n",
    "print(f\"Test Accuracy: {test_accuracy:.4f}\")\n",
    "\n",
    "#Visualisasi Hasil Training\n",
    "plt.figure(figsize=(12, 4))\n",
    "plt.subplot(1, 2, 1)\n",
    "plt.plot(historymobilenet.history['loss'], label='Train Loss')\n",
    "plt.plot(historymobilenet.history['val_loss'], label='Validation Loss')\n",
    "plt.xlabel('Epoch')\n",
    "plt.ylabel('Loss')\n",
    "plt.legend()\n",
    "plt.title('Loss Curve')\n",
    "\n",
    "plt.subplot(1, 2, 2)\n",
    "plt.plot(historymobilenet.history['accuracy'], label='Train Accuracy')\n",
    "plt.plot(historymobilenet.history['val_accuracy'], label='Validation Accuracy')\n",
    "plt.xlabel('Epoch')\n",
    "plt.ylabel('Accuracy')\n",
    "plt.legend()\n",
    "plt.title('Accuracy Curve')\n",
    "plt.show()"
   ]
  },
  {
   "cell_type": "code",
   "execution_count": null,
   "metadata": {},
   "outputs": [
    {
     "name": "stdout",
     "output_type": "stream",
     "text": [
      "\u001b[1m44/44\u001b[0m \u001b[32m━━━━━━━━━━━━━━━━━━━━\u001b[0m\u001b[37m\u001b[0m \u001b[1m7s\u001b[0m 150ms/step\n",
      "Classification Report:\n",
      "                           precision    recall  f1-score   support\n",
      "\n",
      "             Affan Haidar       1.00      1.00      1.00        22\n",
      "              Ainun Putri       0.73      1.00      0.85        22\n",
      "          Andi ahmad afiq       1.00      1.00      1.00        22\n",
      "    Andi. Dwi Yuniarti. H       0.63      0.86      0.73        22\n",
      "                 Bayu Adi       0.80      0.91      0.85        22\n",
      "       Dewi Titania Randa       0.92      1.00      0.96        11\n",
      "           Dinda unidayan       0.68      0.95      0.79        22\n",
      "              Dwi Octavia       1.00      0.64      0.78        22\n",
      "                    Fadli       0.91      0.45      0.61        22\n",
      "        Fildzah Khalishah       0.88      0.64      0.74        22\n",
      "           Fiqram Faathir       1.00      1.00      1.00        22\n",
      "                    Githa       0.92      0.50      0.65        22\n",
      "         Hashimatul Zaria       1.00      1.00      1.00        22\n",
      "                    Ikbal       0.41      0.91      0.56        22\n",
      "          Inka Sinulingga       0.81      1.00      0.90        22\n",
      "                Ishaq usn       1.00      0.55      0.71        22\n",
      "              Khairunnisa       0.85      1.00      0.92        22\n",
      "        Laode Sandi Yunus       1.00      0.59      0.74        22\n",
      "           Lia Kurniawati       1.00      1.00      1.00        22\n",
      "                 Lithania       1.00      1.00      1.00        22\n",
      "         Mariati unidayan       0.93      0.59      0.72        22\n",
      "                Mas Bilal       0.70      0.86      0.78        22\n",
      "               Muh Luthfi       0.90      0.86      0.88        22\n",
      "       Muh. Falah Mubaraq       1.00      0.95      0.98        22\n",
      "Muhammad Azriel Saktiawan       1.00      0.95      0.98        22\n",
      "                 Mursawal       0.65      1.00      0.79        22\n",
      "        Ni Luh Ica Ardini       0.87      0.59      0.70        22\n",
      "     Ni Made Sri Ulandari       0.91      0.91      0.91        22\n",
      "         Nur Ilmi Fadilah       0.83      0.91      0.87        22\n",
      "     Prety Maharani Utami       0.50      0.50      0.50        22\n",
      "      Putri Angraini Aziz       0.85      0.50      0.63        22\n",
      "                Putu Riva       0.84      0.73      0.78        22\n",
      "\n",
      "                 accuracy                           0.82       693\n",
      "                macro avg       0.86      0.82      0.82       693\n",
      "             weighted avg       0.86      0.82      0.82       693\n",
      "\n",
      "Confusion Matrix:\n",
      "[[22  0  0 ...  0  0  0]\n",
      " [ 0 22  0 ...  0  0  0]\n",
      " [ 0  0 22 ...  0  0  0]\n",
      " ...\n",
      " [ 0  0  0 ... 11  0  0]\n",
      " [ 0  0  0 ...  0 11  0]\n",
      " [ 0  0  0 ...  0  0 16]]\n"
     ]
    }
   ],
   "source": [
    "#Classification Report dan Confusion Matrix\n",
    "#import Machine Learning\n",
    "from sklearn.metrics import classification_report\n",
    "from sklearn.metrics import confusion_matrix\n",
    "\n",
    "\n",
    "y_true = test_set.classes\n",
    "y_pred = modelmobile.predict(test_set)\n",
    "y_pred_classes = np.argmax(y_pred, axis=1)\n",
    "\n",
    "print(\"Classification Report:\")\n",
    "print(classification_report(y_true, y_pred_classes, target_names=list(test_set.class_indices.keys())))\n",
    "\n",
    "print(\"Confusion Matrix:\")\n",
    "print(confusion_matrix(y_true, y_pred_classes))"
   ]
  },
  {
   "cell_type": "code",
   "execution_count": 4,
   "metadata": {},
   "outputs": [
    {
     "data": {
      "text/html": [
       "<pre style=\"white-space:pre;overflow-x:auto;line-height:normal;font-family:Menlo,'DejaVu Sans Mono',consolas,'Courier New',monospace\"><span style=\"font-weight: bold\">Model: \"sequential\"</span>\n",
       "</pre>\n"
      ],
      "text/plain": [
       "\u001b[1mModel: \"sequential\"\u001b[0m\n"
      ]
     },
     "metadata": {},
     "output_type": "display_data"
    },
    {
     "data": {
      "text/html": [
       "<pre style=\"white-space:pre;overflow-x:auto;line-height:normal;font-family:Menlo,'DejaVu Sans Mono',consolas,'Courier New',monospace\">┏━━━━━━━━━━━━━━━━━━━━━━━━━━━━━━━━━┳━━━━━━━━━━━━━━━━━━━━━━━━┳━━━━━━━━━━━━━━━┓\n",
       "┃<span style=\"font-weight: bold\"> Layer (type)                    </span>┃<span style=\"font-weight: bold\"> Output Shape           </span>┃<span style=\"font-weight: bold\">       Param # </span>┃\n",
       "┡━━━━━━━━━━━━━━━━━━━━━━━━━━━━━━━━━╇━━━━━━━━━━━━━━━━━━━━━━━━╇━━━━━━━━━━━━━━━┩\n",
       "│ mobilenetv2_1.00_224            │ (<span style=\"color: #00d7ff; text-decoration-color: #00d7ff\">None</span>, <span style=\"color: #00af00; text-decoration-color: #00af00\">7</span>, <span style=\"color: #00af00; text-decoration-color: #00af00\">7</span>, <span style=\"color: #00af00; text-decoration-color: #00af00\">1280</span>)     │     <span style=\"color: #00af00; text-decoration-color: #00af00\">2,257,984</span> │\n",
       "│ (<span style=\"color: #0087ff; text-decoration-color: #0087ff\">Functional</span>)                    │                        │               │\n",
       "├─────────────────────────────────┼────────────────────────┼───────────────┤\n",
       "│ global_average_pooling2d        │ (<span style=\"color: #00d7ff; text-decoration-color: #00d7ff\">None</span>, <span style=\"color: #00af00; text-decoration-color: #00af00\">1280</span>)           │             <span style=\"color: #00af00; text-decoration-color: #00af00\">0</span> │\n",
       "│ (<span style=\"color: #0087ff; text-decoration-color: #0087ff\">GlobalAveragePooling2D</span>)        │                        │               │\n",
       "├─────────────────────────────────┼────────────────────────┼───────────────┤\n",
       "│ dense (<span style=\"color: #0087ff; text-decoration-color: #0087ff\">Dense</span>)                   │ (<span style=\"color: #00d7ff; text-decoration-color: #00d7ff\">None</span>, <span style=\"color: #00af00; text-decoration-color: #00af00\">256</span>)            │       <span style=\"color: #00af00; text-decoration-color: #00af00\">327,936</span> │\n",
       "├─────────────────────────────────┼────────────────────────┼───────────────┤\n",
       "│ dropout (<span style=\"color: #0087ff; text-decoration-color: #0087ff\">Dropout</span>)               │ (<span style=\"color: #00d7ff; text-decoration-color: #00d7ff\">None</span>, <span style=\"color: #00af00; text-decoration-color: #00af00\">256</span>)            │             <span style=\"color: #00af00; text-decoration-color: #00af00\">0</span> │\n",
       "├─────────────────────────────────┼────────────────────────┼───────────────┤\n",
       "│ dense_1 (<span style=\"color: #0087ff; text-decoration-color: #0087ff\">Dense</span>)                 │ (<span style=\"color: #00d7ff; text-decoration-color: #00d7ff\">None</span>, <span style=\"color: #00af00; text-decoration-color: #00af00\">32</span>)             │         <span style=\"color: #00af00; text-decoration-color: #00af00\">8,224</span> │\n",
       "└─────────────────────────────────┴────────────────────────┴───────────────┘\n",
       "</pre>\n"
      ],
      "text/plain": [
       "┏━━━━━━━━━━━━━━━━━━━━━━━━━━━━━━━━━┳━━━━━━━━━━━━━━━━━━━━━━━━┳━━━━━━━━━━━━━━━┓\n",
       "┃\u001b[1m \u001b[0m\u001b[1mLayer (type)                   \u001b[0m\u001b[1m \u001b[0m┃\u001b[1m \u001b[0m\u001b[1mOutput Shape          \u001b[0m\u001b[1m \u001b[0m┃\u001b[1m \u001b[0m\u001b[1m      Param #\u001b[0m\u001b[1m \u001b[0m┃\n",
       "┡━━━━━━━━━━━━━━━━━━━━━━━━━━━━━━━━━╇━━━━━━━━━━━━━━━━━━━━━━━━╇━━━━━━━━━━━━━━━┩\n",
       "│ mobilenetv2_1.00_224            │ (\u001b[38;5;45mNone\u001b[0m, \u001b[38;5;34m7\u001b[0m, \u001b[38;5;34m7\u001b[0m, \u001b[38;5;34m1280\u001b[0m)     │     \u001b[38;5;34m2,257,984\u001b[0m │\n",
       "│ (\u001b[38;5;33mFunctional\u001b[0m)                    │                        │               │\n",
       "├─────────────────────────────────┼────────────────────────┼───────────────┤\n",
       "│ global_average_pooling2d        │ (\u001b[38;5;45mNone\u001b[0m, \u001b[38;5;34m1280\u001b[0m)           │             \u001b[38;5;34m0\u001b[0m │\n",
       "│ (\u001b[38;5;33mGlobalAveragePooling2D\u001b[0m)        │                        │               │\n",
       "├─────────────────────────────────┼────────────────────────┼───────────────┤\n",
       "│ dense (\u001b[38;5;33mDense\u001b[0m)                   │ (\u001b[38;5;45mNone\u001b[0m, \u001b[38;5;34m256\u001b[0m)            │       \u001b[38;5;34m327,936\u001b[0m │\n",
       "├─────────────────────────────────┼────────────────────────┼───────────────┤\n",
       "│ dropout (\u001b[38;5;33mDropout\u001b[0m)               │ (\u001b[38;5;45mNone\u001b[0m, \u001b[38;5;34m256\u001b[0m)            │             \u001b[38;5;34m0\u001b[0m │\n",
       "├─────────────────────────────────┼────────────────────────┼───────────────┤\n",
       "│ dense_1 (\u001b[38;5;33mDense\u001b[0m)                 │ (\u001b[38;5;45mNone\u001b[0m, \u001b[38;5;34m32\u001b[0m)             │         \u001b[38;5;34m8,224\u001b[0m │\n",
       "└─────────────────────────────────┴────────────────────────┴───────────────┘\n"
      ]
     },
     "metadata": {},
     "output_type": "display_data"
    },
    {
     "data": {
      "text/html": [
       "<pre style=\"white-space:pre;overflow-x:auto;line-height:normal;font-family:Menlo,'DejaVu Sans Mono',consolas,'Courier New',monospace\"><span style=\"font-weight: bold\"> Total params: </span><span style=\"color: #00af00; text-decoration-color: #00af00\">3,266,466</span> (12.46 MB)\n",
       "</pre>\n"
      ],
      "text/plain": [
       "\u001b[1m Total params: \u001b[0m\u001b[38;5;34m3,266,466\u001b[0m (12.46 MB)\n"
      ]
     },
     "metadata": {},
     "output_type": "display_data"
    },
    {
     "data": {
      "text/html": [
       "<pre style=\"white-space:pre;overflow-x:auto;line-height:normal;font-family:Menlo,'DejaVu Sans Mono',consolas,'Courier New',monospace\"><span style=\"font-weight: bold\"> Trainable params: </span><span style=\"color: #00af00; text-decoration-color: #00af00\">0</span> (0.00 B)\n",
       "</pre>\n"
      ],
      "text/plain": [
       "\u001b[1m Trainable params: \u001b[0m\u001b[38;5;34m0\u001b[0m (0.00 B)\n"
      ]
     },
     "metadata": {},
     "output_type": "display_data"
    },
    {
     "data": {
      "text/html": [
       "<pre style=\"white-space:pre;overflow-x:auto;line-height:normal;font-family:Menlo,'DejaVu Sans Mono',consolas,'Courier New',monospace\"><span style=\"font-weight: bold\"> Non-trainable params: </span><span style=\"color: #00af00; text-decoration-color: #00af00\">2,594,144</span> (9.90 MB)\n",
       "</pre>\n"
      ],
      "text/plain": [
       "\u001b[1m Non-trainable params: \u001b[0m\u001b[38;5;34m2,594,144\u001b[0m (9.90 MB)\n"
      ]
     },
     "metadata": {},
     "output_type": "display_data"
    },
    {
     "data": {
      "text/html": [
       "<pre style=\"white-space:pre;overflow-x:auto;line-height:normal;font-family:Menlo,'DejaVu Sans Mono',consolas,'Courier New',monospace\"><span style=\"font-weight: bold\"> Optimizer params: </span><span style=\"color: #00af00; text-decoration-color: #00af00\">672,322</span> (2.56 MB)\n",
       "</pre>\n"
      ],
      "text/plain": [
       "\u001b[1m Optimizer params: \u001b[0m\u001b[38;5;34m672,322\u001b[0m (2.56 MB)\n"
      ]
     },
     "metadata": {},
     "output_type": "display_data"
    }
   ],
   "source": [
    "# frezz parameter untuk tidak di edit lagi parameter model nya terhadap train.fit\n",
    "# freeze params\n",
    "\n",
    "modelmobile.trainable = False\n",
    "modelmobile.summary()"
   ]
  },
  {
   "cell_type": "code",
   "execution_count": null,
   "metadata": {},
   "outputs": [
    {
     "name": "stderr",
     "output_type": "stream",
     "text": [
      "WARNING:absl:You are saving your model as an HDF5 file via `model.save()` or `keras.saving.save_model(model)`. This file format is considered legacy. We recommend using instead the native Keras format, e.g. `model.save('my_model.keras')` or `keras.saving.save_model(model, 'my_model.keras')`. \n"
     ]
    },
    {
     "name": "stdout",
     "output_type": "stream",
     "text": [
      "Model disimpan sebagai mobilenet_signature_modeladd.h5\n"
     ]
    }
   ],
   "source": [
    "#Simpan Model\n",
    "modelmobile.save(\"mobilenet_signature_modelnewsegmenlagi.h5\")\n",
    "print(\"Model disimpan sebagai mobilenet_signature_modeladd.h5\")\n",
    "\n",
    "#Prediksi Tanda Tangan Baru\n",
    "def predict_signature(image_path, model, class_indices):\n",
    "    \"\"\"\n",
    "    Melakukan prediksi terhadap gambar tanda tangan baru.\n",
    "    \"\"\"\n",
    "    img = tf.keras.preprocessing.image.load_img(image_path, target_size=(224, 224))\n",
    "    img_array = tf.keras.preprocessing.image.img_to_array(img) / 255.0\n",
    "    img_array = np.expand_dims(img_array, axis=0)\n",
    "    \n",
    "    prediction = model.predict(img_array)\n",
    "    predicted_class = np.argmax(prediction)\n",
    "    class_label = list(class_indices.keys())[predicted_class]\n",
    "    \n",
    "    print(f\"Prediksi: {class_label}\")\n",
    "    return class_label"
   ]
  },
  {
   "cell_type": "code",
   "execution_count": 11,
   "metadata": {},
   "outputs": [
    {
     "name": "stdout",
     "output_type": "stream",
     "text": [
      "\u001b[1m1/1\u001b[0m \u001b[32m━━━━━━━━━━━━━━━━━━━━\u001b[0m\u001b[37m\u001b[0m \u001b[1m1s\u001b[0m 658ms/step\n",
      "Predicted class: Affan Haidar, Confidence: 99.01%\n"
     ]
    }
   ],
   "source": [
    "from tensorflow.keras.preprocessing import image\n",
    "from PIL import Image\n",
    "\n",
    "\n",
    "def predict_image_path(image_url, modelmobile, train_set):\n",
    "    try:\n",
    "        # Load gambar & konversi ke RGB\n",
    "        img = Image.open(image_url).convert(\"RGB\")  # **Convert ke RGB**\n",
    "        img = img.resize((224, 224))  # Sesuaikan dengan input model\n",
    "        img_array = image.img_to_array(img)\n",
    "        img_array = np.expand_dims(img_array, axis=0)\n",
    "        img_array /= 255.0  # Normalisasi\n",
    "\n",
    "        # Prediksi dengan model\n",
    "        prediction = modelmobile.predict(img_array)\n",
    "        predicted_class = np.argmax(prediction[0])\n",
    "        confidence = prediction[0][predicted_class] * 100\n",
    "\n",
    "        # Ambil nama kelas dari dataset\n",
    "        class_labels = list(train_set.class_indices.keys())\n",
    "        predicted_label = class_labels[predicted_class]\n",
    "\n",
    "        return f\"Predicted class: {predicted_label}, Confidence: {confidence:.2f}%\"\n",
    "\n",
    "    except Exception as e:\n",
    "        return f\"Error during prediction: {e}\"\n",
    "\n",
    "# Contoh pemanggilan fungsi\n",
    "image_url = \"/Users/aqsal/Downloads/FINALPROJECT/finpro-fraud/p2-final-project-signature-detector/dataset/dataset2/test/Affan Haidar/20250217_145003.jpg\"  # Ganti dengan path gambar lokal\n",
    "result = predict_image_path(image_url, modelmobile, train_set)\n",
    "print(result)"
   ]
  },
  {
   "cell_type": "code",
   "execution_count": null,
   "metadata": {},
   "outputs": [
    {
     "name": "stdout",
     "output_type": "stream",
     "text": [
      "{'Affan Haidar': 0, 'Ainun Putri': 1, 'Andi ahmad afiq': 2, 'Andi. Dwi Yuniarti. H': 3, 'Bayu Adi': 4, 'Dewi Titania Randa': 5, 'Dinda unidayan': 6, 'Dwi Octavia': 7, 'Fadli': 8, 'Fildzah Khalishah': 9, 'Fiqram Faathir': 10, 'Githa': 11, 'Hashimatul Zaria': 12, 'Ikbal': 13, 'Inka Sinulingga': 14, 'Ishaq usn': 15, 'Khairunnisa': 16, 'Laode Sandi Yunus': 17, 'Lia Kurniawati': 18, 'Lithania': 19, 'Mariati unidayan': 20, 'Mas Bilal': 21, 'Muh Luthfi': 22, 'Muh. Falah Mubaraq': 23, 'Muhammad Azriel Saktiawan': 24, 'Mursawal': 25, 'Ni Luh Ica Ardini': 26, 'Ni Made Sri Ulandari': 27, 'Nur Ilmi Fadilah': 28, 'Prety Maharani Utami': 29, 'Putri Angraini Aziz': 30, 'Putu Riva': 31}\n",
      "{'Affan Haidar': 0, 'Ainun Putri': 1, 'Andi ahmad afiq': 2, 'Andi. Dwi Yuniarti. H': 3, 'Bayu Adi': 4, 'Dewi Titania Randa': 5, 'Dinda unidayan': 6, 'Dwi Octavia': 7, 'Fadli': 8, 'Fildzah Khalishah': 9, 'Fiqram Faathir': 10, 'Githa': 11, 'Hashimatul Zaria': 12, 'Ikbal': 13, 'Inka Sinulingga': 14, 'Ishaq usn': 15, 'Khairunnisa': 16, 'Laode Sandi Yunus': 17, 'Lia Kurniawati': 18, 'Lithania': 19, 'Mariati unidayan': 20, 'Mas Bilal': 21, 'Muh Luthfi': 22, 'Muh. Falah Mubaraq': 23, 'Muhammad Azriel Saktiawan': 24, 'Mursawal': 25, 'Ni Luh Ica Ardini': 26, 'Ni Made Sri Ulandari': 27, 'Nur Ilmi Fadilah': 28, 'Prety Maharani Utami': 29, 'Putri Angraini Aziz': 30, 'Putu Riva': 31}\n"
     ]
    }
   ],
   "source": [
    "\n",
    "print(train_set.class_indices)\n",
    "print(test_set.class_indices)"
   ]
  }
 ],
 "metadata": {
  "kernelspec": {
   "display_name": "base",
   "language": "python",
   "name": "python3"
  },
  "language_info": {
   "codemirror_mode": {
    "name": "ipython",
    "version": 3
   },
   "file_extension": ".py",
   "mimetype": "text/x-python",
   "name": "python",
   "nbconvert_exporter": "python",
   "pygments_lexer": "ipython3",
   "version": "3.12.8"
  }
 },
 "nbformat": 4,
 "nbformat_minor": 2
}
