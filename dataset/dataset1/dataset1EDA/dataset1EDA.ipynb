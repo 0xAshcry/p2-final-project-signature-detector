{
 "cells": [
  {
   "cell_type": "markdown",
   "metadata": {},
   "source": [
    "# 1. Perkenalan\n",
    "\n",
    "Nama: Affan, Aqsal, Lia Kurniawati, dan Yuana Inka\n",
    "\n",
    "Batch: FTDS HCK-024\n",
    "\n",
    "Objective: "
   ]
  },
  {
   "cell_type": "markdown",
   "metadata": {},
   "source": [
    "## Identifikasi Masalah"
   ]
  },
  {
   "cell_type": "markdown",
   "metadata": {},
   "source": [
    "### Topik Permasalahan"
   ]
  },
  {
   "cell_type": "markdown",
   "metadata": {},
   "source": [
    "\"Analisis Prediksi Transaki Online dan Offline Fraud untuk Meningkatkan Keamananan Transaksi dan Menjaga Likuiditas Bank\""
   ]
  },
  {
   "cell_type": "markdown",
   "metadata": {},
   "source": [
    "### Latar Belakang"
   ]
  },
  {
   "cell_type": "markdown",
   "metadata": {},
   "source": [
    "Fungsi utama bank adalah menghimpun dana dari masyarakat dan menyalurkannya kembali dalam bentuk pinjaman atau kredit. Selain itu, bank juga memiliki tanggung jawab besar untuk menyediakan sistem transaksi keuangan yang aman dan terpercaya, sebagai penghimpun dan penyalur dana. Transaksi keuangan merupakan aspek penting dalam kegiatan ekonomi. Keamanan dan integritas bank sangat penting untuk memastikan transaksi keuangan berjalan dengan lancar dan terhindar dari potensi kerugian.\n",
    "\n",
    "Dengan pesatnya perkembangan teknologi dalam beberapa tahun terakhir, bank dihadapkan pada tuntutan untuk menyediakan sistem transaksi yang cepat dan efisien, baik online maupun offline. Namun, seiring kemajuan teknologi, risiko fraud atau penipuan dalam transaksi keuangan juga semakin meningkat, sehingga bank harus memastikan bahwa setiap transaksi terlindungi dengan sistem yang kuat dan dapat diandalkan.\n",
    "\n",
    "Untuk itu, penerapan teknologi seperti machine learning dan deep learning menjadi solusi efektif untuk mendeteksi pola transaksi mencurigakan secara otomatis dan real-time. Sistem ini dapat mengirimkan alarm kepada bank jika ada indikasi fraud, memungkinkan tindakan preventif diambil segera. Selain itu, teknologi ini mempercepat proses verifikasi, mengurangi ketergantungan pada pemeriksaan manual, dan meningkatkan efisiensi operasional.\n",
    "\n",
    "Dengan mengimplementasikan teknologi keamanan canggih ini, bank tidak hanya bisa mengurangi kerugian akibat fraud, tetapi juga menjaga reputasi, meningkatkan kepercayaan nasabah, serta memenuhi harapan mereka terhadap sistem transaksi yang aman dan cepat. Sebagai hasilnya, bank dapat memastikan likuiditas dan profitabilitas tetap terjaga, sekaligus memperkuat posisi kompetitif di pasar yang semakin berbasis digital dan teknologi."
   ]
  },
  {
   "cell_type": "markdown",
   "metadata": {},
   "source": [
    "### Tujuan Analisis"
   ]
  },
  {
   "cell_type": "markdown",
   "metadata": {},
   "source": [
    "Tujuan melakukan analisis atau model machine learning transaksi fraud:\n",
    "1. Mendeteksi fraud sedini mungkin, mengidentikasi pola transaksi mencurigakan sehingga dapat meningkatkan keamanan transaksi nasabah serta menjaga kepercayaan nasabah\n",
    "2. Menjaga kestabilan likuiditas bank.\n",
    "3. Efisiensi bank terhadap deteksi fraud yang merugikan (eksternal maupun internal).\n"
   ]
  },
  {
   "cell_type": "markdown",
   "metadata": {},
   "source": [
    "### Penjabaran Masalah"
   ]
  },
  {
   "cell_type": "markdown",
   "metadata": {},
   "source": [
    "\n",
    "1. Jenis transaksi apa yang paling sering terjadi fraud?\n",
    "2. Bagaimana hubungan saldo awal dan saldo akhir pengirim ketika transaksi fraud terjadi?\n",
    "3. Bagaimana hubungan saldo Awal dan saldo akhir penerima ketika transaksi fraud terjadi?\n",
    "4. Kapan step atau waktu paling sering terjadi fraud?\n"
   ]
  },
  {
   "cell_type": "markdown",
   "metadata": {},
   "source": [
    "### Dataset Overview"
   ]
  },
  {
   "cell_type": "markdown",
   "metadata": {},
   "source": [
    "Berikut adalah penjelasan untuk setiap kolom dalam dataset balance.csv:\n",
    "1. step: Waktu transaksi dalam dataset ini menggunakan jam.\n",
    "2. type: Jenis transaksi yang dilakukan dalam data set ini, CASH_OUT (penarikan uang), PAYMENT (pembayaran), TRANSFER(pemindahan dana), DEBIT (uang keluar melalui ATM), CASH_IN (uang masuk)\n",
    "3. amount: Jumlah uang yang terlibat dalam transaksi.\n",
    "4. nameOrig: ID unik dari akun asal yang melakukan transaksi.\n",
    "5. oldbalanceOrg: Saldo akun asal sebelum transaksi dilakukan.\n",
    "6. newbalanceOrig: Saldo akun asal setelah transaksi dilakukan.\n",
    "7. nameDest: ID unik dari akun tujuan yang menerima transaksi.\n",
    "8. oldbalanceDest: Saldo akun tujuan sebelum transaksi dilakukan.\n",
    "9. newbalanceDest: Saldo akun tujuan setelah transaksi dilakukan.\n",
    "10. isFraud: Indikator apakah transaksi tersebut adalah fraud (0) atau bukan (1).\n",
    "11. isFlaggedFraud: Indikator apakah transaksi tersebut ditandai sebagai fraud oleh sistem (1) atau tidak (0) (potensi fraud)."
   ]
  },
  {
   "cell_type": "markdown",
   "metadata": {},
   "source": [
    "\n",
    "# 2. Import Libraries\n"
   ]
  },
  {
   "cell_type": "code",
   "execution_count": 1,
   "metadata": {},
   "outputs": [],
   "source": [
    "import pandas as pd\n",
    "import numpy as np\n",
    "import matplotlib.pyplot as plt\n",
    "import seaborn as sns\n",
    "import sklearn"
   ]
  },
  {
   "cell_type": "markdown",
   "metadata": {},
   "source": [
    "Mengimpor library yang akan digunakan untuk analisis seperti pandas, numpy, matplotlib, seaborn, sklearn, dan pickle yang akan membantu atau sebagai tools dalam analisis ini."
   ]
  },
  {
   "cell_type": "markdown",
   "metadata": {},
   "source": [
    "# 3. Data Loading"
   ]
  },
  {
   "cell_type": "code",
   "execution_count": 2,
   "metadata": {},
   "outputs": [],
   "source": [
    "# meloading dan membaca data\n",
    "data = pd.read_csv ('balance.csv')"
   ]
  },
  {
   "cell_type": "markdown",
   "metadata": {},
   "source": [
    "Melakukan loading data yang akan digunakan yaitu dataset dengan nama balance.csv yang akan digunakan pada analisis kali ini yang telah diresample agar balancing pada tahap sebelumnya."
   ]
  },
  {
   "cell_type": "code",
   "execution_count": 3,
   "metadata": {},
   "outputs": [
    {
     "name": "stdout",
     "output_type": "stream",
     "text": [
      "<class 'pandas.core.frame.DataFrame'>\n",
      "RangeIndex: 16426 entries, 0 to 16425\n",
      "Data columns (total 11 columns):\n",
      " #   Column          Non-Null Count  Dtype  \n",
      "---  ------          --------------  -----  \n",
      " 0   step            16426 non-null  int64  \n",
      " 1   type            16426 non-null  object \n",
      " 2   amount          16426 non-null  float64\n",
      " 3   nameOrig        16426 non-null  object \n",
      " 4   oldbalanceOrg   16426 non-null  float64\n",
      " 5   newbalanceOrig  16426 non-null  float64\n",
      " 6   nameDest        16426 non-null  object \n",
      " 7   oldbalanceDest  16426 non-null  float64\n",
      " 8   newbalanceDest  16426 non-null  float64\n",
      " 9   isFlaggedFraud  16426 non-null  int64  \n",
      " 10  isFraud         16426 non-null  int64  \n",
      "dtypes: float64(5), int64(3), object(3)\n",
      "memory usage: 1.4+ MB\n"
     ]
    }
   ],
   "source": [
    "data.info()"
   ]
  },
  {
   "cell_type": "markdown",
   "metadata": {},
   "source": [
    "Membaca data secara keseluruhan melalui data.info() pada dataset balance.csv, berdasarkan visualisasi terdapat 16426 baris dan 11 kolom, data lengkap tanpa ada yang hilang. 3 kolom int64, 3 kolom object dan 5 kolom float."
   ]
  },
  {
   "cell_type": "code",
   "execution_count": 4,
   "metadata": {},
   "outputs": [
    {
     "data": {
      "text/html": [
       "<div>\n",
       "<style scoped>\n",
       "    .dataframe tbody tr th:only-of-type {\n",
       "        vertical-align: middle;\n",
       "    }\n",
       "\n",
       "    .dataframe tbody tr th {\n",
       "        vertical-align: top;\n",
       "    }\n",
       "\n",
       "    .dataframe thead th {\n",
       "        text-align: right;\n",
       "    }\n",
       "</style>\n",
       "<table border=\"1\" class=\"dataframe\">\n",
       "  <thead>\n",
       "    <tr style=\"text-align: right;\">\n",
       "      <th></th>\n",
       "      <th>step</th>\n",
       "      <th>type</th>\n",
       "      <th>amount</th>\n",
       "      <th>nameOrig</th>\n",
       "      <th>oldbalanceOrg</th>\n",
       "      <th>newbalanceOrig</th>\n",
       "      <th>nameDest</th>\n",
       "      <th>oldbalanceDest</th>\n",
       "      <th>newbalanceDest</th>\n",
       "      <th>isFlaggedFraud</th>\n",
       "      <th>isFraud</th>\n",
       "    </tr>\n",
       "  </thead>\n",
       "  <tbody>\n",
       "    <tr>\n",
       "      <th>0</th>\n",
       "      <td>163</td>\n",
       "      <td>CASH_OUT</td>\n",
       "      <td>66061.94</td>\n",
       "      <td>C1444177449</td>\n",
       "      <td>0.00</td>\n",
       "      <td>0.00</td>\n",
       "      <td>C1433830539</td>\n",
       "      <td>153788.33</td>\n",
       "      <td>219850.28</td>\n",
       "      <td>0</td>\n",
       "      <td>0</td>\n",
       "    </tr>\n",
       "    <tr>\n",
       "      <th>1</th>\n",
       "      <td>378</td>\n",
       "      <td>PAYMENT</td>\n",
       "      <td>14598.76</td>\n",
       "      <td>C638641690</td>\n",
       "      <td>10779.00</td>\n",
       "      <td>0.00</td>\n",
       "      <td>M786508240</td>\n",
       "      <td>0.00</td>\n",
       "      <td>0.00</td>\n",
       "      <td>0</td>\n",
       "      <td>0</td>\n",
       "    </tr>\n",
       "    <tr>\n",
       "      <th>2</th>\n",
       "      <td>333</td>\n",
       "      <td>PAYMENT</td>\n",
       "      <td>10767.10</td>\n",
       "      <td>C1473859208</td>\n",
       "      <td>0.00</td>\n",
       "      <td>0.00</td>\n",
       "      <td>M204648638</td>\n",
       "      <td>0.00</td>\n",
       "      <td>0.00</td>\n",
       "      <td>0</td>\n",
       "      <td>0</td>\n",
       "    </tr>\n",
       "    <tr>\n",
       "      <th>3</th>\n",
       "      <td>307</td>\n",
       "      <td>PAYMENT</td>\n",
       "      <td>9342.70</td>\n",
       "      <td>C1660884816</td>\n",
       "      <td>180485.84</td>\n",
       "      <td>171143.14</td>\n",
       "      <td>M182225889</td>\n",
       "      <td>0.00</td>\n",
       "      <td>0.00</td>\n",
       "      <td>0</td>\n",
       "      <td>0</td>\n",
       "    </tr>\n",
       "    <tr>\n",
       "      <th>4</th>\n",
       "      <td>334</td>\n",
       "      <td>PAYMENT</td>\n",
       "      <td>6553.42</td>\n",
       "      <td>C843452443</td>\n",
       "      <td>20099.00</td>\n",
       "      <td>13545.58</td>\n",
       "      <td>M1268307159</td>\n",
       "      <td>0.00</td>\n",
       "      <td>0.00</td>\n",
       "      <td>0</td>\n",
       "      <td>0</td>\n",
       "    </tr>\n",
       "    <tr>\n",
       "      <th>5</th>\n",
       "      <td>163</td>\n",
       "      <td>CASH_OUT</td>\n",
       "      <td>101952.61</td>\n",
       "      <td>C1597425666</td>\n",
       "      <td>0.00</td>\n",
       "      <td>0.00</td>\n",
       "      <td>C998074550</td>\n",
       "      <td>453553.18</td>\n",
       "      <td>580728.12</td>\n",
       "      <td>0</td>\n",
       "      <td>0</td>\n",
       "    </tr>\n",
       "    <tr>\n",
       "      <th>6</th>\n",
       "      <td>185</td>\n",
       "      <td>PAYMENT</td>\n",
       "      <td>2121.14</td>\n",
       "      <td>C398705862</td>\n",
       "      <td>0.00</td>\n",
       "      <td>0.00</td>\n",
       "      <td>M1341333396</td>\n",
       "      <td>0.00</td>\n",
       "      <td>0.00</td>\n",
       "      <td>0</td>\n",
       "      <td>0</td>\n",
       "    </tr>\n",
       "    <tr>\n",
       "      <th>7</th>\n",
       "      <td>276</td>\n",
       "      <td>CASH_OUT</td>\n",
       "      <td>43535.69</td>\n",
       "      <td>C970635234</td>\n",
       "      <td>0.00</td>\n",
       "      <td>0.00</td>\n",
       "      <td>C1521571660</td>\n",
       "      <td>5058963.82</td>\n",
       "      <td>5102499.51</td>\n",
       "      <td>0</td>\n",
       "      <td>0</td>\n",
       "    </tr>\n",
       "    <tr>\n",
       "      <th>8</th>\n",
       "      <td>298</td>\n",
       "      <td>CASH_OUT</td>\n",
       "      <td>369057.41</td>\n",
       "      <td>C635396366</td>\n",
       "      <td>322030.95</td>\n",
       "      <td>0.00</td>\n",
       "      <td>C1827160321</td>\n",
       "      <td>664793.62</td>\n",
       "      <td>1033851.03</td>\n",
       "      <td>0</td>\n",
       "      <td>0</td>\n",
       "    </tr>\n",
       "    <tr>\n",
       "      <th>9</th>\n",
       "      <td>12</td>\n",
       "      <td>PAYMENT</td>\n",
       "      <td>21188.46</td>\n",
       "      <td>C266215176</td>\n",
       "      <td>143116.00</td>\n",
       "      <td>121927.54</td>\n",
       "      <td>M1138059665</td>\n",
       "      <td>0.00</td>\n",
       "      <td>0.00</td>\n",
       "      <td>0</td>\n",
       "      <td>0</td>\n",
       "    </tr>\n",
       "  </tbody>\n",
       "</table>\n",
       "</div>"
      ],
      "text/plain": [
       "   step      type     amount     nameOrig  oldbalanceOrg  newbalanceOrig  \\\n",
       "0   163  CASH_OUT   66061.94  C1444177449           0.00            0.00   \n",
       "1   378   PAYMENT   14598.76   C638641690       10779.00            0.00   \n",
       "2   333   PAYMENT   10767.10  C1473859208           0.00            0.00   \n",
       "3   307   PAYMENT    9342.70  C1660884816      180485.84       171143.14   \n",
       "4   334   PAYMENT    6553.42   C843452443       20099.00        13545.58   \n",
       "5   163  CASH_OUT  101952.61  C1597425666           0.00            0.00   \n",
       "6   185   PAYMENT    2121.14   C398705862           0.00            0.00   \n",
       "7   276  CASH_OUT   43535.69   C970635234           0.00            0.00   \n",
       "8   298  CASH_OUT  369057.41   C635396366      322030.95            0.00   \n",
       "9    12   PAYMENT   21188.46   C266215176      143116.00       121927.54   \n",
       "\n",
       "      nameDest  oldbalanceDest  newbalanceDest  isFlaggedFraud  isFraud  \n",
       "0  C1433830539       153788.33       219850.28               0        0  \n",
       "1   M786508240            0.00            0.00               0        0  \n",
       "2   M204648638            0.00            0.00               0        0  \n",
       "3   M182225889            0.00            0.00               0        0  \n",
       "4  M1268307159            0.00            0.00               0        0  \n",
       "5   C998074550       453553.18       580728.12               0        0  \n",
       "6  M1341333396            0.00            0.00               0        0  \n",
       "7  C1521571660      5058963.82      5102499.51               0        0  \n",
       "8  C1827160321       664793.62      1033851.03               0        0  \n",
       "9  M1138059665            0.00            0.00               0        0  "
      ]
     },
     "execution_count": 4,
     "metadata": {},
     "output_type": "execute_result"
    }
   ],
   "source": [
    "# melihat 10 data teratas\n",
    "data.head(10)"
   ]
  },
  {
   "cell_type": "markdown",
   "metadata": {},
   "source": [
    "Membaca dataset secara keseluruhan dan mulai memahami untuk tiap baris dan kolomnya, melihat fitur-fitur yang ada dan mulai membaca target yang akan dituju, agar lebih jelas melihat dari 10 baris pertama."
   ]
  },
  {
   "cell_type": "code",
   "execution_count": 5,
   "metadata": {},
   "outputs": [
    {
     "data": {
      "text/html": [
       "<div>\n",
       "<style scoped>\n",
       "    .dataframe tbody tr th:only-of-type {\n",
       "        vertical-align: middle;\n",
       "    }\n",
       "\n",
       "    .dataframe tbody tr th {\n",
       "        vertical-align: top;\n",
       "    }\n",
       "\n",
       "    .dataframe thead th {\n",
       "        text-align: right;\n",
       "    }\n",
       "</style>\n",
       "<table border=\"1\" class=\"dataframe\">\n",
       "  <thead>\n",
       "    <tr style=\"text-align: right;\">\n",
       "      <th></th>\n",
       "      <th>step</th>\n",
       "      <th>type</th>\n",
       "      <th>amount</th>\n",
       "      <th>nameOrig</th>\n",
       "      <th>oldbalanceOrg</th>\n",
       "      <th>newbalanceOrig</th>\n",
       "      <th>nameDest</th>\n",
       "      <th>oldbalanceDest</th>\n",
       "      <th>newbalanceDest</th>\n",
       "      <th>isFlaggedFraud</th>\n",
       "      <th>isFraud</th>\n",
       "    </tr>\n",
       "  </thead>\n",
       "  <tbody>\n",
       "    <tr>\n",
       "      <th>16416</th>\n",
       "      <td>742</td>\n",
       "      <td>TRANSFER</td>\n",
       "      <td>63416.99</td>\n",
       "      <td>C778071008</td>\n",
       "      <td>63416.99</td>\n",
       "      <td>0.0</td>\n",
       "      <td>C1812552860</td>\n",
       "      <td>0.00</td>\n",
       "      <td>0.00</td>\n",
       "      <td>0</td>\n",
       "      <td>1</td>\n",
       "    </tr>\n",
       "    <tr>\n",
       "      <th>16417</th>\n",
       "      <td>742</td>\n",
       "      <td>CASH_OUT</td>\n",
       "      <td>63416.99</td>\n",
       "      <td>C994950684</td>\n",
       "      <td>63416.99</td>\n",
       "      <td>0.0</td>\n",
       "      <td>C1662241365</td>\n",
       "      <td>276433.18</td>\n",
       "      <td>339850.17</td>\n",
       "      <td>0</td>\n",
       "      <td>1</td>\n",
       "    </tr>\n",
       "    <tr>\n",
       "      <th>16418</th>\n",
       "      <td>743</td>\n",
       "      <td>TRANSFER</td>\n",
       "      <td>1258818.82</td>\n",
       "      <td>C1531301470</td>\n",
       "      <td>1258818.82</td>\n",
       "      <td>0.0</td>\n",
       "      <td>C1470998563</td>\n",
       "      <td>0.00</td>\n",
       "      <td>0.00</td>\n",
       "      <td>0</td>\n",
       "      <td>1</td>\n",
       "    </tr>\n",
       "    <tr>\n",
       "      <th>16419</th>\n",
       "      <td>743</td>\n",
       "      <td>CASH_OUT</td>\n",
       "      <td>1258818.82</td>\n",
       "      <td>C1436118706</td>\n",
       "      <td>1258818.82</td>\n",
       "      <td>0.0</td>\n",
       "      <td>C1240760502</td>\n",
       "      <td>503464.50</td>\n",
       "      <td>1762283.33</td>\n",
       "      <td>0</td>\n",
       "      <td>1</td>\n",
       "    </tr>\n",
       "    <tr>\n",
       "      <th>16420</th>\n",
       "      <td>743</td>\n",
       "      <td>TRANSFER</td>\n",
       "      <td>339682.13</td>\n",
       "      <td>C2013999242</td>\n",
       "      <td>339682.13</td>\n",
       "      <td>0.0</td>\n",
       "      <td>C1850423904</td>\n",
       "      <td>0.00</td>\n",
       "      <td>0.00</td>\n",
       "      <td>0</td>\n",
       "      <td>1</td>\n",
       "    </tr>\n",
       "    <tr>\n",
       "      <th>16421</th>\n",
       "      <td>743</td>\n",
       "      <td>CASH_OUT</td>\n",
       "      <td>339682.13</td>\n",
       "      <td>C786484425</td>\n",
       "      <td>339682.13</td>\n",
       "      <td>0.0</td>\n",
       "      <td>C776919290</td>\n",
       "      <td>0.00</td>\n",
       "      <td>339682.13</td>\n",
       "      <td>0</td>\n",
       "      <td>1</td>\n",
       "    </tr>\n",
       "    <tr>\n",
       "      <th>16422</th>\n",
       "      <td>743</td>\n",
       "      <td>TRANSFER</td>\n",
       "      <td>6311409.28</td>\n",
       "      <td>C1529008245</td>\n",
       "      <td>6311409.28</td>\n",
       "      <td>0.0</td>\n",
       "      <td>C1881841831</td>\n",
       "      <td>0.00</td>\n",
       "      <td>0.00</td>\n",
       "      <td>0</td>\n",
       "      <td>1</td>\n",
       "    </tr>\n",
       "    <tr>\n",
       "      <th>16423</th>\n",
       "      <td>743</td>\n",
       "      <td>CASH_OUT</td>\n",
       "      <td>6311409.28</td>\n",
       "      <td>C1162922333</td>\n",
       "      <td>6311409.28</td>\n",
       "      <td>0.0</td>\n",
       "      <td>C1365125890</td>\n",
       "      <td>68488.84</td>\n",
       "      <td>6379898.11</td>\n",
       "      <td>0</td>\n",
       "      <td>1</td>\n",
       "    </tr>\n",
       "    <tr>\n",
       "      <th>16424</th>\n",
       "      <td>743</td>\n",
       "      <td>TRANSFER</td>\n",
       "      <td>850002.52</td>\n",
       "      <td>C1685995037</td>\n",
       "      <td>850002.52</td>\n",
       "      <td>0.0</td>\n",
       "      <td>C2080388513</td>\n",
       "      <td>0.00</td>\n",
       "      <td>0.00</td>\n",
       "      <td>0</td>\n",
       "      <td>1</td>\n",
       "    </tr>\n",
       "    <tr>\n",
       "      <th>16425</th>\n",
       "      <td>743</td>\n",
       "      <td>CASH_OUT</td>\n",
       "      <td>850002.52</td>\n",
       "      <td>C1280323807</td>\n",
       "      <td>850002.52</td>\n",
       "      <td>0.0</td>\n",
       "      <td>C873221189</td>\n",
       "      <td>6510099.11</td>\n",
       "      <td>7360101.63</td>\n",
       "      <td>0</td>\n",
       "      <td>1</td>\n",
       "    </tr>\n",
       "  </tbody>\n",
       "</table>\n",
       "</div>"
      ],
      "text/plain": [
       "       step      type      amount     nameOrig  oldbalanceOrg  newbalanceOrig  \\\n",
       "16416   742  TRANSFER    63416.99   C778071008       63416.99             0.0   \n",
       "16417   742  CASH_OUT    63416.99   C994950684       63416.99             0.0   \n",
       "16418   743  TRANSFER  1258818.82  C1531301470     1258818.82             0.0   \n",
       "16419   743  CASH_OUT  1258818.82  C1436118706     1258818.82             0.0   \n",
       "16420   743  TRANSFER   339682.13  C2013999242      339682.13             0.0   \n",
       "16421   743  CASH_OUT   339682.13   C786484425      339682.13             0.0   \n",
       "16422   743  TRANSFER  6311409.28  C1529008245     6311409.28             0.0   \n",
       "16423   743  CASH_OUT  6311409.28  C1162922333     6311409.28             0.0   \n",
       "16424   743  TRANSFER   850002.52  C1685995037      850002.52             0.0   \n",
       "16425   743  CASH_OUT   850002.52  C1280323807      850002.52             0.0   \n",
       "\n",
       "          nameDest  oldbalanceDest  newbalanceDest  isFlaggedFraud  isFraud  \n",
       "16416  C1812552860            0.00            0.00               0        1  \n",
       "16417  C1662241365       276433.18       339850.17               0        1  \n",
       "16418  C1470998563            0.00            0.00               0        1  \n",
       "16419  C1240760502       503464.50      1762283.33               0        1  \n",
       "16420  C1850423904            0.00            0.00               0        1  \n",
       "16421   C776919290            0.00       339682.13               0        1  \n",
       "16422  C1881841831            0.00            0.00               0        1  \n",
       "16423  C1365125890        68488.84      6379898.11               0        1  \n",
       "16424  C2080388513            0.00            0.00               0        1  \n",
       "16425   C873221189      6510099.11      7360101.63               0        1  "
      ]
     },
     "execution_count": 5,
     "metadata": {},
     "output_type": "execute_result"
    }
   ],
   "source": [
    "# melihat 10 data terbawah\n",
    "data.tail(10)"
   ]
  },
  {
   "cell_type": "markdown",
   "metadata": {},
   "source": [
    "Kemudian membaca dataset secara keseluruhan dan mulai memahami untuk tiap baris dan kolomnya, melihat fitur-fitur yang ada dan mulai lebih spesifik pada 10 baris terakhir."
   ]
  },
  {
   "cell_type": "code",
   "execution_count": 6,
   "metadata": {},
   "outputs": [],
   "source": [
    "# duplicate dataset\n",
    "\n",
    "data_duplicate = data.copy()"
   ]
  },
  {
   "cell_type": "markdown",
   "metadata": {},
   "source": [
    "Selanjutnya yang dilakukan adalah melakukan duplicate dataset tersebut agar data asli tetap terjaga atau terlindungi, sebelum melakukan perubahan atau pemodelan."
   ]
  },
  {
   "cell_type": "code",
   "execution_count": 7,
   "metadata": {},
   "outputs": [
    {
     "data": {
      "text/plain": [
       "step              0\n",
       "type              0\n",
       "amount            0\n",
       "nameOrig          0\n",
       "oldbalanceOrg     0\n",
       "newbalanceOrig    0\n",
       "nameDest          0\n",
       "oldbalanceDest    0\n",
       "newbalanceDest    0\n",
       "isFlaggedFraud    0\n",
       "isFraud           0\n",
       "dtype: int64"
      ]
     },
     "execution_count": 7,
     "metadata": {},
     "output_type": "execute_result"
    }
   ],
   "source": [
    "# mengecek data yang hilang\n",
    "data.isna().sum()"
   ]
  },
  {
   "cell_type": "markdown",
   "metadata": {},
   "source": [
    "Tidak terlihat missing value pada dataset, maka dataset lengkap tidak ada nilai yang hilang dan siap digunakan untuk analisis selanjutnya."
   ]
  },
  {
   "cell_type": "code",
   "execution_count": 8,
   "metadata": {},
   "outputs": [
    {
     "data": {
      "text/plain": [
       "0"
      ]
     },
     "execution_count": 8,
     "metadata": {},
     "output_type": "execute_result"
    }
   ],
   "source": [
    "# mengecek data duplikat\n",
    "data.duplicated().sum()"
   ]
  },
  {
   "cell_type": "markdown",
   "metadata": {},
   "source": [
    "Tidak terdapat data duplikat dalam dataset, maka dataset siap untuk dianalisis lebih lanjut."
   ]
  },
  {
   "cell_type": "markdown",
   "metadata": {},
   "source": [
    "# 4. Exploratory Data Analysis (EDA)"
   ]
  },
  {
   "cell_type": "markdown",
   "metadata": {},
   "source": [
    "Berdasarkan visualisasi diatas setelah dilakukan resample dataset, kita dapat melihat bahwa antara fitur dan target sudah seimbang. Hal ini membuat analisis kita lebih baik lagi karena tidak ada lagi data yang imbalance yang dapat menyebabkan analisis menjadi bias sehingga model tidak maksimal kinerjanya."
   ]
  },
  {
   "cell_type": "markdown",
   "metadata": {},
   "source": [
    "## 1. Jenis transaksi apa yang paling sering terjadi fraud?"
   ]
  },
  {
   "cell_type": "code",
   "execution_count": 9,
   "metadata": {},
   "outputs": [
    {
     "data": {
      "image/png": "[encoded data removed]",
      "text/plain": [
       "<Figure size 800x600 with 1 Axes>"
      ]
     },
     "metadata": {},
     "output_type": "display_data"
    },
    {
     "name": "stdout",
     "output_type": "stream",
     "text": [
      "Fraud Transaction:\n",
      "CASH_OUT    4116\n",
      "TRANSFER    4097\n",
      "Name: type, dtype: int64\n"
     ]
    }
   ],
   "source": [
    "# visualisasi dengan bar chart\n",
    "type_fraud_counts = data.groupby(['type', 'isFraud']).size().unstack()\n",
    "type_fraud_counts.plot(kind='bar', stacked=True, color=['skyblue', 'orange'], figsize=(8, 6))\n",
    "plt.title('Transaction Type dan Fraud')\n",
    "plt.xlabel('Type')\n",
    "plt.ylabel('Transaction Sum')\n",
    "plt.legend(['Non-Fraud', 'Fraud'])\n",
    "plt.xticks(rotation=0)\n",
    "plt.show()\n",
    "\n",
    "# menampilkan jumlah isFraud berdasarkan jenis transaksinya\n",
    "fraud_by_type = data[data['isFraud'] == 1]\n",
    "fraud_counts_by_type = fraud_by_type['type'].value_counts()\n",
    "print(\"Fraud Transaction:\")\n",
    "print(fraud_counts_by_type)\n",
    "\n"
   ]
  },
  {
   "cell_type": "markdown",
   "metadata": {},
   "source": [
    "Berdasarkan visualisasi diatas jenis transaksi yang sering terjadi fraud adalah transaksi cash_out dan transfer, hal ini berarti kita harus meningkatkan sistem deteksi fraud terutama ketika jumlah transfer atau cash_outnya besar. Kita perlu warning langsung dengan cara blokir atau menghubungi nasabah yang bersangkutan untuk dikonfirmasi lebih lanjut agar fraud bisa dicegah atau tidak terjadi."
   ]
  },
  {
   "cell_type": "markdown",
   "metadata": {},
   "source": [
    "## 2. Bagaimana perbandingan saldo awal dan saldo akhir pengirim ketika transaksi fraud dan tidak terjadi fraud?"
   ]
  },
  {
   "cell_type": "code",
   "execution_count": 10,
   "metadata": {},
   "outputs": [
    {
     "data": {
      "image/png": "[encoded data removed]",
      "text/plain": [
       "<Figure size 640x480 with 1 Axes>"
      ]
     },
     "metadata": {},
     "output_type": "display_data"
    },
    {
     "name": "stdout",
     "output_type": "stream",
     "text": [
      "Mean of oldbalanceOrg and newbalanceOrig for Fraud Transactions:\n",
      "oldbalanceOrg     1.649668e+06\n",
      "newbalanceOrig    1.923926e+05\n",
      "dtype: float64\n",
      "\n",
      "Mean of oldbalanceOrg and newbalanceOrig for Non-Fraud Transactions:\n",
      "oldbalanceOrg     804807.925249\n",
      "newbalanceOrig    827527.695863\n",
      "dtype: float64\n"
     ]
    }
   ],
   "source": [
    "\n",
    "# Membagi data menjadi transaksi fraud dan non-fraud\n",
    "fraud_data = data[data['isFraud'] == 1]\n",
    "non_fraud_data = data[data['isFraud'] == 0]\n",
    "\n",
    "# Menghitung rata-rata oldbalanceOrg dan newbalanceOrig untuk transaksi fraud\n",
    "fraud_means = fraud_data[['oldbalanceOrg', 'newbalanceOrig']].mean()\n",
    "\n",
    "# Menghitung rata-rata oldbalanceOrg dan newbalanceOrig untuk transaksi non-fraud\n",
    "non_fraud_means = non_fraud_data[['oldbalanceOrg', 'newbalanceOrig']].mean()\n",
    "\n",
    "# Menyiapkan data untuk visualisasi\n",
    "means = pd.DataFrame({\n",
    "    'Fraud': fraud_means,\n",
    "    'Non-Fraud': non_fraud_means\n",
    "})\n",
    "\n",
    "# Visualisasi menggunakan bar chart\n",
    "means.plot(kind='bar', color=['skyblue', 'orange'])\n",
    "plt.title('Comparison of oldbalanceOrg and newbalanceOrig for Fraud and Non-Fraud Transactions')\n",
    "plt.ylabel('Balance')\n",
    "plt.xticks(rotation=0)\n",
    "plt.show()\n",
    "\n",
    "# Menampilkan hasil rata-rata untuk transaksi fraud dan non-fraud\n",
    "print(\"Mean of oldbalanceOrg and newbalanceOrig for Fraud Transactions:\")\n",
    "print(fraud_means)\n",
    "\n",
    "print(\"\\nMean of oldbalanceOrg and newbalanceOrig for Non-Fraud Transactions:\")\n",
    "print(non_fraud_means)\n",
    "\n"
   ]
  },
  {
   "cell_type": "markdown",
   "metadata": {},
   "source": [
    "Berdasarkan visualisasi diatas terlihat jelas bahwa ketika terjadi Fraud, saldo awal pengirim itu rata-rata jumlahnya banyak atau tinggi. Lalu setelah mereka melakukan transfer atau cash_out saldonya langsung menurun drastis atau biasanya langsung saldo minimum. Hal ini terjadi karena para tujuan pelaku fraud hanya ingin mengalirkan dananya saja atau lebih kita kenal dengan money laundry."
   ]
  },
  {
   "cell_type": "markdown",
   "metadata": {},
   "source": [
    "## 3. Bandingkan hubungan saldo awal dan saldo akhir penerima ketika transaksi fraud terjadi dan tidak terjadi fraud?"
   ]
  },
  {
   "cell_type": "code",
   "execution_count": 16,
   "metadata": {},
   "outputs": [
    {
     "data": {
      "image/png": "[encoded data removed]",
      "text/plain": [
       "<Figure size 640x480 with 1 Axes>"
      ]
     },
     "metadata": {},
     "output_type": "display_data"
    },
    {
     "name": "stdout",
     "output_type": "stream",
     "text": [
      "Mean of oldbalanceDest and newbalanceDest for Fraud Transactions:\n",
      "oldbalanceDest    5.442496e+05\n",
      "newbalanceDest    1.279708e+06\n",
      "dtype: float64\n",
      "\n",
      "Mean of oldbalanceDest and newbalanceDest for Non-Fraud Transactions:\n",
      "oldbalanceDest    1.169733e+06\n",
      "newbalanceDest    1.319778e+06\n",
      "dtype: float64\n"
     ]
    }
   ],
   "source": [
    "\n",
    "# Membagi data menjadi transaksi fraud dan non-fraud\n",
    "fraud_data = data[data['isFraud'] == 1]\n",
    "non_fraud_data = data[data['isFraud'] == 0]\n",
    "\n",
    "# Menghitung rata-rata oldbalanceDest dan newbalanceDest untuk transaksi fraud\n",
    "fraud_dest_means = fraud_data[['oldbalanceDest', 'newbalanceDest']].mean()\n",
    "\n",
    "# Menghitung rata-rata oldbalanceDest dan newbalanceDest untuk transaksi non-fraud\n",
    "non_fraud_dest_means = non_fraud_data[['oldbalanceDest', 'newbalanceDest']].mean()\n",
    "\n",
    "# Menyiapkan data untuk visualisasi\n",
    "means = pd.DataFrame({\n",
    "    'Fraud': fraud_dest_means,\n",
    "    'Non-Fraud': non_fraud_dest_means\n",
    "})\n",
    "\n",
    "# Visualisasi menggunakan bar chart\n",
    "means.plot(kind='bar', color=['skyblue', 'orange'])\n",
    "plt.title('Comparison of oldbalanceDest and newbalanceDest for Fraud and Non-Fraud Transactions')\n",
    "plt.ylabel('Balance')\n",
    "plt.xticks(rotation=0)\n",
    "plt.show()\n",
    "\n",
    "# Menampilkan hasil rata-rata untuk transaksi fraud dan non-fraud pada penerima\n",
    "print(\"Mean of oldbalanceDest and newbalanceDest for Fraud Transactions:\")\n",
    "print(fraud_dest_means)\n",
    "\n",
    "print(\"\\nMean of oldbalanceDest and newbalanceDest for Non-Fraud Transactions:\")\n",
    "print(non_fraud_dest_means)\n",
    "\n"
   ]
  },
  {
   "cell_type": "markdown",
   "metadata": {},
   "source": [
    "Berdasarkan visualisasi diatas terlihat jelas bahwa ketika terjadi Fraud, saldo awal penerima itu rata-rata jumlahnya sedikit atau tidak banyak. Lalu setelah mereka melakukan menerima transfer atau uang masuk saldonya langsung meningkat drastis atau sangat tinggi diatas rata-rata saldo mereka pada umumnya. Hal ini terjadi karena tujuan pelaku fraud yaitu mengalirkan dana ke rekening-rekening baru atau rekening orang-orang yang mereka bayar biasanya terjadi praktik jual beli rekening. Biasanya uang tidak akan tinggal lama, akan ditransfer kembali atau dicashout."
   ]
  },
  {
   "cell_type": "markdown",
   "metadata": {},
   "source": [
    "## 4. Kapan step atau waktu paling sering terjadi fraud?"
   ]
  },
  {
   "cell_type": "code",
   "execution_count": 20,
   "metadata": {},
   "outputs": [
    {
     "data": {
      "image/png": "[encoded data removed]",
      "text/plain": [
       "<Figure size 1200x600 with 1 Axes>"
      ]
     },
     "metadata": {},
     "output_type": "display_data"
    },
    {
     "name": "stdout",
     "output_type": "stream",
     "text": [
      "Fraud Transaction Step Frequency:\n",
      "212    40\n",
      "523    30\n",
      "387    28\n",
      "425    28\n",
      "249    28\n",
      "       ..\n",
      "202     2\n",
      "589     2\n",
      "112     2\n",
      "548     2\n",
      "662     2\n",
      "Name: step, Length: 741, dtype: int64\n"
     ]
    }
   ],
   "source": [
    "import matplotlib.pyplot as plt\n",
    "\n",
    "# Memisahkan data transaksi fraud\n",
    "fraud_data = data[data['isFraud'] == 1]\n",
    "\n",
    "# Menghitung frekuensi fraud berdasarkan step\n",
    "step_fraud = fraud_data['step'].value_counts()\n",
    "\n",
    "# Mengambil 50 step teratas yang paling sering terjadi fraud\n",
    "top_50 = step_fraud.head(5)\n",
    "\n",
    "# Visualisasi menggunakan line chart\n",
    "plt.figure(figsize=(12, 6))\n",
    "top_50.plot(kind='line', marker='o', color='orange', linestyle='-', linewidth=2)\n",
    "plt.title('Analysis of the Step or Time Most Frequently Fraud (Top 5)', fontsize=14)\n",
    "plt.xlabel('Step', fontsize=12)\n",
    "plt.ylabel('Fraud Transaction Count', fontsize=12)\n",
    "plt.xticks(rotation=45)\n",
    "plt.grid(True)\n",
    "plt.show()\n",
    "\n",
    "# Menampilkan hasil frekuensi transaksi fraud berdasarkan step\n",
    "print(\"Fraud Transaction Step Frequency:\")\n",
    "print(step_fraud)\n"
   ]
  },
  {
   "cell_type": "markdown",
   "metadata": {},
   "source": [
    "Berdasarkan visualisasi diatas kita mencoba mengambil data 5 teratas urutan waktu atau step yang paling sering terjadi fraud, dapat kita analisis waktu terjadi fraud ini random atau bisa terjadi kapan saja dan tidak ada pola tertentu yang bisa dipelajari. Variasinya menyebar dari step awal. tengah sampai akhir dimulai dari 212, 523, 387, 425 dan 249 dan masih banyak variasi lagi. Yang perlu kita lakukan adalah mitigasi dan awas resiko transaksi setiap saat. Tidak boleh ada titik lemah, sehingga fraud bisa terdeteksi sedini mungkin."
   ]
  },
  {
   "cell_type": "markdown",
   "metadata": {},
   "source": [
    "## 5. Kesimpulan"
   ]
  },
  {
   "cell_type": "markdown",
   "metadata": {},
   "source": [
    "1. Transaksi CASH_OUT dan TRANSFER adalah jenis transaksi yang paling sering terlibat dalam kasus fraud.\n",
    "2. Saldo Pengirim dalam Kasus Fraud biasanya memiliki saldo awal yang cukup besar, yang langsung berkurang drastis setelah melakukan transaksi.\n",
    "3. Saldo Penerima dalam Kasus Fraud umumnya memiliki saldo awal yang relatif kecil, setelah menerima dana saldo mereka langsung meningkat pesat.\n",
    "4. Transaksi fraud bisa terjadi kapan saja tanpa pola waktu yang pasti, dengan variasi waktu yang tersebar dari awal hingga akhir proses transaksi (random)."
   ]
  },
  {
   "cell_type": "markdown",
   "metadata": {},
   "source": [
    "## Rekomendasi Bisnis"
   ]
  },
  {
   "cell_type": "markdown",
   "metadata": {},
   "source": [
    "1. Tingkat KYC (Know Your Customer), lakukan pembaruan sistem untuk mendeteksi pola transaksi online yang tidak biasa secara real-time untuk dapat mempercepat penanganan kasus fraud sedini mungkin.\n",
    "2. Penerapan autentikasi tambahan (misalnya, verifikasi dua langkah atau verifikasi tambahan) untuk transaksi offline yang melibatkan penarikan dana besar atau transfer besar kepada penerima yang tidak biasa.\n",
    "3. Memanfaatkan teknologi machine learning dan deep learning untuk menganalisis pola transaksi yang lebih kompleks."
   ]
  }
 ],
 "metadata": {
  "kernelspec": {
   "display_name": "base",
   "language": "python",
   "name": "python3"
  },
  "language_info": {
   "codemirror_mode": {
    "name": "ipython",
    "version": 3
   },
   "file_extension": ".py",
   "mimetype": "text/x-python",
   "name": "python",
   "nbconvert_exporter": "python",
   "pygments_lexer": "ipython3",
   "version": "3.12.7"
  }
 },
 "nbformat": 4,
 "nbformat_minor": 2
}
